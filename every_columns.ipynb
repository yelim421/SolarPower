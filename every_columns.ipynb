{
 "cells": [
  {
   "cell_type": "code",
   "execution_count": 16,
   "id": "13b42ac3",
   "metadata": {},
   "outputs": [],
   "source": [
    "import pandas as pd\n",
    "from sklearn.ensemble import ExtraTreesRegressor\n",
    "from sklearn.metrics import mean_absolute_error\n",
    "from scipy import sparse\n",
    "from sklearn.metrics import mean_squared_error\n",
    "import numpy as np\n",
    "from sklearn.model_selection import TimeSeriesSplit\n",
    "import matplotlib.pyplot as plt\n",
    "import seaborn as sns\n",
    "from scipy.stats import pearsonr\n",
    "from ngboost import NGBRegressor\n",
    "from sklearn.preprocessing import MinMaxScaler\n",
    "pd.set_option('display.max_rows', None)\n",
    "pd.set_option('display.max_columns', None)\n",
    "\n",
    "plt.rcParams['font.family'] = 'Malgun Gothic'"
   ]
  },
  {
   "cell_type": "code",
   "execution_count": 17,
   "id": "29238f10",
   "metadata": {},
   "outputs": [
    {
     "name": "stderr",
     "output_type": "stream",
     "text": [
      "C:\\Users\\sedag\\AppData\\Local\\Temp\\ipykernel_22496\\510373973.py:29: SettingWithCopyWarning: \n",
      "A value is trying to be set on a copy of a slice from a DataFrame\n",
      "\n",
      "See the caveats in the documentation: https://pandas.pydata.org/pandas-docs/stable/user_guide/indexing.html#returning-a-view-versus-a-copy\n",
      "  all_data_train.sort_values(by='date', inplace=True)\n",
      "C:\\Users\\sedag\\AppData\\Local\\Temp\\ipykernel_22496\\510373973.py:30: SettingWithCopyWarning: \n",
      "A value is trying to be set on a copy of a slice from a DataFrame\n",
      "\n",
      "See the caveats in the documentation: https://pandas.pydata.org/pandas-docs/stable/user_guide/indexing.html#returning-a-view-versus-a-copy\n",
      "  all_data_test.sort_values(by='date', inplace=True)\n"
     ]
    }
   ],
   "source": [
    "all_data = pd.read_csv('asos_train.csv', encoding='cp949')\n",
    "\n",
    "\n",
    "relevant_loc = ['영암에프원태양광b']\n",
    "\n",
    "all_data = all_data[all_data['name'].isin(relevant_loc)]\n",
    "\n",
    "all_data.fillna(-1, inplace=True)\n",
    "\n",
    "all_data['date'] = pd.to_datetime(all_data['date'])\n",
    "all_data['year'] = all_data['date'].dt.year\n",
    "all_data['month'] = all_data['date'].dt.month\n",
    "all_data['hour'] = all_data['date'].dt.hour\n",
    "all_data['day'] = all_data['date'].dt.day\n",
    "\n",
    "\n",
    "drop_columns = [ \"asos_num\", \"location\", \"capacities\", \"land\", \"power/land\",\n",
    "               'Wind_Direction(16 compass points)', \"Date/Time\",\n",
    "               'Sea-level_Pressure(hPa)',\n",
    "               'Mid-Low_Cloud_Cover', 'Cloud_Form', 'Lowest_Cloud_Height(100m)', 'Ground_Condition', 'Phenomenon_Number',\n",
    "                 '5cm_Underground_Temp', '10cm_Underground_Temp',\n",
    "               '20cm_Underground_Temp', '30cm_Underground_Temp']\n",
    "\n",
    "all_data = all_data.drop(columns=drop_columns)\n",
    "\n",
    "all_data_train = all_data[all_data['year'].isin([2013, 2014, 2015, 2016, 2017, 2018, 2019, 2020])]\n",
    "all_data_test = all_data[all_data['year'].isin([2021,2022])]\n",
    "\n",
    "all_data_train.sort_values(by='date', inplace=True)\n",
    "all_data_test.sort_values(by='date', inplace=True)\n",
    "\n",
    "X_train = all_data_train.drop(columns=['power', 'name', 'date'])\n",
    "y_train = all_data_train['power']\n",
    "X_test = all_data_test.drop(columns=['power', 'name', 'date'])\n",
    "y_test = all_data_test['power']"
   ]
  },
  {
   "cell_type": "code",
   "execution_count": 4,
   "id": "9031276a",
   "metadata": {},
   "outputs": [
    {
     "data": {
      "text/plain": [
       "Index(['power', 'date', 'name', 'power/land', 'Temp(C)', 'Prec(mm)',\n",
       "       'Wind_speed(m/s)', 'Humidity', 'Vapor_pressure(hPa)', 'Dew_Point(C)',\n",
       "       'Local Atmospheric Pressure(hPa)', 'sunshine(hr)',\n",
       "       'Solar_Radiation(MJ/m2)', 'Snowfall(cm)', '3-hour_Fresh_Snowfall',\n",
       "       'Cloud_Cover(1/10)', 'Visibility(10m)', 'Ground Temp', 'year', 'month',\n",
       "       'hour', 'day'],\n",
       "      dtype='object')"
      ]
     },
     "execution_count": 4,
     "metadata": {},
     "output_type": "execute_result"
    }
   ],
   "source": [
    "all_data.columns"
   ]
  },
  {
   "cell_type": "code",
   "execution_count": 18,
   "id": "1f153573",
   "metadata": {},
   "outputs": [],
   "source": [
    "from itertools import combinations\n",
    "from sklearn.metrics import mean_absolute_error, mean_squared_error, r2_score\n",
    "from math import sqrt\n",
    "\n",
    "def evaluate(true, preds):\n",
    "    mae = mean_absolute_error(true, preds)\n",
    "    mse = mean_squared_error(true, preds)\n",
    "    rmse = sqrt(mse)\n",
    "    r2 = r2_score(true, preds)\n",
    "    return mae, mse, rmse, r2\n"
   ]
  },
  {
   "cell_type": "code",
   "execution_count": 19,
   "id": "fd24034e",
   "metadata": {},
   "outputs": [],
   "source": [
    "mandatory_features = ['Temp(C)', 'Solar_Radiation(MJ/m2)', 'Wind_speed(m/s)']\n",
    "combinatorial_features = ['Prec(mm)', 'Humidity', 'Vapor_pressure(hPa)', 'Dew_Point(C)',\n",
    "                          'Local Atmospheric Pressure(hPa)', 'sunshine(hr)',\n",
    "                          'Snowfall(cm)', \n",
    "                          'Cloud_Cover(1/10)', 'Visibility(10m)', 'year', 'month',\n",
    "                          'hour']"
   ]
  },
  {
   "cell_type": "code",
   "execution_count": 14,
   "id": "5361cd96",
   "metadata": {
    "scrolled": true
   },
   "outputs": [
    {
     "name": "stdout",
     "output_type": "stream",
     "text": [
      "Using features: ['Prec(mm)', 'Temp(C)', 'Solar_Radiation(MJ/m2)', 'Wind_speed(m/s)']\n",
      "[iter 0] loss=16.4519 val_loss=0.0000 scale=1.0000 norm=2963398.9849\n",
      "[iter 100] loss=15.5582 val_loss=0.0000 scale=2.0000 norm=1759705.4016\n"
     ]
    },
    {
     "ename": "KeyboardInterrupt",
     "evalue": "",
     "output_type": "error",
     "traceback": [
      "\u001b[1;31m---------------------------------------------------------------------------\u001b[0m",
      "\u001b[1;31mKeyboardInterrupt\u001b[0m                         Traceback (most recent call last)",
      "Cell \u001b[1;32mIn[14], line 12\u001b[0m\n\u001b[0;32m      9\u001b[0m X_test_subset \u001b[38;5;241m=\u001b[39m X_test[used_features]\n\u001b[0;32m     11\u001b[0m ngb \u001b[38;5;241m=\u001b[39m NGBRegressor()\n\u001b[1;32m---> 12\u001b[0m \u001b[43mngb\u001b[49m\u001b[38;5;241;43m.\u001b[39;49m\u001b[43mfit\u001b[49m\u001b[43m(\u001b[49m\u001b[43mX_train_subset\u001b[49m\u001b[43m,\u001b[49m\u001b[43m \u001b[49m\u001b[43my_train\u001b[49m\u001b[43m)\u001b[49m\n\u001b[0;32m     13\u001b[0m y_preds \u001b[38;5;241m=\u001b[39m ngb\u001b[38;5;241m.\u001b[39mpredict(X_test_subset)\n\u001b[0;32m     15\u001b[0m mae, mse, rmse, r2 \u001b[38;5;241m=\u001b[39m evaluate(y_test, y_preds)\n",
      "File \u001b[1;32m~\\AppData\\Local\\Programs\\Python\\Python311\\Lib\\site-packages\\ngboost\\ngboost.py:277\u001b[0m, in \u001b[0;36mNGBoost.fit\u001b[1;34m(self, X, Y, X_val, Y_val, sample_weight, val_sample_weight, train_loss_monitor, val_loss_monitor, early_stopping_rounds)\u001b[0m\n\u001b[0;32m    274\u001b[0m loss \u001b[38;5;241m=\u001b[39m loss_list[\u001b[38;5;241m-\u001b[39m\u001b[38;5;241m1\u001b[39m]\n\u001b[0;32m    275\u001b[0m grads \u001b[38;5;241m=\u001b[39m D\u001b[38;5;241m.\u001b[39mgrad(Y_batch, natural\u001b[38;5;241m=\u001b[39m\u001b[38;5;28mself\u001b[39m\u001b[38;5;241m.\u001b[39mnatural_gradient)\n\u001b[1;32m--> 277\u001b[0m proj_grad \u001b[38;5;241m=\u001b[39m \u001b[38;5;28;43mself\u001b[39;49m\u001b[38;5;241;43m.\u001b[39;49m\u001b[43mfit_base\u001b[49m\u001b[43m(\u001b[49m\u001b[43mX_batch\u001b[49m\u001b[43m,\u001b[49m\u001b[43m \u001b[49m\u001b[43mgrads\u001b[49m\u001b[43m,\u001b[49m\u001b[43m \u001b[49m\u001b[43mweight_batch\u001b[49m\u001b[43m)\u001b[49m\n\u001b[0;32m    278\u001b[0m scale \u001b[38;5;241m=\u001b[39m \u001b[38;5;28mself\u001b[39m\u001b[38;5;241m.\u001b[39mline_search(proj_grad, P_batch, Y_batch, weight_batch)\n\u001b[0;32m    280\u001b[0m \u001b[38;5;66;03m# pdb.set_trace()\u001b[39;00m\n",
      "File \u001b[1;32m~\\AppData\\Local\\Programs\\Python\\Python311\\Lib\\site-packages\\ngboost\\ngboost.py:152\u001b[0m, in \u001b[0;36mNGBoost.fit_base\u001b[1;34m(self, X, grads, sample_weight)\u001b[0m\n\u001b[0;32m    151\u001b[0m \u001b[38;5;28;01mdef\u001b[39;00m \u001b[38;5;21mfit_base\u001b[39m(\u001b[38;5;28mself\u001b[39m, X, grads, sample_weight\u001b[38;5;241m=\u001b[39m\u001b[38;5;28;01mNone\u001b[39;00m):\n\u001b[1;32m--> 152\u001b[0m     models \u001b[38;5;241m=\u001b[39m \u001b[43m[\u001b[49m\n\u001b[0;32m    153\u001b[0m \u001b[43m        \u001b[49m\u001b[43mclone\u001b[49m\u001b[43m(\u001b[49m\u001b[38;5;28;43mself\u001b[39;49m\u001b[38;5;241;43m.\u001b[39;49m\u001b[43mBase\u001b[49m\u001b[43m)\u001b[49m\u001b[38;5;241;43m.\u001b[39;49m\u001b[43mfit\u001b[49m\u001b[43m(\u001b[49m\u001b[43mX\u001b[49m\u001b[43m,\u001b[49m\u001b[43m \u001b[49m\u001b[43mg\u001b[49m\u001b[43m,\u001b[49m\u001b[43m \u001b[49m\u001b[43msample_weight\u001b[49m\u001b[38;5;241;43m=\u001b[39;49m\u001b[43msample_weight\u001b[49m\u001b[43m)\u001b[49m\u001b[43m \u001b[49m\u001b[38;5;28;43;01mfor\u001b[39;49;00m\u001b[43m \u001b[49m\u001b[43mg\u001b[49m\u001b[43m \u001b[49m\u001b[38;5;129;43;01min\u001b[39;49;00m\u001b[43m \u001b[49m\u001b[43mgrads\u001b[49m\u001b[38;5;241;43m.\u001b[39;49m\u001b[43mT\u001b[49m\n\u001b[0;32m    154\u001b[0m \u001b[43m    \u001b[49m\u001b[43m]\u001b[49m\n\u001b[0;32m    155\u001b[0m     fitted \u001b[38;5;241m=\u001b[39m np\u001b[38;5;241m.\u001b[39marray([m\u001b[38;5;241m.\u001b[39mpredict(X) \u001b[38;5;28;01mfor\u001b[39;00m m \u001b[38;5;129;01min\u001b[39;00m models])\u001b[38;5;241m.\u001b[39mT\n\u001b[0;32m    156\u001b[0m     \u001b[38;5;28mself\u001b[39m\u001b[38;5;241m.\u001b[39mbase_models\u001b[38;5;241m.\u001b[39mappend(models)\n",
      "File \u001b[1;32m~\\AppData\\Local\\Programs\\Python\\Python311\\Lib\\site-packages\\ngboost\\ngboost.py:153\u001b[0m, in \u001b[0;36m<listcomp>\u001b[1;34m(.0)\u001b[0m\n\u001b[0;32m    151\u001b[0m \u001b[38;5;28;01mdef\u001b[39;00m \u001b[38;5;21mfit_base\u001b[39m(\u001b[38;5;28mself\u001b[39m, X, grads, sample_weight\u001b[38;5;241m=\u001b[39m\u001b[38;5;28;01mNone\u001b[39;00m):\n\u001b[0;32m    152\u001b[0m     models \u001b[38;5;241m=\u001b[39m [\n\u001b[1;32m--> 153\u001b[0m         \u001b[43mclone\u001b[49m\u001b[43m(\u001b[49m\u001b[38;5;28;43mself\u001b[39;49m\u001b[38;5;241;43m.\u001b[39;49m\u001b[43mBase\u001b[49m\u001b[43m)\u001b[49m\u001b[38;5;241;43m.\u001b[39;49m\u001b[43mfit\u001b[49m\u001b[43m(\u001b[49m\u001b[43mX\u001b[49m\u001b[43m,\u001b[49m\u001b[43m \u001b[49m\u001b[43mg\u001b[49m\u001b[43m,\u001b[49m\u001b[43m \u001b[49m\u001b[43msample_weight\u001b[49m\u001b[38;5;241;43m=\u001b[39;49m\u001b[43msample_weight\u001b[49m\u001b[43m)\u001b[49m \u001b[38;5;28;01mfor\u001b[39;00m g \u001b[38;5;129;01min\u001b[39;00m grads\u001b[38;5;241m.\u001b[39mT\n\u001b[0;32m    154\u001b[0m     ]\n\u001b[0;32m    155\u001b[0m     fitted \u001b[38;5;241m=\u001b[39m np\u001b[38;5;241m.\u001b[39marray([m\u001b[38;5;241m.\u001b[39mpredict(X) \u001b[38;5;28;01mfor\u001b[39;00m m \u001b[38;5;129;01min\u001b[39;00m models])\u001b[38;5;241m.\u001b[39mT\n\u001b[0;32m    156\u001b[0m     \u001b[38;5;28mself\u001b[39m\u001b[38;5;241m.\u001b[39mbase_models\u001b[38;5;241m.\u001b[39mappend(models)\n",
      "File \u001b[1;32m~\\AppData\\Local\\Programs\\Python\\Python311\\Lib\\site-packages\\sklearn\\base.py:1151\u001b[0m, in \u001b[0;36m_fit_context.<locals>.decorator.<locals>.wrapper\u001b[1;34m(estimator, *args, **kwargs)\u001b[0m\n\u001b[0;32m   1144\u001b[0m     estimator\u001b[38;5;241m.\u001b[39m_validate_params()\n\u001b[0;32m   1146\u001b[0m \u001b[38;5;28;01mwith\u001b[39;00m config_context(\n\u001b[0;32m   1147\u001b[0m     skip_parameter_validation\u001b[38;5;241m=\u001b[39m(\n\u001b[0;32m   1148\u001b[0m         prefer_skip_nested_validation \u001b[38;5;129;01mor\u001b[39;00m global_skip_validation\n\u001b[0;32m   1149\u001b[0m     )\n\u001b[0;32m   1150\u001b[0m ):\n\u001b[1;32m-> 1151\u001b[0m     \u001b[38;5;28;01mreturn\u001b[39;00m \u001b[43mfit_method\u001b[49m\u001b[43m(\u001b[49m\u001b[43mestimator\u001b[49m\u001b[43m,\u001b[49m\u001b[43m \u001b[49m\u001b[38;5;241;43m*\u001b[39;49m\u001b[43margs\u001b[49m\u001b[43m,\u001b[49m\u001b[43m \u001b[49m\u001b[38;5;241;43m*\u001b[39;49m\u001b[38;5;241;43m*\u001b[39;49m\u001b[43mkwargs\u001b[49m\u001b[43m)\u001b[49m\n",
      "File \u001b[1;32m~\\AppData\\Local\\Programs\\Python\\Python311\\Lib\\site-packages\\sklearn\\tree\\_classes.py:1320\u001b[0m, in \u001b[0;36mDecisionTreeRegressor.fit\u001b[1;34m(self, X, y, sample_weight, check_input)\u001b[0m\n\u001b[0;32m   1290\u001b[0m \u001b[38;5;129m@_fit_context\u001b[39m(prefer_skip_nested_validation\u001b[38;5;241m=\u001b[39m\u001b[38;5;28;01mTrue\u001b[39;00m)\n\u001b[0;32m   1291\u001b[0m \u001b[38;5;28;01mdef\u001b[39;00m \u001b[38;5;21mfit\u001b[39m(\u001b[38;5;28mself\u001b[39m, X, y, sample_weight\u001b[38;5;241m=\u001b[39m\u001b[38;5;28;01mNone\u001b[39;00m, check_input\u001b[38;5;241m=\u001b[39m\u001b[38;5;28;01mTrue\u001b[39;00m):\n\u001b[0;32m   1292\u001b[0m \u001b[38;5;250m    \u001b[39m\u001b[38;5;124;03m\"\"\"Build a decision tree regressor from the training set (X, y).\u001b[39;00m\n\u001b[0;32m   1293\u001b[0m \n\u001b[0;32m   1294\u001b[0m \u001b[38;5;124;03m    Parameters\u001b[39;00m\n\u001b[1;32m   (...)\u001b[0m\n\u001b[0;32m   1317\u001b[0m \u001b[38;5;124;03m        Fitted estimator.\u001b[39;00m\n\u001b[0;32m   1318\u001b[0m \u001b[38;5;124;03m    \"\"\"\u001b[39;00m\n\u001b[1;32m-> 1320\u001b[0m     \u001b[38;5;28;43msuper\u001b[39;49m\u001b[43m(\u001b[49m\u001b[43m)\u001b[49m\u001b[38;5;241;43m.\u001b[39;49m\u001b[43m_fit\u001b[49m\u001b[43m(\u001b[49m\n\u001b[0;32m   1321\u001b[0m \u001b[43m        \u001b[49m\u001b[43mX\u001b[49m\u001b[43m,\u001b[49m\n\u001b[0;32m   1322\u001b[0m \u001b[43m        \u001b[49m\u001b[43my\u001b[49m\u001b[43m,\u001b[49m\n\u001b[0;32m   1323\u001b[0m \u001b[43m        \u001b[49m\u001b[43msample_weight\u001b[49m\u001b[38;5;241;43m=\u001b[39;49m\u001b[43msample_weight\u001b[49m\u001b[43m,\u001b[49m\n\u001b[0;32m   1324\u001b[0m \u001b[43m        \u001b[49m\u001b[43mcheck_input\u001b[49m\u001b[38;5;241;43m=\u001b[39;49m\u001b[43mcheck_input\u001b[49m\u001b[43m,\u001b[49m\n\u001b[0;32m   1325\u001b[0m \u001b[43m    \u001b[49m\u001b[43m)\u001b[49m\n\u001b[0;32m   1326\u001b[0m     \u001b[38;5;28;01mreturn\u001b[39;00m \u001b[38;5;28mself\u001b[39m\n",
      "File \u001b[1;32m~\\AppData\\Local\\Programs\\Python\\Python311\\Lib\\site-packages\\sklearn\\tree\\_classes.py:443\u001b[0m, in \u001b[0;36mBaseDecisionTree._fit\u001b[1;34m(self, X, y, sample_weight, check_input, missing_values_in_feature_mask)\u001b[0m\n\u001b[0;32m    432\u001b[0m \u001b[38;5;28;01melse\u001b[39;00m:\n\u001b[0;32m    433\u001b[0m     builder \u001b[38;5;241m=\u001b[39m BestFirstTreeBuilder(\n\u001b[0;32m    434\u001b[0m         splitter,\n\u001b[0;32m    435\u001b[0m         min_samples_split,\n\u001b[1;32m   (...)\u001b[0m\n\u001b[0;32m    440\u001b[0m         \u001b[38;5;28mself\u001b[39m\u001b[38;5;241m.\u001b[39mmin_impurity_decrease,\n\u001b[0;32m    441\u001b[0m     )\n\u001b[1;32m--> 443\u001b[0m \u001b[43mbuilder\u001b[49m\u001b[38;5;241;43m.\u001b[39;49m\u001b[43mbuild\u001b[49m\u001b[43m(\u001b[49m\u001b[38;5;28;43mself\u001b[39;49m\u001b[38;5;241;43m.\u001b[39;49m\u001b[43mtree_\u001b[49m\u001b[43m,\u001b[49m\u001b[43m \u001b[49m\u001b[43mX\u001b[49m\u001b[43m,\u001b[49m\u001b[43m \u001b[49m\u001b[43my\u001b[49m\u001b[43m,\u001b[49m\u001b[43m \u001b[49m\u001b[43msample_weight\u001b[49m\u001b[43m,\u001b[49m\u001b[43m \u001b[49m\u001b[43mmissing_values_in_feature_mask\u001b[49m\u001b[43m)\u001b[49m\n\u001b[0;32m    445\u001b[0m \u001b[38;5;28;01mif\u001b[39;00m \u001b[38;5;28mself\u001b[39m\u001b[38;5;241m.\u001b[39mn_outputs_ \u001b[38;5;241m==\u001b[39m \u001b[38;5;241m1\u001b[39m \u001b[38;5;129;01mand\u001b[39;00m is_classifier(\u001b[38;5;28mself\u001b[39m):\n\u001b[0;32m    446\u001b[0m     \u001b[38;5;28mself\u001b[39m\u001b[38;5;241m.\u001b[39mn_classes_ \u001b[38;5;241m=\u001b[39m \u001b[38;5;28mself\u001b[39m\u001b[38;5;241m.\u001b[39mn_classes_[\u001b[38;5;241m0\u001b[39m]\n",
      "\u001b[1;31mKeyboardInterrupt\u001b[0m: "
     ]
    }
   ],
   "source": [
    "results = []\n",
    "\n",
    "for r in range(1, len(combinatorial_features) + 1):\n",
    "    for subset in combinations(combinatorial_features, r):\n",
    "        used_features = list(subset) + mandatory_features\n",
    "        print(f\"Using features: {used_features}\")\n",
    "\n",
    "        X_train_subset = X_train[used_features]\n",
    "        X_test_subset = X_test[used_features]\n",
    "\n",
    "        ngb = NGBRegressor()\n",
    "        ngb.fit(X_train_subset, y_train)\n",
    "        y_preds = ngb.predict(X_test_subset)\n",
    "\n",
    "        mae, mse, rmse, r2 = evaluate(y_test, y_preds)\n",
    "        results.append({\n",
    "            'features': used_features,\n",
    "            'mae': mae,\n",
    "            'mse': mse,\n",
    "            'rmse': rmse,\n",
    "            'r2': r2\n",
    "        })\n",
    "\n",
    "# 결과를 DataFrame으로 변환하여 보기 좋게 출력\n",
    "results_df = pd.DataFrame(results)\n",
    "print(results_df.sort_values(by=\"mae\"))  # MAE 기준으로 정렬하여 출력\n"
   ]
  },
  {
   "cell_type": "code",
   "execution_count": null,
   "id": "9b1eb5c9",
   "metadata": {
    "scrolled": true
   },
   "outputs": [
    {
     "name": "stderr",
     "output_type": "stream",
     "text": [
      "\r",
      "Feature combinations: 0it [00:00, ?it/s]"
     ]
    },
    {
     "name": "stdout",
     "output_type": "stream",
     "text": [
      "Using features: ['Prec(mm)', 'Temp(C)', 'Solar_Radiation(MJ/m2)', 'Wind_speed(m/s)']\n",
      "[iter 0] loss=16.4519 val_loss=0.0000 scale=1.0000 norm=2963398.9849\n",
      "[iter 100] loss=15.5582 val_loss=0.0000 scale=2.0000 norm=1759705.4016\n",
      "[iter 200] loss=15.0864 val_loss=0.0000 scale=2.0000 norm=1294378.0113\n",
      "[iter 300] loss=14.8624 val_loss=0.0000 scale=2.0000 norm=1241497.3725\n",
      "[iter 400] loss=14.7702 val_loss=0.0000 scale=1.0000 norm=614939.8877\n"
     ]
    },
    {
     "name": "stderr",
     "output_type": "stream",
     "text": [
      "\r",
      "Feature combinations: 1it [00:33, 33.57s/it]"
     ]
    },
    {
     "name": "stdout",
     "output_type": "stream",
     "text": [
      "Using features: ['Humidity', 'Temp(C)', 'Solar_Radiation(MJ/m2)', 'Wind_speed(m/s)']\n",
      "[iter 0] loss=16.4519 val_loss=0.0000 scale=1.0000 norm=2963398.9849\n",
      "[iter 100] loss=15.5574 val_loss=0.0000 scale=2.0000 norm=1757664.1043\n",
      "[iter 200] loss=15.0806 val_loss=0.0000 scale=2.0000 norm=1289983.7558\n",
      "[iter 300] loss=14.8534 val_loss=0.0000 scale=2.0000 norm=1234779.6233\n",
      "[iter 400] loss=14.7608 val_loss=0.0000 scale=1.0000 norm=611173.5171\n"
     ]
    },
    {
     "name": "stderr",
     "output_type": "stream",
     "text": [
      "\r",
      "Feature combinations: 2it [01:09, 35.07s/it]"
     ]
    },
    {
     "name": "stdout",
     "output_type": "stream",
     "text": [
      "Using features: ['Vapor_pressure(hPa)', 'Temp(C)', 'Solar_Radiation(MJ/m2)', 'Wind_speed(m/s)']\n",
      "[iter 0] loss=16.4519 val_loss=0.0000 scale=1.0000 norm=2963398.9849\n",
      "[iter 100] loss=15.5497 val_loss=0.0000 scale=2.0000 norm=1737140.2933\n",
      "[iter 200] loss=15.0791 val_loss=0.0000 scale=2.0000 norm=1284326.8050\n",
      "[iter 300] loss=14.8553 val_loss=0.0000 scale=2.0000 norm=1233246.6636\n",
      "[iter 400] loss=14.7576 val_loss=0.0000 scale=2.0000 norm=1219602.6693\n"
     ]
    },
    {
     "name": "stderr",
     "output_type": "stream",
     "text": [
      "\r",
      "Feature combinations: 3it [01:45, 35.62s/it]"
     ]
    },
    {
     "name": "stdout",
     "output_type": "stream",
     "text": [
      "Using features: ['Dew_Point(C)', 'Temp(C)', 'Solar_Radiation(MJ/m2)', 'Wind_speed(m/s)']\n",
      "[iter 0] loss=16.4519 val_loss=0.0000 scale=1.0000 norm=2963398.9849\n",
      "[iter 100] loss=15.5498 val_loss=0.0000 scale=2.0000 norm=1737325.1701\n",
      "[iter 200] loss=15.0791 val_loss=0.0000 scale=2.0000 norm=1283805.4522\n",
      "[iter 300] loss=14.8554 val_loss=0.0000 scale=2.0000 norm=1232872.2325\n",
      "[iter 400] loss=14.7603 val_loss=0.0000 scale=2.0000 norm=1220783.6763\n"
     ]
    },
    {
     "name": "stderr",
     "output_type": "stream",
     "text": [
      "\r",
      "Feature combinations: 4it [02:31, 39.62s/it]"
     ]
    },
    {
     "name": "stdout",
     "output_type": "stream",
     "text": [
      "Using features: ['Local Atmospheric Pressure(hPa)', 'Temp(C)', 'Solar_Radiation(MJ/m2)', 'Wind_speed(m/s)']\n",
      "[iter 0] loss=16.4519 val_loss=0.0000 scale=1.0000 norm=2963398.9849\n",
      "[iter 100] loss=15.5679 val_loss=0.0000 scale=2.0000 norm=1759682.4406\n",
      "[iter 200] loss=15.0772 val_loss=0.0000 scale=2.0000 norm=1254168.0977\n",
      "[iter 300] loss=14.8462 val_loss=0.0000 scale=2.0000 norm=1194759.3634\n",
      "[iter 400] loss=14.7509 val_loss=0.0000 scale=1.0000 norm=589432.8633\n"
     ]
    },
    {
     "name": "stderr",
     "output_type": "stream",
     "text": [
      "\r",
      "Feature combinations: 5it [03:15, 41.25s/it]"
     ]
    },
    {
     "name": "stdout",
     "output_type": "stream",
     "text": [
      "Using features: ['sunshine(hr)', 'Temp(C)', 'Solar_Radiation(MJ/m2)', 'Wind_speed(m/s)']\n",
      "[iter 0] loss=16.4519 val_loss=0.0000 scale=1.0000 norm=2963398.9849\n",
      "[iter 100] loss=15.5571 val_loss=0.0000 scale=2.0000 norm=1754549.6753\n",
      "[iter 200] loss=15.0753 val_loss=0.0000 scale=2.0000 norm=1282297.7544\n",
      "[iter 300] loss=14.8467 val_loss=0.0000 scale=2.0000 norm=1225514.8238\n",
      "[iter 400] loss=14.7501 val_loss=0.0000 scale=2.0000 norm=1209952.3363\n"
     ]
    },
    {
     "name": "stderr",
     "output_type": "stream",
     "text": [
      "\r",
      "Feature combinations: 6it [03:56, 40.98s/it]"
     ]
    },
    {
     "name": "stdout",
     "output_type": "stream",
     "text": [
      "Using features: ['Snowfall(cm)', 'Temp(C)', 'Solar_Radiation(MJ/m2)', 'Wind_speed(m/s)']\n",
      "[iter 0] loss=16.4519 val_loss=0.0000 scale=1.0000 norm=2963398.9849\n",
      "[iter 100] loss=15.5571 val_loss=0.0000 scale=2.0000 norm=1762364.4164\n",
      "[iter 200] loss=15.0799 val_loss=0.0000 scale=2.0000 norm=1284922.2449\n",
      "[iter 300] loss=14.8542 val_loss=0.0000 scale=2.0000 norm=1223476.6020\n",
      "[iter 400] loss=14.7607 val_loss=0.0000 scale=1.0000 norm=604804.1598\n"
     ]
    },
    {
     "name": "stderr",
     "output_type": "stream",
     "text": [
      "\r",
      "Feature combinations: 7it [04:35, 40.40s/it]"
     ]
    },
    {
     "name": "stdout",
     "output_type": "stream",
     "text": [
      "Using features: ['Cloud_Cover(1/10)', 'Temp(C)', 'Solar_Radiation(MJ/m2)', 'Wind_speed(m/s)']\n",
      "[iter 0] loss=16.4519 val_loss=0.0000 scale=1.0000 norm=2963398.9849\n",
      "[iter 100] loss=15.5587 val_loss=0.0000 scale=2.0000 norm=1754897.3148\n",
      "[iter 200] loss=15.0756 val_loss=0.0000 scale=2.0000 norm=1271914.0039\n",
      "[iter 300] loss=14.8425 val_loss=0.0000 scale=2.0000 norm=1213308.1828\n",
      "[iter 400] loss=14.7533 val_loss=0.0000 scale=1.0000 norm=599952.4115\n"
     ]
    },
    {
     "name": "stderr",
     "output_type": "stream",
     "text": [
      "\r",
      "Feature combinations: 8it [05:17, 40.97s/it]"
     ]
    },
    {
     "name": "stdout",
     "output_type": "stream",
     "text": [
      "Using features: ['Visibility(10m)', 'Temp(C)', 'Solar_Radiation(MJ/m2)', 'Wind_speed(m/s)']\n",
      "[iter 0] loss=16.4519 val_loss=0.0000 scale=1.0000 norm=2963398.9849\n",
      "[iter 100] loss=15.5581 val_loss=0.0000 scale=2.0000 norm=1759705.4016\n",
      "[iter 200] loss=15.0847 val_loss=0.0000 scale=2.0000 norm=1291509.9494\n",
      "[iter 300] loss=14.8604 val_loss=0.0000 scale=2.0000 norm=1233416.9720\n",
      "[iter 400] loss=14.7730 val_loss=0.0000 scale=1.0000 norm=609183.3099\n"
     ]
    },
    {
     "name": "stderr",
     "output_type": "stream",
     "text": [
      "\r",
      "Feature combinations: 9it [06:04, 42.81s/it]"
     ]
    },
    {
     "name": "stdout",
     "output_type": "stream",
     "text": [
      "Using features: ['year', 'Temp(C)', 'Solar_Radiation(MJ/m2)', 'Wind_speed(m/s)']\n",
      "[iter 0] loss=16.4519 val_loss=0.0000 scale=1.0000 norm=2963398.9849\n",
      "[iter 100] loss=15.5535 val_loss=0.0000 scale=2.0000 norm=1747207.3956\n",
      "[iter 200] loss=15.0553 val_loss=0.0000 scale=2.0000 norm=1232465.7924\n",
      "[iter 300] loss=14.8243 val_loss=0.0000 scale=2.0000 norm=1154875.1755\n",
      "[iter 400] loss=14.7415 val_loss=0.0000 scale=1.0000 norm=565737.8840\n"
     ]
    },
    {
     "name": "stderr",
     "output_type": "stream",
     "text": [
      "\r",
      "Feature combinations: 10it [06:54, 45.04s/it]"
     ]
    },
    {
     "name": "stdout",
     "output_type": "stream",
     "text": [
      "Using features: ['month', 'Temp(C)', 'Solar_Radiation(MJ/m2)', 'Wind_speed(m/s)']\n",
      "[iter 0] loss=16.4519 val_loss=0.0000 scale=1.0000 norm=2963398.9849\n",
      "[iter 100] loss=15.5591 val_loss=0.0000 scale=2.0000 norm=1756924.8215\n",
      "[iter 200] loss=15.0669 val_loss=0.0000 scale=2.0000 norm=1248367.5399\n",
      "[iter 300] loss=14.8370 val_loss=0.0000 scale=2.0000 norm=1176315.9581\n",
      "[iter 400] loss=14.7574 val_loss=0.0000 scale=1.0000 norm=580394.7572\n"
     ]
    },
    {
     "name": "stderr",
     "output_type": "stream",
     "text": [
      "\r",
      "Feature combinations: 11it [07:27, 41.33s/it]"
     ]
    },
    {
     "name": "stdout",
     "output_type": "stream",
     "text": [
      "Using features: ['hour', 'Temp(C)', 'Solar_Radiation(MJ/m2)', 'Wind_speed(m/s)']\n",
      "[iter 0] loss=16.4519 val_loss=0.0000 scale=1.0000 norm=2963398.9849\n",
      "[iter 100] loss=15.5615 val_loss=0.0000 scale=2.0000 norm=1760582.2182\n",
      "[iter 200] loss=15.0532 val_loss=0.0000 scale=2.0000 norm=1222322.1600\n",
      "[iter 300] loss=14.8067 val_loss=0.0000 scale=2.0000 norm=1153006.0270\n",
      "[iter 400] loss=14.7045 val_loss=0.0000 scale=1.0000 norm=567021.9740\n"
     ]
    },
    {
     "name": "stderr",
     "output_type": "stream",
     "text": [
      "\r",
      "Feature combinations: 12it [08:01, 39.17s/it]"
     ]
    },
    {
     "name": "stdout",
     "output_type": "stream",
     "text": [
      "Using features: ['Prec(mm)', 'Humidity', 'Temp(C)', 'Solar_Radiation(MJ/m2)', 'Wind_speed(m/s)']\n",
      "[iter 0] loss=16.4519 val_loss=0.0000 scale=1.0000 norm=2963398.9849\n",
      "[iter 100] loss=15.5574 val_loss=0.0000 scale=2.0000 norm=1757664.1043\n",
      "[iter 200] loss=15.0806 val_loss=0.0000 scale=2.0000 norm=1289813.7128\n",
      "[iter 300] loss=14.8531 val_loss=0.0000 scale=2.0000 norm=1234754.2658\n",
      "[iter 400] loss=14.7604 val_loss=0.0000 scale=2.0000 norm=1222331.0690\n"
     ]
    },
    {
     "name": "stderr",
     "output_type": "stream",
     "text": [
      "\r",
      "Feature combinations: 13it [08:41, 39.31s/it]"
     ]
    },
    {
     "name": "stdout",
     "output_type": "stream",
     "text": [
      "Using features: ['Prec(mm)', 'Vapor_pressure(hPa)', 'Temp(C)', 'Solar_Radiation(MJ/m2)', 'Wind_speed(m/s)']\n",
      "[iter 0] loss=16.4519 val_loss=0.0000 scale=1.0000 norm=2963398.9849\n",
      "[iter 100] loss=15.5497 val_loss=0.0000 scale=2.0000 norm=1737140.2933\n",
      "[iter 200] loss=15.0790 val_loss=0.0000 scale=2.0000 norm=1284166.7517\n",
      "[iter 300] loss=14.8551 val_loss=0.0000 scale=2.0000 norm=1233198.3990\n",
      "[iter 400] loss=14.7579 val_loss=0.0000 scale=2.0000 norm=1219623.5453\n"
     ]
    },
    {
     "name": "stderr",
     "output_type": "stream",
     "text": [
      "\r",
      "Feature combinations: 14it [09:24, 40.43s/it]"
     ]
    },
    {
     "name": "stdout",
     "output_type": "stream",
     "text": [
      "Using features: ['Prec(mm)', 'Dew_Point(C)', 'Temp(C)', 'Solar_Radiation(MJ/m2)', 'Wind_speed(m/s)']\n",
      "[iter 0] loss=16.4519 val_loss=0.0000 scale=1.0000 norm=2963398.9849\n",
      "[iter 100] loss=15.5497 val_loss=0.0000 scale=2.0000 norm=1737325.1701\n",
      "[iter 200] loss=15.0789 val_loss=0.0000 scale=2.0000 norm=1283688.8454\n",
      "[iter 300] loss=14.8554 val_loss=0.0000 scale=2.0000 norm=1233046.3687\n",
      "[iter 400] loss=14.7597 val_loss=0.0000 scale=1.0000 norm=610324.8308\n"
     ]
    },
    {
     "name": "stderr",
     "output_type": "stream",
     "text": [
      "\r",
      "Feature combinations: 15it [10:13, 43.12s/it]"
     ]
    },
    {
     "name": "stdout",
     "output_type": "stream",
     "text": [
      "Using features: ['Prec(mm)', 'Local Atmospheric Pressure(hPa)', 'Temp(C)', 'Solar_Radiation(MJ/m2)', 'Wind_speed(m/s)']\n",
      "[iter 0] loss=16.4519 val_loss=0.0000 scale=1.0000 norm=2963398.9849\n",
      "[iter 100] loss=15.5678 val_loss=0.0000 scale=2.0000 norm=1759682.4406\n",
      "[iter 200] loss=15.0769 val_loss=0.0000 scale=2.0000 norm=1253779.4184\n",
      "[iter 300] loss=14.8455 val_loss=0.0000 scale=2.0000 norm=1194349.4090\n",
      "[iter 400] loss=14.7491 val_loss=0.0000 scale=2.0000 norm=1178710.4510\n"
     ]
    },
    {
     "name": "stderr",
     "output_type": "stream",
     "text": [
      "\r",
      "Feature combinations: 16it [10:54, 42.48s/it]"
     ]
    },
    {
     "name": "stdout",
     "output_type": "stream",
     "text": [
      "Using features: ['Prec(mm)', 'sunshine(hr)', 'Temp(C)', 'Solar_Radiation(MJ/m2)', 'Wind_speed(m/s)']\n",
      "[iter 0] loss=16.4519 val_loss=0.0000 scale=1.0000 norm=2963398.9849\n",
      "[iter 100] loss=15.5570 val_loss=0.0000 scale=2.0000 norm=1754549.6753\n",
      "[iter 200] loss=15.0752 val_loss=0.0000 scale=2.0000 norm=1282297.7544\n",
      "[iter 300] loss=14.8461 val_loss=0.0000 scale=2.0000 norm=1225136.9989\n",
      "[iter 400] loss=14.7462 val_loss=0.0000 scale=2.0000 norm=1209786.9609\n"
     ]
    },
    {
     "name": "stderr",
     "output_type": "stream",
     "text": [
      "\r",
      "Feature combinations: 17it [11:32, 40.93s/it]"
     ]
    },
    {
     "name": "stdout",
     "output_type": "stream",
     "text": [
      "Using features: ['Prec(mm)', 'Snowfall(cm)', 'Temp(C)', 'Solar_Radiation(MJ/m2)', 'Wind_speed(m/s)']\n",
      "[iter 0] loss=16.4519 val_loss=0.0000 scale=1.0000 norm=2963398.9849\n",
      "[iter 100] loss=15.5571 val_loss=0.0000 scale=2.0000 norm=1762364.4164\n",
      "[iter 200] loss=15.0799 val_loss=0.0000 scale=2.0000 norm=1284922.2449\n",
      "[iter 300] loss=14.8539 val_loss=0.0000 scale=2.0000 norm=1223298.0939\n",
      "[iter 400] loss=14.7584 val_loss=0.0000 scale=2.0000 norm=1209577.8613\n"
     ]
    },
    {
     "name": "stderr",
     "output_type": "stream",
     "text": [
      "\r",
      "Feature combinations: 18it [12:09, 39.94s/it]"
     ]
    },
    {
     "name": "stdout",
     "output_type": "stream",
     "text": [
      "Using features: ['Prec(mm)', 'Cloud_Cover(1/10)', 'Temp(C)', 'Solar_Radiation(MJ/m2)', 'Wind_speed(m/s)']\n",
      "[iter 0] loss=16.4519 val_loss=0.0000 scale=1.0000 norm=2963398.9849\n",
      "[iter 100] loss=15.5586 val_loss=0.0000 scale=2.0000 norm=1754897.3148\n",
      "[iter 200] loss=15.0754 val_loss=0.0000 scale=2.0000 norm=1271914.0039\n",
      "[iter 300] loss=14.8425 val_loss=0.0000 scale=2.0000 norm=1213486.6494\n",
      "[iter 400] loss=14.7510 val_loss=0.0000 scale=2.0000 norm=1199936.4651\n"
     ]
    },
    {
     "name": "stderr",
     "output_type": "stream",
     "text": [
      "\r",
      "Feature combinations: 19it [12:47, 39.22s/it]"
     ]
    },
    {
     "name": "stdout",
     "output_type": "stream",
     "text": [
      "Using features: ['Prec(mm)', 'Visibility(10m)', 'Temp(C)', 'Solar_Radiation(MJ/m2)', 'Wind_speed(m/s)']\n",
      "[iter 0] loss=16.4519 val_loss=0.0000 scale=1.0000 norm=2963398.9849\n",
      "[iter 100] loss=15.5581 val_loss=0.0000 scale=2.0000 norm=1759705.4016\n",
      "[iter 200] loss=15.0846 val_loss=0.0000 scale=2.0000 norm=1291509.9494\n",
      "[iter 300] loss=14.8602 val_loss=0.0000 scale=2.0000 norm=1233852.6544\n",
      "[iter 400] loss=14.7724 val_loss=0.0000 scale=2.0000 norm=1218623.3956\n"
     ]
    },
    {
     "name": "stderr",
     "output_type": "stream",
     "text": [
      "\r",
      "Feature combinations: 20it [13:30, 40.42s/it]"
     ]
    },
    {
     "name": "stdout",
     "output_type": "stream",
     "text": [
      "Using features: ['Prec(mm)', 'year', 'Temp(C)', 'Solar_Radiation(MJ/m2)', 'Wind_speed(m/s)']\n",
      "[iter 0] loss=16.4519 val_loss=0.0000 scale=1.0000 norm=2963398.9849\n",
      "[iter 100] loss=15.5535 val_loss=0.0000 scale=2.0000 norm=1747207.3956\n",
      "[iter 200] loss=15.0552 val_loss=0.0000 scale=2.0000 norm=1232465.7924\n",
      "[iter 300] loss=14.8239 val_loss=0.0000 scale=2.0000 norm=1154875.1755\n",
      "[iter 400] loss=14.7410 val_loss=0.0000 scale=1.0000 norm=565775.2054\n"
     ]
    },
    {
     "name": "stderr",
     "output_type": "stream",
     "text": [
      "\r",
      "Feature combinations: 21it [14:12, 40.98s/it]"
     ]
    },
    {
     "name": "stdout",
     "output_type": "stream",
     "text": [
      "Using features: ['Prec(mm)', 'month', 'Temp(C)', 'Solar_Radiation(MJ/m2)', 'Wind_speed(m/s)']\n",
      "[iter 0] loss=16.4519 val_loss=0.0000 scale=1.0000 norm=2963398.9849\n",
      "[iter 100] loss=15.5591 val_loss=0.0000 scale=2.0000 norm=1756924.8215\n",
      "[iter 200] loss=15.0668 val_loss=0.0000 scale=2.0000 norm=1248724.5058\n",
      "[iter 300] loss=14.8369 val_loss=0.0000 scale=2.0000 norm=1175287.0596\n",
      "[iter 400] loss=14.7606 val_loss=0.0000 scale=1.0000 norm=580958.9289\n"
     ]
    },
    {
     "name": "stderr",
     "output_type": "stream",
     "text": [
      "\r",
      "Feature combinations: 22it [14:57, 42.22s/it]"
     ]
    },
    {
     "name": "stdout",
     "output_type": "stream",
     "text": [
      "Using features: ['Prec(mm)', 'hour', 'Temp(C)', 'Solar_Radiation(MJ/m2)', 'Wind_speed(m/s)']\n",
      "[iter 0] loss=16.4519 val_loss=0.0000 scale=1.0000 norm=2963398.9849\n",
      "[iter 100] loss=15.5615 val_loss=0.0000 scale=2.0000 norm=1760582.2182\n",
      "[iter 200] loss=15.0531 val_loss=0.0000 scale=2.0000 norm=1222376.5166\n",
      "[iter 300] loss=14.8051 val_loss=0.0000 scale=2.0000 norm=1151747.5446\n",
      "[iter 400] loss=14.7086 val_loss=0.0000 scale=1.0000 norm=566576.7705\n"
     ]
    },
    {
     "name": "stderr",
     "output_type": "stream",
     "text": [
      "\r",
      "Feature combinations: 23it [15:45, 43.86s/it]"
     ]
    },
    {
     "name": "stdout",
     "output_type": "stream",
     "text": [
      "Using features: ['Humidity', 'Vapor_pressure(hPa)', 'Temp(C)', 'Solar_Radiation(MJ/m2)', 'Wind_speed(m/s)']\n",
      "[iter 0] loss=16.4519 val_loss=0.0000 scale=1.0000 norm=2963398.9849\n",
      "[iter 100] loss=15.5497 val_loss=0.0000 scale=2.0000 norm=1737572.3462\n",
      "[iter 200] loss=15.0762 val_loss=0.0000 scale=2.0000 norm=1285110.2953\n",
      "[iter 300] loss=14.8504 val_loss=0.0000 scale=2.0000 norm=1233229.1717\n",
      "[iter 400] loss=14.7519 val_loss=0.0000 scale=2.0000 norm=1219165.5744\n"
     ]
    },
    {
     "name": "stderr",
     "output_type": "stream",
     "text": [
      "\r",
      "Feature combinations: 24it [16:35, 45.58s/it]"
     ]
    },
    {
     "name": "stdout",
     "output_type": "stream",
     "text": [
      "Using features: ['Humidity', 'Dew_Point(C)', 'Temp(C)', 'Solar_Radiation(MJ/m2)', 'Wind_speed(m/s)']\n",
      "[iter 0] loss=16.4519 val_loss=0.0000 scale=1.0000 norm=2963398.9849\n",
      "[iter 100] loss=15.5497 val_loss=0.0000 scale=2.0000 norm=1737409.4221\n",
      "[iter 200] loss=15.0761 val_loss=0.0000 scale=2.0000 norm=1284668.3133\n",
      "[iter 300] loss=14.8504 val_loss=0.0000 scale=2.0000 norm=1232765.7954\n",
      "[iter 400] loss=14.7527 val_loss=0.0000 scale=1.0000 norm=609488.7499\n"
     ]
    },
    {
     "name": "stderr",
     "output_type": "stream",
     "text": [
      "\r",
      "Feature combinations: 25it [17:24, 46.65s/it]"
     ]
    },
    {
     "name": "stdout",
     "output_type": "stream",
     "text": [
      "Using features: ['Humidity', 'Local Atmospheric Pressure(hPa)', 'Temp(C)', 'Solar_Radiation(MJ/m2)', 'Wind_speed(m/s)']\n",
      "[iter 0] loss=16.4519 val_loss=0.0000 scale=1.0000 norm=2963398.9849\n",
      "[iter 100] loss=15.5679 val_loss=0.0000 scale=2.0000 norm=1760623.5935\n",
      "[iter 200] loss=15.0738 val_loss=0.0000 scale=2.0000 norm=1254771.6373\n",
      "[iter 300] loss=14.8397 val_loss=0.0000 scale=2.0000 norm=1195108.2450\n",
      "[iter 400] loss=14.7437 val_loss=0.0000 scale=2.0000 norm=1178829.9099\n"
     ]
    },
    {
     "name": "stderr",
     "output_type": "stream",
     "text": [
      "\r",
      "Feature combinations: 26it [18:19, 49.24s/it]"
     ]
    },
    {
     "name": "stdout",
     "output_type": "stream",
     "text": [
      "Using features: ['Humidity', 'sunshine(hr)', 'Temp(C)', 'Solar_Radiation(MJ/m2)', 'Wind_speed(m/s)']\n",
      "[iter 0] loss=16.4519 val_loss=0.0000 scale=1.0000 norm=2963398.9849\n",
      "[iter 100] loss=15.5565 val_loss=0.0000 scale=2.0000 norm=1753564.3914\n",
      "[iter 200] loss=15.0728 val_loss=0.0000 scale=2.0000 norm=1281049.7483\n",
      "[iter 300] loss=14.8406 val_loss=0.0000 scale=2.0000 norm=1221727.0291\n",
      "[iter 400] loss=14.7435 val_loss=0.0000 scale=1.0000 norm=602942.4483\n"
     ]
    },
    {
     "name": "stderr",
     "output_type": "stream",
     "text": [
      "\r",
      "Feature combinations: 27it [19:06, 48.47s/it]"
     ]
    },
    {
     "name": "stdout",
     "output_type": "stream",
     "text": [
      "Using features: ['Humidity', 'Snowfall(cm)', 'Temp(C)', 'Solar_Radiation(MJ/m2)', 'Wind_speed(m/s)']\n",
      "[iter 0] loss=16.4519 val_loss=0.0000 scale=1.0000 norm=2963398.9849\n",
      "[iter 100] loss=15.5564 val_loss=0.0000 scale=2.0000 norm=1759822.3143\n",
      "[iter 200] loss=15.0755 val_loss=0.0000 scale=2.0000 norm=1280379.7101\n",
      "[iter 300] loss=14.8453 val_loss=0.0000 scale=2.0000 norm=1217577.6846\n",
      "[iter 400] loss=14.7495 val_loss=0.0000 scale=1.0000 norm=601519.7201\n"
     ]
    },
    {
     "name": "stderr",
     "output_type": "stream",
     "text": [
      "\r",
      "Feature combinations: 28it [19:52, 47.71s/it]"
     ]
    },
    {
     "name": "stdout",
     "output_type": "stream",
     "text": [
      "Using features: ['Humidity', 'Cloud_Cover(1/10)', 'Temp(C)', 'Solar_Radiation(MJ/m2)', 'Wind_speed(m/s)']\n",
      "[iter 0] loss=16.4519 val_loss=0.0000 scale=1.0000 norm=2963398.9849\n",
      "[iter 100] loss=15.5583 val_loss=0.0000 scale=2.0000 norm=1754191.7361\n",
      "[iter 200] loss=15.0720 val_loss=0.0000 scale=2.0000 norm=1269621.5205\n",
      "[iter 300] loss=14.8375 val_loss=0.0000 scale=2.0000 norm=1209567.0693\n",
      "[iter 400] loss=14.7443 val_loss=0.0000 scale=1.0000 norm=597207.9124\n"
     ]
    },
    {
     "name": "stderr",
     "output_type": "stream",
     "text": [
      "\r",
      "Feature combinations: 29it [20:35, 46.52s/it]"
     ]
    },
    {
     "name": "stdout",
     "output_type": "stream",
     "text": [
      "Using features: ['Humidity', 'Visibility(10m)', 'Temp(C)', 'Solar_Radiation(MJ/m2)', 'Wind_speed(m/s)']\n",
      "[iter 0] loss=16.4519 val_loss=0.0000 scale=1.0000 norm=2963398.9849\n",
      "[iter 100] loss=15.5573 val_loss=0.0000 scale=2.0000 norm=1757664.1043\n",
      "[iter 200] loss=15.0796 val_loss=0.0000 scale=2.0000 norm=1288241.9342\n",
      "[iter 300] loss=14.8508 val_loss=0.0000 scale=2.0000 norm=1228026.2832\n",
      "[iter 400] loss=14.7597 val_loss=0.0000 scale=2.0000 norm=1211727.5224\n"
     ]
    },
    {
     "name": "stderr",
     "output_type": "stream",
     "text": [
      "\r",
      "Feature combinations: 30it [21:26, 47.74s/it]"
     ]
    },
    {
     "name": "stdout",
     "output_type": "stream",
     "text": [
      "Using features: ['Humidity', 'year', 'Temp(C)', 'Solar_Radiation(MJ/m2)', 'Wind_speed(m/s)']\n",
      "[iter 0] loss=16.4519 val_loss=0.0000 scale=1.0000 norm=2963398.9849\n",
      "[iter 100] loss=15.5524 val_loss=0.0000 scale=2.0000 norm=1743047.2485\n",
      "[iter 200] loss=15.0461 val_loss=0.0000 scale=2.0000 norm=1220855.8642\n",
      "[iter 300] loss=14.8096 val_loss=0.0000 scale=2.0000 norm=1139433.4673\n",
      "[iter 400] loss=14.7264 val_loss=0.0000 scale=1.0000 norm=558368.2219\n"
     ]
    },
    {
     "name": "stderr",
     "output_type": "stream",
     "text": [
      "\r",
      "Feature combinations: 31it [22:10, 46.60s/it]"
     ]
    },
    {
     "name": "stdout",
     "output_type": "stream",
     "text": [
      "Using features: ['Humidity', 'month', 'Temp(C)', 'Solar_Radiation(MJ/m2)', 'Wind_speed(m/s)']\n",
      "[iter 0] loss=16.4519 val_loss=0.0000 scale=1.0000 norm=2963398.9849\n",
      "[iter 100] loss=15.5587 val_loss=0.0000 scale=2.0000 norm=1756140.6612\n",
      "[iter 200] loss=15.0637 val_loss=0.0000 scale=2.0000 norm=1249226.2836\n",
      "[iter 300] loss=14.8346 val_loss=0.0000 scale=1.0000 norm=589636.7683\n",
      "[iter 400] loss=14.7533 val_loss=0.0000 scale=1.0000 norm=582158.3929\n"
     ]
    },
    {
     "name": "stderr",
     "output_type": "stream",
     "text": [
      "\r",
      "Feature combinations: 32it [22:53, 45.68s/it]"
     ]
    },
    {
     "name": "stdout",
     "output_type": "stream",
     "text": [
      "Using features: ['Humidity', 'hour', 'Temp(C)', 'Solar_Radiation(MJ/m2)', 'Wind_speed(m/s)']\n",
      "[iter 0] loss=16.4519 val_loss=0.0000 scale=1.0000 norm=2963398.9849\n",
      "[iter 100] loss=15.5615 val_loss=0.0000 scale=2.0000 norm=1761094.2343\n",
      "[iter 200] loss=15.0490 val_loss=0.0000 scale=2.0000 norm=1221102.3922\n",
      "[iter 300] loss=14.7964 val_loss=0.0000 scale=2.0000 norm=1146335.9369\n",
      "[iter 400] loss=14.6916 val_loss=0.0000 scale=2.0000 norm=1126262.1793\n"
     ]
    },
    {
     "name": "stderr",
     "output_type": "stream",
     "text": [
      "\r",
      "Feature combinations: 33it [23:38, 45.41s/it]"
     ]
    },
    {
     "name": "stdout",
     "output_type": "stream",
     "text": [
      "Using features: ['Vapor_pressure(hPa)', 'Dew_Point(C)', 'Temp(C)', 'Solar_Radiation(MJ/m2)', 'Wind_speed(m/s)']\n",
      "[iter 0] loss=16.4519 val_loss=0.0000 scale=1.0000 norm=2963398.9849\n",
      "[iter 100] loss=15.5498 val_loss=0.0000 scale=2.0000 norm=1737325.1701\n",
      "[iter 200] loss=15.0791 val_loss=0.0000 scale=2.0000 norm=1283805.4522\n",
      "[iter 300] loss=14.8554 val_loss=0.0000 scale=2.0000 norm=1233097.8468\n",
      "[iter 400] loss=14.7587 val_loss=0.0000 scale=1.0000 norm=609994.6882\n"
     ]
    },
    {
     "name": "stderr",
     "output_type": "stream",
     "text": [
      "\r",
      "Feature combinations: 34it [24:30, 47.34s/it]"
     ]
    },
    {
     "name": "stdout",
     "output_type": "stream",
     "text": [
      "Using features: ['Vapor_pressure(hPa)', 'Local Atmospheric Pressure(hPa)', 'Temp(C)', 'Solar_Radiation(MJ/m2)', 'Wind_speed(m/s)']\n",
      "[iter 0] loss=16.4519 val_loss=0.0000 scale=1.0000 norm=2963398.9849\n",
      "[iter 100] loss=15.5641 val_loss=0.0000 scale=2.0000 norm=1749444.3210\n",
      "[iter 200] loss=15.0739 val_loss=0.0000 scale=2.0000 norm=1250467.3008\n",
      "[iter 300] loss=14.8427 val_loss=0.0000 scale=2.0000 norm=1192973.6435\n",
      "[iter 400] loss=14.7468 val_loss=0.0000 scale=1.0000 norm=588329.7221\n"
     ]
    },
    {
     "name": "stderr",
     "output_type": "stream",
     "text": [
      "\r",
      "Feature combinations: 35it [25:25, 49.62s/it]"
     ]
    },
    {
     "name": "stdout",
     "output_type": "stream",
     "text": [
      "Using features: ['Vapor_pressure(hPa)', 'sunshine(hr)', 'Temp(C)', 'Solar_Radiation(MJ/m2)', 'Wind_speed(m/s)']\n",
      "[iter 0] loss=16.4519 val_loss=0.0000 scale=1.0000 norm=2963398.9849\n",
      "[iter 100] loss=15.5489 val_loss=0.0000 scale=2.0000 norm=1734252.9016\n",
      "[iter 200] loss=15.0696 val_loss=0.0000 scale=2.0000 norm=1274833.9287\n",
      "[iter 300] loss=14.8410 val_loss=0.0000 scale=2.0000 norm=1219759.3689\n",
      "[iter 400] loss=14.7412 val_loss=0.0000 scale=2.0000 norm=1202964.0577\n"
     ]
    },
    {
     "name": "stderr",
     "output_type": "stream",
     "text": [
      "\r",
      "Feature combinations: 36it [26:13, 49.06s/it]"
     ]
    },
    {
     "name": "stdout",
     "output_type": "stream",
     "text": [
      "Using features: ['Vapor_pressure(hPa)', 'Snowfall(cm)', 'Temp(C)', 'Solar_Radiation(MJ/m2)', 'Wind_speed(m/s)']\n",
      "[iter 0] loss=16.4519 val_loss=0.0000 scale=1.0000 norm=2963398.9849\n",
      "[iter 100] loss=15.5487 val_loss=0.0000 scale=2.0000 norm=1740669.6652\n",
      "[iter 200] loss=15.0728 val_loss=0.0000 scale=2.0000 norm=1274422.9316\n",
      "[iter 300] loss=14.8473 val_loss=0.0000 scale=2.0000 norm=1217805.2118\n",
      "[iter 400] loss=14.7548 val_loss=0.0000 scale=1.0000 norm=601516.0129\n"
     ]
    },
    {
     "name": "stderr",
     "output_type": "stream",
     "text": [
      "\r",
      "Feature combinations: 37it [26:57, 47.57s/it]"
     ]
    },
    {
     "name": "stdout",
     "output_type": "stream",
     "text": [
      "Using features: ['Vapor_pressure(hPa)', 'Cloud_Cover(1/10)', 'Temp(C)', 'Solar_Radiation(MJ/m2)', 'Wind_speed(m/s)']\n",
      "[iter 0] loss=16.4519 val_loss=0.0000 scale=1.0000 norm=2963398.9849\n",
      "[iter 100] loss=15.5474 val_loss=0.0000 scale=2.0000 norm=1728216.1639\n",
      "[iter 200] loss=15.0679 val_loss=0.0000 scale=2.0000 norm=1263065.9199\n",
      "[iter 300] loss=14.8367 val_loss=0.0000 scale=2.0000 norm=1207488.3347\n",
      "[iter 400] loss=14.7469 val_loss=0.0000 scale=2.0000 norm=1193482.1057\n"
     ]
    },
    {
     "name": "stderr",
     "output_type": "stream",
     "text": [
      "\r",
      "Feature combinations: 38it [27:41, 46.64s/it]"
     ]
    },
    {
     "name": "stdout",
     "output_type": "stream",
     "text": [
      "Using features: ['Vapor_pressure(hPa)', 'Visibility(10m)', 'Temp(C)', 'Solar_Radiation(MJ/m2)', 'Wind_speed(m/s)']\n",
      "[iter 0] loss=16.4519 val_loss=0.0000 scale=1.0000 norm=2963398.9849\n",
      "[iter 100] loss=15.5497 val_loss=0.0000 scale=2.0000 norm=1737140.2933\n",
      "[iter 200] loss=15.0780 val_loss=0.0000 scale=2.0000 norm=1281745.5718\n",
      "[iter 300] loss=14.8538 val_loss=0.0000 scale=2.0000 norm=1227166.3867\n",
      "[iter 400] loss=14.7609 val_loss=0.0000 scale=1.0000 norm=605114.0338\n"
     ]
    },
    {
     "name": "stderr",
     "output_type": "stream",
     "text": [
      "\r",
      "Feature combinations: 39it [28:30, 47.33s/it]"
     ]
    },
    {
     "name": "stdout",
     "output_type": "stream",
     "text": [
      "Using features: ['Vapor_pressure(hPa)', 'year', 'Temp(C)', 'Solar_Radiation(MJ/m2)', 'Wind_speed(m/s)']\n",
      "[iter 0] loss=16.4519 val_loss=0.0000 scale=1.0000 norm=2963398.9849\n",
      "[iter 100] loss=15.5446 val_loss=0.0000 scale=2.0000 norm=1724230.0660\n",
      "[iter 200] loss=15.0451 val_loss=0.0000 scale=2.0000 norm=1216859.1737\n",
      "[iter 300] loss=14.8211 val_loss=0.0000 scale=2.0000 norm=1143124.2195\n",
      "[iter 400] loss=14.7409 val_loss=0.0000 scale=1.0000 norm=562390.4026\n"
     ]
    },
    {
     "name": "stderr",
     "output_type": "stream",
     "text": [
      "\r",
      "Feature combinations: 40it [29:14, 46.39s/it]"
     ]
    },
    {
     "name": "stdout",
     "output_type": "stream",
     "text": [
      "Using features: ['Vapor_pressure(hPa)', 'month', 'Temp(C)', 'Solar_Radiation(MJ/m2)', 'Wind_speed(m/s)']\n",
      "[iter 0] loss=16.4519 val_loss=0.0000 scale=1.0000 norm=2963398.9849\n",
      "[iter 100] loss=15.5479 val_loss=0.0000 scale=2.0000 norm=1730410.1475\n",
      "[iter 200] loss=15.0605 val_loss=0.0000 scale=2.0000 norm=1243608.0801\n",
      "[iter 300] loss=14.8346 val_loss=0.0000 scale=2.0000 norm=1176334.7070\n",
      "[iter 400] loss=14.7603 val_loss=0.0000 scale=0.5000 norm=290608.8259\n"
     ]
    },
    {
     "name": "stderr",
     "output_type": "stream",
     "text": [
      "\r",
      "Feature combinations: 41it [29:58, 45.59s/it]"
     ]
    },
    {
     "name": "stdout",
     "output_type": "stream",
     "text": [
      "Using features: ['Vapor_pressure(hPa)', 'hour', 'Temp(C)', 'Solar_Radiation(MJ/m2)', 'Wind_speed(m/s)']\n",
      "[iter 0] loss=16.4519 val_loss=0.0000 scale=1.0000 norm=2963398.9849\n",
      "[iter 100] loss=15.5533 val_loss=0.0000 scale=2.0000 norm=1738921.7410\n",
      "[iter 200] loss=15.0462 val_loss=0.0000 scale=2.0000 norm=1212727.3346\n",
      "[iter 300] loss=14.8053 val_loss=0.0000 scale=2.0000 norm=1147248.3490\n",
      "[iter 400] loss=14.7105 val_loss=0.0000 scale=1.0000 norm=565697.0865\n"
     ]
    },
    {
     "name": "stderr",
     "output_type": "stream",
     "text": [
      "\r",
      "Feature combinations: 42it [30:46, 46.29s/it]"
     ]
    },
    {
     "name": "stdout",
     "output_type": "stream",
     "text": [
      "Using features: ['Dew_Point(C)', 'Local Atmospheric Pressure(hPa)', 'Temp(C)', 'Solar_Radiation(MJ/m2)', 'Wind_speed(m/s)']\n",
      "[iter 0] loss=16.4519 val_loss=0.0000 scale=1.0000 norm=2963398.9849\n",
      "[iter 100] loss=15.5641 val_loss=0.0000 scale=2.0000 norm=1749464.5622\n",
      "[iter 200] loss=15.0741 val_loss=0.0000 scale=2.0000 norm=1250994.3943\n",
      "[iter 300] loss=14.8429 val_loss=0.0000 scale=2.0000 norm=1192750.0323\n",
      "[iter 400] loss=14.7514 val_loss=0.0000 scale=2.0000 norm=1177440.7688\n"
     ]
    },
    {
     "name": "stderr",
     "output_type": "stream",
     "text": [
      "\r",
      "Feature combinations: 43it [31:35, 47.15s/it]"
     ]
    },
    {
     "name": "stdout",
     "output_type": "stream",
     "text": [
      "Using features: ['Dew_Point(C)', 'sunshine(hr)', 'Temp(C)', 'Solar_Radiation(MJ/m2)', 'Wind_speed(m/s)']\n",
      "[iter 0] loss=16.4519 val_loss=0.0000 scale=1.0000 norm=2963398.9849\n",
      "[iter 100] loss=15.5489 val_loss=0.0000 scale=2.0000 norm=1733880.0536\n",
      "[iter 200] loss=15.0692 val_loss=0.0000 scale=2.0000 norm=1274340.7067\n",
      "[iter 300] loss=14.8412 val_loss=0.0000 scale=2.0000 norm=1219189.2619\n",
      "[iter 400] loss=14.7427 val_loss=0.0000 scale=2.0000 norm=1203152.3047\n"
     ]
    },
    {
     "name": "stderr",
     "output_type": "stream",
     "text": [
      "\r",
      "Feature combinations: 44it [32:20, 46.42s/it]"
     ]
    },
    {
     "name": "stdout",
     "output_type": "stream",
     "text": [
      "Using features: ['Dew_Point(C)', 'Snowfall(cm)', 'Temp(C)', 'Solar_Radiation(MJ/m2)', 'Wind_speed(m/s)']\n",
      "[iter 0] loss=16.4519 val_loss=0.0000 scale=1.0000 norm=2963398.9849\n",
      "[iter 100] loss=15.5487 val_loss=0.0000 scale=2.0000 norm=1740338.7804\n",
      "[iter 200] loss=15.0727 val_loss=0.0000 scale=2.0000 norm=1274055.9359\n",
      "[iter 300] loss=14.8471 val_loss=0.0000 scale=2.0000 norm=1216479.7359\n",
      "[iter 400] loss=14.7510 val_loss=0.0000 scale=1.0000 norm=601022.6116\n"
     ]
    },
    {
     "name": "stderr",
     "output_type": "stream",
     "text": [
      "\r",
      "Feature combinations: 45it [33:03, 45.30s/it]"
     ]
    },
    {
     "name": "stdout",
     "output_type": "stream",
     "text": [
      "Using features: ['Dew_Point(C)', 'Cloud_Cover(1/10)', 'Temp(C)', 'Solar_Radiation(MJ/m2)', 'Wind_speed(m/s)']\n",
      "[iter 0] loss=16.4519 val_loss=0.0000 scale=1.0000 norm=2963398.9849\n",
      "[iter 100] loss=15.5473 val_loss=0.0000 scale=2.0000 norm=1727993.2327\n",
      "[iter 200] loss=15.0680 val_loss=0.0000 scale=2.0000 norm=1263337.9299\n",
      "[iter 300] loss=14.8369 val_loss=0.0000 scale=2.0000 norm=1207484.3835\n",
      "[iter 400] loss=14.7485 val_loss=0.0000 scale=1.0000 norm=597089.4816\n"
     ]
    },
    {
     "name": "stderr",
     "output_type": "stream",
     "text": [
      "\r",
      "Feature combinations: 46it [33:47, 45.06s/it]"
     ]
    },
    {
     "name": "stdout",
     "output_type": "stream",
     "text": [
      "Using features: ['Dew_Point(C)', 'Visibility(10m)', 'Temp(C)', 'Solar_Radiation(MJ/m2)', 'Wind_speed(m/s)']\n",
      "[iter 0] loss=16.4519 val_loss=0.0000 scale=1.0000 norm=2963398.9849\n",
      "[iter 100] loss=15.5497 val_loss=0.0000 scale=2.0000 norm=1737325.1701\n",
      "[iter 200] loss=15.0780 val_loss=0.0000 scale=2.0000 norm=1281907.3434\n",
      "[iter 300] loss=14.8535 val_loss=0.0000 scale=2.0000 norm=1226158.6192\n",
      "[iter 400] loss=14.7663 val_loss=0.0000 scale=1.0000 norm=605680.3067\n"
     ]
    },
    {
     "name": "stderr",
     "output_type": "stream",
     "text": [
      "\r",
      "Feature combinations: 47it [34:36, 46.15s/it]"
     ]
    },
    {
     "name": "stdout",
     "output_type": "stream",
     "text": [
      "Using features: ['Dew_Point(C)', 'year', 'Temp(C)', 'Solar_Radiation(MJ/m2)', 'Wind_speed(m/s)']\n",
      "[iter 0] loss=16.4519 val_loss=0.0000 scale=1.0000 norm=2963398.9849\n",
      "[iter 100] loss=15.5549 val_loss=0.0000 scale=2.0000 norm=1744355.9362\n",
      "[iter 200] loss=15.0504 val_loss=0.0000 scale=2.0000 norm=1219441.7937\n",
      "[iter 300] loss=14.8190 val_loss=0.0000 scale=1.0000 norm=571111.6349\n",
      "[iter 400] loss=14.7348 val_loss=0.0000 scale=1.0000 norm=560562.7880\n"
     ]
    },
    {
     "name": "stderr",
     "output_type": "stream",
     "text": [
      "\r",
      "Feature combinations: 48it [35:21, 45.86s/it]"
     ]
    },
    {
     "name": "stdout",
     "output_type": "stream",
     "text": [
      "Using features: ['Dew_Point(C)', 'month', 'Temp(C)', 'Solar_Radiation(MJ/m2)', 'Wind_speed(m/s)']\n",
      "[iter 0] loss=16.4519 val_loss=0.0000 scale=1.0000 norm=2963398.9849\n",
      "[iter 100] loss=15.5579 val_loss=0.0000 scale=2.0000 norm=1749490.2476\n",
      "[iter 200] loss=15.0653 val_loss=0.0000 scale=2.0000 norm=1245258.5436\n",
      "[iter 300] loss=14.8402 val_loss=0.0000 scale=2.0000 norm=1176856.9688\n",
      "[iter 400] loss=14.7603 val_loss=0.0000 scale=2.0000 norm=1162053.1837\n"
     ]
    },
    {
     "name": "stderr",
     "output_type": "stream",
     "text": [
      "\r",
      "Feature combinations: 49it [36:06, 45.69s/it]"
     ]
    },
    {
     "name": "stdout",
     "output_type": "stream",
     "text": [
      "Using features: ['Dew_Point(C)', 'hour', 'Temp(C)', 'Solar_Radiation(MJ/m2)', 'Wind_speed(m/s)']\n",
      "[iter 0] loss=16.4519 val_loss=0.0000 scale=1.0000 norm=2963398.9849\n",
      "[iter 100] loss=15.5600 val_loss=0.0000 scale=2.0000 norm=1751916.0383\n",
      "[iter 200] loss=15.0493 val_loss=0.0000 scale=2.0000 norm=1212754.0369\n",
      "[iter 300] loss=14.8017 val_loss=0.0000 scale=2.0000 norm=1145161.7692\n",
      "[iter 400] loss=14.7020 val_loss=0.0000 scale=1.0000 norm=563770.7654\n"
     ]
    },
    {
     "name": "stderr",
     "output_type": "stream",
     "text": [
      "\r",
      "Feature combinations: 50it [36:51, 45.36s/it]"
     ]
    },
    {
     "name": "stdout",
     "output_type": "stream",
     "text": [
      "Using features: ['Local Atmospheric Pressure(hPa)', 'sunshine(hr)', 'Temp(C)', 'Solar_Radiation(MJ/m2)', 'Wind_speed(m/s)']\n",
      "[iter 0] loss=16.4519 val_loss=0.0000 scale=1.0000 norm=2963398.9849\n",
      "[iter 100] loss=15.5674 val_loss=0.0000 scale=2.0000 norm=1757471.0128\n",
      "[iter 200] loss=15.0658 val_loss=0.0000 scale=2.0000 norm=1247324.7169\n",
      "[iter 300] loss=14.8290 val_loss=0.0000 scale=2.0000 norm=1185290.9842\n",
      "[iter 400] loss=14.7301 val_loss=0.0000 scale=1.0000 norm=583343.4736\n"
     ]
    },
    {
     "name": "stderr",
     "output_type": "stream",
     "text": [
      "\r",
      "Feature combinations: 51it [37:35, 45.01s/it]"
     ]
    },
    {
     "name": "stdout",
     "output_type": "stream",
     "text": [
      "Using features: ['Local Atmospheric Pressure(hPa)', 'Snowfall(cm)', 'Temp(C)', 'Solar_Radiation(MJ/m2)', 'Wind_speed(m/s)']\n",
      "[iter 0] loss=16.4519 val_loss=0.0000 scale=1.0000 norm=2963398.9849\n",
      "[iter 100] loss=15.5668 val_loss=0.0000 scale=2.0000 norm=1762653.6024\n",
      "[iter 200] loss=15.0704 val_loss=0.0000 scale=2.0000 norm=1245178.6531\n",
      "[iter 300] loss=14.8361 val_loss=0.0000 scale=2.0000 norm=1177714.1231\n",
      "[iter 400] loss=14.7372 val_loss=0.0000 scale=2.0000 norm=1159788.6527\n"
     ]
    },
    {
     "name": "stderr",
     "output_type": "stream",
     "text": [
      "\r",
      "Feature combinations: 52it [38:18, 44.44s/it]"
     ]
    },
    {
     "name": "stdout",
     "output_type": "stream",
     "text": [
      "Using features: ['Local Atmospheric Pressure(hPa)', 'Cloud_Cover(1/10)', 'Temp(C)', 'Solar_Radiation(MJ/m2)', 'Wind_speed(m/s)']\n",
      "[iter 0] loss=16.4519 val_loss=0.0000 scale=1.0000 norm=2963398.9849\n",
      "[iter 100] loss=15.5695 val_loss=0.0000 scale=2.0000 norm=1759051.2926\n",
      "[iter 200] loss=15.0679 val_loss=0.0000 scale=2.0000 norm=1237305.2336\n",
      "[iter 300] loss=14.8273 val_loss=0.0000 scale=2.0000 norm=1172420.0917\n",
      "[iter 400] loss=14.7364 val_loss=0.0000 scale=2.0000 norm=1155985.0967\n"
     ]
    },
    {
     "name": "stderr",
     "output_type": "stream",
     "text": [
      "\r",
      "Feature combinations: 53it [39:02, 44.27s/it]"
     ]
    },
    {
     "name": "stdout",
     "output_type": "stream",
     "text": [
      "Using features: ['Local Atmospheric Pressure(hPa)', 'Visibility(10m)', 'Temp(C)', 'Solar_Radiation(MJ/m2)', 'Wind_speed(m/s)']\n",
      "[iter 0] loss=16.4519 val_loss=0.0000 scale=1.0000 norm=2963398.9849\n",
      "[iter 100] loss=15.5678 val_loss=0.0000 scale=2.0000 norm=1759682.4406\n",
      "[iter 200] loss=15.0764 val_loss=0.0000 scale=2.0000 norm=1252927.2886\n",
      "[iter 300] loss=14.8447 val_loss=0.0000 scale=2.0000 norm=1189969.8365\n",
      "[iter 400] loss=14.7546 val_loss=0.0000 scale=1.0000 norm=586038.5600\n"
     ]
    },
    {
     "name": "stderr",
     "output_type": "stream",
     "text": [
      "\r",
      "Feature combinations: 54it [39:51, 45.57s/it]"
     ]
    },
    {
     "name": "stdout",
     "output_type": "stream",
     "text": [
      "Using features: ['Local Atmospheric Pressure(hPa)', 'year', 'Temp(C)', 'Solar_Radiation(MJ/m2)', 'Wind_speed(m/s)']\n",
      "[iter 0] loss=16.4519 val_loss=0.0000 scale=1.0000 norm=2963398.9849\n",
      "[iter 100] loss=15.5713 val_loss=0.0000 scale=2.0000 norm=1764407.0244\n",
      "[iter 200] loss=15.0510 val_loss=0.0000 scale=2.0000 norm=1189048.3812\n",
      "[iter 300] loss=14.8022 val_loss=0.0000 scale=2.0000 norm=1097357.7412\n",
      "[iter 400] loss=14.7210 val_loss=0.0000 scale=1.0000 norm=536839.5548\n"
     ]
    },
    {
     "name": "stderr",
     "output_type": "stream",
     "text": [
      "\r",
      "Feature combinations: 55it [40:35, 45.29s/it]"
     ]
    },
    {
     "name": "stdout",
     "output_type": "stream",
     "text": [
      "Using features: ['Local Atmospheric Pressure(hPa)', 'month', 'Temp(C)', 'Solar_Radiation(MJ/m2)', 'Wind_speed(m/s)']\n",
      "[iter 0] loss=16.4519 val_loss=0.0000 scale=1.0000 norm=2963398.9849\n",
      "[iter 100] loss=15.5641 val_loss=0.0000 scale=2.0000 norm=1751010.2100\n",
      "[iter 200] loss=15.0694 val_loss=0.0000 scale=2.0000 norm=1240041.8704\n",
      "[iter 300] loss=14.8371 val_loss=0.0000 scale=2.0000 norm=1170867.0329\n",
      "[iter 400] loss=14.7507 val_loss=0.0000 scale=1.0000 norm=576912.5507\n"
     ]
    },
    {
     "name": "stderr",
     "output_type": "stream",
     "text": [
      "\r",
      "Feature combinations: 56it [41:21, 45.38s/it]"
     ]
    },
    {
     "name": "stdout",
     "output_type": "stream",
     "text": [
      "Using features: ['Local Atmospheric Pressure(hPa)', 'hour', 'Temp(C)', 'Solar_Radiation(MJ/m2)', 'Wind_speed(m/s)']\n",
      "[iter 0] loss=16.4519 val_loss=0.0000 scale=1.0000 norm=2963398.9849\n",
      "[iter 100] loss=15.5672 val_loss=0.0000 scale=2.0000 norm=1758157.6045\n",
      "[iter 200] loss=15.0497 val_loss=0.0000 scale=2.0000 norm=1200983.7327\n",
      "[iter 300] loss=14.7983 val_loss=0.0000 scale=2.0000 norm=1128931.6862\n",
      "[iter 400] loss=14.7049 val_loss=0.0000 scale=1.0000 norm=555613.6975\n"
     ]
    },
    {
     "name": "stderr",
     "output_type": "stream",
     "text": [
      "\r",
      "Feature combinations: 57it [42:08, 45.87s/it]"
     ]
    },
    {
     "name": "stdout",
     "output_type": "stream",
     "text": [
      "Using features: ['sunshine(hr)', 'Snowfall(cm)', 'Temp(C)', 'Solar_Radiation(MJ/m2)', 'Wind_speed(m/s)']\n",
      "[iter 0] loss=16.4519 val_loss=0.0000 scale=1.0000 norm=2963398.9849\n",
      "[iter 100] loss=15.5560 val_loss=0.0000 scale=2.0000 norm=1757606.8022\n",
      "[iter 200] loss=15.0679 val_loss=0.0000 scale=2.0000 norm=1272825.6806\n",
      "[iter 300] loss=14.8355 val_loss=0.0000 scale=2.0000 norm=1207071.0607\n",
      "[iter 400] loss=14.7377 val_loss=0.0000 scale=2.0000 norm=1190351.6873\n"
     ]
    },
    {
     "name": "stderr",
     "output_type": "stream",
     "text": [
      "\r",
      "Feature combinations: 58it [42:47, 43.75s/it]"
     ]
    },
    {
     "name": "stdout",
     "output_type": "stream",
     "text": [
      "Using features: ['sunshine(hr)', 'Cloud_Cover(1/10)', 'Temp(C)', 'Solar_Radiation(MJ/m2)', 'Wind_speed(m/s)']\n",
      "[iter 0] loss=16.4519 val_loss=0.0000 scale=1.0000 norm=2963398.9849\n",
      "[iter 100] loss=15.5586 val_loss=0.0000 scale=2.0000 norm=1754392.2117\n",
      "[iter 200] loss=15.0712 val_loss=0.0000 scale=2.0000 norm=1269474.3324\n",
      "[iter 300] loss=14.8371 val_loss=0.0000 scale=2.0000 norm=1209527.9151\n",
      "[iter 400] loss=14.7404 val_loss=0.0000 scale=2.0000 norm=1192739.2460\n"
     ]
    },
    {
     "name": "stderr",
     "output_type": "stream",
     "text": [
      "\r",
      "Feature combinations: 59it [43:28, 42.94s/it]"
     ]
    },
    {
     "name": "stdout",
     "output_type": "stream",
     "text": [
      "Using features: ['sunshine(hr)', 'Visibility(10m)', 'Temp(C)', 'Solar_Radiation(MJ/m2)', 'Wind_speed(m/s)']\n",
      "[iter 0] loss=16.4519 val_loss=0.0000 scale=1.0000 norm=2963398.9849\n",
      "[iter 100] loss=15.5570 val_loss=0.0000 scale=2.0000 norm=1754549.6753\n",
      "[iter 200] loss=15.0735 val_loss=0.0000 scale=2.0000 norm=1279058.3357\n",
      "[iter 300] loss=14.8441 val_loss=0.0000 scale=2.0000 norm=1219137.1429\n",
      "[iter 400] loss=14.7570 val_loss=0.0000 scale=1.0000 norm=601209.1176\n"
     ]
    },
    {
     "name": "stderr",
     "output_type": "stream",
     "text": [
      "\r",
      "Feature combinations: 60it [44:13, 43.52s/it]"
     ]
    },
    {
     "name": "stdout",
     "output_type": "stream",
     "text": [
      "Using features: ['sunshine(hr)', 'year', 'Temp(C)', 'Solar_Radiation(MJ/m2)', 'Wind_speed(m/s)']\n",
      "[iter 0] loss=16.4519 val_loss=0.0000 scale=1.0000 norm=2963398.9849\n",
      "[iter 100] loss=15.5531 val_loss=0.0000 scale=2.0000 norm=1744754.6707\n",
      "[iter 200] loss=15.0448 val_loss=0.0000 scale=2.0000 norm=1224943.5480\n",
      "[iter 300] loss=14.8023 val_loss=0.0000 scale=2.0000 norm=1141512.4072\n",
      "[iter 400] loss=14.7142 val_loss=0.0000 scale=1.0000 norm=556828.5069\n"
     ]
    },
    {
     "name": "stderr",
     "output_type": "stream",
     "text": [
      "\r",
      "Feature combinations: 61it [44:53, 42.41s/it]"
     ]
    },
    {
     "name": "stdout",
     "output_type": "stream",
     "text": [
      "Using features: ['sunshine(hr)', 'month', 'Temp(C)', 'Solar_Radiation(MJ/m2)', 'Wind_speed(m/s)']\n",
      "[iter 0] loss=16.4519 val_loss=0.0000 scale=1.0000 norm=2963398.9849\n",
      "[iter 100] loss=15.5583 val_loss=0.0000 scale=2.0000 norm=1752646.6833\n",
      "[iter 200] loss=15.0546 val_loss=0.0000 scale=2.0000 norm=1239581.7079\n",
      "[iter 300] loss=14.8147 val_loss=0.0000 scale=2.0000 norm=1162949.9596\n",
      "[iter 400] loss=14.7305 val_loss=0.0000 scale=1.0000 norm=572491.2732\n"
     ]
    },
    {
     "name": "stderr",
     "output_type": "stream",
     "text": [
      "\r",
      "Feature combinations: 62it [45:33, 41.82s/it]"
     ]
    },
    {
     "name": "stdout",
     "output_type": "stream",
     "text": [
      "Using features: ['sunshine(hr)', 'hour', 'Temp(C)', 'Solar_Radiation(MJ/m2)', 'Wind_speed(m/s)']\n",
      "[iter 0] loss=16.4519 val_loss=0.0000 scale=1.0000 norm=2963398.9849\n",
      "[iter 100] loss=15.5631 val_loss=0.0000 scale=2.0000 norm=1755809.8486\n",
      "[iter 200] loss=15.0261 val_loss=0.0000 scale=2.0000 norm=1164528.4451\n",
      "[iter 300] loss=14.7552 val_loss=0.0000 scale=2.0000 norm=1079202.8752\n",
      "[iter 400] loss=14.6540 val_loss=0.0000 scale=1.0000 norm=529250.6635\n"
     ]
    },
    {
     "name": "stderr",
     "output_type": "stream",
     "text": [
      "\r",
      "Feature combinations: 63it [46:14, 41.60s/it]"
     ]
    },
    {
     "name": "stdout",
     "output_type": "stream",
     "text": [
      "Using features: ['Snowfall(cm)', 'Cloud_Cover(1/10)', 'Temp(C)', 'Solar_Radiation(MJ/m2)', 'Wind_speed(m/s)']\n",
      "[iter 0] loss=16.4519 val_loss=0.0000 scale=1.0000 norm=2963398.9849\n",
      "[iter 100] loss=15.5577 val_loss=0.0000 scale=2.0000 norm=1758373.4873\n",
      "[iter 200] loss=15.0694 val_loss=0.0000 scale=2.0000 norm=1265740.1967\n",
      "[iter 300] loss=14.8347 val_loss=0.0000 scale=2.0000 norm=1197435.2196\n",
      "[iter 400] loss=14.7393 val_loss=0.0000 scale=2.0000 norm=1180559.6726\n"
     ]
    },
    {
     "name": "stderr",
     "output_type": "stream",
     "text": [
      "\r",
      "Feature combinations: 64it [46:53, 40.83s/it]"
     ]
    },
    {
     "name": "stdout",
     "output_type": "stream",
     "text": [
      "Using features: ['Snowfall(cm)', 'Visibility(10m)', 'Temp(C)', 'Solar_Radiation(MJ/m2)', 'Wind_speed(m/s)']\n",
      "[iter 0] loss=16.4519 val_loss=0.0000 scale=1.0000 norm=2963398.9849\n",
      "[iter 100] loss=15.5570 val_loss=0.0000 scale=2.0000 norm=1762364.4164\n",
      "[iter 200] loss=15.0788 val_loss=0.0000 scale=2.0000 norm=1285466.4475\n",
      "[iter 300] loss=14.8544 val_loss=0.0000 scale=2.0000 norm=1219019.9977\n",
      "[iter 400] loss=14.7649 val_loss=0.0000 scale=2.0000 norm=1201836.8188\n"
     ]
    },
    {
     "name": "stderr",
     "output_type": "stream",
     "text": [
      "\r",
      "Feature combinations: 65it [47:37, 41.77s/it]"
     ]
    },
    {
     "name": "stdout",
     "output_type": "stream",
     "text": [
      "Using features: ['Snowfall(cm)', 'year', 'Temp(C)', 'Solar_Radiation(MJ/m2)', 'Wind_speed(m/s)']\n",
      "[iter 0] loss=16.4519 val_loss=0.0000 scale=1.0000 norm=2963398.9849\n",
      "[iter 100] loss=15.5525 val_loss=0.0000 scale=2.0000 norm=1747896.3870\n",
      "[iter 200] loss=15.0502 val_loss=0.0000 scale=2.0000 norm=1227117.4101\n",
      "[iter 300] loss=14.8101 val_loss=0.0000 scale=2.0000 norm=1134920.3196\n",
      "[iter 400] loss=14.7272 val_loss=0.0000 scale=2.0000 norm=1110200.8361\n"
     ]
    },
    {
     "name": "stderr",
     "output_type": "stream",
     "text": [
      "\r",
      "Feature combinations: 66it [48:17, 41.12s/it]"
     ]
    },
    {
     "name": "stdout",
     "output_type": "stream",
     "text": [
      "Using features: ['Snowfall(cm)', 'month', 'Temp(C)', 'Solar_Radiation(MJ/m2)', 'Wind_speed(m/s)']\n",
      "[iter 0] loss=16.4519 val_loss=0.0000 scale=1.0000 norm=2963398.9849\n",
      "[iter 100] loss=15.5582 val_loss=0.0000 scale=2.0000 norm=1760043.1792\n",
      "[iter 200] loss=15.0624 val_loss=0.0000 scale=2.0000 norm=1243886.3745\n",
      "[iter 300] loss=14.8448 val_loss=0.0000 scale=2.0000 norm=1169058.1147\n",
      "[iter 400] loss=14.7693 val_loss=0.0000 scale=1.0000 norm=575770.6435\n"
     ]
    },
    {
     "name": "stderr",
     "output_type": "stream",
     "text": [
      "\r",
      "Feature combinations: 67it [48:56, 40.70s/it]"
     ]
    },
    {
     "name": "stdout",
     "output_type": "stream",
     "text": [
      "Using features: ['Snowfall(cm)', 'hour', 'Temp(C)', 'Solar_Radiation(MJ/m2)', 'Wind_speed(m/s)']\n",
      "[iter 0] loss=16.4519 val_loss=0.0000 scale=1.0000 norm=2963398.9849\n",
      "[iter 100] loss=15.5607 val_loss=0.0000 scale=2.0000 norm=1763305.6378\n",
      "[iter 200] loss=15.0485 val_loss=0.0000 scale=2.0000 norm=1217816.0327\n",
      "[iter 300] loss=14.7990 val_loss=0.0000 scale=2.0000 norm=1138151.4545\n",
      "[iter 400] loss=14.6977 val_loss=0.0000 scale=2.0000 norm=1116817.2856\n"
     ]
    },
    {
     "name": "stderr",
     "output_type": "stream",
     "text": [
      "\r",
      "Feature combinations: 68it [49:38, 40.87s/it]"
     ]
    },
    {
     "name": "stdout",
     "output_type": "stream",
     "text": [
      "Using features: ['Cloud_Cover(1/10)', 'Visibility(10m)', 'Temp(C)', 'Solar_Radiation(MJ/m2)', 'Wind_speed(m/s)']\n",
      "[iter 0] loss=16.4519 val_loss=0.0000 scale=1.0000 norm=2963398.9849\n",
      "[iter 100] loss=15.5586 val_loss=0.0000 scale=2.0000 norm=1754897.3148\n",
      "[iter 200] loss=15.0745 val_loss=0.0000 scale=2.0000 norm=1270827.5597\n",
      "[iter 300] loss=14.8410 val_loss=0.0000 scale=2.0000 norm=1208003.7249\n",
      "[iter 400] loss=14.7559 val_loss=0.0000 scale=2.0000 norm=1191969.0800\n"
     ]
    },
    {
     "name": "stderr",
     "output_type": "stream",
     "text": [
      "\r",
      "Feature combinations: 69it [50:24, 42.41s/it]"
     ]
    },
    {
     "name": "stdout",
     "output_type": "stream",
     "text": [
      "Using features: ['Cloud_Cover(1/10)', 'year', 'Temp(C)', 'Solar_Radiation(MJ/m2)', 'Wind_speed(m/s)']\n",
      "[iter 0] loss=16.4519 val_loss=0.0000 scale=1.0000 norm=2963398.9849\n",
      "[iter 100] loss=15.5587 val_loss=0.0000 scale=2.0000 norm=1754358.5926\n",
      "[iter 200] loss=15.0509 val_loss=0.0000 scale=2.0000 norm=1225469.0894\n",
      "[iter 300] loss=14.8090 val_loss=0.0000 scale=1.0000 norm=571026.3093\n",
      "[iter 400] loss=14.7305 val_loss=0.0000 scale=1.0000 norm=560132.2183\n"
     ]
    },
    {
     "name": "stderr",
     "output_type": "stream",
     "text": [
      "\r",
      "Feature combinations: 70it [51:04, 41.87s/it]"
     ]
    },
    {
     "name": "stdout",
     "output_type": "stream",
     "text": [
      "Using features: ['Cloud_Cover(1/10)', 'month', 'Temp(C)', 'Solar_Radiation(MJ/m2)', 'Wind_speed(m/s)']\n",
      "[iter 0] loss=16.4519 val_loss=0.0000 scale=1.0000 norm=2963398.9849\n",
      "[iter 100] loss=15.5569 val_loss=0.0000 scale=2.0000 norm=1747854.8031\n",
      "[iter 200] loss=15.0564 val_loss=0.0000 scale=2.0000 norm=1231533.1904\n",
      "[iter 300] loss=14.8216 val_loss=0.0000 scale=1.0000 norm=578486.4810\n",
      "[iter 400] loss=14.7477 val_loss=0.0000 scale=0.5000 norm=285682.9799\n"
     ]
    },
    {
     "name": "stderr",
     "output_type": "stream",
     "text": [
      "\r",
      "Feature combinations: 71it [51:48, 42.36s/it]"
     ]
    },
    {
     "name": "stdout",
     "output_type": "stream",
     "text": [
      "Using features: ['Cloud_Cover(1/10)', 'hour', 'Temp(C)', 'Solar_Radiation(MJ/m2)', 'Wind_speed(m/s)']\n",
      "[iter 0] loss=16.4519 val_loss=0.0000 scale=1.0000 norm=2963398.9849\n",
      "[iter 100] loss=15.5474 val_loss=0.0000 scale=2.0000 norm=1721855.2037\n",
      "[iter 200] loss=15.0205 val_loss=0.0000 scale=2.0000 norm=1156284.6225\n",
      "[iter 300] loss=14.7528 val_loss=0.0000 scale=2.0000 norm=1067887.0952\n",
      "[iter 400] loss=14.6568 val_loss=0.0000 scale=1.0000 norm=522509.2911\n"
     ]
    },
    {
     "name": "stderr",
     "output_type": "stream",
     "text": [
      "\r",
      "Feature combinations: 72it [52:34, 43.44s/it]"
     ]
    },
    {
     "name": "stdout",
     "output_type": "stream",
     "text": [
      "Using features: ['Visibility(10m)', 'year', 'Temp(C)', 'Solar_Radiation(MJ/m2)', 'Wind_speed(m/s)']\n",
      "[iter 0] loss=16.4519 val_loss=0.0000 scale=1.0000 norm=2963398.9849\n",
      "[iter 100] loss=15.5535 val_loss=0.0000 scale=2.0000 norm=1747207.3956\n",
      "[iter 200] loss=15.0553 val_loss=0.0000 scale=2.0000 norm=1232354.9593\n",
      "[iter 300] loss=14.8174 val_loss=0.0000 scale=2.0000 norm=1145929.7622\n",
      "[iter 400] loss=14.7428 val_loss=0.0000 scale=1.0000 norm=563430.6771\n"
     ]
    },
    {
     "name": "stderr",
     "output_type": "stream",
     "text": [
      "\r",
      "Feature combinations: 73it [53:21, 44.67s/it]"
     ]
    },
    {
     "name": "stdout",
     "output_type": "stream",
     "text": [
      "Using features: ['Visibility(10m)', 'month', 'Temp(C)', 'Solar_Radiation(MJ/m2)', 'Wind_speed(m/s)']\n",
      "[iter 0] loss=16.4519 val_loss=0.0000 scale=1.0000 norm=2963398.9849\n",
      "[iter 100] loss=15.5590 val_loss=0.0000 scale=2.0000 norm=1756934.2844\n",
      "[iter 200] loss=15.0661 val_loss=0.0000 scale=2.0000 norm=1246582.6708\n",
      "[iter 300] loss=14.8389 val_loss=0.0000 scale=2.0000 norm=1172112.7727\n",
      "[iter 400] loss=14.7674 val_loss=0.0000 scale=1.0000 norm=576988.2766\n"
     ]
    },
    {
     "name": "stderr",
     "output_type": "stream",
     "text": [
      "\r",
      "Feature combinations: 74it [54:07, 44.98s/it]"
     ]
    },
    {
     "name": "stdout",
     "output_type": "stream",
     "text": [
      "Using features: ['Visibility(10m)', 'hour', 'Temp(C)', 'Solar_Radiation(MJ/m2)', 'Wind_speed(m/s)']\n",
      "[iter 0] loss=16.4519 val_loss=0.0000 scale=1.0000 norm=2963398.9849\n",
      "[iter 100] loss=15.5615 val_loss=0.0000 scale=2.0000 norm=1760582.2182\n",
      "[iter 200] loss=15.0522 val_loss=0.0000 scale=2.0000 norm=1221450.9892\n",
      "[iter 300] loss=14.8039 val_loss=0.0000 scale=2.0000 norm=1147051.2978\n",
      "[iter 400] loss=14.7098 val_loss=0.0000 scale=1.0000 norm=562375.1002\n"
     ]
    },
    {
     "name": "stderr",
     "output_type": "stream",
     "text": [
      "\r",
      "Feature combinations: 75it [54:53, 45.19s/it]"
     ]
    },
    {
     "name": "stdout",
     "output_type": "stream",
     "text": [
      "Using features: ['year', 'month', 'Temp(C)', 'Solar_Radiation(MJ/m2)', 'Wind_speed(m/s)']\n",
      "[iter 0] loss=16.4519 val_loss=0.0000 scale=1.0000 norm=2963398.9849\n",
      "[iter 100] loss=15.5557 val_loss=0.0000 scale=2.0000 norm=1747966.1012\n",
      "[iter 200] loss=15.0397 val_loss=0.0000 scale=2.0000 norm=1187806.3359\n",
      "[iter 300] loss=14.8032 val_loss=0.0000 scale=1.0000 norm=539965.8330\n",
      "[iter 400] loss=14.7385 val_loss=0.0000 scale=1.0000 norm=526968.7772\n"
     ]
    },
    {
     "name": "stderr",
     "output_type": "stream",
     "text": [
      "\r",
      "Feature combinations: 76it [55:34, 43.96s/it]"
     ]
    },
    {
     "name": "stdout",
     "output_type": "stream",
     "text": [
      "Using features: ['year', 'hour', 'Temp(C)', 'Solar_Radiation(MJ/m2)', 'Wind_speed(m/s)']\n",
      "[iter 0] loss=16.4519 val_loss=0.0000 scale=1.0000 norm=2963398.9849\n",
      "[iter 100] loss=15.5629 val_loss=0.0000 scale=2.0000 norm=1763962.6496\n",
      "[iter 200] loss=15.0337 val_loss=0.0000 scale=2.0000 norm=1179202.1787\n",
      "[iter 300] loss=14.7723 val_loss=0.0000 scale=2.0000 norm=1083199.4190\n",
      "[iter 400] loss=14.6834 val_loss=0.0000 scale=2.0000 norm=1057165.7787\n"
     ]
    },
    {
     "name": "stderr",
     "output_type": "stream",
     "text": [
      "\r",
      "Feature combinations: 77it [56:16, 43.38s/it]"
     ]
    },
    {
     "name": "stdout",
     "output_type": "stream",
     "text": [
      "Using features: ['month', 'hour', 'Temp(C)', 'Solar_Radiation(MJ/m2)', 'Wind_speed(m/s)']\n",
      "[iter 0] loss=16.4519 val_loss=0.0000 scale=1.0000 norm=2963398.9849\n",
      "[iter 100] loss=15.5608 val_loss=0.0000 scale=2.0000 norm=1757551.2142\n",
      "[iter 200] loss=15.0462 val_loss=0.0000 scale=2.0000 norm=1205977.3562\n",
      "[iter 300] loss=14.7997 val_loss=0.0000 scale=2.0000 norm=1129950.1300\n",
      "[iter 400] loss=14.7118 val_loss=0.0000 scale=1.0000 norm=556459.2110\n"
     ]
    },
    {
     "name": "stderr",
     "output_type": "stream",
     "text": [
      "\r",
      "Feature combinations: 78it [57:00, 43.58s/it]"
     ]
    },
    {
     "name": "stdout",
     "output_type": "stream",
     "text": [
      "Using features: ['Prec(mm)', 'Humidity', 'Vapor_pressure(hPa)', 'Temp(C)', 'Solar_Radiation(MJ/m2)', 'Wind_speed(m/s)']\n",
      "[iter 0] loss=16.4519 val_loss=0.0000 scale=1.0000 norm=2963398.9849\n",
      "[iter 100] loss=15.5496 val_loss=0.0000 scale=2.0000 norm=1737572.3462\n",
      "[iter 200] loss=15.0762 val_loss=0.0000 scale=2.0000 norm=1285516.4931\n",
      "[iter 300] loss=14.8503 val_loss=0.0000 scale=2.0000 norm=1233103.9240\n",
      "[iter 400] loss=14.7515 val_loss=0.0000 scale=1.0000 norm=609654.1638\n"
     ]
    },
    {
     "name": "stderr",
     "output_type": "stream",
     "text": [
      "\r",
      "Feature combinations: 79it [57:48, 44.84s/it]"
     ]
    },
    {
     "name": "stdout",
     "output_type": "stream",
     "text": [
      "Using features: ['Prec(mm)', 'Humidity', 'Dew_Point(C)', 'Temp(C)', 'Solar_Radiation(MJ/m2)', 'Wind_speed(m/s)']\n",
      "[iter 0] loss=16.4519 val_loss=0.0000 scale=1.0000 norm=2963398.9849\n",
      "[iter 100] loss=15.5496 val_loss=0.0000 scale=2.0000 norm=1737409.4221\n",
      "[iter 200] loss=15.0760 val_loss=0.0000 scale=2.0000 norm=1284399.1839\n",
      "[iter 300] loss=14.8501 val_loss=0.0000 scale=2.0000 norm=1232782.3552\n",
      "[iter 400] loss=14.7532 val_loss=0.0000 scale=2.0000 norm=1219427.7909\n"
     ]
    },
    {
     "name": "stderr",
     "output_type": "stream",
     "text": [
      "\r",
      "Feature combinations: 80it [58:36, 45.95s/it]"
     ]
    },
    {
     "name": "stdout",
     "output_type": "stream",
     "text": [
      "Using features: ['Prec(mm)', 'Humidity', 'Local Atmospheric Pressure(hPa)', 'Temp(C)', 'Solar_Radiation(MJ/m2)', 'Wind_speed(m/s)']\n",
      "[iter 0] loss=16.4519 val_loss=0.0000 scale=1.0000 norm=2963398.9849\n",
      "[iter 100] loss=15.5679 val_loss=0.0000 scale=2.0000 norm=1760623.5935\n",
      "[iter 200] loss=15.0737 val_loss=0.0000 scale=2.0000 norm=1254843.8289\n",
      "[iter 300] loss=14.8393 val_loss=0.0000 scale=2.0000 norm=1195138.5773\n",
      "[iter 400] loss=14.7423 val_loss=0.0000 scale=2.0000 norm=1178429.5718\n"
     ]
    },
    {
     "name": "stderr",
     "output_type": "stream",
     "text": [
      "\r",
      "Feature combinations: 81it [59:24, 46.57s/it]"
     ]
    },
    {
     "name": "stdout",
     "output_type": "stream",
     "text": [
      "Using features: ['Prec(mm)', 'Humidity', 'sunshine(hr)', 'Temp(C)', 'Solar_Radiation(MJ/m2)', 'Wind_speed(m/s)']\n",
      "[iter 0] loss=16.4519 val_loss=0.0000 scale=1.0000 norm=2963398.9849\n",
      "[iter 100] loss=15.5565 val_loss=0.0000 scale=2.0000 norm=1753564.3914\n",
      "[iter 200] loss=15.0728 val_loss=0.0000 scale=2.0000 norm=1281274.4725\n",
      "[iter 300] loss=14.8403 val_loss=0.0000 scale=2.0000 norm=1221671.3947\n",
      "[iter 400] loss=14.7416 val_loss=0.0000 scale=2.0000 norm=1205910.7859\n"
     ]
    },
    {
     "name": "stderr",
     "output_type": "stream",
     "text": [
      "\r",
      "Feature combinations: 82it [1:00:08, 45.67s/it]"
     ]
    },
    {
     "name": "stdout",
     "output_type": "stream",
     "text": [
      "Using features: ['Prec(mm)', 'Humidity', 'Snowfall(cm)', 'Temp(C)', 'Solar_Radiation(MJ/m2)', 'Wind_speed(m/s)']\n",
      "[iter 0] loss=16.4519 val_loss=0.0000 scale=1.0000 norm=2963398.9849\n",
      "[iter 100] loss=15.5564 val_loss=0.0000 scale=2.0000 norm=1759822.3143\n",
      "[iter 200] loss=15.0755 val_loss=0.0000 scale=2.0000 norm=1280379.7101\n",
      "[iter 300] loss=14.8453 val_loss=0.0000 scale=2.0000 norm=1218092.1509\n",
      "[iter 400] loss=14.7500 val_loss=0.0000 scale=2.0000 norm=1203340.3623\n"
     ]
    },
    {
     "name": "stderr",
     "output_type": "stream",
     "text": [
      "\r",
      "Feature combinations: 83it [1:00:50, 44.57s/it]"
     ]
    },
    {
     "name": "stdout",
     "output_type": "stream",
     "text": [
      "Using features: ['Prec(mm)', 'Humidity', 'Cloud_Cover(1/10)', 'Temp(C)', 'Solar_Radiation(MJ/m2)', 'Wind_speed(m/s)']\n",
      "[iter 0] loss=16.4519 val_loss=0.0000 scale=1.0000 norm=2963398.9849\n",
      "[iter 100] loss=15.5583 val_loss=0.0000 scale=2.0000 norm=1754191.7361\n",
      "[iter 200] loss=15.0720 val_loss=0.0000 scale=2.0000 norm=1269621.5205\n",
      "[iter 300] loss=14.8373 val_loss=0.0000 scale=2.0000 norm=1209567.0513\n",
      "[iter 400] loss=14.7434 val_loss=0.0000 scale=2.0000 norm=1194356.1799\n"
     ]
    },
    {
     "name": "stderr",
     "output_type": "stream",
     "text": [
      "\r",
      "Feature combinations: 84it [1:01:35, 44.68s/it]"
     ]
    },
    {
     "name": "stdout",
     "output_type": "stream",
     "text": [
      "Using features: ['Prec(mm)', 'Humidity', 'Visibility(10m)', 'Temp(C)', 'Solar_Radiation(MJ/m2)', 'Wind_speed(m/s)']\n",
      "[iter 0] loss=16.4519 val_loss=0.0000 scale=1.0000 norm=2963398.9849\n",
      "[iter 100] loss=15.5573 val_loss=0.0000 scale=2.0000 norm=1757664.1043\n",
      "[iter 200] loss=15.0795 val_loss=0.0000 scale=2.0000 norm=1288233.4822\n",
      "[iter 300] loss=14.8505 val_loss=0.0000 scale=1.0000 norm=614103.0226\n",
      "[iter 400] loss=14.7595 val_loss=0.0000 scale=1.0000 norm=605996.9063\n"
     ]
    },
    {
     "name": "stderr",
     "output_type": "stream",
     "text": [
      "\r",
      "Feature combinations: 85it [1:02:24, 46.07s/it]"
     ]
    },
    {
     "name": "stdout",
     "output_type": "stream",
     "text": [
      "Using features: ['Prec(mm)', 'Humidity', 'year', 'Temp(C)', 'Solar_Radiation(MJ/m2)', 'Wind_speed(m/s)']\n",
      "[iter 0] loss=16.4519 val_loss=0.0000 scale=1.0000 norm=2963398.9849\n",
      "[iter 100] loss=15.5524 val_loss=0.0000 scale=2.0000 norm=1743047.2485\n",
      "[iter 200] loss=15.0461 val_loss=0.0000 scale=2.0000 norm=1220855.8642\n",
      "[iter 300] loss=14.8103 val_loss=0.0000 scale=2.0000 norm=1139849.7674\n",
      "[iter 400] loss=14.7277 val_loss=0.0000 scale=1.0000 norm=558774.8186\n"
     ]
    },
    {
     "name": "stderr",
     "output_type": "stream",
     "text": [
      "\r",
      "Feature combinations: 86it [1:03:09, 45.64s/it]"
     ]
    },
    {
     "name": "stdout",
     "output_type": "stream",
     "text": [
      "Using features: ['Prec(mm)', 'Humidity', 'month', 'Temp(C)', 'Solar_Radiation(MJ/m2)', 'Wind_speed(m/s)']\n",
      "[iter 0] loss=16.4519 val_loss=0.0000 scale=1.0000 norm=2963398.9849\n",
      "[iter 100] loss=15.5587 val_loss=0.0000 scale=2.0000 norm=1756140.6612\n",
      "[iter 200] loss=15.0636 val_loss=0.0000 scale=2.0000 norm=1249053.5441\n",
      "[iter 300] loss=14.8337 val_loss=0.0000 scale=2.0000 norm=1179600.2773\n",
      "[iter 400] loss=14.7520 val_loss=0.0000 scale=1.0000 norm=581927.6354\n"
     ]
    },
    {
     "name": "stderr",
     "output_type": "stream",
     "text": [
      "\r",
      "Feature combinations: 87it [1:03:52, 45.06s/it]"
     ]
    },
    {
     "name": "stdout",
     "output_type": "stream",
     "text": [
      "Using features: ['Prec(mm)', 'Humidity', 'hour', 'Temp(C)', 'Solar_Radiation(MJ/m2)', 'Wind_speed(m/s)']\n",
      "[iter 0] loss=16.4519 val_loss=0.0000 scale=1.0000 norm=2963398.9849\n",
      "[iter 100] loss=15.5615 val_loss=0.0000 scale=2.0000 norm=1761094.2343\n",
      "[iter 200] loss=15.0489 val_loss=0.0000 scale=2.0000 norm=1221096.9279\n",
      "[iter 300] loss=14.7955 val_loss=0.0000 scale=2.0000 norm=1145708.9927\n",
      "[iter 400] loss=14.6893 val_loss=0.0000 scale=2.0000 norm=1124654.5122\n"
     ]
    },
    {
     "name": "stderr",
     "output_type": "stream",
     "text": [
      "\r",
      "Feature combinations: 88it [1:04:37, 44.92s/it]"
     ]
    },
    {
     "name": "stdout",
     "output_type": "stream",
     "text": [
      "Using features: ['Prec(mm)', 'Vapor_pressure(hPa)', 'Dew_Point(C)', 'Temp(C)', 'Solar_Radiation(MJ/m2)', 'Wind_speed(m/s)']\n",
      "[iter 0] loss=16.4519 val_loss=0.0000 scale=1.0000 norm=2963398.9849\n",
      "[iter 100] loss=15.5497 val_loss=0.0000 scale=2.0000 norm=1737325.1701\n",
      "[iter 200] loss=15.0789 val_loss=0.0000 scale=2.0000 norm=1283688.8898\n",
      "[iter 300] loss=14.8552 val_loss=0.0000 scale=2.0000 norm=1233139.5297\n",
      "[iter 400] loss=14.7588 val_loss=0.0000 scale=2.0000 norm=1219992.2678\n"
     ]
    },
    {
     "name": "stderr",
     "output_type": "stream",
     "text": [
      "\r",
      "Feature combinations: 89it [1:05:28, 46.64s/it]"
     ]
    },
    {
     "name": "stdout",
     "output_type": "stream",
     "text": [
      "Using features: ['Prec(mm)', 'Vapor_pressure(hPa)', 'Local Atmospheric Pressure(hPa)', 'Temp(C)', 'Solar_Radiation(MJ/m2)', 'Wind_speed(m/s)']\n",
      "[iter 0] loss=16.4519 val_loss=0.0000 scale=1.0000 norm=2963398.9849\n",
      "[iter 100] loss=15.5641 val_loss=0.0000 scale=2.0000 norm=1749444.3210\n",
      "[iter 200] loss=15.0739 val_loss=0.0000 scale=2.0000 norm=1250922.7773\n",
      "[iter 300] loss=14.8427 val_loss=0.0000 scale=2.0000 norm=1192989.7904\n",
      "[iter 400] loss=14.7480 val_loss=0.0000 scale=2.0000 norm=1176869.8461\n"
     ]
    },
    {
     "name": "stderr",
     "output_type": "stream",
     "text": [
      "\r",
      "Feature combinations: 90it [1:06:17, 47.49s/it]"
     ]
    },
    {
     "name": "stdout",
     "output_type": "stream",
     "text": [
      "Using features: ['Prec(mm)', 'Vapor_pressure(hPa)', 'sunshine(hr)', 'Temp(C)', 'Solar_Radiation(MJ/m2)', 'Wind_speed(m/s)']\n",
      "[iter 0] loss=16.4519 val_loss=0.0000 scale=1.0000 norm=2963398.9849\n",
      "[iter 100] loss=15.5489 val_loss=0.0000 scale=2.0000 norm=1734252.9016\n",
      "[iter 200] loss=15.0694 val_loss=0.0000 scale=2.0000 norm=1274623.4740\n",
      "[iter 300] loss=14.8411 val_loss=0.0000 scale=2.0000 norm=1220018.5284\n",
      "[iter 400] loss=14.7426 val_loss=0.0000 scale=1.0000 norm=601891.3493\n"
     ]
    },
    {
     "name": "stderr",
     "output_type": "stream",
     "text": [
      "\r",
      "Feature combinations: 91it [1:07:01, 46.56s/it]"
     ]
    },
    {
     "name": "stdout",
     "output_type": "stream",
     "text": [
      "Using features: ['Prec(mm)', 'Vapor_pressure(hPa)', 'Snowfall(cm)', 'Temp(C)', 'Solar_Radiation(MJ/m2)', 'Wind_speed(m/s)']\n",
      "[iter 0] loss=16.4519 val_loss=0.0000 scale=1.0000 norm=2963398.9849\n",
      "[iter 100] loss=15.5487 val_loss=0.0000 scale=2.0000 norm=1740669.6652\n",
      "[iter 200] loss=15.0728 val_loss=0.0000 scale=2.0000 norm=1274422.9316\n",
      "[iter 300] loss=14.8472 val_loss=0.0000 scale=2.0000 norm=1217855.1578\n",
      "[iter 400] loss=14.7553 val_loss=0.0000 scale=1.0000 norm=601657.5361\n"
     ]
    },
    {
     "name": "stderr",
     "output_type": "stream",
     "text": [
      "\r",
      "Feature combinations: 92it [1:07:45, 45.75s/it]"
     ]
    },
    {
     "name": "stdout",
     "output_type": "stream",
     "text": [
      "Using features: ['Prec(mm)', 'Vapor_pressure(hPa)', 'Cloud_Cover(1/10)', 'Temp(C)', 'Solar_Radiation(MJ/m2)', 'Wind_speed(m/s)']\n",
      "[iter 0] loss=16.4519 val_loss=0.0000 scale=1.0000 norm=2963398.9849\n",
      "[iter 100] loss=15.5473 val_loss=0.0000 scale=2.0000 norm=1728216.1639\n",
      "[iter 200] loss=15.0679 val_loss=0.0000 scale=2.0000 norm=1263065.9199\n",
      "[iter 300] loss=14.8365 val_loss=0.0000 scale=2.0000 norm=1207290.3464\n",
      "[iter 400] loss=14.7471 val_loss=0.0000 scale=1.0000 norm=596759.0654\n"
     ]
    },
    {
     "name": "stderr",
     "output_type": "stream",
     "text": [
      "\r",
      "Feature combinations: 93it [1:08:31, 45.78s/it]"
     ]
    },
    {
     "name": "stdout",
     "output_type": "stream",
     "text": [
      "Using features: ['Prec(mm)', 'Vapor_pressure(hPa)', 'Visibility(10m)', 'Temp(C)', 'Solar_Radiation(MJ/m2)', 'Wind_speed(m/s)']\n",
      "[iter 0] loss=16.4519 val_loss=0.0000 scale=1.0000 norm=2963398.9849\n",
      "[iter 100] loss=15.5497 val_loss=0.0000 scale=2.0000 norm=1737140.2933\n",
      "[iter 200] loss=15.0779 val_loss=0.0000 scale=2.0000 norm=1281745.5718\n",
      "[iter 300] loss=14.8536 val_loss=0.0000 scale=2.0000 norm=1227377.4708\n",
      "[iter 400] loss=14.7621 val_loss=0.0000 scale=1.0000 norm=605348.7778\n"
     ]
    },
    {
     "name": "stderr",
     "output_type": "stream",
     "text": [
      "\r",
      "Feature combinations: 94it [1:09:21, 47.01s/it]"
     ]
    },
    {
     "name": "stdout",
     "output_type": "stream",
     "text": [
      "Using features: ['Prec(mm)', 'Vapor_pressure(hPa)', 'year', 'Temp(C)', 'Solar_Radiation(MJ/m2)', 'Wind_speed(m/s)']\n",
      "[iter 0] loss=16.4519 val_loss=0.0000 scale=1.0000 norm=2963398.9849\n",
      "[iter 100] loss=15.5446 val_loss=0.0000 scale=2.0000 norm=1724230.0660\n",
      "[iter 200] loss=15.0450 val_loss=0.0000 scale=2.0000 norm=1216867.9451\n",
      "[iter 300] loss=14.8160 val_loss=0.0000 scale=2.0000 norm=1141934.9832\n",
      "[iter 400] loss=14.7409 val_loss=0.0000 scale=1.0000 norm=562547.4374\n"
     ]
    },
    {
     "name": "stderr",
     "output_type": "stream",
     "text": [
      "\r",
      "Feature combinations: 95it [1:10:06, 46.35s/it]"
     ]
    },
    {
     "name": "stdout",
     "output_type": "stream",
     "text": [
      "Using features: ['Prec(mm)', 'Vapor_pressure(hPa)', 'month', 'Temp(C)', 'Solar_Radiation(MJ/m2)', 'Wind_speed(m/s)']\n",
      "[iter 0] loss=16.4519 val_loss=0.0000 scale=1.0000 norm=2963398.9849\n",
      "[iter 100] loss=15.5479 val_loss=0.0000 scale=2.0000 norm=1730410.1475\n",
      "[iter 200] loss=15.0601 val_loss=0.0000 scale=2.0000 norm=1241784.8749\n",
      "[iter 300] loss=14.8360 val_loss=0.0000 scale=2.0000 norm=1176277.8266\n",
      "[iter 400] loss=14.7606 val_loss=0.0000 scale=1.0000 norm=581185.9769\n"
     ]
    },
    {
     "name": "stderr",
     "output_type": "stream",
     "text": [
      "\r",
      "Feature combinations: 96it [1:10:51, 45.94s/it]"
     ]
    },
    {
     "name": "stdout",
     "output_type": "stream",
     "text": [
      "Using features: ['Prec(mm)', 'Vapor_pressure(hPa)', 'hour', 'Temp(C)', 'Solar_Radiation(MJ/m2)', 'Wind_speed(m/s)']\n",
      "[iter 0] loss=16.4519 val_loss=0.0000 scale=1.0000 norm=2963398.9849\n",
      "[iter 100] loss=15.5533 val_loss=0.0000 scale=2.0000 norm=1738921.7410\n",
      "[iter 200] loss=15.0460 val_loss=0.0000 scale=2.0000 norm=1212128.6201\n",
      "[iter 300] loss=14.8035 val_loss=0.0000 scale=2.0000 norm=1145417.2491\n",
      "[iter 400] loss=14.7063 val_loss=0.0000 scale=1.0000 norm=564267.9584\n"
     ]
    },
    {
     "name": "stderr",
     "output_type": "stream",
     "text": [
      "\r",
      "Feature combinations: 97it [1:11:37, 46.02s/it]"
     ]
    },
    {
     "name": "stdout",
     "output_type": "stream",
     "text": [
      "Using features: ['Prec(mm)', 'Dew_Point(C)', 'Local Atmospheric Pressure(hPa)', 'Temp(C)', 'Solar_Radiation(MJ/m2)', 'Wind_speed(m/s)']\n",
      "[iter 0] loss=16.4519 val_loss=0.0000 scale=1.0000 norm=2963398.9849\n",
      "[iter 100] loss=15.5641 val_loss=0.0000 scale=2.0000 norm=1749464.5622\n",
      "[iter 200] loss=15.0740 val_loss=0.0000 scale=2.0000 norm=1250851.5091\n",
      "[iter 300] loss=14.8426 val_loss=0.0000 scale=2.0000 norm=1192544.8389\n",
      "[iter 400] loss=14.7502 val_loss=0.0000 scale=2.0000 norm=1177444.2693\n"
     ]
    },
    {
     "name": "stderr",
     "output_type": "stream",
     "text": [
      "\r",
      "Feature combinations: 98it [1:12:27, 47.20s/it]"
     ]
    },
    {
     "name": "stdout",
     "output_type": "stream",
     "text": [
      "Using features: ['Prec(mm)', 'Dew_Point(C)', 'sunshine(hr)', 'Temp(C)', 'Solar_Radiation(MJ/m2)', 'Wind_speed(m/s)']\n",
      "[iter 0] loss=16.4519 val_loss=0.0000 scale=1.0000 norm=2963398.9849\n",
      "[iter 100] loss=15.5488 val_loss=0.0000 scale=2.0000 norm=1733880.0536\n",
      "[iter 200] loss=15.0692 val_loss=0.0000 scale=2.0000 norm=1274266.5231\n",
      "[iter 300] loss=14.8413 val_loss=0.0000 scale=2.0000 norm=1219688.1473\n",
      "[iter 400] loss=14.7440 val_loss=0.0000 scale=2.0000 norm=1203638.8118\n"
     ]
    },
    {
     "name": "stderr",
     "output_type": "stream",
     "text": [
      "\r",
      "Feature combinations: 99it [1:13:13, 46.84s/it]"
     ]
    },
    {
     "name": "stdout",
     "output_type": "stream",
     "text": [
      "Using features: ['Prec(mm)', 'Dew_Point(C)', 'Snowfall(cm)', 'Temp(C)', 'Solar_Radiation(MJ/m2)', 'Wind_speed(m/s)']\n",
      "[iter 0] loss=16.4519 val_loss=0.0000 scale=1.0000 norm=2963398.9849\n",
      "[iter 100] loss=15.5487 val_loss=0.0000 scale=2.0000 norm=1740338.7804\n",
      "[iter 200] loss=15.0727 val_loss=0.0000 scale=2.0000 norm=1274055.9359\n",
      "[iter 300] loss=14.8467 val_loss=0.0000 scale=2.0000 norm=1216186.5500\n",
      "[iter 400] loss=14.7498 val_loss=0.0000 scale=1.0000 norm=601092.5296\n"
     ]
    },
    {
     "name": "stderr",
     "output_type": "stream",
     "text": [
      "\r",
      "Feature combinations: 100it [1:13:57, 45.85s/it]"
     ]
    },
    {
     "name": "stdout",
     "output_type": "stream",
     "text": [
      "Using features: ['Prec(mm)', 'Dew_Point(C)', 'Cloud_Cover(1/10)', 'Temp(C)', 'Solar_Radiation(MJ/m2)', 'Wind_speed(m/s)']\n",
      "[iter 0] loss=16.4519 val_loss=0.0000 scale=1.0000 norm=2963398.9849\n",
      "[iter 100] loss=15.5473 val_loss=0.0000 scale=2.0000 norm=1727993.2327\n",
      "[iter 200] loss=15.0679 val_loss=0.0000 scale=2.0000 norm=1263337.9299\n",
      "[iter 300] loss=14.8367 val_loss=0.0000 scale=2.0000 norm=1207383.2125\n",
      "[iter 400] loss=14.7507 val_loss=0.0000 scale=1.0000 norm=597196.9838\n"
     ]
    },
    {
     "name": "stderr",
     "output_type": "stream",
     "text": [
      "\r",
      "Feature combinations: 101it [1:14:43, 45.90s/it]"
     ]
    },
    {
     "name": "stdout",
     "output_type": "stream",
     "text": [
      "Using features: ['Prec(mm)', 'Dew_Point(C)', 'Visibility(10m)', 'Temp(C)', 'Solar_Radiation(MJ/m2)', 'Wind_speed(m/s)']\n",
      "[iter 0] loss=16.4519 val_loss=0.0000 scale=1.0000 norm=2963398.9849\n",
      "[iter 100] loss=15.5497 val_loss=0.0000 scale=2.0000 norm=1737325.1701\n",
      "[iter 200] loss=15.0780 val_loss=0.0000 scale=2.0000 norm=1282081.4841\n",
      "[iter 300] loss=14.8535 val_loss=0.0000 scale=2.0000 norm=1226801.2516\n",
      "[iter 400] loss=14.7632 val_loss=0.0000 scale=1.0000 norm=605378.6353\n"
     ]
    },
    {
     "name": "stderr",
     "output_type": "stream",
     "text": [
      "\r",
      "Feature combinations: 102it [1:15:33, 47.23s/it]"
     ]
    },
    {
     "name": "stdout",
     "output_type": "stream",
     "text": [
      "Using features: ['Prec(mm)', 'Dew_Point(C)', 'year', 'Temp(C)', 'Solar_Radiation(MJ/m2)', 'Wind_speed(m/s)']\n",
      "[iter 0] loss=16.4519 val_loss=0.0000 scale=1.0000 norm=2963398.9849\n",
      "[iter 100] loss=15.5549 val_loss=0.0000 scale=2.0000 norm=1744355.9362\n",
      "[iter 200] loss=15.0503 val_loss=0.0000 scale=2.0000 norm=1219461.4126\n",
      "[iter 300] loss=14.8183 val_loss=0.0000 scale=1.0000 norm=571098.1746\n",
      "[iter 400] loss=14.7328 val_loss=0.0000 scale=1.0000 norm=560447.9308\n"
     ]
    },
    {
     "name": "stderr",
     "output_type": "stream",
     "text": [
      "\r",
      "Feature combinations: 103it [1:16:19, 46.91s/it]"
     ]
    },
    {
     "name": "stdout",
     "output_type": "stream",
     "text": [
      "Using features: ['Prec(mm)', 'Dew_Point(C)', 'month', 'Temp(C)', 'Solar_Radiation(MJ/m2)', 'Wind_speed(m/s)']\n",
      "[iter 0] loss=16.4519 val_loss=0.0000 scale=1.0000 norm=2963398.9849\n",
      "[iter 100] loss=15.5579 val_loss=0.0000 scale=2.0000 norm=1749490.2476\n",
      "[iter 200] loss=15.0653 val_loss=0.0000 scale=2.0000 norm=1245149.4719\n",
      "[iter 300] loss=14.8389 val_loss=0.0000 scale=2.0000 norm=1176826.2252\n",
      "[iter 400] loss=14.7617 val_loss=0.0000 scale=1.0000 norm=581061.4846\n"
     ]
    },
    {
     "name": "stderr",
     "output_type": "stream",
     "text": [
      "\r",
      "Feature combinations: 104it [1:17:05, 46.49s/it]"
     ]
    },
    {
     "name": "stdout",
     "output_type": "stream",
     "text": [
      "Using features: ['Prec(mm)', 'Dew_Point(C)', 'hour', 'Temp(C)', 'Solar_Radiation(MJ/m2)', 'Wind_speed(m/s)']\n",
      "[iter 0] loss=16.4519 val_loss=0.0000 scale=1.0000 norm=2963398.9849\n",
      "[iter 100] loss=15.5600 val_loss=0.0000 scale=2.0000 norm=1751916.0383\n",
      "[iter 200] loss=15.0493 val_loss=0.0000 scale=2.0000 norm=1212713.0532\n",
      "[iter 300] loss=14.8006 val_loss=0.0000 scale=2.0000 norm=1143973.0299\n",
      "[iter 400] loss=14.7031 val_loss=0.0000 scale=1.0000 norm=563325.6812\n"
     ]
    },
    {
     "name": "stderr",
     "output_type": "stream",
     "text": [
      "\r",
      "Feature combinations: 105it [1:17:51, 46.45s/it]"
     ]
    },
    {
     "name": "stdout",
     "output_type": "stream",
     "text": [
      "Using features: ['Prec(mm)', 'Local Atmospheric Pressure(hPa)', 'sunshine(hr)', 'Temp(C)', 'Solar_Radiation(MJ/m2)', 'Wind_speed(m/s)']\n",
      "[iter 0] loss=16.4519 val_loss=0.0000 scale=1.0000 norm=2963398.9849\n",
      "[iter 100] loss=15.5674 val_loss=0.0000 scale=2.0000 norm=1757471.0128\n",
      "[iter 200] loss=15.0658 val_loss=0.0000 scale=2.0000 norm=1247963.9558\n",
      "[iter 300] loss=14.8290 val_loss=0.0000 scale=2.0000 norm=1185304.9435\n",
      "[iter 400] loss=14.7307 val_loss=0.0000 scale=2.0000 norm=1167009.6641\n"
     ]
    },
    {
     "name": "stderr",
     "output_type": "stream",
     "text": [
      "\r",
      "Feature combinations: 106it [1:18:39, 46.98s/it]"
     ]
    },
    {
     "name": "stdout",
     "output_type": "stream",
     "text": [
      "Using features: ['Prec(mm)', 'Local Atmospheric Pressure(hPa)', 'Snowfall(cm)', 'Temp(C)', 'Solar_Radiation(MJ/m2)', 'Wind_speed(m/s)']\n",
      "[iter 0] loss=16.4519 val_loss=0.0000 scale=1.0000 norm=2963398.9849\n",
      "[iter 100] loss=15.5668 val_loss=0.0000 scale=2.0000 norm=1762653.6024\n",
      "[iter 200] loss=15.0704 val_loss=0.0000 scale=2.0000 norm=1245178.6531\n",
      "[iter 300] loss=14.8359 val_loss=0.0000 scale=2.0000 norm=1177714.1231\n",
      "[iter 400] loss=14.7371 val_loss=0.0000 scale=2.0000 norm=1159938.7587\n"
     ]
    },
    {
     "name": "stderr",
     "output_type": "stream",
     "text": [
      "\r",
      "Feature combinations: 107it [1:19:28, 47.59s/it]"
     ]
    },
    {
     "name": "stdout",
     "output_type": "stream",
     "text": [
      "Using features: ['Prec(mm)', 'Local Atmospheric Pressure(hPa)', 'Cloud_Cover(1/10)', 'Temp(C)', 'Solar_Radiation(MJ/m2)', 'Wind_speed(m/s)']\n",
      "[iter 0] loss=16.4519 val_loss=0.0000 scale=1.0000 norm=2963398.9849\n",
      "[iter 100] loss=15.5695 val_loss=0.0000 scale=2.0000 norm=1759051.2926\n",
      "[iter 200] loss=15.0679 val_loss=0.0000 scale=2.0000 norm=1237569.8254\n",
      "[iter 300] loss=14.8269 val_loss=0.0000 scale=2.0000 norm=1172271.4681\n",
      "[iter 400] loss=14.7366 val_loss=0.0000 scale=1.0000 norm=578051.1926\n"
     ]
    },
    {
     "name": "stderr",
     "output_type": "stream",
     "text": [
      "\r",
      "Feature combinations: 108it [1:20:17, 47.90s/it]"
     ]
    },
    {
     "name": "stdout",
     "output_type": "stream",
     "text": [
      "Using features: ['Prec(mm)', 'Local Atmospheric Pressure(hPa)', 'Visibility(10m)', 'Temp(C)', 'Solar_Radiation(MJ/m2)', 'Wind_speed(m/s)']\n",
      "[iter 0] loss=16.4519 val_loss=0.0000 scale=1.0000 norm=2963398.9849\n",
      "[iter 100] loss=15.5678 val_loss=0.0000 scale=2.0000 norm=1759682.4406\n",
      "[iter 200] loss=15.0763 val_loss=0.0000 scale=2.0000 norm=1252918.8373\n",
      "[iter 300] loss=14.8455 val_loss=0.0000 scale=2.0000 norm=1190487.9138\n",
      "[iter 400] loss=14.7561 val_loss=0.0000 scale=1.0000 norm=586445.8537\n"
     ]
    },
    {
     "name": "stderr",
     "output_type": "stream",
     "text": [
      "\r",
      "Feature combinations: 109it [1:21:07, 48.57s/it]"
     ]
    },
    {
     "name": "stdout",
     "output_type": "stream",
     "text": [
      "Using features: ['Prec(mm)', 'Local Atmospheric Pressure(hPa)', 'year', 'Temp(C)', 'Solar_Radiation(MJ/m2)', 'Wind_speed(m/s)']\n",
      "[iter 0] loss=16.4519 val_loss=0.0000 scale=1.0000 norm=2963398.9849\n",
      "[iter 100] loss=15.5713 val_loss=0.0000 scale=2.0000 norm=1764407.0244\n",
      "[iter 200] loss=15.0510 val_loss=0.0000 scale=2.0000 norm=1189048.3812\n",
      "[iter 300] loss=14.8019 val_loss=0.0000 scale=2.0000 norm=1097357.7412\n",
      "[iter 400] loss=14.7194 val_loss=0.0000 scale=1.0000 norm=536811.5418\n"
     ]
    },
    {
     "name": "stderr",
     "output_type": "stream",
     "text": [
      "\r",
      "Feature combinations: 110it [1:21:52, 47.50s/it]"
     ]
    },
    {
     "name": "stdout",
     "output_type": "stream",
     "text": [
      "Using features: ['Prec(mm)', 'Local Atmospheric Pressure(hPa)', 'month', 'Temp(C)', 'Solar_Radiation(MJ/m2)', 'Wind_speed(m/s)']\n",
      "[iter 0] loss=16.4519 val_loss=0.0000 scale=1.0000 norm=2963398.9849\n",
      "[iter 100] loss=15.5641 val_loss=0.0000 scale=2.0000 norm=1751010.2100\n",
      "[iter 200] loss=15.0694 val_loss=0.0000 scale=2.0000 norm=1240429.7126\n",
      "[iter 300] loss=14.8374 val_loss=0.0000 scale=2.0000 norm=1171147.7663\n",
      "[iter 400] loss=14.7497 val_loss=0.0000 scale=1.0000 norm=576795.4363\n"
     ]
    },
    {
     "name": "stderr",
     "output_type": "stream",
     "text": [
      "\r",
      "Feature combinations: 111it [1:22:38, 47.07s/it]"
     ]
    },
    {
     "name": "stdout",
     "output_type": "stream",
     "text": [
      "Using features: ['Prec(mm)', 'Local Atmospheric Pressure(hPa)', 'hour', 'Temp(C)', 'Solar_Radiation(MJ/m2)', 'Wind_speed(m/s)']\n",
      "[iter 0] loss=16.4519 val_loss=0.0000 scale=1.0000 norm=2963398.9849\n",
      "[iter 100] loss=15.5672 val_loss=0.0000 scale=2.0000 norm=1758157.6045\n",
      "[iter 200] loss=15.0497 val_loss=0.0000 scale=2.0000 norm=1200983.7327\n",
      "[iter 300] loss=14.7975 val_loss=0.0000 scale=2.0000 norm=1127906.5709\n",
      "[iter 400] loss=14.6973 val_loss=0.0000 scale=2.0000 norm=1107754.6521\n"
     ]
    },
    {
     "name": "stderr",
     "output_type": "stream",
     "text": [
      "\r",
      "Feature combinations: 112it [1:23:27, 47.70s/it]"
     ]
    },
    {
     "name": "stdout",
     "output_type": "stream",
     "text": [
      "Using features: ['Prec(mm)', 'sunshine(hr)', 'Snowfall(cm)', 'Temp(C)', 'Solar_Radiation(MJ/m2)', 'Wind_speed(m/s)']\n",
      "[iter 0] loss=16.4519 val_loss=0.0000 scale=1.0000 norm=2963398.9849\n",
      "[iter 100] loss=15.5560 val_loss=0.0000 scale=2.0000 norm=1757606.8022\n",
      "[iter 200] loss=15.0679 val_loss=0.0000 scale=2.0000 norm=1272825.6806\n",
      "[iter 300] loss=14.8353 val_loss=0.0000 scale=2.0000 norm=1206967.9964\n",
      "[iter 400] loss=14.7385 val_loss=0.0000 scale=1.0000 norm=595195.3562\n"
     ]
    },
    {
     "name": "stderr",
     "output_type": "stream",
     "text": [
      "\r",
      "Feature combinations: 113it [1:24:10, 46.37s/it]"
     ]
    },
    {
     "name": "stdout",
     "output_type": "stream",
     "text": [
      "Using features: ['Prec(mm)', 'sunshine(hr)', 'Cloud_Cover(1/10)', 'Temp(C)', 'Solar_Radiation(MJ/m2)', 'Wind_speed(m/s)']\n",
      "[iter 0] loss=16.4519 val_loss=0.0000 scale=1.0000 norm=2963398.9849\n",
      "[iter 100] loss=15.5585 val_loss=0.0000 scale=2.0000 norm=1754392.2117\n",
      "[iter 200] loss=15.0712 val_loss=0.0000 scale=2.0000 norm=1269474.3324\n",
      "[iter 300] loss=14.8367 val_loss=0.0000 scale=2.0000 norm=1209199.2689\n",
      "[iter 400] loss=14.7402 val_loss=0.0000 scale=2.0000 norm=1192863.4057\n"
     ]
    },
    {
     "name": "stderr",
     "output_type": "stream",
     "text": [
      "\r",
      "Feature combinations: 114it [1:24:52, 45.05s/it]"
     ]
    },
    {
     "name": "stdout",
     "output_type": "stream",
     "text": [
      "Using features: ['Prec(mm)', 'sunshine(hr)', 'Visibility(10m)', 'Temp(C)', 'Solar_Radiation(MJ/m2)', 'Wind_speed(m/s)']\n",
      "[iter 0] loss=16.4519 val_loss=0.0000 scale=1.0000 norm=2963398.9849\n",
      "[iter 100] loss=15.5570 val_loss=0.0000 scale=2.0000 norm=1754549.6753\n",
      "[iter 200] loss=15.0735 val_loss=0.0000 scale=2.0000 norm=1279058.3357\n",
      "[iter 300] loss=14.8438 val_loss=0.0000 scale=2.0000 norm=1219177.8914\n",
      "[iter 400] loss=14.7551 val_loss=0.0000 scale=1.0000 norm=601140.0832\n"
     ]
    },
    {
     "name": "stderr",
     "output_type": "stream",
     "text": [
      "\r",
      "Feature combinations: 115it [1:25:38, 45.28s/it]"
     ]
    },
    {
     "name": "stdout",
     "output_type": "stream",
     "text": [
      "Using features: ['Prec(mm)', 'sunshine(hr)', 'year', 'Temp(C)', 'Solar_Radiation(MJ/m2)', 'Wind_speed(m/s)']\n",
      "[iter 0] loss=16.4519 val_loss=0.0000 scale=1.0000 norm=2963398.9849\n",
      "[iter 100] loss=15.5531 val_loss=0.0000 scale=2.0000 norm=1744754.6707\n",
      "[iter 200] loss=15.0447 val_loss=0.0000 scale=2.0000 norm=1224943.5480\n",
      "[iter 300] loss=14.7999 val_loss=0.0000 scale=2.0000 norm=1139956.2326\n",
      "[iter 400] loss=14.7138 val_loss=0.0000 scale=2.0000 norm=1113875.0960\n"
     ]
    },
    {
     "name": "stderr",
     "output_type": "stream",
     "text": [
      "\r",
      "Feature combinations: 116it [1:26:20, 44.22s/it]"
     ]
    },
    {
     "name": "stdout",
     "output_type": "stream",
     "text": [
      "Using features: ['Prec(mm)', 'sunshine(hr)', 'month', 'Temp(C)', 'Solar_Radiation(MJ/m2)', 'Wind_speed(m/s)']\n",
      "[iter 0] loss=16.4519 val_loss=0.0000 scale=1.0000 norm=2963398.9849\n",
      "[iter 100] loss=15.5583 val_loss=0.0000 scale=2.0000 norm=1752646.6833\n",
      "[iter 200] loss=15.0546 val_loss=0.0000 scale=2.0000 norm=1239274.8114\n",
      "[iter 300] loss=14.8187 val_loss=0.0000 scale=2.0000 norm=1165276.9815\n",
      "[iter 400] loss=14.7345 val_loss=0.0000 scale=1.0000 norm=573434.2668\n"
     ]
    },
    {
     "name": "stderr",
     "output_type": "stream",
     "text": [
      "\r",
      "Feature combinations: 117it [1:27:01, 43.17s/it]"
     ]
    },
    {
     "name": "stdout",
     "output_type": "stream",
     "text": [
      "Using features: ['Prec(mm)', 'sunshine(hr)', 'hour', 'Temp(C)', 'Solar_Radiation(MJ/m2)', 'Wind_speed(m/s)']\n",
      "[iter 0] loss=16.4519 val_loss=0.0000 scale=1.0000 norm=2963398.9849\n",
      "[iter 100] loss=15.5630 val_loss=0.0000 scale=2.0000 norm=1755809.8486\n",
      "[iter 200] loss=15.0260 val_loss=0.0000 scale=2.0000 norm=1164528.4451\n",
      "[iter 300] loss=14.7549 val_loss=0.0000 scale=2.0000 norm=1079265.9739\n",
      "[iter 400] loss=14.6524 val_loss=0.0000 scale=1.0000 norm=529234.6708\n"
     ]
    },
    {
     "name": "stderr",
     "output_type": "stream",
     "text": [
      "\r",
      "Feature combinations: 118it [1:27:42, 42.77s/it]"
     ]
    },
    {
     "name": "stdout",
     "output_type": "stream",
     "text": [
      "Using features: ['Prec(mm)', 'Snowfall(cm)', 'Cloud_Cover(1/10)', 'Temp(C)', 'Solar_Radiation(MJ/m2)', 'Wind_speed(m/s)']\n",
      "[iter 0] loss=16.4519 val_loss=0.0000 scale=1.0000 norm=2963398.9849\n",
      "[iter 100] loss=15.5577 val_loss=0.0000 scale=2.0000 norm=1758373.4873\n",
      "[iter 200] loss=15.0694 val_loss=0.0000 scale=2.0000 norm=1265740.1967\n",
      "[iter 300] loss=14.8346 val_loss=0.0000 scale=2.0000 norm=1197435.2196\n",
      "[iter 400] loss=14.7382 val_loss=0.0000 scale=1.0000 norm=590195.2583\n"
     ]
    },
    {
     "name": "stderr",
     "output_type": "stream",
     "text": [
      "\r",
      "Feature combinations: 119it [1:28:23, 42.04s/it]"
     ]
    },
    {
     "name": "stdout",
     "output_type": "stream",
     "text": [
      "Using features: ['Prec(mm)', 'Snowfall(cm)', 'Visibility(10m)', 'Temp(C)', 'Solar_Radiation(MJ/m2)', 'Wind_speed(m/s)']\n",
      "[iter 0] loss=16.4519 val_loss=0.0000 scale=1.0000 norm=2963398.9849\n",
      "[iter 100] loss=15.5570 val_loss=0.0000 scale=2.0000 norm=1762364.4164\n",
      "[iter 200] loss=15.0788 val_loss=0.0000 scale=2.0000 norm=1285466.4475\n",
      "[iter 300] loss=14.8541 val_loss=0.0000 scale=2.0000 norm=1219019.9977\n",
      "[iter 400] loss=14.7647 val_loss=0.0000 scale=2.0000 norm=1202016.1253\n"
     ]
    },
    {
     "name": "stderr",
     "output_type": "stream",
     "text": [
      "\r",
      "Feature combinations: 120it [1:29:11, 43.81s/it]"
     ]
    },
    {
     "name": "stdout",
     "output_type": "stream",
     "text": [
      "Using features: ['Prec(mm)', 'Snowfall(cm)', 'year', 'Temp(C)', 'Solar_Radiation(MJ/m2)', 'Wind_speed(m/s)']\n",
      "[iter 0] loss=16.4519 val_loss=0.0000 scale=1.0000 norm=2963398.9849\n",
      "[iter 100] loss=15.5525 val_loss=0.0000 scale=2.0000 norm=1747896.3870\n",
      "[iter 200] loss=15.0502 val_loss=0.0000 scale=2.0000 norm=1227117.4101\n",
      "[iter 300] loss=14.8098 val_loss=0.0000 scale=2.0000 norm=1134920.3196\n",
      "[iter 400] loss=14.7268 val_loss=0.0000 scale=1.0000 norm=555227.8459\n"
     ]
    },
    {
     "name": "stderr",
     "output_type": "stream",
     "text": [
      "\r",
      "Feature combinations: 121it [1:29:50, 42.47s/it]"
     ]
    },
    {
     "name": "stdout",
     "output_type": "stream",
     "text": [
      "Using features: ['Prec(mm)', 'Snowfall(cm)', 'month', 'Temp(C)', 'Solar_Radiation(MJ/m2)', 'Wind_speed(m/s)']\n",
      "[iter 0] loss=16.4519 val_loss=0.0000 scale=1.0000 norm=2963398.9849\n",
      "[iter 100] loss=15.5582 val_loss=0.0000 scale=2.0000 norm=1760043.1792\n",
      "[iter 200] loss=15.0623 val_loss=0.0000 scale=2.0000 norm=1243886.3745\n",
      "[iter 300] loss=14.8445 val_loss=0.0000 scale=2.0000 norm=1169058.1147\n",
      "[iter 400] loss=14.7701 val_loss=0.0000 scale=1.0000 norm=575993.0023\n"
     ]
    },
    {
     "name": "stderr",
     "output_type": "stream",
     "text": [
      "\r",
      "Feature combinations: 122it [1:30:31, 41.92s/it]"
     ]
    },
    {
     "name": "stdout",
     "output_type": "stream",
     "text": [
      "Using features: ['Prec(mm)', 'Snowfall(cm)', 'hour', 'Temp(C)', 'Solar_Radiation(MJ/m2)', 'Wind_speed(m/s)']\n",
      "[iter 0] loss=16.4519 val_loss=0.0000 scale=1.0000 norm=2963398.9849\n",
      "[iter 100] loss=15.5607 val_loss=0.0000 scale=2.0000 norm=1763305.6378\n",
      "[iter 200] loss=15.0485 val_loss=0.0000 scale=2.0000 norm=1217816.0327\n",
      "[iter 300] loss=14.7975 val_loss=0.0000 scale=2.0000 norm=1136953.9925\n",
      "[iter 400] loss=14.6993 val_loss=0.0000 scale=2.0000 norm=1115093.9256\n"
     ]
    },
    {
     "name": "stderr",
     "output_type": "stream",
     "text": [
      "\r",
      "Feature combinations: 123it [1:31:12, 41.68s/it]"
     ]
    },
    {
     "name": "stdout",
     "output_type": "stream",
     "text": [
      "Using features: ['Prec(mm)', 'Cloud_Cover(1/10)', 'Visibility(10m)', 'Temp(C)', 'Solar_Radiation(MJ/m2)', 'Wind_speed(m/s)']\n",
      "[iter 0] loss=16.4519 val_loss=0.0000 scale=1.0000 norm=2963398.9849\n",
      "[iter 100] loss=15.5586 val_loss=0.0000 scale=2.0000 norm=1754897.3148\n",
      "[iter 200] loss=15.0744 val_loss=0.0000 scale=2.0000 norm=1270827.5597\n",
      "[iter 300] loss=14.8432 val_loss=0.0000 scale=2.0000 norm=1208516.8137\n",
      "[iter 400] loss=14.7564 val_loss=0.0000 scale=2.0000 norm=1191953.5621\n"
     ]
    },
    {
     "name": "stderr",
     "output_type": "stream",
     "text": [
      "\r",
      "Feature combinations: 124it [1:31:58, 43.01s/it]"
     ]
    },
    {
     "name": "stdout",
     "output_type": "stream",
     "text": [
      "Using features: ['Prec(mm)', 'Cloud_Cover(1/10)', 'year', 'Temp(C)', 'Solar_Radiation(MJ/m2)', 'Wind_speed(m/s)']\n",
      "[iter 0] loss=16.4519 val_loss=0.0000 scale=1.0000 norm=2963398.9849\n",
      "[iter 100] loss=15.5587 val_loss=0.0000 scale=2.0000 norm=1754358.5926\n",
      "[iter 200] loss=15.0508 val_loss=0.0000 scale=2.0000 norm=1225469.0894\n",
      "[iter 300] loss=14.8088 val_loss=0.0000 scale=1.0000 norm=571026.3093\n",
      "[iter 400] loss=14.7320 val_loss=0.0000 scale=1.0000 norm=560765.8141\n"
     ]
    },
    {
     "name": "stderr",
     "output_type": "stream",
     "text": [
      "\r",
      "Feature combinations: 125it [1:32:40, 42.66s/it]"
     ]
    },
    {
     "name": "stdout",
     "output_type": "stream",
     "text": [
      "Using features: ['Prec(mm)', 'Cloud_Cover(1/10)', 'month', 'Temp(C)', 'Solar_Radiation(MJ/m2)', 'Wind_speed(m/s)']\n",
      "[iter 0] loss=16.4519 val_loss=0.0000 scale=1.0000 norm=2963398.9849\n",
      "[iter 100] loss=15.5569 val_loss=0.0000 scale=2.0000 norm=1747854.8031\n",
      "[iter 200] loss=15.0563 val_loss=0.0000 scale=2.0000 norm=1231331.6836\n",
      "[iter 300] loss=14.8204 val_loss=0.0000 scale=2.0000 norm=1156958.9559\n",
      "[iter 400] loss=14.7478 val_loss=0.0000 scale=1.0000 norm=571272.3331\n"
     ]
    },
    {
     "name": "stderr",
     "output_type": "stream",
     "text": [
      "\r",
      "Feature combinations: 126it [1:33:21, 42.36s/it]"
     ]
    },
    {
     "name": "stdout",
     "output_type": "stream",
     "text": [
      "Using features: ['Prec(mm)', 'Cloud_Cover(1/10)', 'hour', 'Temp(C)', 'Solar_Radiation(MJ/m2)', 'Wind_speed(m/s)']\n",
      "[iter 0] loss=16.4519 val_loss=0.0000 scale=1.0000 norm=2963398.9849\n",
      "[iter 100] loss=15.5474 val_loss=0.0000 scale=2.0000 norm=1721855.2037\n",
      "[iter 200] loss=15.0204 val_loss=0.0000 scale=2.0000 norm=1156327.2784\n",
      "[iter 300] loss=14.7518 val_loss=0.0000 scale=2.0000 norm=1067744.1075\n",
      "[iter 400] loss=14.6568 val_loss=0.0000 scale=2.0000 norm=1045488.6110\n"
     ]
    },
    {
     "name": "stderr",
     "output_type": "stream",
     "text": [
      "\r",
      "Feature combinations: 127it [1:34:03, 42.04s/it]"
     ]
    },
    {
     "name": "stdout",
     "output_type": "stream",
     "text": [
      "Using features: ['Prec(mm)', 'Visibility(10m)', 'year', 'Temp(C)', 'Solar_Radiation(MJ/m2)', 'Wind_speed(m/s)']\n",
      "[iter 0] loss=16.4519 val_loss=0.0000 scale=1.0000 norm=2963398.9849\n",
      "[iter 100] loss=15.5535 val_loss=0.0000 scale=2.0000 norm=1747207.3956\n",
      "[iter 200] loss=15.0552 val_loss=0.0000 scale=2.0000 norm=1232354.9593\n",
      "[iter 300] loss=14.8170 val_loss=0.0000 scale=2.0000 norm=1145929.7622\n",
      "[iter 400] loss=14.7430 val_loss=0.0000 scale=1.0000 norm=563686.7298\n"
     ]
    },
    {
     "name": "stderr",
     "output_type": "stream",
     "text": [
      "\r",
      "Feature combinations: 128it [1:34:48, 43.09s/it]"
     ]
    },
    {
     "name": "stdout",
     "output_type": "stream",
     "text": [
      "Using features: ['Prec(mm)', 'Visibility(10m)', 'month', 'Temp(C)', 'Solar_Radiation(MJ/m2)', 'Wind_speed(m/s)']\n",
      "[iter 0] loss=16.4519 val_loss=0.0000 scale=1.0000 norm=2963398.9849\n",
      "[iter 100] loss=15.5590 val_loss=0.0000 scale=2.0000 norm=1756934.2844\n",
      "[iter 200] loss=15.0660 val_loss=0.0000 scale=2.0000 norm=1246582.6708\n",
      "[iter 300] loss=14.8384 val_loss=0.0000 scale=2.0000 norm=1172112.7727\n",
      "[iter 400] loss=14.7657 val_loss=0.0000 scale=1.0000 norm=576860.2846\n"
     ]
    },
    {
     "name": "stderr",
     "output_type": "stream",
     "text": [
      "\r",
      "Feature combinations: 129it [1:35:36, 44.33s/it]"
     ]
    },
    {
     "name": "stdout",
     "output_type": "stream",
     "text": [
      "Using features: ['Prec(mm)', 'Visibility(10m)', 'hour', 'Temp(C)', 'Solar_Radiation(MJ/m2)', 'Wind_speed(m/s)']\n",
      "[iter 0] loss=16.4519 val_loss=0.0000 scale=1.0000 norm=2963398.9849\n",
      "[iter 100] loss=15.5615 val_loss=0.0000 scale=2.0000 norm=1760582.2182\n",
      "[iter 200] loss=15.0522 val_loss=0.0000 scale=2.0000 norm=1221450.9892\n",
      "[iter 300] loss=14.8023 val_loss=0.0000 scale=2.0000 norm=1145123.1530\n",
      "[iter 400] loss=14.7074 val_loss=0.0000 scale=1.0000 norm=561644.6208\n"
     ]
    },
    {
     "name": "stderr",
     "output_type": "stream",
     "text": [
      "\r",
      "Feature combinations: 130it [1:36:25, 45.95s/it]"
     ]
    },
    {
     "name": "stdout",
     "output_type": "stream",
     "text": [
      "Using features: ['Prec(mm)', 'year', 'month', 'Temp(C)', 'Solar_Radiation(MJ/m2)', 'Wind_speed(m/s)']\n",
      "[iter 0] loss=16.4519 val_loss=0.0000 scale=1.0000 norm=2963398.9849\n",
      "[iter 100] loss=15.5557 val_loss=0.0000 scale=2.0000 norm=1747966.1012\n",
      "[iter 200] loss=15.0396 val_loss=0.0000 scale=2.0000 norm=1187806.3359\n",
      "[iter 300] loss=14.8009 val_loss=0.0000 scale=1.0000 norm=539512.4811\n",
      "[iter 400] loss=14.7361 val_loss=0.0000 scale=1.0000 norm=526938.1638\n"
     ]
    },
    {
     "name": "stderr",
     "output_type": "stream",
     "text": [
      "\r",
      "Feature combinations: 131it [1:37:08, 45.04s/it]"
     ]
    },
    {
     "name": "stdout",
     "output_type": "stream",
     "text": [
      "Using features: ['Prec(mm)', 'year', 'hour', 'Temp(C)', 'Solar_Radiation(MJ/m2)', 'Wind_speed(m/s)']\n",
      "[iter 0] loss=16.4519 val_loss=0.0000 scale=1.0000 norm=2963398.9849\n",
      "[iter 100] loss=15.5629 val_loss=0.0000 scale=2.0000 norm=1763962.6496\n",
      "[iter 200] loss=15.0337 val_loss=0.0000 scale=2.0000 norm=1179202.1787\n",
      "[iter 300] loss=14.7732 val_loss=0.0000 scale=2.0000 norm=1082647.2250\n",
      "[iter 400] loss=14.6850 val_loss=0.0000 scale=1.0000 norm=528669.6809\n"
     ]
    },
    {
     "name": "stderr",
     "output_type": "stream",
     "text": [
      "\r",
      "Feature combinations: 132it [1:37:51, 44.50s/it]"
     ]
    },
    {
     "name": "stdout",
     "output_type": "stream",
     "text": [
      "Using features: ['Prec(mm)', 'month', 'hour', 'Temp(C)', 'Solar_Radiation(MJ/m2)', 'Wind_speed(m/s)']\n",
      "[iter 0] loss=16.4519 val_loss=0.0000 scale=1.0000 norm=2963398.9849\n",
      "[iter 100] loss=15.5608 val_loss=0.0000 scale=2.0000 norm=1757551.2142\n",
      "[iter 200] loss=15.0462 val_loss=0.0000 scale=2.0000 norm=1206326.7503\n",
      "[iter 300] loss=14.7975 val_loss=0.0000 scale=2.0000 norm=1130150.0462\n",
      "[iter 400] loss=14.7106 val_loss=0.0000 scale=1.0000 norm=555518.4198\n"
     ]
    },
    {
     "name": "stderr",
     "output_type": "stream",
     "text": [
      "\r",
      "Feature combinations: 133it [1:38:34, 44.02s/it]"
     ]
    },
    {
     "name": "stdout",
     "output_type": "stream",
     "text": [
      "Using features: ['Humidity', 'Vapor_pressure(hPa)', 'Dew_Point(C)', 'Temp(C)', 'Solar_Radiation(MJ/m2)', 'Wind_speed(m/s)']\n",
      "[iter 0] loss=16.4519 val_loss=0.0000 scale=1.0000 norm=2963398.9849\n",
      "[iter 100] loss=15.5497 val_loss=0.0000 scale=2.0000 norm=1737409.4221\n",
      "[iter 200] loss=15.0761 val_loss=0.0000 scale=2.0000 norm=1284768.8232\n",
      "[iter 300] loss=14.8503 val_loss=0.0000 scale=2.0000 norm=1232746.3324\n",
      "[iter 400] loss=14.7525 val_loss=0.0000 scale=1.0000 norm=609503.6568\n"
     ]
    },
    {
     "name": "stderr",
     "output_type": "stream",
     "text": [
      "\r",
      "Feature combinations: 134it [1:39:28, 47.04s/it]"
     ]
    },
    {
     "name": "stdout",
     "output_type": "stream",
     "text": [
      "Using features: ['Humidity', 'Vapor_pressure(hPa)', 'Local Atmospheric Pressure(hPa)', 'Temp(C)', 'Solar_Radiation(MJ/m2)', 'Wind_speed(m/s)']\n",
      "[iter 0] loss=16.4519 val_loss=0.0000 scale=1.0000 norm=2963398.9849\n",
      "[iter 100] loss=15.5641 val_loss=0.0000 scale=2.0000 norm=1749444.3210\n",
      "[iter 200] loss=15.0711 val_loss=0.0000 scale=2.0000 norm=1251755.9180\n",
      "[iter 300] loss=14.8371 val_loss=0.0000 scale=2.0000 norm=1193586.6036\n",
      "[iter 400] loss=14.7403 val_loss=0.0000 scale=1.0000 norm=588616.2557\n"
     ]
    },
    {
     "name": "stderr",
     "output_type": "stream",
     "text": [
      "\r",
      "Feature combinations: 135it [1:40:21, 48.64s/it]"
     ]
    },
    {
     "name": "stdout",
     "output_type": "stream",
     "text": [
      "Using features: ['Humidity', 'Vapor_pressure(hPa)', 'sunshine(hr)', 'Temp(C)', 'Solar_Radiation(MJ/m2)', 'Wind_speed(m/s)']\n",
      "[iter 0] loss=16.4519 val_loss=0.0000 scale=1.0000 norm=2963398.9849\n",
      "[iter 100] loss=15.5488 val_loss=0.0000 scale=2.0000 norm=1734131.9998\n",
      "[iter 200] loss=15.0686 val_loss=0.0000 scale=2.0000 norm=1276790.0614\n",
      "[iter 300] loss=14.8381 val_loss=0.0000 scale=2.0000 norm=1220657.4416\n",
      "[iter 400] loss=14.7390 val_loss=0.0000 scale=2.0000 norm=1205166.0465\n"
     ]
    },
    {
     "name": "stderr",
     "output_type": "stream",
     "text": [
      "\r",
      "Feature combinations: 136it [1:41:09, 48.57s/it]"
     ]
    },
    {
     "name": "stdout",
     "output_type": "stream",
     "text": [
      "Using features: ['Humidity', 'Vapor_pressure(hPa)', 'Snowfall(cm)', 'Temp(C)', 'Solar_Radiation(MJ/m2)', 'Wind_speed(m/s)']\n",
      "[iter 0] loss=16.4519 val_loss=0.0000 scale=1.0000 norm=2963398.9849\n",
      "[iter 100] loss=15.5487 val_loss=0.0000 scale=2.0000 norm=1740344.3358\n",
      "[iter 200] loss=15.0711 val_loss=0.0000 scale=2.0000 norm=1275424.2069\n",
      "[iter 300] loss=14.8424 val_loss=0.0000 scale=2.0000 norm=1217536.3033\n",
      "[iter 400] loss=14.7474 val_loss=0.0000 scale=2.0000 norm=1202430.5559\n"
     ]
    },
    {
     "name": "stderr",
     "output_type": "stream",
     "text": [
      "\r",
      "Feature combinations: 137it [1:41:56, 48.01s/it]"
     ]
    },
    {
     "name": "stdout",
     "output_type": "stream",
     "text": [
      "Using features: ['Humidity', 'Vapor_pressure(hPa)', 'Cloud_Cover(1/10)', 'Temp(C)', 'Solar_Radiation(MJ/m2)', 'Wind_speed(m/s)']\n",
      "[iter 0] loss=16.4519 val_loss=0.0000 scale=1.0000 norm=2963398.9849\n",
      "[iter 100] loss=15.5473 val_loss=0.0000 scale=2.0000 norm=1728216.1639\n",
      "[iter 200] loss=15.0661 val_loss=0.0000 scale=2.0000 norm=1264538.2738\n",
      "[iter 300] loss=14.8334 val_loss=0.0000 scale=2.0000 norm=1207669.9039\n",
      "[iter 400] loss=14.7388 val_loss=0.0000 scale=2.0000 norm=1192873.5409\n"
     ]
    },
    {
     "name": "stderr",
     "output_type": "stream",
     "text": [
      "\r",
      "Feature combinations: 138it [1:42:45, 48.29s/it]"
     ]
    },
    {
     "name": "stdout",
     "output_type": "stream",
     "text": [
      "Using features: ['Humidity', 'Vapor_pressure(hPa)', 'Visibility(10m)', 'Temp(C)', 'Solar_Radiation(MJ/m2)', 'Wind_speed(m/s)']\n",
      "[iter 0] loss=16.4519 val_loss=0.0000 scale=1.0000 norm=2963398.9849\n",
      "[iter 100] loss=15.5496 val_loss=0.0000 scale=2.0000 norm=1737572.3462\n",
      "[iter 200] loss=15.0751 val_loss=0.0000 scale=2.0000 norm=1282881.2899\n",
      "[iter 300] loss=14.8483 val_loss=0.0000 scale=2.0000 norm=1227677.6256\n",
      "[iter 400] loss=14.7545 val_loss=0.0000 scale=1.0000 norm=605581.6154\n"
     ]
    },
    {
     "name": "stderr",
     "output_type": "stream",
     "text": [
      "\r",
      "Feature combinations: 139it [1:43:38, 49.69s/it]"
     ]
    },
    {
     "name": "stdout",
     "output_type": "stream",
     "text": [
      "Using features: ['Humidity', 'Vapor_pressure(hPa)', 'year', 'Temp(C)', 'Solar_Radiation(MJ/m2)', 'Wind_speed(m/s)']\n",
      "[iter 0] loss=16.4519 val_loss=0.0000 scale=1.0000 norm=2963398.9849\n",
      "[iter 100] loss=15.5445 val_loss=0.0000 scale=2.0000 norm=1724221.7130\n",
      "[iter 200] loss=15.0416 val_loss=0.0000 scale=2.0000 norm=1217974.9401\n",
      "[iter 300] loss=14.8084 val_loss=0.0000 scale=2.0000 norm=1139782.2208\n",
      "[iter 400] loss=14.7342 val_loss=0.0000 scale=1.0000 norm=560577.5111\n"
     ]
    },
    {
     "name": "stderr",
     "output_type": "stream",
     "text": [
      "\r",
      "Feature combinations: 140it [1:44:26, 49.33s/it]"
     ]
    },
    {
     "name": "stdout",
     "output_type": "stream",
     "text": [
      "Using features: ['Humidity', 'Vapor_pressure(hPa)', 'month', 'Temp(C)', 'Solar_Radiation(MJ/m2)', 'Wind_speed(m/s)']\n",
      "[iter 0] loss=16.4519 val_loss=0.0000 scale=1.0000 norm=2963398.9849\n",
      "[iter 100] loss=15.5478 val_loss=0.0000 scale=2.0000 norm=1730521.4109\n",
      "[iter 200] loss=15.0576 val_loss=0.0000 scale=2.0000 norm=1243645.6364\n",
      "[iter 300] loss=14.8299 val_loss=0.0000 scale=2.0000 norm=1178106.3515\n",
      "[iter 400] loss=14.7529 val_loss=0.0000 scale=1.0000 norm=582012.7227\n"
     ]
    },
    {
     "name": "stderr",
     "output_type": "stream",
     "text": [
      "\r",
      "Feature combinations: 141it [1:45:15, 49.12s/it]"
     ]
    },
    {
     "name": "stdout",
     "output_type": "stream",
     "text": [
      "Using features: ['Humidity', 'Vapor_pressure(hPa)', 'hour', 'Temp(C)', 'Solar_Radiation(MJ/m2)', 'Wind_speed(m/s)']\n",
      "[iter 0] loss=16.4519 val_loss=0.0000 scale=1.0000 norm=2963398.9849\n",
      "[iter 100] loss=15.5533 val_loss=0.0000 scale=2.0000 norm=1738921.7410\n",
      "[iter 200] loss=15.0433 val_loss=0.0000 scale=2.0000 norm=1213758.5222\n",
      "[iter 300] loss=14.7929 val_loss=0.0000 scale=2.0000 norm=1143740.3936\n",
      "[iter 400] loss=14.6959 val_loss=0.0000 scale=1.0000 norm=563404.4793\n"
     ]
    },
    {
     "name": "stderr",
     "output_type": "stream",
     "text": [
      "\r",
      "Feature combinations: 142it [1:46:03, 48.81s/it]"
     ]
    },
    {
     "name": "stdout",
     "output_type": "stream",
     "text": [
      "Using features: ['Humidity', 'Dew_Point(C)', 'Local Atmospheric Pressure(hPa)', 'Temp(C)', 'Solar_Radiation(MJ/m2)', 'Wind_speed(m/s)']\n",
      "[iter 0] loss=16.4519 val_loss=0.0000 scale=1.0000 norm=2963398.9849\n",
      "[iter 100] loss=15.5641 val_loss=0.0000 scale=2.0000 norm=1749464.5622\n",
      "[iter 200] loss=15.0711 val_loss=0.0000 scale=2.0000 norm=1251394.0683\n",
      "[iter 300] loss=14.8373 val_loss=0.0000 scale=2.0000 norm=1193507.4454\n",
      "[iter 400] loss=14.7396 val_loss=0.0000 scale=1.0000 norm=588570.3461\n"
     ]
    },
    {
     "name": "stderr",
     "output_type": "stream",
     "text": [
      "\r",
      "Feature combinations: 143it [1:46:56, 50.16s/it]"
     ]
    },
    {
     "name": "stdout",
     "output_type": "stream",
     "text": [
      "Using features: ['Humidity', 'Dew_Point(C)', 'sunshine(hr)', 'Temp(C)', 'Solar_Radiation(MJ/m2)', 'Wind_speed(m/s)']\n",
      "[iter 0] loss=16.4519 val_loss=0.0000 scale=1.0000 norm=2963398.9849\n",
      "[iter 100] loss=15.5488 val_loss=0.0000 scale=2.0000 norm=1733672.4839\n",
      "[iter 200] loss=15.0689 val_loss=0.0000 scale=2.0000 norm=1277577.4608\n",
      "[iter 300] loss=14.8384 val_loss=0.0000 scale=2.0000 norm=1220891.9029\n",
      "[iter 400] loss=14.7388 val_loss=0.0000 scale=2.0000 norm=1204475.1645\n"
     ]
    },
    {
     "name": "stderr",
     "output_type": "stream",
     "text": [
      "\r",
      "Feature combinations: 144it [1:47:45, 49.64s/it]"
     ]
    },
    {
     "name": "stdout",
     "output_type": "stream",
     "text": [
      "Using features: ['Humidity', 'Dew_Point(C)', 'Snowfall(cm)', 'Temp(C)', 'Solar_Radiation(MJ/m2)', 'Wind_speed(m/s)']\n",
      "[iter 0] loss=16.4519 val_loss=0.0000 scale=1.0000 norm=2963398.9849\n",
      "[iter 100] loss=15.5486 val_loss=0.0000 scale=2.0000 norm=1740199.5093\n",
      "[iter 200] loss=15.0709 val_loss=0.0000 scale=2.0000 norm=1274968.4661\n",
      "[iter 300] loss=14.8423 val_loss=0.0000 scale=2.0000 norm=1217004.7961\n",
      "[iter 400] loss=14.7495 val_loss=0.0000 scale=2.0000 norm=1202861.4306\n"
     ]
    },
    {
     "name": "stderr",
     "output_type": "stream",
     "text": [
      "\r",
      "Feature combinations: 145it [1:48:32, 48.84s/it]"
     ]
    },
    {
     "name": "stdout",
     "output_type": "stream",
     "text": [
      "Using features: ['Humidity', 'Dew_Point(C)', 'Cloud_Cover(1/10)', 'Temp(C)', 'Solar_Radiation(MJ/m2)', 'Wind_speed(m/s)']\n",
      "[iter 0] loss=16.4519 val_loss=0.0000 scale=1.0000 norm=2963398.9849\n",
      "[iter 100] loss=15.5473 val_loss=0.0000 scale=2.0000 norm=1727993.2327\n",
      "[iter 200] loss=15.0661 val_loss=0.0000 scale=2.0000 norm=1264600.4646\n",
      "[iter 300] loss=14.8337 val_loss=0.0000 scale=2.0000 norm=1207598.0743\n",
      "[iter 400] loss=14.7385 val_loss=0.0000 scale=1.0000 norm=596366.9210\n"
     ]
    },
    {
     "name": "stderr",
     "output_type": "stream",
     "text": [
      "\r",
      "Feature combinations: 146it [1:49:23, 49.43s/it]"
     ]
    },
    {
     "name": "stdout",
     "output_type": "stream",
     "text": [
      "Using features: ['Humidity', 'Dew_Point(C)', 'Visibility(10m)', 'Temp(C)', 'Solar_Radiation(MJ/m2)', 'Wind_speed(m/s)']\n",
      "[iter 0] loss=16.4519 val_loss=0.0000 scale=1.0000 norm=2963398.9849\n",
      "[iter 100] loss=15.5496 val_loss=0.0000 scale=2.0000 norm=1737409.4221\n",
      "[iter 200] loss=15.0751 val_loss=0.0000 scale=2.0000 norm=1283124.1387\n",
      "[iter 300] loss=14.8481 val_loss=0.0000 scale=2.0000 norm=1227133.1799\n",
      "[iter 400] loss=14.7556 val_loss=0.0000 scale=1.0000 norm=605585.2624\n"
     ]
    },
    {
     "name": "stderr",
     "output_type": "stream",
     "text": [
      "\r",
      "Feature combinations: 147it [1:50:21, 52.07s/it]"
     ]
    },
    {
     "name": "stdout",
     "output_type": "stream",
     "text": [
      "Using features: ['Humidity', 'Dew_Point(C)', 'year', 'Temp(C)', 'Solar_Radiation(MJ/m2)', 'Wind_speed(m/s)']\n",
      "[iter 0] loss=16.4519 val_loss=0.0000 scale=1.0000 norm=2963398.9849\n",
      "[iter 100] loss=15.5549 val_loss=0.0000 scale=2.0000 norm=1744032.5939\n",
      "[iter 200] loss=15.0470 val_loss=0.0000 scale=2.0000 norm=1219871.2143\n",
      "[iter 300] loss=14.8131 val_loss=0.0000 scale=1.0000 norm=570551.0844\n",
      "[iter 400] loss=14.7258 val_loss=0.0000 scale=2.0000 norm=1117298.9935\n"
     ]
    },
    {
     "name": "stderr",
     "output_type": "stream",
     "text": [
      "\r",
      "Feature combinations: 148it [1:51:18, 53.58s/it]"
     ]
    },
    {
     "name": "stdout",
     "output_type": "stream",
     "text": [
      "Using features: ['Humidity', 'Dew_Point(C)', 'month', 'Temp(C)', 'Solar_Radiation(MJ/m2)', 'Wind_speed(m/s)']\n",
      "[iter 0] loss=16.4519 val_loss=0.0000 scale=1.0000 norm=2963398.9849\n",
      "[iter 100] loss=15.5579 val_loss=0.0000 scale=2.0000 norm=1749757.2187\n",
      "[iter 200] loss=15.0627 val_loss=0.0000 scale=2.0000 norm=1245800.4262\n",
      "[iter 300] loss=14.8334 val_loss=0.0000 scale=1.0000 norm=588983.1297\n",
      "[iter 400] loss=14.7526 val_loss=0.0000 scale=1.0000 norm=581482.2891\n"
     ]
    },
    {
     "name": "stderr",
     "output_type": "stream",
     "text": [
      "\r",
      "Feature combinations: 149it [1:52:10, 53.09s/it]"
     ]
    },
    {
     "name": "stdout",
     "output_type": "stream",
     "text": [
      "Using features: ['Humidity', 'Dew_Point(C)', 'hour', 'Temp(C)', 'Solar_Radiation(MJ/m2)', 'Wind_speed(m/s)']\n",
      "[iter 0] loss=16.4519 val_loss=0.0000 scale=1.0000 norm=2963398.9849\n",
      "[iter 100] loss=15.5600 val_loss=0.0000 scale=2.0000 norm=1751916.0383\n",
      "[iter 200] loss=15.0469 val_loss=0.0000 scale=2.0000 norm=1215718.8122\n",
      "[iter 300] loss=14.7952 val_loss=0.0000 scale=2.0000 norm=1144664.0212\n",
      "[iter 400] loss=14.6917 val_loss=0.0000 scale=2.0000 norm=1126620.2086\n"
     ]
    },
    {
     "name": "stderr",
     "output_type": "stream",
     "text": [
      "\r",
      "Feature combinations: 150it [1:53:03, 53.14s/it]"
     ]
    },
    {
     "name": "stdout",
     "output_type": "stream",
     "text": [
      "Using features: ['Humidity', 'Local Atmospheric Pressure(hPa)', 'sunshine(hr)', 'Temp(C)', 'Solar_Radiation(MJ/m2)', 'Wind_speed(m/s)']\n",
      "[iter 0] loss=16.4519 val_loss=0.0000 scale=1.0000 norm=2963398.9849\n",
      "[iter 100] loss=15.5674 val_loss=0.0000 scale=2.0000 norm=1757865.0505\n",
      "[iter 200] loss=15.0648 val_loss=0.0000 scale=2.0000 norm=1248646.1803\n",
      "[iter 300] loss=14.8248 val_loss=0.0000 scale=2.0000 norm=1186269.5820\n",
      "[iter 400] loss=14.7256 val_loss=0.0000 scale=2.0000 norm=1167528.0985\n"
     ]
    },
    {
     "name": "stderr",
     "output_type": "stream",
     "text": [
      "\r",
      "Feature combinations: 151it [1:53:52, 51.74s/it]"
     ]
    },
    {
     "name": "stdout",
     "output_type": "stream",
     "text": [
      "Using features: ['Humidity', 'Local Atmospheric Pressure(hPa)', 'Snowfall(cm)', 'Temp(C)', 'Solar_Radiation(MJ/m2)', 'Wind_speed(m/s)']\n",
      "[iter 0] loss=16.4519 val_loss=0.0000 scale=1.0000 norm=2963398.9849\n",
      "[iter 100] loss=15.5667 val_loss=0.0000 scale=2.0000 norm=1763121.6350\n",
      "[iter 200] loss=15.0681 val_loss=0.0000 scale=2.0000 norm=1245874.9333\n",
      "[iter 300] loss=14.8303 val_loss=0.0000 scale=2.0000 norm=1178068.5628\n",
      "[iter 400] loss=14.7296 val_loss=0.0000 scale=1.0000 norm=579813.9098\n"
     ]
    },
    {
     "name": "stderr",
     "output_type": "stream",
     "text": [
      "\r",
      "Feature combinations: 152it [1:54:38, 50.23s/it]"
     ]
    },
    {
     "name": "stdout",
     "output_type": "stream",
     "text": [
      "Using features: ['Humidity', 'Local Atmospheric Pressure(hPa)', 'Cloud_Cover(1/10)', 'Temp(C)', 'Solar_Radiation(MJ/m2)', 'Wind_speed(m/s)']\n",
      "[iter 0] loss=16.4519 val_loss=0.0000 scale=1.0000 norm=2963398.9849\n",
      "[iter 100] loss=15.5695 val_loss=0.0000 scale=2.0000 norm=1759316.6897\n",
      "[iter 200] loss=15.0665 val_loss=0.0000 scale=2.0000 norm=1238001.5057\n",
      "[iter 300] loss=14.8230 val_loss=0.0000 scale=2.0000 norm=1172875.4101\n",
      "[iter 400] loss=14.7299 val_loss=0.0000 scale=1.0000 norm=577917.1436\n"
     ]
    },
    {
     "name": "stderr",
     "output_type": "stream",
     "text": [
      "\r",
      "Feature combinations: 153it [1:55:25, 49.04s/it]"
     ]
    },
    {
     "name": "stdout",
     "output_type": "stream",
     "text": [
      "Using features: ['Humidity', 'Local Atmospheric Pressure(hPa)', 'Visibility(10m)', 'Temp(C)', 'Solar_Radiation(MJ/m2)', 'Wind_speed(m/s)']\n",
      "[iter 0] loss=16.4519 val_loss=0.0000 scale=1.0000 norm=2963398.9849\n",
      "[iter 100] loss=15.5679 val_loss=0.0000 scale=2.0000 norm=1760623.5935\n",
      "[iter 200] loss=15.0731 val_loss=0.0000 scale=2.0000 norm=1253631.1914\n",
      "[iter 300] loss=14.8382 val_loss=0.0000 scale=2.0000 norm=1191728.9757\n",
      "[iter 400] loss=14.7468 val_loss=0.0000 scale=2.0000 norm=1172996.3504\n"
     ]
    },
    {
     "name": "stderr",
     "output_type": "stream",
     "text": [
      "\r",
      "Feature combinations: 154it [1:56:14, 49.20s/it]"
     ]
    },
    {
     "name": "stdout",
     "output_type": "stream",
     "text": [
      "Using features: ['Humidity', 'Local Atmospheric Pressure(hPa)', 'year', 'Temp(C)', 'Solar_Radiation(MJ/m2)', 'Wind_speed(m/s)']\n",
      "[iter 0] loss=16.4519 val_loss=0.0000 scale=1.0000 norm=2963398.9849\n",
      "[iter 100] loss=15.5710 val_loss=0.0000 scale=2.0000 norm=1762926.2004\n",
      "[iter 200] loss=15.0458 val_loss=0.0000 scale=2.0000 norm=1189574.8670\n",
      "[iter 300] loss=14.7935 val_loss=0.0000 scale=2.0000 norm=1096574.8574\n",
      "[iter 400] loss=14.7159 val_loss=0.0000 scale=1.0000 norm=537895.4297\n"
     ]
    },
    {
     "name": "stderr",
     "output_type": "stream",
     "text": [
      "\r",
      "Feature combinations: 155it [1:57:00, 48.27s/it]"
     ]
    },
    {
     "name": "stdout",
     "output_type": "stream",
     "text": [
      "Using features: ['Humidity', 'Local Atmospheric Pressure(hPa)', 'month', 'Temp(C)', 'Solar_Radiation(MJ/m2)', 'Wind_speed(m/s)']\n",
      "[iter 0] loss=16.4519 val_loss=0.0000 scale=1.0000 norm=2963398.9849\n",
      "[iter 100] loss=15.5641 val_loss=0.0000 scale=2.0000 norm=1751642.6607\n",
      "[iter 200] loss=15.0663 val_loss=0.0000 scale=2.0000 norm=1241051.5825\n",
      "[iter 300] loss=14.8322 val_loss=0.0000 scale=2.0000 norm=1172242.9380\n",
      "[iter 400] loss=14.7457 val_loss=0.0000 scale=2.0000 norm=1155323.6246\n"
     ]
    },
    {
     "name": "stderr",
     "output_type": "stream",
     "text": [
      "\r",
      "Feature combinations: 156it [1:57:45, 47.17s/it]"
     ]
    },
    {
     "name": "stdout",
     "output_type": "stream",
     "text": [
      "Using features: ['Humidity', 'Local Atmospheric Pressure(hPa)', 'hour', 'Temp(C)', 'Solar_Radiation(MJ/m2)', 'Wind_speed(m/s)']\n",
      "[iter 0] loss=16.4519 val_loss=0.0000 scale=1.0000 norm=2963398.9849\n",
      "[iter 100] loss=15.5672 val_loss=0.0000 scale=2.0000 norm=1758263.9842\n",
      "[iter 200] loss=15.0468 val_loss=0.0000 scale=2.0000 norm=1203168.5061\n",
      "[iter 300] loss=14.7907 val_loss=0.0000 scale=2.0000 norm=1128711.1229\n",
      "[iter 400] loss=14.6925 val_loss=0.0000 scale=2.0000 norm=1109183.3492\n"
     ]
    },
    {
     "name": "stderr",
     "output_type": "stream",
     "text": [
      "\r",
      "Feature combinations: 157it [1:58:35, 48.00s/it]"
     ]
    },
    {
     "name": "stdout",
     "output_type": "stream",
     "text": [
      "Using features: ['Humidity', 'sunshine(hr)', 'Snowfall(cm)', 'Temp(C)', 'Solar_Radiation(MJ/m2)', 'Wind_speed(m/s)']\n",
      "[iter 0] loss=16.4519 val_loss=0.0000 scale=1.0000 norm=2963398.9849\n",
      "[iter 100] loss=15.5555 val_loss=0.0000 scale=2.0000 norm=1756248.1403\n",
      "[iter 200] loss=15.0654 val_loss=0.0000 scale=2.0000 norm=1269334.6994\n",
      "[iter 300] loss=14.8307 val_loss=0.0000 scale=2.0000 norm=1203725.6368\n",
      "[iter 400] loss=14.7340 val_loss=0.0000 scale=1.0000 norm=593466.1509\n"
     ]
    },
    {
     "name": "stderr",
     "output_type": "stream",
     "text": [
      "\r",
      "Feature combinations: 158it [1:59:18, 46.55s/it]"
     ]
    },
    {
     "name": "stdout",
     "output_type": "stream",
     "text": [
      "Using features: ['Humidity', 'sunshine(hr)', 'Cloud_Cover(1/10)', 'Temp(C)', 'Solar_Radiation(MJ/m2)', 'Wind_speed(m/s)']\n",
      "[iter 0] loss=16.4519 val_loss=0.0000 scale=1.0000 norm=2963398.9849\n",
      "[iter 100] loss=15.5581 val_loss=0.0000 scale=2.0000 norm=1753591.4646\n",
      "[iter 200] loss=15.0689 val_loss=0.0000 scale=2.0000 norm=1267700.7321\n",
      "[iter 300] loss=14.8326 val_loss=0.0000 scale=2.0000 norm=1206300.0875\n",
      "[iter 400] loss=14.7344 val_loss=0.0000 scale=2.0000 norm=1189554.4137\n"
     ]
    },
    {
     "name": "stderr",
     "output_type": "stream",
     "text": [
      "\r",
      "Feature combinations: 159it [2:00:02, 45.83s/it]"
     ]
    },
    {
     "name": "stdout",
     "output_type": "stream",
     "text": [
      "Using features: ['Humidity', 'sunshine(hr)', 'Visibility(10m)', 'Temp(C)', 'Solar_Radiation(MJ/m2)', 'Wind_speed(m/s)']\n",
      "[iter 0] loss=16.4519 val_loss=0.0000 scale=1.0000 norm=2963398.9849\n",
      "[iter 100] loss=15.5565 val_loss=0.0000 scale=2.0000 norm=1753564.3914\n",
      "[iter 200] loss=15.0715 val_loss=0.0000 scale=2.0000 norm=1279181.7683\n",
      "[iter 300] loss=14.8382 val_loss=0.0000 scale=2.0000 norm=1217094.5373\n",
      "[iter 400] loss=14.7451 val_loss=0.0000 scale=1.0000 norm=599226.0730\n"
     ]
    },
    {
     "name": "stderr",
     "output_type": "stream",
     "text": [
      "\r",
      "Feature combinations: 160it [2:00:52, 47.17s/it]"
     ]
    },
    {
     "name": "stdout",
     "output_type": "stream",
     "text": [
      "Using features: ['Humidity', 'sunshine(hr)', 'year', 'Temp(C)', 'Solar_Radiation(MJ/m2)', 'Wind_speed(m/s)']\n",
      "[iter 0] loss=16.4519 val_loss=0.0000 scale=1.0000 norm=2963398.9849\n",
      "[iter 100] loss=15.5522 val_loss=0.0000 scale=2.0000 norm=1741629.9818\n",
      "[iter 200] loss=15.0382 val_loss=0.0000 scale=2.0000 norm=1216027.7363\n",
      "[iter 300] loss=14.7903 val_loss=0.0000 scale=2.0000 norm=1127817.8487\n",
      "[iter 400] loss=14.7010 val_loss=0.0000 scale=1.0000 norm=550330.8780\n"
     ]
    },
    {
     "name": "stderr",
     "output_type": "stream",
     "text": [
      "\r",
      "Feature combinations: 161it [2:01:45, 48.67s/it]"
     ]
    },
    {
     "name": "stdout",
     "output_type": "stream",
     "text": [
      "Using features: ['Humidity', 'sunshine(hr)', 'month', 'Temp(C)', 'Solar_Radiation(MJ/m2)', 'Wind_speed(m/s)']\n",
      "[iter 0] loss=16.4519 val_loss=0.0000 scale=1.0000 norm=2963398.9849\n",
      "[iter 100] loss=15.5581 val_loss=0.0000 scale=2.0000 norm=1752416.0725\n",
      "[iter 200] loss=15.0537 val_loss=0.0000 scale=2.0000 norm=1239274.6349\n",
      "[iter 300] loss=14.8136 val_loss=0.0000 scale=2.0000 norm=1166916.7006\n",
      "[iter 400] loss=14.7265 val_loss=0.0000 scale=2.0000 norm=1147691.8227\n"
     ]
    },
    {
     "name": "stderr",
     "output_type": "stream",
     "text": [
      "\r",
      "Feature combinations: 162it [2:02:29, 47.56s/it]"
     ]
    },
    {
     "name": "stdout",
     "output_type": "stream",
     "text": [
      "Using features: ['Humidity', 'sunshine(hr)', 'hour', 'Temp(C)', 'Solar_Radiation(MJ/m2)', 'Wind_speed(m/s)']\n",
      "[iter 0] loss=16.4519 val_loss=0.0000 scale=1.0000 norm=2963398.9849\n",
      "[iter 100] loss=15.5631 val_loss=0.0000 scale=2.0000 norm=1756500.5857\n",
      "[iter 200] loss=15.0255 val_loss=0.0000 scale=2.0000 norm=1168274.6182\n",
      "[iter 300] loss=14.7533 val_loss=0.0000 scale=2.0000 norm=1082035.8387\n",
      "[iter 400] loss=14.6478 val_loss=0.0000 scale=2.0000 norm=1059486.1189\n"
     ]
    },
    {
     "name": "stderr",
     "output_type": "stream",
     "text": [
      "\r",
      "Feature combinations: 163it [2:03:14, 46.51s/it]"
     ]
    },
    {
     "name": "stdout",
     "output_type": "stream",
     "text": [
      "Using features: ['Humidity', 'Snowfall(cm)', 'Cloud_Cover(1/10)', 'Temp(C)', 'Solar_Radiation(MJ/m2)', 'Wind_speed(m/s)']\n",
      "[iter 0] loss=16.4519 val_loss=0.0000 scale=1.0000 norm=2963398.9849\n",
      "[iter 100] loss=15.5574 val_loss=0.0000 scale=2.0000 norm=1756847.1074\n",
      "[iter 200] loss=15.0671 val_loss=0.0000 scale=2.0000 norm=1263338.1576\n",
      "[iter 300] loss=14.8307 val_loss=0.0000 scale=2.0000 norm=1194750.1508\n",
      "[iter 400] loss=14.7324 val_loss=0.0000 scale=2.0000 norm=1177072.6360\n"
     ]
    },
    {
     "name": "stderr",
     "output_type": "stream",
     "text": [
      "\r",
      "Feature combinations: 164it [2:03:55, 44.89s/it]"
     ]
    },
    {
     "name": "stdout",
     "output_type": "stream",
     "text": [
      "Using features: ['Humidity', 'Snowfall(cm)', 'Visibility(10m)', 'Temp(C)', 'Solar_Radiation(MJ/m2)', 'Wind_speed(m/s)']\n",
      "[iter 0] loss=16.4519 val_loss=0.0000 scale=1.0000 norm=2963398.9849\n",
      "[iter 100] loss=15.5564 val_loss=0.0000 scale=2.0000 norm=1759822.3143\n",
      "[iter 200] loss=15.0746 val_loss=0.0000 scale=2.0000 norm=1280496.5310\n",
      "[iter 300] loss=14.8449 val_loss=0.0000 scale=2.0000 norm=1214374.7500\n",
      "[iter 400] loss=14.7493 val_loss=0.0000 scale=2.0000 norm=1195099.4626\n"
     ]
    },
    {
     "name": "stderr",
     "output_type": "stream",
     "text": [
      "\r",
      "Feature combinations: 165it [2:04:40, 44.95s/it]"
     ]
    },
    {
     "name": "stdout",
     "output_type": "stream",
     "text": [
      "Using features: ['Humidity', 'Snowfall(cm)', 'year', 'Temp(C)', 'Solar_Radiation(MJ/m2)', 'Wind_speed(m/s)']\n",
      "[iter 0] loss=16.4519 val_loss=0.0000 scale=1.0000 norm=2963398.9849\n",
      "[iter 100] loss=15.5515 val_loss=0.0000 scale=2.0000 norm=1744203.6264\n",
      "[iter 200] loss=15.0425 val_loss=0.0000 scale=2.0000 norm=1218261.9066\n",
      "[iter 300] loss=14.7989 val_loss=0.0000 scale=1.0000 norm=562289.6067\n",
      "[iter 400] loss=14.7170 val_loss=0.0000 scale=1.0000 norm=550041.8133\n"
     ]
    },
    {
     "name": "stderr",
     "output_type": "stream",
     "text": [
      "\r",
      "Feature combinations: 166it [2:05:20, 43.47s/it]"
     ]
    },
    {
     "name": "stdout",
     "output_type": "stream",
     "text": [
      "Using features: ['Humidity', 'Snowfall(cm)', 'month', 'Temp(C)', 'Solar_Radiation(MJ/m2)', 'Wind_speed(m/s)']\n",
      "[iter 0] loss=16.4519 val_loss=0.0000 scale=1.0000 norm=2963398.9849\n",
      "[iter 100] loss=15.5577 val_loss=0.0000 scale=2.0000 norm=1758355.6425\n",
      "[iter 200] loss=15.0599 val_loss=0.0000 scale=2.0000 norm=1244344.5106\n",
      "[iter 300] loss=14.8394 val_loss=0.0000 scale=2.0000 norm=1170015.5241\n",
      "[iter 400] loss=14.7588 val_loss=0.0000 scale=2.0000 norm=1152124.0123\n"
     ]
    },
    {
     "name": "stderr",
     "output_type": "stream",
     "text": [
      "\r",
      "Feature combinations: 167it [2:06:00, 42.46s/it]"
     ]
    },
    {
     "name": "stdout",
     "output_type": "stream",
     "text": [
      "Using features: ['Humidity', 'Snowfall(cm)', 'hour', 'Temp(C)', 'Solar_Radiation(MJ/m2)', 'Wind_speed(m/s)']\n",
      "[iter 0] loss=16.4519 val_loss=0.0000 scale=1.0000 norm=2963398.9849\n",
      "[iter 100] loss=15.5604 val_loss=0.0000 scale=2.0000 norm=1762330.4428\n",
      "[iter 200] loss=15.0451 val_loss=0.0000 scale=2.0000 norm=1218255.2917\n",
      "[iter 300] loss=14.7930 val_loss=0.0000 scale=2.0000 norm=1135974.2763\n",
      "[iter 400] loss=14.6931 val_loss=0.0000 scale=2.0000 norm=1113244.2407\n"
     ]
    },
    {
     "name": "stderr",
     "output_type": "stream",
     "text": [
      "\r",
      "Feature combinations: 168it [2:06:41, 42.16s/it]"
     ]
    },
    {
     "name": "stdout",
     "output_type": "stream",
     "text": [
      "Using features: ['Humidity', 'Cloud_Cover(1/10)', 'Visibility(10m)', 'Temp(C)', 'Solar_Radiation(MJ/m2)', 'Wind_speed(m/s)']\n",
      "[iter 0] loss=16.4519 val_loss=0.0000 scale=1.0000 norm=2963398.9849\n",
      "[iter 100] loss=15.5583 val_loss=0.0000 scale=2.0000 norm=1754191.7361\n",
      "[iter 200] loss=15.0713 val_loss=0.0000 scale=2.0000 norm=1269229.5285\n",
      "[iter 300] loss=14.8351 val_loss=0.0000 scale=1.0000 norm=602316.9379\n",
      "[iter 400] loss=14.7431 val_loss=0.0000 scale=1.0000 norm=593730.0784\n"
     ]
    },
    {
     "name": "stderr",
     "output_type": "stream",
     "text": [
      "\r",
      "Feature combinations: 169it [2:07:27, 43.33s/it]"
     ]
    },
    {
     "name": "stdout",
     "output_type": "stream",
     "text": [
      "Using features: ['Humidity', 'Cloud_Cover(1/10)', 'year', 'Temp(C)', 'Solar_Radiation(MJ/m2)', 'Wind_speed(m/s)']\n",
      "[iter 0] loss=16.4519 val_loss=0.0000 scale=1.0000 norm=2963398.9849\n",
      "[iter 100] loss=15.5580 val_loss=0.0000 scale=2.0000 norm=1751859.6597\n",
      "[iter 200] loss=15.0447 val_loss=0.0000 scale=2.0000 norm=1216473.3509\n",
      "[iter 300] loss=14.7993 val_loss=0.0000 scale=1.0000 norm=564933.4582\n",
      "[iter 400] loss=14.7197 val_loss=0.0000 scale=1.0000 norm=553685.2490\n"
     ]
    },
    {
     "name": "stderr",
     "output_type": "stream",
     "text": [
      "\r",
      "Feature combinations: 170it [2:08:10, 42.99s/it]"
     ]
    },
    {
     "name": "stdout",
     "output_type": "stream",
     "text": [
      "Using features: ['Humidity', 'Cloud_Cover(1/10)', 'month', 'Temp(C)', 'Solar_Radiation(MJ/m2)', 'Wind_speed(m/s)']\n",
      "[iter 0] loss=16.4519 val_loss=0.0000 scale=1.0000 norm=2963398.9849\n",
      "[iter 100] loss=15.5567 val_loss=0.0000 scale=2.0000 norm=1747336.1639\n",
      "[iter 200] loss=15.0551 val_loss=0.0000 scale=2.0000 norm=1231639.4475\n",
      "[iter 300] loss=14.8181 val_loss=0.0000 scale=2.0000 norm=1159163.7273\n",
      "[iter 400] loss=14.7432 val_loss=0.0000 scale=1.0000 norm=572117.5488\n"
     ]
    },
    {
     "name": "stderr",
     "output_type": "stream",
     "text": [
      "\r",
      "Feature combinations: 171it [2:08:54, 43.44s/it]"
     ]
    },
    {
     "name": "stdout",
     "output_type": "stream",
     "text": [
      "Using features: ['Humidity', 'Cloud_Cover(1/10)', 'hour', 'Temp(C)', 'Solar_Radiation(MJ/m2)', 'Wind_speed(m/s)']\n",
      "[iter 0] loss=16.4519 val_loss=0.0000 scale=1.0000 norm=2963398.9849\n",
      "[iter 100] loss=15.5474 val_loss=0.0000 scale=2.0000 norm=1721819.9620\n",
      "[iter 200] loss=15.0204 val_loss=0.0000 scale=2.0000 norm=1161162.2082\n",
      "[iter 300] loss=14.7520 val_loss=0.0000 scale=2.0000 norm=1069771.5759\n",
      "[iter 400] loss=14.6477 val_loss=0.0000 scale=1.0000 norm=522330.7034\n"
     ]
    },
    {
     "name": "stderr",
     "output_type": "stream",
     "text": [
      "\r",
      "Feature combinations: 172it [2:09:38, 43.52s/it]"
     ]
    },
    {
     "name": "stdout",
     "output_type": "stream",
     "text": [
      "Using features: ['Humidity', 'Visibility(10m)', 'year', 'Temp(C)', 'Solar_Radiation(MJ/m2)', 'Wind_speed(m/s)']\n",
      "[iter 0] loss=16.4519 val_loss=0.0000 scale=1.0000 norm=2963398.9849\n",
      "[iter 100] loss=15.5524 val_loss=0.0000 scale=2.0000 norm=1743047.2485\n",
      "[iter 200] loss=15.0461 val_loss=0.0000 scale=2.0000 norm=1220855.8642\n",
      "[iter 300] loss=14.8065 val_loss=0.0000 scale=2.0000 norm=1137338.5962\n",
      "[iter 400] loss=14.7261 val_loss=0.0000 scale=2.0000 norm=1115298.3065\n"
     ]
    },
    {
     "name": "stderr",
     "output_type": "stream",
     "text": [
      "\r",
      "Feature combinations: 173it [2:10:26, 45.01s/it]"
     ]
    },
    {
     "name": "stdout",
     "output_type": "stream",
     "text": [
      "Using features: ['Humidity', 'Visibility(10m)', 'month', 'Temp(C)', 'Solar_Radiation(MJ/m2)', 'Wind_speed(m/s)']\n",
      "[iter 0] loss=16.4519 val_loss=0.0000 scale=1.0000 norm=2963398.9849\n",
      "[iter 100] loss=15.5587 val_loss=0.0000 scale=2.0000 norm=1756140.6612\n",
      "[iter 200] loss=15.0634 val_loss=0.0000 scale=2.0000 norm=1249082.5546\n",
      "[iter 300] loss=14.8277 val_loss=0.0000 scale=2.0000 norm=1173015.4867\n",
      "[iter 400] loss=14.7527 val_loss=0.0000 scale=2.0000 norm=1155376.0704\n"
     ]
    },
    {
     "name": "stderr",
     "output_type": "stream",
     "text": [
      "\r",
      "Feature combinations: 174it [2:11:13, 45.62s/it]"
     ]
    },
    {
     "name": "stdout",
     "output_type": "stream",
     "text": [
      "Using features: ['Humidity', 'Visibility(10m)', 'hour', 'Temp(C)', 'Solar_Radiation(MJ/m2)', 'Wind_speed(m/s)']\n",
      "[iter 0] loss=16.4519 val_loss=0.0000 scale=1.0000 norm=2963398.9849\n",
      "[iter 100] loss=15.5615 val_loss=0.0000 scale=2.0000 norm=1761094.2343\n",
      "[iter 200] loss=15.0487 val_loss=0.0000 scale=2.0000 norm=1221194.4406\n",
      "[iter 300] loss=14.7954 val_loss=0.0000 scale=2.0000 norm=1143882.5409\n",
      "[iter 400] loss=14.6966 val_loss=0.0000 scale=1.0000 norm=560685.0560\n"
     ]
    },
    {
     "name": "stderr",
     "output_type": "stream",
     "text": [
      "\r",
      "Feature combinations: 175it [2:12:00, 46.06s/it]"
     ]
    },
    {
     "name": "stdout",
     "output_type": "stream",
     "text": [
      "Using features: ['Humidity', 'year', 'month', 'Temp(C)', 'Solar_Radiation(MJ/m2)', 'Wind_speed(m/s)']\n",
      "[iter 0] loss=16.4519 val_loss=0.0000 scale=1.0000 norm=2963398.9849\n",
      "[iter 100] loss=15.5548 val_loss=0.0000 scale=2.0000 norm=1744799.3653\n",
      "[iter 200] loss=15.0331 val_loss=0.0000 scale=2.0000 norm=1181631.4632\n",
      "[iter 300] loss=14.7922 val_loss=0.0000 scale=2.0000 norm=1079835.3374\n",
      "[iter 400] loss=14.7235 val_loss=0.0000 scale=1.0000 norm=526256.8109\n"
     ]
    },
    {
     "name": "stderr",
     "output_type": "stream",
     "text": [
      "\r",
      "Feature combinations: 176it [2:12:43, 44.93s/it]"
     ]
    },
    {
     "name": "stdout",
     "output_type": "stream",
     "text": [
      "Using features: ['Humidity', 'year', 'hour', 'Temp(C)', 'Solar_Radiation(MJ/m2)', 'Wind_speed(m/s)']\n",
      "[iter 0] loss=16.4519 val_loss=0.0000 scale=1.0000 norm=2963398.9849\n",
      "[iter 100] loss=15.5622 val_loss=0.0000 scale=2.0000 norm=1760472.9399\n",
      "[iter 200] loss=15.0260 val_loss=0.0000 scale=2.0000 norm=1169488.4293\n",
      "[iter 300] loss=14.7670 val_loss=0.0000 scale=2.0000 norm=1073029.4733\n",
      "[iter 400] loss=14.6726 val_loss=0.0000 scale=2.0000 norm=1044259.3551\n"
     ]
    },
    {
     "name": "stderr",
     "output_type": "stream",
     "text": [
      "\r",
      "Feature combinations: 177it [2:13:26, 44.35s/it]"
     ]
    },
    {
     "name": "stdout",
     "output_type": "stream",
     "text": [
      "Using features: ['Humidity', 'month', 'hour', 'Temp(C)', 'Solar_Radiation(MJ/m2)', 'Wind_speed(m/s)']\n",
      "[iter 0] loss=16.4519 val_loss=0.0000 scale=1.0000 norm=2963398.9849\n",
      "[iter 100] loss=15.5607 val_loss=0.0000 scale=2.0000 norm=1757249.6459\n",
      "[iter 200] loss=15.0445 val_loss=0.0000 scale=2.0000 norm=1211222.3840\n",
      "[iter 300] loss=14.7922 val_loss=0.0000 scale=2.0000 norm=1131991.3657\n",
      "[iter 400] loss=14.7011 val_loss=0.0000 scale=2.0000 norm=1112816.1544\n"
     ]
    },
    {
     "name": "stderr",
     "output_type": "stream",
     "text": [
      "\r",
      "Feature combinations: 178it [2:14:09, 44.03s/it]"
     ]
    },
    {
     "name": "stdout",
     "output_type": "stream",
     "text": [
      "Using features: ['Vapor_pressure(hPa)', 'Dew_Point(C)', 'Local Atmospheric Pressure(hPa)', 'Temp(C)', 'Solar_Radiation(MJ/m2)', 'Wind_speed(m/s)']\n",
      "[iter 0] loss=16.4519 val_loss=0.0000 scale=1.0000 norm=2963398.9849\n",
      "[iter 100] loss=15.5641 val_loss=0.0000 scale=2.0000 norm=1749464.5622\n",
      "[iter 200] loss=15.0741 val_loss=0.0000 scale=2.0000 norm=1250994.3943\n",
      "[iter 300] loss=14.8437 val_loss=0.0000 scale=2.0000 norm=1193040.8505\n",
      "[iter 400] loss=14.7485 val_loss=0.0000 scale=2.0000 norm=1176654.2253\n"
     ]
    },
    {
     "name": "stderr",
     "output_type": "stream",
     "text": [
      "\r",
      "Feature combinations: 179it [2:15:01, 46.36s/it]"
     ]
    },
    {
     "name": "stdout",
     "output_type": "stream",
     "text": [
      "Using features: ['Vapor_pressure(hPa)', 'Dew_Point(C)', 'sunshine(hr)', 'Temp(C)', 'Solar_Radiation(MJ/m2)', 'Wind_speed(m/s)']\n",
      "[iter 0] loss=16.4519 val_loss=0.0000 scale=1.0000 norm=2963398.9849\n",
      "[iter 100] loss=15.5489 val_loss=0.0000 scale=2.0000 norm=1733880.0536\n",
      "[iter 200] loss=15.0692 val_loss=0.0000 scale=2.0000 norm=1274342.9104\n",
      "[iter 300] loss=14.8408 val_loss=0.0000 scale=2.0000 norm=1219154.3147\n",
      "[iter 400] loss=14.7416 val_loss=0.0000 scale=1.0000 norm=601427.7242\n"
     ]
    },
    {
     "name": "stderr",
     "output_type": "stream",
     "text": [
      "\r",
      "Feature combinations: 180it [2:15:49, 46.90s/it]"
     ]
    },
    {
     "name": "stdout",
     "output_type": "stream",
     "text": [
      "Using features: ['Vapor_pressure(hPa)', 'Dew_Point(C)', 'Snowfall(cm)', 'Temp(C)', 'Solar_Radiation(MJ/m2)', 'Wind_speed(m/s)']\n",
      "[iter 0] loss=16.4519 val_loss=0.0000 scale=1.0000 norm=2963398.9849\n",
      "[iter 100] loss=15.5487 val_loss=0.0000 scale=2.0000 norm=1740338.7804\n",
      "[iter 200] loss=15.0727 val_loss=0.0000 scale=2.0000 norm=1274055.9210\n",
      "[iter 300] loss=14.8471 val_loss=0.0000 scale=2.0000 norm=1217238.8586\n",
      "[iter 400] loss=14.7521 val_loss=0.0000 scale=1.0000 norm=601266.4012\n"
     ]
    },
    {
     "name": "stderr",
     "output_type": "stream",
     "text": [
      "\r",
      "Feature combinations: 181it [2:16:37, 47.35s/it]"
     ]
    },
    {
     "name": "stdout",
     "output_type": "stream",
     "text": [
      "Using features: ['Vapor_pressure(hPa)', 'Dew_Point(C)', 'Cloud_Cover(1/10)', 'Temp(C)', 'Solar_Radiation(MJ/m2)', 'Wind_speed(m/s)']\n",
      "[iter 0] loss=16.4519 val_loss=0.0000 scale=1.0000 norm=2963398.9849\n",
      "[iter 100] loss=15.5473 val_loss=0.0000 scale=2.0000 norm=1727993.2327\n",
      "[iter 200] loss=15.0680 val_loss=0.0000 scale=2.0000 norm=1263337.7123\n",
      "[iter 300] loss=14.8363 val_loss=0.0000 scale=2.0000 norm=1206611.7329\n",
      "[iter 400] loss=14.7473 val_loss=0.0000 scale=1.0000 norm=596505.3453\n"
     ]
    },
    {
     "name": "stderr",
     "output_type": "stream",
     "text": [
      "\r",
      "Feature combinations: 182it [2:17:26, 47.84s/it]"
     ]
    },
    {
     "name": "stdout",
     "output_type": "stream",
     "text": [
      "Using features: ['Vapor_pressure(hPa)', 'Dew_Point(C)', 'Visibility(10m)', 'Temp(C)', 'Solar_Radiation(MJ/m2)', 'Wind_speed(m/s)']\n",
      "[iter 0] loss=16.4519 val_loss=0.0000 scale=1.0000 norm=2963398.9849\n",
      "[iter 100] loss=15.5497 val_loss=0.0000 scale=2.0000 norm=1737325.1701\n",
      "[iter 200] loss=15.0780 val_loss=0.0000 scale=2.0000 norm=1281907.1477\n",
      "[iter 300] loss=14.8536 val_loss=0.0000 scale=2.0000 norm=1226769.3230\n",
      "[iter 400] loss=14.7622 val_loss=0.0000 scale=1.0000 norm=605135.5639\n"
     ]
    },
    {
     "name": "stderr",
     "output_type": "stream",
     "text": [
      "\r",
      "Feature combinations: 183it [2:18:19, 49.41s/it]"
     ]
    },
    {
     "name": "stdout",
     "output_type": "stream",
     "text": [
      "Using features: ['Vapor_pressure(hPa)', 'Dew_Point(C)', 'year', 'Temp(C)', 'Solar_Radiation(MJ/m2)', 'Wind_speed(m/s)']\n",
      "[iter 0] loss=16.4519 val_loss=0.0000 scale=1.0000 norm=2963398.9849\n",
      "[iter 100] loss=15.5549 val_loss=0.0000 scale=2.0000 norm=1744355.9362\n",
      "[iter 200] loss=15.0504 val_loss=0.0000 scale=2.0000 norm=1219441.3024\n",
      "[iter 300] loss=14.8174 val_loss=0.0000 scale=2.0000 norm=1142120.6003\n",
      "[iter 400] loss=14.7365 val_loss=0.0000 scale=1.0000 norm=561252.2023\n"
     ]
    },
    {
     "name": "stderr",
     "output_type": "stream",
     "text": [
      "\r",
      "Feature combinations: 184it [2:19:07, 48.78s/it]"
     ]
    },
    {
     "name": "stdout",
     "output_type": "stream",
     "text": [
      "Using features: ['Vapor_pressure(hPa)', 'Dew_Point(C)', 'month', 'Temp(C)', 'Solar_Radiation(MJ/m2)', 'Wind_speed(m/s)']\n",
      "[iter 0] loss=16.4519 val_loss=0.0000 scale=1.0000 norm=2963398.9849\n",
      "[iter 100] loss=15.5579 val_loss=0.0000 scale=2.0000 norm=1749490.2476\n",
      "[iter 200] loss=15.0653 val_loss=0.0000 scale=2.0000 norm=1245258.5436\n",
      "[iter 300] loss=14.8371 val_loss=0.0000 scale=2.0000 norm=1176659.2072\n",
      "[iter 400] loss=14.7627 val_loss=0.0000 scale=2.0000 norm=1163240.9204\n"
     ]
    },
    {
     "name": "stderr",
     "output_type": "stream",
     "text": [
      "\r",
      "Feature combinations: 185it [2:19:55, 48.71s/it]"
     ]
    },
    {
     "name": "stdout",
     "output_type": "stream",
     "text": [
      "Using features: ['Vapor_pressure(hPa)', 'Dew_Point(C)', 'hour', 'Temp(C)', 'Solar_Radiation(MJ/m2)', 'Wind_speed(m/s)']\n",
      "[iter 0] loss=16.4519 val_loss=0.0000 scale=1.0000 norm=2963398.9849\n",
      "[iter 100] loss=15.5600 val_loss=0.0000 scale=2.0000 norm=1751916.0383\n",
      "[iter 200] loss=15.0493 val_loss=0.0000 scale=2.0000 norm=1212754.0587\n",
      "[iter 300] loss=14.8014 val_loss=0.0000 scale=2.0000 norm=1145467.2892\n",
      "[iter 400] loss=14.7030 val_loss=0.0000 scale=2.0000 norm=1128174.2213\n"
     ]
    },
    {
     "name": "stderr",
     "output_type": "stream",
     "text": [
      "\r",
      "Feature combinations: 186it [2:20:48, 49.96s/it]"
     ]
    },
    {
     "name": "stdout",
     "output_type": "stream",
     "text": [
      "Using features: ['Vapor_pressure(hPa)', 'Local Atmospheric Pressure(hPa)', 'sunshine(hr)', 'Temp(C)', 'Solar_Radiation(MJ/m2)', 'Wind_speed(m/s)']\n",
      "[iter 0] loss=16.4519 val_loss=0.0000 scale=1.0000 norm=2963398.9849\n",
      "[iter 100] loss=15.5637 val_loss=0.0000 scale=2.0000 norm=1747857.8066\n",
      "[iter 200] loss=15.0637 val_loss=0.0000 scale=2.0000 norm=1244462.3213\n",
      "[iter 300] loss=14.8271 val_loss=0.0000 scale=2.0000 norm=1183724.9563\n",
      "[iter 400] loss=14.7273 val_loss=0.0000 scale=1.0000 norm=582179.8776\n"
     ]
    },
    {
     "name": "stderr",
     "output_type": "stream",
     "text": [
      "\r",
      "Feature combinations: 187it [2:21:35, 49.14s/it]"
     ]
    },
    {
     "name": "stdout",
     "output_type": "stream",
     "text": [
      "Using features: ['Vapor_pressure(hPa)', 'Local Atmospheric Pressure(hPa)', 'Snowfall(cm)', 'Temp(C)', 'Solar_Radiation(MJ/m2)', 'Wind_speed(m/s)']\n",
      "[iter 0] loss=16.4519 val_loss=0.0000 scale=1.0000 norm=2963398.9849\n",
      "[iter 100] loss=15.5631 val_loss=0.0000 scale=2.0000 norm=1752453.2492\n",
      "[iter 200] loss=15.0676 val_loss=0.0000 scale=2.0000 norm=1241648.2276\n",
      "[iter 300] loss=14.8328 val_loss=0.0000 scale=2.0000 norm=1176807.6268\n",
      "[iter 400] loss=14.7380 val_loss=0.0000 scale=1.0000 norm=579813.4465\n"
     ]
    },
    {
     "name": "stderr",
     "output_type": "stream",
     "text": [
      "\r",
      "Feature combinations: 188it [2:22:19, 47.62s/it]"
     ]
    },
    {
     "name": "stdout",
     "output_type": "stream",
     "text": [
      "Using features: ['Vapor_pressure(hPa)', 'Local Atmospheric Pressure(hPa)', 'Cloud_Cover(1/10)', 'Temp(C)', 'Solar_Radiation(MJ/m2)', 'Wind_speed(m/s)']\n",
      "[iter 0] loss=16.4519 val_loss=0.0000 scale=1.0000 norm=2963398.9849\n",
      "[iter 100] loss=15.5557 val_loss=0.0000 scale=2.0000 norm=1729125.2594\n",
      "[iter 200] loss=15.0609 val_loss=0.0000 scale=2.0000 norm=1233791.9345\n",
      "[iter 300] loss=14.8233 val_loss=0.0000 scale=2.0000 norm=1170403.0015\n",
      "[iter 400] loss=14.7345 val_loss=0.0000 scale=2.0000 norm=1154713.8887\n"
     ]
    },
    {
     "name": "stderr",
     "output_type": "stream",
     "text": [
      "\r",
      "Feature combinations: 189it [2:23:03, 46.38s/it]"
     ]
    },
    {
     "name": "stdout",
     "output_type": "stream",
     "text": [
      "Using features: ['Vapor_pressure(hPa)', 'Local Atmospheric Pressure(hPa)', 'Visibility(10m)', 'Temp(C)', 'Solar_Radiation(MJ/m2)', 'Wind_speed(m/s)']\n",
      "[iter 0] loss=16.4519 val_loss=0.0000 scale=1.0000 norm=2963398.9849\n",
      "[iter 100] loss=15.5641 val_loss=0.0000 scale=2.0000 norm=1749444.3210\n",
      "[iter 200] loss=15.0734 val_loss=0.0000 scale=2.0000 norm=1249606.7568\n",
      "[iter 300] loss=14.8450 val_loss=0.0000 scale=2.0000 norm=1190763.7404\n",
      "[iter 400] loss=14.7536 val_loss=0.0000 scale=1.0000 norm=586358.2214\n"
     ]
    },
    {
     "name": "stderr",
     "output_type": "stream",
     "text": [
      "\r",
      "Feature combinations: 190it [2:23:50, 46.68s/it]"
     ]
    },
    {
     "name": "stdout",
     "output_type": "stream",
     "text": [
      "Using features: ['Vapor_pressure(hPa)', 'Local Atmospheric Pressure(hPa)', 'year', 'Temp(C)', 'Solar_Radiation(MJ/m2)', 'Wind_speed(m/s)']\n",
      "[iter 0] loss=16.4519 val_loss=0.0000 scale=1.0000 norm=2963398.9849\n",
      "[iter 100] loss=15.5603 val_loss=0.0000 scale=2.0000 norm=1738629.9479\n",
      "[iter 200] loss=15.0430 val_loss=0.0000 scale=2.0000 norm=1182889.5938\n",
      "[iter 300] loss=14.7927 val_loss=0.0000 scale=1.0000 norm=546300.2540\n",
      "[iter 400] loss=14.7117 val_loss=0.0000 scale=1.0000 norm=535532.8563\n"
     ]
    },
    {
     "name": "stderr",
     "output_type": "stream",
     "text": [
      "\r",
      "Feature combinations: 191it [2:24:34, 45.65s/it]"
     ]
    },
    {
     "name": "stdout",
     "output_type": "stream",
     "text": [
      "Using features: ['Vapor_pressure(hPa)', 'Local Atmospheric Pressure(hPa)', 'month', 'Temp(C)', 'Solar_Radiation(MJ/m2)', 'Wind_speed(m/s)']\n",
      "[iter 0] loss=16.4519 val_loss=0.0000 scale=1.0000 norm=2963398.9849\n",
      "[iter 100] loss=15.5639 val_loss=0.0000 scale=2.0000 norm=1748977.8298\n",
      "[iter 200] loss=15.0684 val_loss=0.0000 scale=2.0000 norm=1238831.6877\n",
      "[iter 300] loss=14.8349 val_loss=0.0000 scale=2.0000 norm=1169487.0060\n",
      "[iter 400] loss=14.7494 val_loss=0.0000 scale=2.0000 norm=1152829.5268\n"
     ]
    },
    {
     "name": "stderr",
     "output_type": "stream",
     "text": [
      "\r",
      "Feature combinations: 192it [2:25:17, 44.94s/it]"
     ]
    },
    {
     "name": "stdout",
     "output_type": "stream",
     "text": [
      "Using features: ['Vapor_pressure(hPa)', 'Local Atmospheric Pressure(hPa)', 'hour', 'Temp(C)', 'Solar_Radiation(MJ/m2)', 'Wind_speed(m/s)']\n",
      "[iter 0] loss=16.4519 val_loss=0.0000 scale=1.0000 norm=2963398.9849\n",
      "[iter 100] loss=15.5598 val_loss=0.0000 scale=2.0000 norm=1740638.3810\n",
      "[iter 200] loss=15.0449 val_loss=0.0000 scale=2.0000 norm=1196155.8956\n",
      "[iter 300] loss=14.7942 val_loss=0.0000 scale=2.0000 norm=1125279.2694\n",
      "[iter 400] loss=14.7008 val_loss=0.0000 scale=2.0000 norm=1108637.6005\n"
     ]
    },
    {
     "name": "stderr",
     "output_type": "stream",
     "text": [
      "\r",
      "Feature combinations: 193it [2:26:00, 44.49s/it]"
     ]
    },
    {
     "name": "stdout",
     "output_type": "stream",
     "text": [
      "Using features: ['Vapor_pressure(hPa)', 'sunshine(hr)', 'Snowfall(cm)', 'Temp(C)', 'Solar_Radiation(MJ/m2)', 'Wind_speed(m/s)']\n",
      "[iter 0] loss=16.4519 val_loss=0.0000 scale=1.0000 norm=2963398.9849\n",
      "[iter 100] loss=15.5478 val_loss=0.0000 scale=2.0000 norm=1737408.7050\n",
      "[iter 200] loss=15.0620 val_loss=0.0000 scale=2.0000 norm=1266252.4008\n",
      "[iter 300] loss=14.8328 val_loss=0.0000 scale=2.0000 norm=1204321.3707\n",
      "[iter 400] loss=14.7328 val_loss=0.0000 scale=1.0000 norm=592937.7952\n"
     ]
    },
    {
     "name": "stderr",
     "output_type": "stream",
     "text": [
      "\r",
      "Feature combinations: 194it [2:26:39, 42.79s/it]"
     ]
    },
    {
     "name": "stdout",
     "output_type": "stream",
     "text": [
      "Using features: ['Vapor_pressure(hPa)', 'sunshine(hr)', 'Cloud_Cover(1/10)', 'Temp(C)', 'Solar_Radiation(MJ/m2)', 'Wind_speed(m/s)']\n",
      "[iter 0] loss=16.4519 val_loss=0.0000 scale=1.0000 norm=2963398.9849\n",
      "[iter 100] loss=15.5472 val_loss=0.0000 scale=2.0000 norm=1727742.1424\n",
      "[iter 200] loss=15.0637 val_loss=0.0000 scale=2.0000 norm=1261871.2088\n",
      "[iter 300] loss=14.8318 val_loss=0.0000 scale=2.0000 norm=1203967.6352\n",
      "[iter 400] loss=14.7318 val_loss=0.0000 scale=2.0000 norm=1186645.7894\n"
     ]
    },
    {
     "name": "stderr",
     "output_type": "stream",
     "text": [
      "\r",
      "Feature combinations: 195it [2:27:19, 41.87s/it]"
     ]
    },
    {
     "name": "stdout",
     "output_type": "stream",
     "text": [
      "Using features: ['Vapor_pressure(hPa)', 'sunshine(hr)', 'Visibility(10m)', 'Temp(C)', 'Solar_Radiation(MJ/m2)', 'Wind_speed(m/s)']\n",
      "[iter 0] loss=16.4519 val_loss=0.0000 scale=1.0000 norm=2963398.9849\n",
      "[iter 100] loss=15.5489 val_loss=0.0000 scale=2.0000 norm=1734252.9016\n",
      "[iter 200] loss=15.0682 val_loss=0.0000 scale=2.0000 norm=1272566.1985\n",
      "[iter 300] loss=14.8407 val_loss=0.0000 scale=2.0000 norm=1214947.8960\n",
      "[iter 400] loss=14.7452 val_loss=0.0000 scale=1.0000 norm=597605.3345\n"
     ]
    },
    {
     "name": "stderr",
     "output_type": "stream",
     "text": [
      "\r",
      "Feature combinations: 196it [2:28:02, 42.29s/it]"
     ]
    },
    {
     "name": "stdout",
     "output_type": "stream",
     "text": [
      "Using features: ['Vapor_pressure(hPa)', 'sunshine(hr)', 'year', 'Temp(C)', 'Solar_Radiation(MJ/m2)', 'Wind_speed(m/s)']\n",
      "[iter 0] loss=16.4519 val_loss=0.0000 scale=1.0000 norm=2963398.9849\n",
      "[iter 100] loss=15.5444 val_loss=0.0000 scale=2.0000 norm=1722599.6436\n",
      "[iter 200] loss=15.0351 val_loss=0.0000 scale=2.0000 norm=1210454.9876\n",
      "[iter 300] loss=14.7988 val_loss=0.0000 scale=2.0000 norm=1131986.2518\n",
      "[iter 400] loss=14.7142 val_loss=0.0000 scale=1.0000 norm=554676.5911\n"
     ]
    },
    {
     "name": "stderr",
     "output_type": "stream",
     "text": [
      "\r",
      "Feature combinations: 197it [2:28:48, 43.50s/it]"
     ]
    },
    {
     "name": "stdout",
     "output_type": "stream",
     "text": [
      "Using features: ['Vapor_pressure(hPa)', 'sunshine(hr)', 'month', 'Temp(C)', 'Solar_Radiation(MJ/m2)', 'Wind_speed(m/s)']\n",
      "[iter 0] loss=16.4519 val_loss=0.0000 scale=1.0000 norm=2963398.9849\n",
      "[iter 100] loss=15.5472 val_loss=0.0000 scale=2.0000 norm=1727357.1293\n",
      "[iter 200] loss=15.0489 val_loss=0.0000 scale=2.0000 norm=1235072.8755\n",
      "[iter 300] loss=14.8115 val_loss=0.0000 scale=2.0000 norm=1163539.4445\n",
      "[iter 400] loss=14.7293 val_loss=0.0000 scale=1.0000 norm=572810.0772\n"
     ]
    },
    {
     "name": "stderr",
     "output_type": "stream",
     "text": [
      "\r",
      "Feature combinations: 198it [2:29:30, 42.80s/it]"
     ]
    },
    {
     "name": "stdout",
     "output_type": "stream",
     "text": [
      "Using features: ['Vapor_pressure(hPa)', 'sunshine(hr)', 'hour', 'Temp(C)', 'Solar_Radiation(MJ/m2)', 'Wind_speed(m/s)']\n",
      "[iter 0] loss=16.4519 val_loss=0.0000 scale=1.0000 norm=2963398.9849\n",
      "[iter 100] loss=15.5516 val_loss=0.0000 scale=2.0000 norm=1727626.4549\n",
      "[iter 200] loss=15.0179 val_loss=0.0000 scale=2.0000 norm=1157376.8868\n",
      "[iter 300] loss=14.7521 val_loss=0.0000 scale=2.0000 norm=1078410.8253\n",
      "[iter 400] loss=14.6451 val_loss=0.0000 scale=2.0000 norm=1057494.7975\n"
     ]
    },
    {
     "name": "stderr",
     "output_type": "stream",
     "text": [
      "\r",
      "Feature combinations: 199it [2:30:10, 42.13s/it]"
     ]
    },
    {
     "name": "stdout",
     "output_type": "stream",
     "text": [
      "Using features: ['Vapor_pressure(hPa)', 'Snowfall(cm)', 'Cloud_Cover(1/10)', 'Temp(C)', 'Solar_Radiation(MJ/m2)', 'Wind_speed(m/s)']\n",
      "[iter 0] loss=16.4519 val_loss=0.0000 scale=1.0000 norm=2963398.9849\n",
      "[iter 100] loss=15.5463 val_loss=0.0000 scale=2.0000 norm=1731582.8003\n",
      "[iter 200] loss=15.0618 val_loss=0.0000 scale=2.0000 norm=1257226.2363\n",
      "[iter 300] loss=14.8305 val_loss=0.0000 scale=1.0000 norm=596744.2800\n",
      "[iter 400] loss=14.7382 val_loss=0.0000 scale=1.0000 norm=588176.4904\n"
     ]
    },
    {
     "name": "stderr",
     "output_type": "stream",
     "text": [
      "\r",
      "Feature combinations: 200it [2:30:49, 41.10s/it]"
     ]
    },
    {
     "name": "stdout",
     "output_type": "stream",
     "text": [
      "Using features: ['Vapor_pressure(hPa)', 'Snowfall(cm)', 'Visibility(10m)', 'Temp(C)', 'Solar_Radiation(MJ/m2)', 'Wind_speed(m/s)']\n",
      "[iter 0] loss=16.4519 val_loss=0.0000 scale=1.0000 norm=2963398.9849\n",
      "[iter 100] loss=15.5487 val_loss=0.0000 scale=2.0000 norm=1740669.6652\n",
      "[iter 200] loss=15.0721 val_loss=0.0000 scale=2.0000 norm=1274582.6778\n",
      "[iter 300] loss=14.8463 val_loss=0.0000 scale=2.0000 norm=1211747.4705\n",
      "[iter 400] loss=14.7549 val_loss=0.0000 scale=2.0000 norm=1194000.8838\n"
     ]
    },
    {
     "name": "stderr",
     "output_type": "stream",
     "text": [
      "\r",
      "Feature combinations: 201it [2:31:32, 41.73s/it]"
     ]
    },
    {
     "name": "stdout",
     "output_type": "stream",
     "text": [
      "Using features: ['Vapor_pressure(hPa)', 'Snowfall(cm)', 'year', 'Temp(C)', 'Solar_Radiation(MJ/m2)', 'Wind_speed(m/s)']\n",
      "[iter 0] loss=16.4519 val_loss=0.0000 scale=1.0000 norm=2963398.9849\n",
      "[iter 100] loss=15.5436 val_loss=0.0000 scale=2.0000 norm=1724968.9149\n",
      "[iter 200] loss=15.0402 val_loss=0.0000 scale=2.0000 norm=1212525.1315\n",
      "[iter 300] loss=14.8051 val_loss=0.0000 scale=2.0000 norm=1128755.9628\n",
      "[iter 400] loss=14.7222 val_loss=0.0000 scale=1.0000 norm=552429.3759\n"
     ]
    },
    {
     "name": "stderr",
     "output_type": "stream",
     "text": [
      "\r",
      "Feature combinations: 202it [2:32:13, 41.56s/it]"
     ]
    },
    {
     "name": "stdout",
     "output_type": "stream",
     "text": [
      "Using features: ['Vapor_pressure(hPa)', 'Snowfall(cm)', 'month', 'Temp(C)', 'Solar_Radiation(MJ/m2)', 'Wind_speed(m/s)']\n",
      "[iter 0] loss=16.4519 val_loss=0.0000 scale=1.0000 norm=2963398.9849\n",
      "[iter 100] loss=15.5468 val_loss=0.0000 scale=2.0000 norm=1732554.3889\n",
      "[iter 200] loss=15.0560 val_loss=0.0000 scale=2.0000 norm=1239158.8839\n",
      "[iter 300] loss=14.8397 val_loss=0.0000 scale=2.0000 norm=1167775.1417\n",
      "[iter 400] loss=14.7637 val_loss=0.0000 scale=1.0000 norm=575557.9092\n"
     ]
    },
    {
     "name": "stderr",
     "output_type": "stream",
     "text": [
      "\r",
      "Feature combinations: 203it [2:32:54, 41.28s/it]"
     ]
    },
    {
     "name": "stdout",
     "output_type": "stream",
     "text": [
      "Using features: ['Vapor_pressure(hPa)', 'Snowfall(cm)', 'hour', 'Temp(C)', 'Solar_Radiation(MJ/m2)', 'Wind_speed(m/s)']\n",
      "[iter 0] loss=16.4519 val_loss=0.0000 scale=1.0000 norm=2963398.9849\n",
      "[iter 100] loss=15.5523 val_loss=0.0000 scale=2.0000 norm=1741225.6571\n",
      "[iter 200] loss=15.0414 val_loss=0.0000 scale=2.0000 norm=1207200.6088\n",
      "[iter 300] loss=14.7946 val_loss=0.0000 scale=2.0000 norm=1132618.9584\n",
      "[iter 400] loss=14.6967 val_loss=0.0000 scale=2.0000 norm=1113241.8745\n"
     ]
    },
    {
     "name": "stderr",
     "output_type": "stream",
     "text": [
      "\r",
      "Feature combinations: 204it [2:33:44, 43.97s/it]"
     ]
    },
    {
     "name": "stdout",
     "output_type": "stream",
     "text": [
      "Using features: ['Vapor_pressure(hPa)', 'Cloud_Cover(1/10)', 'Visibility(10m)', 'Temp(C)', 'Solar_Radiation(MJ/m2)', 'Wind_speed(m/s)']\n",
      "[iter 0] loss=16.4519 val_loss=0.0000 scale=1.0000 norm=2963398.9849\n",
      "[iter 100] loss=15.5473 val_loss=0.0000 scale=2.0000 norm=1728216.1639\n",
      "[iter 200] loss=15.0675 val_loss=0.0000 scale=2.0000 norm=1262888.2947\n",
      "[iter 300] loss=14.8377 val_loss=0.0000 scale=2.0000 norm=1203348.2244\n",
      "[iter 400] loss=14.7474 val_loss=0.0000 scale=2.0000 norm=1187178.7783\n"
     ]
    },
    {
     "name": "stderr",
     "output_type": "stream",
     "text": [
      "\r",
      "Feature combinations: 205it [2:34:37, 46.63s/it]"
     ]
    },
    {
     "name": "stdout",
     "output_type": "stream",
     "text": [
      "Using features: ['Vapor_pressure(hPa)', 'Cloud_Cover(1/10)', 'year', 'Temp(C)', 'Solar_Radiation(MJ/m2)', 'Wind_speed(m/s)']\n",
      "[iter 0] loss=16.4519 val_loss=0.0000 scale=1.0000 norm=2963398.9849\n",
      "[iter 100] loss=15.5434 val_loss=0.0000 scale=2.0000 norm=1719747.5559\n",
      "[iter 200] loss=15.0381 val_loss=0.0000 scale=2.0000 norm=1207983.3404\n",
      "[iter 300] loss=14.8017 val_loss=0.0000 scale=1.0000 norm=564362.9374\n",
      "[iter 400] loss=14.7252 val_loss=0.0000 scale=2.0000 norm=1109739.4549\n"
     ]
    },
    {
     "name": "stderr",
     "output_type": "stream",
     "text": [
      "\r",
      "Feature combinations: 206it [2:35:25, 46.93s/it]"
     ]
    },
    {
     "name": "stdout",
     "output_type": "stream",
     "text": [
      "Using features: ['Vapor_pressure(hPa)', 'Cloud_Cover(1/10)', 'month', 'Temp(C)', 'Solar_Radiation(MJ/m2)', 'Wind_speed(m/s)']\n",
      "[iter 0] loss=16.4519 val_loss=0.0000 scale=1.0000 norm=2963398.9849\n",
      "[iter 100] loss=15.5493 val_loss=0.0000 scale=2.0000 norm=1729350.6666\n",
      "[iter 200] loss=15.0529 val_loss=0.0000 scale=2.0000 norm=1228434.2607\n",
      "[iter 300] loss=14.8211 val_loss=0.0000 scale=2.0000 norm=1157140.9499\n",
      "[iter 400] loss=14.7443 val_loss=0.0000 scale=1.0000 norm=570970.5910\n"
     ]
    },
    {
     "name": "stderr",
     "output_type": "stream",
     "text": [
      "\r",
      "Feature combinations: 207it [2:36:13, 47.29s/it]"
     ]
    },
    {
     "name": "stdout",
     "output_type": "stream",
     "text": [
      "Using features: ['Vapor_pressure(hPa)', 'Cloud_Cover(1/10)', 'hour', 'Temp(C)', 'Solar_Radiation(MJ/m2)', 'Wind_speed(m/s)']\n",
      "[iter 0] loss=16.4519 val_loss=0.0000 scale=1.0000 norm=2963398.9849\n",
      "[iter 100] loss=15.5466 val_loss=0.0000 scale=2.0000 norm=1716240.6981\n",
      "[iter 200] loss=15.0183 val_loss=0.0000 scale=2.0000 norm=1150981.3947\n",
      "[iter 300] loss=14.7508 val_loss=0.0000 scale=2.0000 norm=1065554.0984\n",
      "[iter 400] loss=14.6471 val_loss=0.0000 scale=2.0000 norm=1042346.4887\n"
     ]
    },
    {
     "name": "stderr",
     "output_type": "stream",
     "text": [
      "\r",
      "Feature combinations: 208it [2:37:00, 47.34s/it]"
     ]
    },
    {
     "name": "stdout",
     "output_type": "stream",
     "text": [
      "Using features: ['Vapor_pressure(hPa)', 'Visibility(10m)', 'year', 'Temp(C)', 'Solar_Radiation(MJ/m2)', 'Wind_speed(m/s)']\n",
      "[iter 0] loss=16.4519 val_loss=0.0000 scale=1.0000 norm=2963398.9849\n",
      "[iter 100] loss=15.5446 val_loss=0.0000 scale=2.0000 norm=1724230.0660\n",
      "[iter 200] loss=15.0451 val_loss=0.0000 scale=2.0000 norm=1216856.4971\n",
      "[iter 300] loss=14.8141 val_loss=0.0000 scale=2.0000 norm=1140887.4398\n",
      "[iter 400] loss=14.7424 val_loss=0.0000 scale=1.0000 norm=562500.6057\n"
     ]
    },
    {
     "name": "stderr",
     "output_type": "stream",
     "text": [
      "\r",
      "Feature combinations: 209it [2:37:53, 48.95s/it]"
     ]
    },
    {
     "name": "stdout",
     "output_type": "stream",
     "text": [
      "Using features: ['Vapor_pressure(hPa)', 'Visibility(10m)', 'month', 'Temp(C)', 'Solar_Radiation(MJ/m2)', 'Wind_speed(m/s)']\n",
      "[iter 0] loss=16.4519 val_loss=0.0000 scale=1.0000 norm=2963398.9849\n",
      "[iter 100] loss=15.5479 val_loss=0.0000 scale=2.0000 norm=1730410.1475\n",
      "[iter 200] loss=15.0598 val_loss=0.0000 scale=2.0000 norm=1241385.8204\n",
      "[iter 300] loss=14.8342 val_loss=0.0000 scale=2.0000 norm=1171781.3432\n",
      "[iter 400] loss=14.7602 val_loss=0.0000 scale=1.0000 norm=577415.4773\n"
     ]
    },
    {
     "name": "stderr",
     "output_type": "stream",
     "text": [
      "\r",
      "Feature combinations: 210it [2:38:45, 49.85s/it]"
     ]
    },
    {
     "name": "stdout",
     "output_type": "stream",
     "text": [
      "Using features: ['Vapor_pressure(hPa)', 'Visibility(10m)', 'hour', 'Temp(C)', 'Solar_Radiation(MJ/m2)', 'Wind_speed(m/s)']\n",
      "[iter 0] loss=16.4519 val_loss=0.0000 scale=1.0000 norm=2963398.9849\n",
      "[iter 100] loss=15.5533 val_loss=0.0000 scale=2.0000 norm=1738921.7410\n",
      "[iter 200] loss=15.0455 val_loss=0.0000 scale=2.0000 norm=1210872.6640\n",
      "[iter 300] loss=14.8013 val_loss=0.0000 scale=2.0000 norm=1141204.6684\n",
      "[iter 400] loss=14.7061 val_loss=0.0000 scale=1.0000 norm=559944.3922\n"
     ]
    },
    {
     "name": "stderr",
     "output_type": "stream",
     "text": [
      "\r",
      "Feature combinations: 211it [2:39:38, 50.82s/it]"
     ]
    },
    {
     "name": "stdout",
     "output_type": "stream",
     "text": [
      "Using features: ['Vapor_pressure(hPa)', 'year', 'month', 'Temp(C)', 'Solar_Radiation(MJ/m2)', 'Wind_speed(m/s)']\n",
      "[iter 0] loss=16.4519 val_loss=0.0000 scale=1.0000 norm=2963398.9849\n",
      "[iter 100] loss=15.5440 val_loss=0.0000 scale=2.0000 norm=1720856.0832\n",
      "[iter 200] loss=15.0309 val_loss=0.0000 scale=2.0000 norm=1177056.4317\n",
      "[iter 300] loss=14.8029 val_loss=0.0000 scale=1.0000 norm=538673.1500\n",
      "[iter 400] loss=14.7344 val_loss=0.0000 scale=1.0000 norm=526029.6775\n"
     ]
    },
    {
     "name": "stderr",
     "output_type": "stream",
     "text": [
      "\r",
      "Feature combinations: 212it [2:40:24, 49.40s/it]"
     ]
    },
    {
     "name": "stdout",
     "output_type": "stream",
     "text": [
      "Using features: ['Vapor_pressure(hPa)', 'year', 'hour', 'Temp(C)', 'Solar_Radiation(MJ/m2)', 'Wind_speed(m/s)']\n",
      "[iter 0] loss=16.4519 val_loss=0.0000 scale=1.0000 norm=2963398.9849\n",
      "[iter 100] loss=15.5509 val_loss=0.0000 scale=2.0000 norm=1733660.6237\n",
      "[iter 200] loss=15.0226 val_loss=0.0000 scale=2.0000 norm=1165665.7099\n",
      "[iter 300] loss=14.7776 val_loss=0.0000 scale=2.0000 norm=1078288.2698\n",
      "[iter 400] loss=14.6942 val_loss=0.0000 scale=1.0000 norm=528489.7539\n"
     ]
    },
    {
     "name": "stderr",
     "output_type": "stream",
     "text": [
      "\r",
      "Feature combinations: 213it [2:41:11, 48.66s/it]"
     ]
    },
    {
     "name": "stdout",
     "output_type": "stream",
     "text": [
      "Using features: ['Vapor_pressure(hPa)', 'month', 'hour', 'Temp(C)', 'Solar_Radiation(MJ/m2)', 'Wind_speed(m/s)']\n",
      "[iter 0] loss=16.4519 val_loss=0.0000 scale=1.0000 norm=2963398.9849\n",
      "[iter 100] loss=15.5530 val_loss=0.0000 scale=2.0000 norm=1737366.7399\n",
      "[iter 200] loss=15.0416 val_loss=0.0000 scale=2.0000 norm=1200979.8111\n",
      "[iter 300] loss=14.7972 val_loss=0.0000 scale=2.0000 norm=1129782.3197\n",
      "[iter 400] loss=14.7075 val_loss=0.0000 scale=2.0000 norm=1111977.9157\n"
     ]
    },
    {
     "name": "stderr",
     "output_type": "stream",
     "text": [
      "\r",
      "Feature combinations: 214it [2:41:51, 46.19s/it]"
     ]
    },
    {
     "name": "stdout",
     "output_type": "stream",
     "text": [
      "Using features: ['Dew_Point(C)', 'Local Atmospheric Pressure(hPa)', 'sunshine(hr)', 'Temp(C)', 'Solar_Radiation(MJ/m2)', 'Wind_speed(m/s)']\n",
      "[iter 0] loss=16.4519 val_loss=0.0000 scale=1.0000 norm=2963398.9849\n",
      "[iter 100] loss=15.5637 val_loss=0.0000 scale=2.0000 norm=1747486.2547\n",
      "[iter 200] loss=15.0635 val_loss=0.0000 scale=2.0000 norm=1244101.2643\n",
      "[iter 300] loss=14.8271 val_loss=0.0000 scale=2.0000 norm=1183814.0681\n",
      "[iter 400] loss=14.7286 val_loss=0.0000 scale=2.0000 norm=1164841.0260\n"
     ]
    },
    {
     "name": "stderr",
     "output_type": "stream",
     "text": [
      "\r",
      "Feature combinations: 215it [2:42:35, 45.38s/it]"
     ]
    },
    {
     "name": "stdout",
     "output_type": "stream",
     "text": [
      "Using features: ['Dew_Point(C)', 'Local Atmospheric Pressure(hPa)', 'Snowfall(cm)', 'Temp(C)', 'Solar_Radiation(MJ/m2)', 'Wind_speed(m/s)']\n",
      "[iter 0] loss=16.4519 val_loss=0.0000 scale=1.0000 norm=2963398.9849\n",
      "[iter 100] loss=15.5630 val_loss=0.0000 scale=2.0000 norm=1752364.5747\n",
      "[iter 200] loss=15.0677 val_loss=0.0000 scale=2.0000 norm=1242007.9577\n",
      "[iter 300] loss=14.8332 val_loss=0.0000 scale=2.0000 norm=1177174.5722\n",
      "[iter 400] loss=14.7414 val_loss=0.0000 scale=2.0000 norm=1160322.3070\n"
     ]
    },
    {
     "name": "stderr",
     "output_type": "stream",
     "text": [
      "\r",
      "Feature combinations: 216it [2:43:17, 44.56s/it]"
     ]
    },
    {
     "name": "stdout",
     "output_type": "stream",
     "text": [
      "Using features: ['Dew_Point(C)', 'Local Atmospheric Pressure(hPa)', 'Cloud_Cover(1/10)', 'Temp(C)', 'Solar_Radiation(MJ/m2)', 'Wind_speed(m/s)']\n",
      "[iter 0] loss=16.4519 val_loss=0.0000 scale=1.0000 norm=2963398.9849\n",
      "[iter 100] loss=15.5556 val_loss=0.0000 scale=2.0000 norm=1729103.2455\n",
      "[iter 200] loss=15.0607 val_loss=0.0000 scale=2.0000 norm=1233031.0203\n",
      "[iter 300] loss=14.8237 val_loss=0.0000 scale=2.0000 norm=1171082.8944\n",
      "[iter 400] loss=14.7366 val_loss=0.0000 scale=1.0000 norm=577802.5891\n"
     ]
    },
    {
     "name": "stderr",
     "output_type": "stream",
     "text": [
      "\r",
      "Feature combinations: 217it [2:44:03, 44.82s/it]"
     ]
    },
    {
     "name": "stdout",
     "output_type": "stream",
     "text": [
      "Using features: ['Dew_Point(C)', 'Local Atmospheric Pressure(hPa)', 'Visibility(10m)', 'Temp(C)', 'Solar_Radiation(MJ/m2)', 'Wind_speed(m/s)']\n",
      "[iter 0] loss=16.4519 val_loss=0.0000 scale=1.0000 norm=2963398.9849\n",
      "[iter 100] loss=15.5641 val_loss=0.0000 scale=2.0000 norm=1749464.5622\n",
      "[iter 200] loss=15.0736 val_loss=0.0000 scale=2.0000 norm=1249883.5927\n",
      "[iter 300] loss=14.8433 val_loss=0.0000 scale=2.0000 norm=1190609.6338\n",
      "[iter 400] loss=14.7524 val_loss=0.0000 scale=1.0000 norm=586078.1068\n"
     ]
    },
    {
     "name": "stderr",
     "output_type": "stream",
     "text": [
      "\r",
      "Feature combinations: 218it [2:44:53, 46.44s/it]"
     ]
    },
    {
     "name": "stdout",
     "output_type": "stream",
     "text": [
      "Using features: ['Dew_Point(C)', 'Local Atmospheric Pressure(hPa)', 'year', 'Temp(C)', 'Solar_Radiation(MJ/m2)', 'Wind_speed(m/s)']\n",
      "[iter 0] loss=16.4519 val_loss=0.0000 scale=1.0000 norm=2963398.9849\n",
      "[iter 100] loss=15.5602 val_loss=0.0000 scale=2.0000 norm=1738751.3384\n",
      "[iter 200] loss=15.0431 val_loss=0.0000 scale=2.0000 norm=1183475.4706\n",
      "[iter 300] loss=14.7958 val_loss=0.0000 scale=2.0000 norm=1093334.9082\n",
      "[iter 400] loss=14.7108 val_loss=0.0000 scale=1.0000 norm=535498.6919\n"
     ]
    },
    {
     "name": "stderr",
     "output_type": "stream",
     "text": [
      "\r",
      "Feature combinations: 219it [2:45:39, 46.41s/it]"
     ]
    },
    {
     "name": "stdout",
     "output_type": "stream",
     "text": [
      "Using features: ['Dew_Point(C)', 'Local Atmospheric Pressure(hPa)', 'month', 'Temp(C)', 'Solar_Radiation(MJ/m2)', 'Wind_speed(m/s)']\n",
      "[iter 0] loss=16.4519 val_loss=0.0000 scale=1.0000 norm=2963398.9849\n",
      "[iter 100] loss=15.5640 val_loss=0.0000 scale=2.0000 norm=1749072.4838\n",
      "[iter 200] loss=15.0685 val_loss=0.0000 scale=2.0000 norm=1238474.6258\n",
      "[iter 300] loss=14.8347 val_loss=0.0000 scale=2.0000 norm=1169584.8307\n",
      "[iter 400] loss=14.7512 val_loss=0.0000 scale=1.0000 norm=576733.5984\n"
     ]
    },
    {
     "name": "stderr",
     "output_type": "stream",
     "text": [
      "\r",
      "Feature combinations: 220it [2:46:25, 46.04s/it]"
     ]
    },
    {
     "name": "stdout",
     "output_type": "stream",
     "text": [
      "Using features: ['Dew_Point(C)', 'Local Atmospheric Pressure(hPa)', 'hour', 'Temp(C)', 'Solar_Radiation(MJ/m2)', 'Wind_speed(m/s)']\n",
      "[iter 0] loss=16.4519 val_loss=0.0000 scale=1.0000 norm=2963398.9849\n",
      "[iter 100] loss=15.5597 val_loss=0.0000 scale=2.0000 norm=1740606.0946\n",
      "[iter 200] loss=15.0446 val_loss=0.0000 scale=2.0000 norm=1195229.6965\n",
      "[iter 300] loss=14.7953 val_loss=0.0000 scale=2.0000 norm=1125278.2846\n",
      "[iter 400] loss=14.6990 val_loss=0.0000 scale=2.0000 norm=1107511.5915\n"
     ]
    },
    {
     "name": "stderr",
     "output_type": "stream",
     "text": [
      "\r",
      "Feature combinations: 221it [2:47:09, 45.42s/it]"
     ]
    },
    {
     "name": "stdout",
     "output_type": "stream",
     "text": [
      "Using features: ['Dew_Point(C)', 'sunshine(hr)', 'Snowfall(cm)', 'Temp(C)', 'Solar_Radiation(MJ/m2)', 'Wind_speed(m/s)']\n",
      "[iter 0] loss=16.4519 val_loss=0.0000 scale=1.0000 norm=2963398.9849\n",
      "[iter 100] loss=15.5478 val_loss=0.0000 scale=2.0000 norm=1736986.7078\n",
      "[iter 200] loss=15.0620 val_loss=0.0000 scale=2.0000 norm=1265936.1521\n",
      "[iter 300] loss=14.8320 val_loss=0.0000 scale=2.0000 norm=1202944.1713\n",
      "[iter 400] loss=14.7301 val_loss=0.0000 scale=2.0000 norm=1184015.9704\n"
     ]
    },
    {
     "name": "stderr",
     "output_type": "stream",
     "text": [
      "\r",
      "Feature combinations: 222it [2:47:47, 43.43s/it]"
     ]
    },
    {
     "name": "stdout",
     "output_type": "stream",
     "text": [
      "Using features: ['Dew_Point(C)', 'sunshine(hr)', 'Cloud_Cover(1/10)', 'Temp(C)', 'Solar_Radiation(MJ/m2)', 'Wind_speed(m/s)']\n",
      "[iter 0] loss=16.4519 val_loss=0.0000 scale=1.0000 norm=2963398.9849\n",
      "[iter 100] loss=15.5472 val_loss=0.0000 scale=2.0000 norm=1727820.2254\n",
      "[iter 200] loss=15.0637 val_loss=0.0000 scale=2.0000 norm=1261369.6723\n",
      "[iter 300] loss=14.8320 val_loss=0.0000 scale=2.0000 norm=1203653.3944\n",
      "[iter 400] loss=14.7337 val_loss=0.0000 scale=2.0000 norm=1186450.9409\n"
     ]
    },
    {
     "name": "stderr",
     "output_type": "stream",
     "text": [
      "\r",
      "Feature combinations: 223it [2:48:28, 42.47s/it]"
     ]
    },
    {
     "name": "stdout",
     "output_type": "stream",
     "text": [
      "Using features: ['Dew_Point(C)', 'sunshine(hr)', 'Visibility(10m)', 'Temp(C)', 'Solar_Radiation(MJ/m2)', 'Wind_speed(m/s)']\n",
      "[iter 0] loss=16.4519 val_loss=0.0000 scale=1.0000 norm=2963398.9849\n",
      "[iter 100] loss=15.5489 val_loss=0.0000 scale=2.0000 norm=1733880.0536\n",
      "[iter 200] loss=15.0684 val_loss=0.0000 scale=2.0000 norm=1272993.7173\n",
      "[iter 300] loss=14.8415 val_loss=0.0000 scale=2.0000 norm=1215117.8723\n",
      "[iter 400] loss=14.7495 val_loss=0.0000 scale=2.0000 norm=1196747.8836\n"
     ]
    },
    {
     "name": "stderr",
     "output_type": "stream",
     "text": [
      "\r",
      "Feature combinations: 224it [2:49:12, 42.98s/it]"
     ]
    },
    {
     "name": "stdout",
     "output_type": "stream",
     "text": [
      "Using features: ['Dew_Point(C)', 'sunshine(hr)', 'year', 'Temp(C)', 'Solar_Radiation(MJ/m2)', 'Wind_speed(m/s)']\n",
      "[iter 0] loss=16.4519 val_loss=0.0000 scale=1.0000 norm=2963398.9849\n",
      "[iter 100] loss=15.5546 val_loss=0.0000 scale=2.0000 norm=1742316.8942\n",
      "[iter 200] loss=15.0407 val_loss=0.0000 scale=2.0000 norm=1213472.5745\n",
      "[iter 300] loss=14.7991 val_loss=0.0000 scale=2.0000 norm=1130573.1705\n",
      "[iter 400] loss=14.7084 val_loss=0.0000 scale=1.0000 norm=552241.8649\n"
     ]
    },
    {
     "name": "stderr",
     "output_type": "stream",
     "text": [
      "\r",
      "Feature combinations: 225it [2:49:52, 42.09s/it]"
     ]
    },
    {
     "name": "stdout",
     "output_type": "stream",
     "text": [
      "Using features: ['Dew_Point(C)', 'sunshine(hr)', 'month', 'Temp(C)', 'Solar_Radiation(MJ/m2)', 'Wind_speed(m/s)']\n",
      "[iter 0] loss=16.4519 val_loss=0.0000 scale=1.0000 norm=2963398.9849\n",
      "[iter 100] loss=15.5574 val_loss=0.0000 scale=2.0000 norm=1747044.2443\n",
      "[iter 200] loss=15.0543 val_loss=0.0000 scale=2.0000 norm=1237025.4518\n",
      "[iter 300] loss=14.8168 val_loss=0.0000 scale=2.0000 norm=1165880.5228\n",
      "[iter 400] loss=14.7315 val_loss=0.0000 scale=2.0000 norm=1146545.6185\n"
     ]
    },
    {
     "name": "stderr",
     "output_type": "stream",
     "text": [
      "\r",
      "Feature combinations: 226it [2:50:32, 41.48s/it]"
     ]
    },
    {
     "name": "stdout",
     "output_type": "stream",
     "text": [
      "Using features: ['Dew_Point(C)', 'sunshine(hr)', 'hour', 'Temp(C)', 'Solar_Radiation(MJ/m2)', 'Wind_speed(m/s)']\n",
      "[iter 0] loss=16.4519 val_loss=0.0000 scale=1.0000 norm=2963398.9849\n",
      "[iter 100] loss=15.5586 val_loss=0.0000 scale=2.0000 norm=1742251.7786\n",
      "[iter 200] loss=15.0217 val_loss=0.0000 scale=2.0000 norm=1158938.0291\n",
      "[iter 300] loss=14.7541 val_loss=0.0000 scale=2.0000 norm=1077946.4295\n",
      "[iter 400] loss=14.6454 val_loss=0.0000 scale=1.0000 norm=528410.2810\n"
     ]
    },
    {
     "name": "stderr",
     "output_type": "stream",
     "text": [
      "\r",
      "Feature combinations: 227it [2:51:13, 41.29s/it]"
     ]
    },
    {
     "name": "stdout",
     "output_type": "stream",
     "text": [
      "Using features: ['Dew_Point(C)', 'Snowfall(cm)', 'Cloud_Cover(1/10)', 'Temp(C)', 'Solar_Radiation(MJ/m2)', 'Wind_speed(m/s)']\n",
      "[iter 0] loss=16.4519 val_loss=0.0000 scale=1.0000 norm=2963398.9849\n",
      "[iter 100] loss=15.5462 val_loss=0.0000 scale=2.0000 norm=1730745.3233\n",
      "[iter 200] loss=15.0618 val_loss=0.0000 scale=2.0000 norm=1256540.6054\n",
      "[iter 300] loss=14.8293 val_loss=0.0000 scale=2.0000 norm=1192373.8841\n",
      "[iter 400] loss=14.7354 val_loss=0.0000 scale=1.0000 norm=588030.8831\n"
     ]
    },
    {
     "name": "stderr",
     "output_type": "stream",
     "text": [
      "\r",
      "Feature combinations: 228it [2:51:53, 41.01s/it]"
     ]
    },
    {
     "name": "stdout",
     "output_type": "stream",
     "text": [
      "Using features: ['Dew_Point(C)', 'Snowfall(cm)', 'Visibility(10m)', 'Temp(C)', 'Solar_Radiation(MJ/m2)', 'Wind_speed(m/s)']\n",
      "[iter 0] loss=16.4519 val_loss=0.0000 scale=1.0000 norm=2963398.9849\n",
      "[iter 100] loss=15.5486 val_loss=0.0000 scale=2.0000 norm=1740338.7804\n",
      "[iter 200] loss=15.0720 val_loss=0.0000 scale=2.0000 norm=1274289.1336\n",
      "[iter 300] loss=14.8466 val_loss=0.0000 scale=2.0000 norm=1211091.1735\n",
      "[iter 400] loss=14.7513 val_loss=0.0000 scale=1.0000 norm=596210.2839\n"
     ]
    },
    {
     "name": "stderr",
     "output_type": "stream",
     "text": [
      "\r",
      "Feature combinations: 229it [2:52:36, 41.60s/it]"
     ]
    },
    {
     "name": "stdout",
     "output_type": "stream",
     "text": [
      "Using features: ['Dew_Point(C)', 'Snowfall(cm)', 'year', 'Temp(C)', 'Solar_Radiation(MJ/m2)', 'Wind_speed(m/s)']\n",
      "[iter 0] loss=16.4519 val_loss=0.0000 scale=1.0000 norm=2963398.9849\n",
      "[iter 100] loss=15.5538 val_loss=0.0000 scale=2.0000 norm=1744553.2347\n",
      "[iter 200] loss=15.0452 val_loss=0.0000 scale=2.0000 norm=1214496.3229\n",
      "[iter 300] loss=14.8060 val_loss=0.0000 scale=2.0000 norm=1127700.8760\n",
      "[iter 400] loss=14.7139 val_loss=0.0000 scale=0.5000 norm=275084.0395\n"
     ]
    },
    {
     "name": "stderr",
     "output_type": "stream",
     "text": [
      "\r",
      "Feature combinations: 230it [2:53:17, 41.47s/it]"
     ]
    },
    {
     "name": "stdout",
     "output_type": "stream",
     "text": [
      "Using features: ['Dew_Point(C)', 'Snowfall(cm)', 'month', 'Temp(C)', 'Solar_Radiation(MJ/m2)', 'Wind_speed(m/s)']\n",
      "[iter 0] loss=16.4519 val_loss=0.0000 scale=1.0000 norm=2963398.9849\n",
      "[iter 100] loss=15.5569 val_loss=0.0000 scale=2.0000 norm=1751893.5799\n",
      "[iter 200] loss=15.0610 val_loss=0.0000 scale=2.0000 norm=1241225.0666\n",
      "[iter 300] loss=14.8344 val_loss=0.0000 scale=2.0000 norm=1165732.8600\n",
      "[iter 400] loss=14.7647 val_loss=0.0000 scale=2.0000 norm=1150571.4806\n"
     ]
    },
    {
     "name": "stderr",
     "output_type": "stream",
     "text": [
      "\r",
      "Feature combinations: 231it [2:53:58, 41.40s/it]"
     ]
    },
    {
     "name": "stdout",
     "output_type": "stream",
     "text": [
      "Using features: ['Dew_Point(C)', 'Snowfall(cm)', 'hour', 'Temp(C)', 'Solar_Radiation(MJ/m2)', 'Wind_speed(m/s)']\n",
      "[iter 0] loss=16.4519 val_loss=0.0000 scale=1.0000 norm=2963398.9849\n",
      "[iter 100] loss=15.5591 val_loss=0.0000 scale=2.0000 norm=1754774.6467\n",
      "[iter 200] loss=15.0445 val_loss=0.0000 scale=2.0000 norm=1208275.7084\n",
      "[iter 300] loss=14.7955 val_loss=0.0000 scale=2.0000 norm=1132510.3438\n",
      "[iter 400] loss=14.6948 val_loss=0.0000 scale=1.0000 norm=555480.1427\n"
     ]
    },
    {
     "name": "stderr",
     "output_type": "stream",
     "text": [
      "\r",
      "Feature combinations: 232it [2:54:38, 40.97s/it]"
     ]
    },
    {
     "name": "stdout",
     "output_type": "stream",
     "text": [
      "Using features: ['Dew_Point(C)', 'Cloud_Cover(1/10)', 'Visibility(10m)', 'Temp(C)', 'Solar_Radiation(MJ/m2)', 'Wind_speed(m/s)']\n",
      "[iter 0] loss=16.4519 val_loss=0.0000 scale=1.0000 norm=2963398.9849\n",
      "[iter 100] loss=15.5473 val_loss=0.0000 scale=2.0000 norm=1727993.2327\n",
      "[iter 200] loss=15.0675 val_loss=0.0000 scale=2.0000 norm=1262658.0998\n",
      "[iter 300] loss=14.8402 val_loss=0.0000 scale=2.0000 norm=1203361.2874\n",
      "[iter 400] loss=14.7503 val_loss=0.0000 scale=2.0000 norm=1186608.2081\n"
     ]
    },
    {
     "name": "stderr",
     "output_type": "stream",
     "text": [
      "\r",
      "Feature combinations: 233it [2:55:23, 42.04s/it]"
     ]
    },
    {
     "name": "stdout",
     "output_type": "stream",
     "text": [
      "Using features: ['Dew_Point(C)', 'Cloud_Cover(1/10)', 'year', 'Temp(C)', 'Solar_Radiation(MJ/m2)', 'Wind_speed(m/s)']\n",
      "[iter 0] loss=16.4519 val_loss=0.0000 scale=1.0000 norm=2963398.9849\n",
      "[iter 100] loss=15.5434 val_loss=0.0000 scale=2.0000 norm=1719490.0606\n",
      "[iter 200] loss=15.0382 val_loss=0.0000 scale=2.0000 norm=1207939.4048\n",
      "[iter 300] loss=14.7999 val_loss=0.0000 scale=1.0000 norm=564103.4330\n",
      "[iter 400] loss=14.7218 val_loss=0.0000 scale=1.0000 norm=553650.9960\n"
     ]
    },
    {
     "name": "stderr",
     "output_type": "stream",
     "text": [
      "\r",
      "Feature combinations: 234it [2:56:05, 42.14s/it]"
     ]
    },
    {
     "name": "stdout",
     "output_type": "stream",
     "text": [
      "Using features: ['Dew_Point(C)', 'Cloud_Cover(1/10)', 'month', 'Temp(C)', 'Solar_Radiation(MJ/m2)', 'Wind_speed(m/s)']\n",
      "[iter 0] loss=16.4519 val_loss=0.0000 scale=1.0000 norm=2963398.9849\n",
      "[iter 100] loss=15.5459 val_loss=0.0000 scale=2.0000 norm=1722553.5635\n",
      "[iter 200] loss=15.0511 val_loss=0.0000 scale=2.0000 norm=1227517.1976\n",
      "[iter 300] loss=14.8176 val_loss=0.0000 scale=2.0000 norm=1156389.2711\n",
      "[iter 400] loss=14.7436 val_loss=0.0000 scale=1.0000 norm=570928.9385\n"
     ]
    },
    {
     "name": "stderr",
     "output_type": "stream",
     "text": [
      "\r",
      "Feature combinations: 235it [2:56:49, 42.51s/it]"
     ]
    },
    {
     "name": "stdout",
     "output_type": "stream",
     "text": [
      "Using features: ['Dew_Point(C)', 'Cloud_Cover(1/10)', 'hour', 'Temp(C)', 'Solar_Radiation(MJ/m2)', 'Wind_speed(m/s)']\n",
      "[iter 0] loss=16.4519 val_loss=0.0000 scale=1.0000 norm=2963398.9849\n",
      "[iter 100] loss=15.5465 val_loss=0.0000 scale=2.0000 norm=1716568.9886\n",
      "[iter 200] loss=15.0185 val_loss=0.0000 scale=2.0000 norm=1152943.5287\n",
      "[iter 300] loss=14.7530 val_loss=0.0000 scale=2.0000 norm=1066912.7114\n",
      "[iter 400] loss=14.6445 val_loss=0.0000 scale=1.0000 norm=520776.2293\n"
     ]
    },
    {
     "name": "stderr",
     "output_type": "stream",
     "text": [
      "\r",
      "Feature combinations: 236it [2:57:31, 42.38s/it]"
     ]
    },
    {
     "name": "stdout",
     "output_type": "stream",
     "text": [
      "Using features: ['Dew_Point(C)', 'Visibility(10m)', 'year', 'Temp(C)', 'Solar_Radiation(MJ/m2)', 'Wind_speed(m/s)']\n",
      "[iter 0] loss=16.4519 val_loss=0.0000 scale=1.0000 norm=2963398.9849\n",
      "[iter 100] loss=15.5549 val_loss=0.0000 scale=2.0000 norm=1744355.9362\n",
      "[iter 200] loss=15.0503 val_loss=0.0000 scale=2.0000 norm=1219387.5191\n",
      "[iter 300] loss=14.8162 val_loss=0.0000 scale=1.0000 norm=570348.2123\n",
      "[iter 400] loss=14.7322 val_loss=0.0000 scale=1.0000 norm=559331.5486\n"
     ]
    },
    {
     "name": "stderr",
     "output_type": "stream",
     "text": [
      "\r",
      "Feature combinations: 237it [2:58:15, 43.00s/it]"
     ]
    },
    {
     "name": "stdout",
     "output_type": "stream",
     "text": [
      "Using features: ['Dew_Point(C)', 'Visibility(10m)', 'month', 'Temp(C)', 'Solar_Radiation(MJ/m2)', 'Wind_speed(m/s)']\n",
      "[iter 0] loss=16.4519 val_loss=0.0000 scale=1.0000 norm=2963398.9849\n",
      "[iter 100] loss=15.5579 val_loss=0.0000 scale=2.0000 norm=1749490.2476\n",
      "[iter 200] loss=15.0651 val_loss=0.0000 scale=2.0000 norm=1243702.8062\n",
      "[iter 300] loss=14.8386 val_loss=0.0000 scale=2.0000 norm=1172471.7058\n",
      "[iter 400] loss=14.7645 val_loss=0.0000 scale=1.0000 norm=577414.5236\n"
     ]
    },
    {
     "name": "stderr",
     "output_type": "stream",
     "text": [
      "\r",
      "Feature combinations: 238it [2:58:59, 43.29s/it]"
     ]
    },
    {
     "name": "stdout",
     "output_type": "stream",
     "text": [
      "Using features: ['Dew_Point(C)', 'Visibility(10m)', 'hour', 'Temp(C)', 'Solar_Radiation(MJ/m2)', 'Wind_speed(m/s)']\n",
      "[iter 0] loss=16.4519 val_loss=0.0000 scale=1.0000 norm=2963398.9849\n",
      "[iter 100] loss=15.5600 val_loss=0.0000 scale=2.0000 norm=1751916.0383\n",
      "[iter 200] loss=15.0488 val_loss=0.0000 scale=2.0000 norm=1210712.6559\n",
      "[iter 300] loss=14.8016 val_loss=0.0000 scale=2.0000 norm=1140460.5492\n",
      "[iter 400] loss=14.7060 val_loss=0.0000 scale=2.0000 norm=1119492.4799\n"
     ]
    },
    {
     "name": "stderr",
     "output_type": "stream",
     "text": [
      "\r",
      "Feature combinations: 239it [2:59:44, 43.86s/it]"
     ]
    },
    {
     "name": "stdout",
     "output_type": "stream",
     "text": [
      "Using features: ['Dew_Point(C)', 'year', 'month', 'Temp(C)', 'Solar_Radiation(MJ/m2)', 'Wind_speed(m/s)']\n",
      "[iter 0] loss=16.4519 val_loss=0.0000 scale=1.0000 norm=2963398.9849\n",
      "[iter 100] loss=15.5542 val_loss=0.0000 scale=2.0000 norm=1740475.5948\n",
      "[iter 200] loss=15.0364 val_loss=0.0000 scale=2.0000 norm=1180438.8436\n",
      "[iter 300] loss=14.8009 val_loss=0.0000 scale=1.0000 norm=537789.7307\n",
      "[iter 400] loss=14.7327 val_loss=0.0000 scale=1.0000 norm=525509.7917\n"
     ]
    },
    {
     "name": "stderr",
     "output_type": "stream",
     "text": [
      "\r",
      "Feature combinations: 240it [3:00:27, 43.45s/it]"
     ]
    },
    {
     "name": "stdout",
     "output_type": "stream",
     "text": [
      "Using features: ['Dew_Point(C)', 'year', 'hour', 'Temp(C)', 'Solar_Radiation(MJ/m2)', 'Wind_speed(m/s)']\n",
      "[iter 0] loss=16.4519 val_loss=0.0000 scale=1.0000 norm=2963398.9849\n",
      "[iter 100] loss=15.5579 val_loss=0.0000 scale=2.0000 norm=1747711.0351\n",
      "[iter 200] loss=15.0259 val_loss=0.0000 scale=2.0000 norm=1166212.3164\n",
      "[iter 300] loss=14.7725 val_loss=0.0000 scale=1.0000 norm=538164.0722\n",
      "[iter 400] loss=14.6909 val_loss=0.0000 scale=2.0000 norm=1054884.0657\n"
     ]
    },
    {
     "name": "stderr",
     "output_type": "stream",
     "text": [
      "\r",
      "Feature combinations: 241it [3:01:10, 43.41s/it]"
     ]
    },
    {
     "name": "stdout",
     "output_type": "stream",
     "text": [
      "Using features: ['Dew_Point(C)', 'month', 'hour', 'Temp(C)', 'Solar_Radiation(MJ/m2)', 'Wind_speed(m/s)']\n",
      "[iter 0] loss=16.4519 val_loss=0.0000 scale=1.0000 norm=2963398.9849\n",
      "[iter 100] loss=15.5561 val_loss=0.0000 scale=2.0000 norm=1743389.6708\n",
      "[iter 200] loss=15.0428 val_loss=0.0000 scale=2.0000 norm=1200489.0574\n",
      "[iter 300] loss=14.7945 val_loss=0.0000 scale=2.0000 norm=1128256.5351\n",
      "[iter 400] loss=14.7054 val_loss=0.0000 scale=1.0000 norm=554977.7459\n"
     ]
    },
    {
     "name": "stderr",
     "output_type": "stream",
     "text": [
      "\r",
      "Feature combinations: 242it [3:01:52, 42.95s/it]"
     ]
    },
    {
     "name": "stdout",
     "output_type": "stream",
     "text": [
      "Using features: ['Local Atmospheric Pressure(hPa)', 'sunshine(hr)', 'Snowfall(cm)', 'Temp(C)', 'Solar_Radiation(MJ/m2)', 'Wind_speed(m/s)']\n",
      "[iter 0] loss=16.4519 val_loss=0.0000 scale=1.0000 norm=2963398.9849\n",
      "[iter 100] loss=15.5663 val_loss=0.0000 scale=2.0000 norm=1760433.6772\n",
      "[iter 200] loss=15.0592 val_loss=0.0000 scale=2.0000 norm=1240115.8086\n",
      "[iter 300] loss=14.8189 val_loss=0.0000 scale=2.0000 norm=1169433.3155\n",
      "[iter 400] loss=14.7200 val_loss=0.0000 scale=1.0000 norm=574286.2420\n"
     ]
    },
    {
     "name": "stderr",
     "output_type": "stream",
     "text": [
      "\r",
      "Feature combinations: 243it [3:02:33, 42.36s/it]"
     ]
    },
    {
     "name": "stdout",
     "output_type": "stream",
     "text": [
      "Using features: ['Local Atmospheric Pressure(hPa)', 'sunshine(hr)', 'Cloud_Cover(1/10)', 'Temp(C)', 'Solar_Radiation(MJ/m2)', 'Wind_speed(m/s)']\n",
      "[iter 0] loss=16.4519 val_loss=0.0000 scale=1.0000 norm=2963398.9849\n",
      "[iter 100] loss=15.5694 val_loss=0.0000 scale=2.0000 norm=1759029.5702\n",
      "[iter 200] loss=15.0624 val_loss=0.0000 scale=2.0000 norm=1234764.0023\n",
      "[iter 300] loss=14.8195 val_loss=0.0000 scale=2.0000 norm=1170522.7271\n",
      "[iter 400] loss=14.7186 val_loss=0.0000 scale=2.0000 norm=1151125.5697\n"
     ]
    },
    {
     "name": "stderr",
     "output_type": "stream",
     "text": [
      "\r",
      "Feature combinations: 244it [3:03:15, 42.37s/it]"
     ]
    },
    {
     "name": "stdout",
     "output_type": "stream",
     "text": [
      "Using features: ['Local Atmospheric Pressure(hPa)', 'sunshine(hr)', 'Visibility(10m)', 'Temp(C)', 'Solar_Radiation(MJ/m2)', 'Wind_speed(m/s)']\n",
      "[iter 0] loss=16.4519 val_loss=0.0000 scale=1.0000 norm=2963398.9849\n",
      "[iter 100] loss=15.5674 val_loss=0.0000 scale=2.0000 norm=1757471.0128\n",
      "[iter 200] loss=15.0652 val_loss=0.0000 scale=2.0000 norm=1245895.3043\n",
      "[iter 300] loss=14.8264 val_loss=0.0000 scale=2.0000 norm=1180114.0747\n",
      "[iter 400] loss=14.7294 val_loss=0.0000 scale=1.0000 norm=579446.0004\n"
     ]
    },
    {
     "name": "stderr",
     "output_type": "stream",
     "text": [
      "\r",
      "Feature combinations: 245it [3:04:00, 42.90s/it]"
     ]
    },
    {
     "name": "stdout",
     "output_type": "stream",
     "text": [
      "Using features: ['Local Atmospheric Pressure(hPa)', 'sunshine(hr)', 'year', 'Temp(C)', 'Solar_Radiation(MJ/m2)', 'Wind_speed(m/s)']\n",
      "[iter 0] loss=16.4519 val_loss=0.0000 scale=1.0000 norm=2963398.9849\n",
      "[iter 100] loss=15.5710 val_loss=0.0000 scale=2.0000 norm=1762524.2826\n",
      "[iter 200] loss=15.0390 val_loss=0.0000 scale=2.0000 norm=1183818.4474\n",
      "[iter 300] loss=14.7833 val_loss=0.0000 scale=2.0000 norm=1090339.2351\n",
      "[iter 400] loss=14.6880 val_loss=0.0000 scale=1.0000 norm=529618.2445\n"
     ]
    },
    {
     "name": "stderr",
     "output_type": "stream",
     "text": [
      "\r",
      "Feature combinations: 246it [3:04:40, 42.07s/it]"
     ]
    },
    {
     "name": "stdout",
     "output_type": "stream",
     "text": [
      "Using features: ['Local Atmospheric Pressure(hPa)', 'sunshine(hr)', 'month', 'Temp(C)', 'Solar_Radiation(MJ/m2)', 'Wind_speed(m/s)']\n",
      "[iter 0] loss=16.4519 val_loss=0.0000 scale=1.0000 norm=2963398.9849\n",
      "[iter 100] loss=15.5637 val_loss=0.0000 scale=2.0000 norm=1749238.1531\n",
      "[iter 200] loss=15.0575 val_loss=0.0000 scale=2.0000 norm=1234652.8247\n",
      "[iter 300] loss=14.8138 val_loss=0.0000 scale=2.0000 norm=1161529.0271\n",
      "[iter 400] loss=14.7277 val_loss=0.0000 scale=1.0000 norm=571367.0240\n"
     ]
    },
    {
     "name": "stderr",
     "output_type": "stream",
     "text": [
      "\r",
      "Feature combinations: 247it [3:05:21, 41.84s/it]"
     ]
    },
    {
     "name": "stdout",
     "output_type": "stream",
     "text": [
      "Using features: ['Local Atmospheric Pressure(hPa)', 'sunshine(hr)', 'hour', 'Temp(C)', 'Solar_Radiation(MJ/m2)', 'Wind_speed(m/s)']\n",
      "[iter 0] loss=16.4519 val_loss=0.0000 scale=1.0000 norm=2963398.9849\n",
      "[iter 100] loss=15.5661 val_loss=0.0000 scale=2.0000 norm=1751351.7378\n",
      "[iter 200] loss=15.0258 val_loss=0.0000 scale=2.0000 norm=1159187.8379\n",
      "[iter 300] loss=14.7562 val_loss=0.0000 scale=2.0000 norm=1080438.6828\n",
      "[iter 400] loss=14.6502 val_loss=0.0000 scale=2.0000 norm=1057490.7849\n"
     ]
    },
    {
     "name": "stderr",
     "output_type": "stream",
     "text": [
      "\r",
      "Feature combinations: 248it [3:06:02, 41.46s/it]"
     ]
    },
    {
     "name": "stdout",
     "output_type": "stream",
     "text": [
      "Using features: ['Local Atmospheric Pressure(hPa)', 'Snowfall(cm)', 'Cloud_Cover(1/10)', 'Temp(C)', 'Solar_Radiation(MJ/m2)', 'Wind_speed(m/s)']\n",
      "[iter 0] loss=16.4519 val_loss=0.0000 scale=1.0000 norm=2963398.9849\n",
      "[iter 100] loss=15.5684 val_loss=0.0000 scale=2.0000 norm=1761599.0123\n",
      "[iter 200] loss=15.0617 val_loss=0.0000 scale=2.0000 norm=1230678.7986\n",
      "[iter 300] loss=14.8183 val_loss=0.0000 scale=2.0000 norm=1158223.3754\n",
      "[iter 400] loss=14.7221 val_loss=0.0000 scale=2.0000 norm=1138873.2711\n"
     ]
    },
    {
     "name": "stderr",
     "output_type": "stream",
     "text": [
      "\r",
      "Feature combinations: 249it [3:06:41, 40.83s/it]"
     ]
    },
    {
     "name": "stdout",
     "output_type": "stream",
     "text": [
      "Using features: ['Local Atmospheric Pressure(hPa)', 'Snowfall(cm)', 'Visibility(10m)', 'Temp(C)', 'Solar_Radiation(MJ/m2)', 'Wind_speed(m/s)']\n",
      "[iter 0] loss=16.4519 val_loss=0.0000 scale=1.0000 norm=2963398.9849\n",
      "[iter 100] loss=15.5667 val_loss=0.0000 scale=2.0000 norm=1762653.6024\n",
      "[iter 200] loss=15.0700 val_loss=0.0000 scale=2.0000 norm=1244627.3482\n",
      "[iter 300] loss=14.8359 val_loss=0.0000 scale=2.0000 norm=1175009.3001\n",
      "[iter 400] loss=14.7411 val_loss=0.0000 scale=1.0000 norm=577436.0746\n"
     ]
    },
    {
     "name": "stderr",
     "output_type": "stream",
     "text": [
      "\r",
      "Feature combinations: 250it [3:07:24, 41.47s/it]"
     ]
    },
    {
     "name": "stdout",
     "output_type": "stream",
     "text": [
      "Using features: ['Local Atmospheric Pressure(hPa)', 'Snowfall(cm)', 'year', 'Temp(C)', 'Solar_Radiation(MJ/m2)', 'Wind_speed(m/s)']\n",
      "[iter 0] loss=16.4519 val_loss=0.0000 scale=1.0000 norm=2963398.9849\n",
      "[iter 100] loss=15.5702 val_loss=0.0000 scale=2.0000 norm=1764978.8393\n",
      "[iter 200] loss=15.0458 val_loss=0.0000 scale=2.0000 norm=1185572.7357\n",
      "[iter 300] loss=14.7978 val_loss=0.0000 scale=2.0000 norm=1086744.2103\n",
      "[iter 400] loss=14.7149 val_loss=0.0000 scale=1.0000 norm=529856.8441\n"
     ]
    },
    {
     "name": "stderr",
     "output_type": "stream",
     "text": [
      "\r",
      "Feature combinations: 251it [3:08:03, 40.70s/it]"
     ]
    },
    {
     "name": "stdout",
     "output_type": "stream",
     "text": [
      "Using features: ['Local Atmospheric Pressure(hPa)', 'Snowfall(cm)', 'month', 'Temp(C)', 'Solar_Radiation(MJ/m2)', 'Wind_speed(m/s)']\n",
      "[iter 0] loss=16.4519 val_loss=0.0000 scale=1.0000 norm=2963398.9849\n",
      "[iter 100] loss=15.5632 val_loss=0.0000 scale=2.0000 norm=1754478.0929\n",
      "[iter 200] loss=15.0639 val_loss=0.0000 scale=2.0000 norm=1234835.9061\n",
      "[iter 300] loss=14.8294 val_loss=0.0000 scale=2.0000 norm=1156431.3464\n",
      "[iter 400] loss=14.7494 val_loss=0.0000 scale=1.0000 norm=568873.2113\n"
     ]
    },
    {
     "name": "stderr",
     "output_type": "stream",
     "text": [
      "\r",
      "Feature combinations: 252it [3:08:42, 40.18s/it]"
     ]
    },
    {
     "name": "stdout",
     "output_type": "stream",
     "text": [
      "Using features: ['Local Atmospheric Pressure(hPa)', 'Snowfall(cm)', 'hour', 'Temp(C)', 'Solar_Radiation(MJ/m2)', 'Wind_speed(m/s)']\n",
      "[iter 0] loss=16.4519 val_loss=0.0000 scale=1.0000 norm=2963398.9849\n",
      "[iter 100] loss=15.5662 val_loss=0.0000 scale=2.0000 norm=1760644.3687\n",
      "[iter 200] loss=15.0438 val_loss=0.0000 scale=2.0000 norm=1195398.0137\n",
      "[iter 300] loss=14.7916 val_loss=0.0000 scale=2.0000 norm=1116333.6047\n",
      "[iter 400] loss=14.6967 val_loss=0.0000 scale=1.0000 norm=547428.3853\n"
     ]
    },
    {
     "name": "stderr",
     "output_type": "stream",
     "text": [
      "\r",
      "Feature combinations: 253it [3:09:21, 39.96s/it]"
     ]
    },
    {
     "name": "stdout",
     "output_type": "stream",
     "text": [
      "Using features: ['Local Atmospheric Pressure(hPa)', 'Cloud_Cover(1/10)', 'Visibility(10m)', 'Temp(C)', 'Solar_Radiation(MJ/m2)', 'Wind_speed(m/s)']\n",
      "[iter 0] loss=16.4519 val_loss=0.0000 scale=1.0000 norm=2963398.9849\n",
      "[iter 100] loss=15.5695 val_loss=0.0000 scale=2.0000 norm=1759051.2926\n",
      "[iter 200] loss=15.0674 val_loss=0.0000 scale=2.0000 norm=1236535.0114\n",
      "[iter 300] loss=14.8257 val_loss=0.0000 scale=2.0000 norm=1168447.5548\n",
      "[iter 400] loss=14.7345 val_loss=0.0000 scale=1.0000 norm=574939.6559\n"
     ]
    },
    {
     "name": "stderr",
     "output_type": "stream",
     "text": [
      "\r",
      "Feature combinations: 254it [3:10:06, 41.42s/it]"
     ]
    },
    {
     "name": "stdout",
     "output_type": "stream",
     "text": [
      "Using features: ['Local Atmospheric Pressure(hPa)', 'Cloud_Cover(1/10)', 'year', 'Temp(C)', 'Solar_Radiation(MJ/m2)', 'Wind_speed(m/s)']\n",
      "[iter 0] loss=16.4519 val_loss=0.0000 scale=1.0000 norm=2963398.9849\n",
      "[iter 100] loss=15.5665 val_loss=0.0000 scale=2.0000 norm=1752045.3354\n",
      "[iter 200] loss=15.0409 val_loss=0.0000 scale=2.0000 norm=1180533.8178\n",
      "[iter 300] loss=14.7857 val_loss=0.0000 scale=2.0000 norm=1086709.7489\n",
      "[iter 400] loss=14.6971 val_loss=0.0000 scale=1.0000 norm=530579.0294\n"
     ]
    },
    {
     "name": "stderr",
     "output_type": "stream",
     "text": [
      "\r",
      "Feature combinations: 255it [3:10:46, 41.08s/it]"
     ]
    },
    {
     "name": "stdout",
     "output_type": "stream",
     "text": [
      "Using features: ['Local Atmospheric Pressure(hPa)', 'Cloud_Cover(1/10)', 'month', 'Temp(C)', 'Solar_Radiation(MJ/m2)', 'Wind_speed(m/s)']\n",
      "[iter 0] loss=16.4519 val_loss=0.0000 scale=1.0000 norm=2963398.9849\n",
      "[iter 100] loss=15.5659 val_loss=0.0000 scale=2.0000 norm=1751445.0763\n",
      "[iter 200] loss=15.0610 val_loss=0.0000 scale=2.0000 norm=1225834.7537\n",
      "[iter 300] loss=14.8197 val_loss=0.0000 scale=1.0000 norm=576464.5917\n",
      "[iter 400] loss=14.7387 val_loss=0.0000 scale=1.0000 norm=567919.6746\n"
     ]
    },
    {
     "name": "stderr",
     "output_type": "stream",
     "text": [
      "\r",
      "Feature combinations: 256it [3:11:27, 41.11s/it]"
     ]
    },
    {
     "name": "stdout",
     "output_type": "stream",
     "text": [
      "Using features: ['Local Atmospheric Pressure(hPa)', 'Cloud_Cover(1/10)', 'hour', 'Temp(C)', 'Solar_Radiation(MJ/m2)', 'Wind_speed(m/s)']\n",
      "[iter 0] loss=16.4519 val_loss=0.0000 scale=1.0000 norm=2963398.9849\n",
      "[iter 100] loss=15.5644 val_loss=0.0000 scale=2.0000 norm=1745231.4610\n",
      "[iter 200] loss=15.0281 val_loss=0.0000 scale=2.0000 norm=1153033.1307\n",
      "[iter 300] loss=14.7562 val_loss=0.0000 scale=1.0000 norm=533037.0185\n",
      "[iter 400] loss=14.6514 val_loss=0.0000 scale=1.0000 norm=520467.5907\n"
     ]
    },
    {
     "name": "stderr",
     "output_type": "stream",
     "text": [
      "\r",
      "Feature combinations: 257it [3:12:09, 41.19s/it]"
     ]
    },
    {
     "name": "stdout",
     "output_type": "stream",
     "text": [
      "Using features: ['Local Atmospheric Pressure(hPa)', 'Visibility(10m)', 'year', 'Temp(C)', 'Solar_Radiation(MJ/m2)', 'Wind_speed(m/s)']\n",
      "[iter 0] loss=16.4519 val_loss=0.0000 scale=1.0000 norm=2963398.9849\n",
      "[iter 100] loss=15.5713 val_loss=0.0000 scale=2.0000 norm=1764407.0244\n",
      "[iter 200] loss=15.0510 val_loss=0.0000 scale=2.0000 norm=1189002.6482\n",
      "[iter 300] loss=14.8023 val_loss=0.0000 scale=2.0000 norm=1096895.9639\n",
      "[iter 400] loss=14.7236 val_loss=0.0000 scale=2.0000 norm=1074283.7699\n"
     ]
    },
    {
     "name": "stderr",
     "output_type": "stream",
     "text": [
      "\r",
      "Feature combinations: 258it [3:12:54, 42.30s/it]"
     ]
    },
    {
     "name": "stdout",
     "output_type": "stream",
     "text": [
      "Using features: ['Local Atmospheric Pressure(hPa)', 'Visibility(10m)', 'month', 'Temp(C)', 'Solar_Radiation(MJ/m2)', 'Wind_speed(m/s)']\n",
      "[iter 0] loss=16.4519 val_loss=0.0000 scale=1.0000 norm=2963398.9849\n",
      "[iter 100] loss=15.5641 val_loss=0.0000 scale=2.0000 norm=1751010.2100\n",
      "[iter 200] loss=15.0694 val_loss=0.0000 scale=2.0000 norm=1240644.1306\n",
      "[iter 300] loss=14.8352 val_loss=0.0000 scale=2.0000 norm=1166710.9919\n",
      "[iter 400] loss=14.7512 val_loss=0.0000 scale=1.0000 norm=573615.6561\n"
     ]
    },
    {
     "name": "stderr",
     "output_type": "stream",
     "text": [
      "\r",
      "Feature combinations: 259it [3:13:41, 43.92s/it]"
     ]
    },
    {
     "name": "stdout",
     "output_type": "stream",
     "text": [
      "Using features: ['Local Atmospheric Pressure(hPa)', 'Visibility(10m)', 'hour', 'Temp(C)', 'Solar_Radiation(MJ/m2)', 'Wind_speed(m/s)']\n",
      "[iter 0] loss=16.4519 val_loss=0.0000 scale=1.0000 norm=2963398.9849\n",
      "[iter 100] loss=15.5672 val_loss=0.0000 scale=2.0000 norm=1758157.6045\n",
      "[iter 200] loss=15.0492 val_loss=0.0000 scale=2.0000 norm=1199585.1735\n",
      "[iter 300] loss=14.7964 val_loss=0.0000 scale=2.0000 norm=1124786.2517\n",
      "[iter 400] loss=14.7002 val_loss=0.0000 scale=1.0000 norm=551741.7313\n"
     ]
    },
    {
     "name": "stderr",
     "output_type": "stream",
     "text": [
      "\r",
      "Feature combinations: 260it [3:14:29, 44.89s/it]"
     ]
    },
    {
     "name": "stdout",
     "output_type": "stream",
     "text": [
      "Using features: ['Local Atmospheric Pressure(hPa)', 'year', 'month', 'Temp(C)', 'Solar_Radiation(MJ/m2)', 'Wind_speed(m/s)']\n",
      "[iter 0] loss=16.4519 val_loss=0.0000 scale=1.0000 norm=2963398.9849\n",
      "[iter 100] loss=15.5676 val_loss=0.0000 scale=2.0000 norm=1755400.3948\n",
      "[iter 200] loss=15.0459 val_loss=0.0000 scale=2.0000 norm=1180630.5243\n",
      "[iter 300] loss=14.7932 val_loss=0.0000 scale=2.0000 norm=1072238.3099\n",
      "[iter 400] loss=14.7230 val_loss=0.0000 scale=1.0000 norm=523652.2256\n"
     ]
    },
    {
     "name": "stderr",
     "output_type": "stream",
     "text": [
      "\r",
      "Feature combinations: 261it [3:15:11, 44.22s/it]"
     ]
    },
    {
     "name": "stdout",
     "output_type": "stream",
     "text": [
      "Using features: ['Local Atmospheric Pressure(hPa)', 'year', 'hour', 'Temp(C)', 'Solar_Radiation(MJ/m2)', 'Wind_speed(m/s)']\n",
      "[iter 0] loss=16.4519 val_loss=0.0000 scale=1.0000 norm=2963398.9849\n",
      "[iter 100] loss=15.5649 val_loss=0.0000 scale=2.0000 norm=1751934.1517\n",
      "[iter 200] loss=15.0272 val_loss=0.0000 scale=2.0000 norm=1149889.2644\n",
      "[iter 300] loss=14.7674 val_loss=0.0000 scale=1.0000 norm=527305.8710\n",
      "[iter 400] loss=14.6806 val_loss=0.0000 scale=1.0000 norm=514704.9275\n"
     ]
    },
    {
     "name": "stderr",
     "output_type": "stream",
     "text": [
      "\r",
      "Feature combinations: 262it [3:15:54, 43.63s/it]"
     ]
    },
    {
     "name": "stdout",
     "output_type": "stream",
     "text": [
      "Using features: ['Local Atmospheric Pressure(hPa)', 'month', 'hour', 'Temp(C)', 'Solar_Radiation(MJ/m2)', 'Wind_speed(m/s)']\n",
      "[iter 0] loss=16.4519 val_loss=0.0000 scale=1.0000 norm=2963398.9849\n",
      "[iter 100] loss=15.5669 val_loss=0.0000 scale=2.0000 norm=1756739.9322\n",
      "[iter 200] loss=15.0486 val_loss=0.0000 scale=2.0000 norm=1196511.3869\n",
      "[iter 300] loss=14.7963 val_loss=0.0000 scale=2.0000 norm=1123460.1966\n",
      "[iter 400] loss=14.7016 val_loss=0.0000 scale=1.0000 norm=552528.8655\n"
     ]
    },
    {
     "name": "stderr",
     "output_type": "stream",
     "text": [
      "\r",
      "Feature combinations: 263it [3:16:34, 42.82s/it]"
     ]
    },
    {
     "name": "stdout",
     "output_type": "stream",
     "text": [
      "Using features: ['sunshine(hr)', 'Snowfall(cm)', 'Cloud_Cover(1/10)', 'Temp(C)', 'Solar_Radiation(MJ/m2)', 'Wind_speed(m/s)']\n",
      "[iter 0] loss=16.4519 val_loss=0.0000 scale=1.0000 norm=2963398.9849\n",
      "[iter 100] loss=15.5575 val_loss=0.0000 scale=2.0000 norm=1757335.5730\n",
      "[iter 200] loss=15.0648 val_loss=0.0000 scale=2.0000 norm=1263349.3034\n",
      "[iter 300] loss=14.8284 val_loss=0.0000 scale=2.0000 norm=1192765.3347\n",
      "[iter 400] loss=14.7291 val_loss=0.0000 scale=1.0000 norm=587172.1030\n"
     ]
    },
    {
     "name": "stderr",
     "output_type": "stream",
     "text": [
      "\r",
      "Feature combinations: 264it [3:17:10, 40.63s/it]"
     ]
    },
    {
     "name": "stdout",
     "output_type": "stream",
     "text": [
      "Using features: ['sunshine(hr)', 'Snowfall(cm)', 'Visibility(10m)', 'Temp(C)', 'Solar_Radiation(MJ/m2)', 'Wind_speed(m/s)']\n",
      "[iter 0] loss=16.4519 val_loss=0.0000 scale=1.0000 norm=2963398.9849\n",
      "[iter 100] loss=15.5559 val_loss=0.0000 scale=2.0000 norm=1757606.8022\n",
      "[iter 200] loss=15.0672 val_loss=0.0000 scale=2.0000 norm=1273747.6787\n",
      "[iter 300] loss=14.8367 val_loss=0.0000 scale=2.0000 norm=1205095.1134\n",
      "[iter 400] loss=14.7428 val_loss=0.0000 scale=1.0000 norm=592199.0138\n"
     ]
    },
    {
     "name": "stderr",
     "output_type": "stream",
     "text": [
      "\r",
      "Feature combinations: 265it [3:17:49, 40.22s/it]"
     ]
    },
    {
     "name": "stdout",
     "output_type": "stream",
     "text": [
      "Using features: ['sunshine(hr)', 'Snowfall(cm)', 'year', 'Temp(C)', 'Solar_Radiation(MJ/m2)', 'Wind_speed(m/s)']\n",
      "[iter 0] loss=16.4519 val_loss=0.0000 scale=1.0000 norm=2963398.9849\n",
      "[iter 100] loss=15.5521 val_loss=0.0000 scale=2.0000 norm=1745611.9795\n",
      "[iter 200] loss=15.0390 val_loss=0.0000 scale=2.0000 norm=1221082.5546\n",
      "[iter 300] loss=14.7869 val_loss=0.0000 scale=1.0000 norm=561210.4900\n",
      "[iter 400] loss=14.7024 val_loss=0.0000 scale=1.0000 norm=547524.7192\n"
     ]
    },
    {
     "name": "stderr",
     "output_type": "stream",
     "text": [
      "\r",
      "Feature combinations: 266it [3:18:25, 38.74s/it]"
     ]
    },
    {
     "name": "stdout",
     "output_type": "stream",
     "text": [
      "Using features: ['sunshine(hr)', 'Snowfall(cm)', 'month', 'Temp(C)', 'Solar_Radiation(MJ/m2)', 'Wind_speed(m/s)']\n",
      "[iter 0] loss=16.4519 val_loss=0.0000 scale=1.0000 norm=2963398.9849\n",
      "[iter 100] loss=15.5574 val_loss=0.0000 scale=2.0000 norm=1755271.2465\n",
      "[iter 200] loss=15.0499 val_loss=0.0000 scale=2.0000 norm=1235771.5433\n",
      "[iter 300] loss=14.8107 val_loss=0.0000 scale=2.0000 norm=1154806.8770\n",
      "[iter 400] loss=14.7366 val_loss=0.0000 scale=1.0000 norm=567918.5425\n"
     ]
    },
    {
     "name": "stderr",
     "output_type": "stream",
     "text": [
      "\r",
      "Feature combinations: 267it [3:19:00, 37.69s/it]"
     ]
    },
    {
     "name": "stdout",
     "output_type": "stream",
     "text": [
      "Using features: ['sunshine(hr)', 'Snowfall(cm)', 'hour', 'Temp(C)', 'Solar_Radiation(MJ/m2)', 'Wind_speed(m/s)']\n",
      "[iter 0] loss=16.4519 val_loss=0.0000 scale=1.0000 norm=2963398.9849\n",
      "[iter 100] loss=15.5621 val_loss=0.0000 scale=2.0000 norm=1757525.6047\n",
      "[iter 200] loss=15.0218 val_loss=0.0000 scale=2.0000 norm=1167098.5616\n",
      "[iter 300] loss=14.7479 val_loss=0.0000 scale=2.0000 norm=1068721.0380\n",
      "[iter 400] loss=14.6378 val_loss=0.0000 scale=2.0000 norm=1040045.7294\n"
     ]
    },
    {
     "name": "stderr",
     "output_type": "stream",
     "text": [
      "\r",
      "Feature combinations: 268it [3:19:36, 37.12s/it]"
     ]
    },
    {
     "name": "stdout",
     "output_type": "stream",
     "text": [
      "Using features: ['sunshine(hr)', 'Cloud_Cover(1/10)', 'Visibility(10m)', 'Temp(C)', 'Solar_Radiation(MJ/m2)', 'Wind_speed(m/s)']\n",
      "[iter 0] loss=16.4519 val_loss=0.0000 scale=1.0000 norm=2963398.9849\n",
      "[iter 100] loss=15.5585 val_loss=0.0000 scale=2.0000 norm=1754392.2117\n",
      "[iter 200] loss=15.0699 val_loss=0.0000 scale=2.0000 norm=1267575.7910\n",
      "[iter 300] loss=14.8352 val_loss=0.0000 scale=2.0000 norm=1204638.3696\n",
      "[iter 400] loss=14.7435 val_loss=0.0000 scale=2.0000 norm=1186039.2139\n"
     ]
    },
    {
     "name": "stderr",
     "output_type": "stream",
     "text": [
      "\r",
      "Feature combinations: 269it [3:20:17, 38.39s/it]"
     ]
    },
    {
     "name": "stdout",
     "output_type": "stream",
     "text": [
      "Using features: ['sunshine(hr)', 'Cloud_Cover(1/10)', 'year', 'Temp(C)', 'Solar_Radiation(MJ/m2)', 'Wind_speed(m/s)']\n",
      "[iter 0] loss=16.4519 val_loss=0.0000 scale=1.0000 norm=2963398.9849\n",
      "[iter 100] loss=15.5586 val_loss=0.0000 scale=2.0000 norm=1753288.1201\n",
      "[iter 200] loss=15.0449 val_loss=0.0000 scale=2.0000 norm=1219290.6008\n",
      "[iter 300] loss=14.7980 val_loss=0.0000 scale=1.0000 norm=566911.3010\n",
      "[iter 400] loss=14.7123 val_loss=0.0000 scale=1.0000 norm=554828.3436\n"
     ]
    },
    {
     "name": "stderr",
     "output_type": "stream",
     "text": [
      "\r",
      "Feature combinations: 270it [3:20:56, 38.52s/it]"
     ]
    },
    {
     "name": "stdout",
     "output_type": "stream",
     "text": [
      "Using features: ['sunshine(hr)', 'Cloud_Cover(1/10)', 'month', 'Temp(C)', 'Solar_Radiation(MJ/m2)', 'Wind_speed(m/s)']\n",
      "[iter 0] loss=16.4519 val_loss=0.0000 scale=1.0000 norm=2963398.9849\n",
      "[iter 100] loss=15.5568 val_loss=0.0000 scale=2.0000 norm=1747392.4698\n",
      "[iter 200] loss=15.0505 val_loss=0.0000 scale=2.0000 norm=1227319.1016\n",
      "[iter 300] loss=14.8109 val_loss=0.0000 scale=2.0000 norm=1152690.6708\n",
      "[iter 400] loss=14.7265 val_loss=0.0000 scale=2.0000 norm=1133753.1031\n"
     ]
    },
    {
     "name": "stderr",
     "output_type": "stream",
     "text": [
      "\r",
      "Feature combinations: 271it [3:21:35, 38.89s/it]"
     ]
    },
    {
     "name": "stdout",
     "output_type": "stream",
     "text": [
      "Using features: ['sunshine(hr)', 'Cloud_Cover(1/10)', 'hour', 'Temp(C)', 'Solar_Radiation(MJ/m2)', 'Wind_speed(m/s)']\n",
      "[iter 0] loss=16.4519 val_loss=0.0000 scale=1.0000 norm=2963398.9849\n",
      "[iter 100] loss=15.5473 val_loss=0.0000 scale=2.0000 norm=1720101.0551\n",
      "[iter 200] loss=15.0096 val_loss=0.0000 scale=2.0000 norm=1139365.8111\n",
      "[iter 300] loss=14.7333 val_loss=0.0000 scale=2.0000 norm=1046703.4865\n",
      "[iter 400] loss=14.6225 val_loss=0.0000 scale=1.0000 norm=510972.3762\n"
     ]
    },
    {
     "name": "stderr",
     "output_type": "stream",
     "text": [
      "\r",
      "Feature combinations: 272it [3:22:13, 38.54s/it]"
     ]
    },
    {
     "name": "stdout",
     "output_type": "stream",
     "text": [
      "Using features: ['sunshine(hr)', 'Visibility(10m)', 'year', 'Temp(C)', 'Solar_Radiation(MJ/m2)', 'Wind_speed(m/s)']\n",
      "[iter 0] loss=16.4519 val_loss=0.0000 scale=1.0000 norm=2963398.9849\n",
      "[iter 100] loss=15.5531 val_loss=0.0000 scale=2.0000 norm=1744754.6707\n",
      "[iter 200] loss=15.0444 val_loss=0.0000 scale=2.0000 norm=1224543.1158\n",
      "[iter 300] loss=14.7967 val_loss=0.0000 scale=2.0000 norm=1134321.3722\n",
      "[iter 400] loss=14.7168 val_loss=0.0000 scale=1.0000 norm=555890.4140\n"
     ]
    },
    {
     "name": "stderr",
     "output_type": "stream",
     "text": [
      "\r",
      "Feature combinations: 273it [3:22:54, 39.07s/it]"
     ]
    },
    {
     "name": "stdout",
     "output_type": "stream",
     "text": [
      "Using features: ['sunshine(hr)', 'Visibility(10m)', 'month', 'Temp(C)', 'Solar_Radiation(MJ/m2)', 'Wind_speed(m/s)']\n",
      "[iter 0] loss=16.4519 val_loss=0.0000 scale=1.0000 norm=2963398.9849\n",
      "[iter 100] loss=15.5582 val_loss=0.0000 scale=2.0000 norm=1752646.6833\n",
      "[iter 200] loss=15.0538 val_loss=0.0000 scale=2.0000 norm=1237553.5815\n",
      "[iter 300] loss=14.8170 val_loss=0.0000 scale=2.0000 norm=1161553.0866\n",
      "[iter 400] loss=14.7365 val_loss=0.0000 scale=1.0000 norm=570162.6400\n"
     ]
    },
    {
     "name": "stderr",
     "output_type": "stream",
     "text": [
      "\r",
      "Feature combinations: 274it [3:23:34, 39.59s/it]"
     ]
    },
    {
     "name": "stdout",
     "output_type": "stream",
     "text": [
      "Using features: ['sunshine(hr)', 'Visibility(10m)', 'hour', 'Temp(C)', 'Solar_Radiation(MJ/m2)', 'Wind_speed(m/s)']\n",
      "[iter 0] loss=16.4519 val_loss=0.0000 scale=1.0000 norm=2963398.9849\n",
      "[iter 100] loss=15.5631 val_loss=0.0000 scale=2.0000 norm=1755809.8486\n",
      "[iter 200] loss=15.0259 val_loss=0.0000 scale=2.0000 norm=1166023.9909\n",
      "[iter 300] loss=14.7544 val_loss=0.0000 scale=2.0000 norm=1076725.8899\n",
      "[iter 400] loss=14.6552 val_loss=0.0000 scale=1.0000 norm=526364.3937\n"
     ]
    },
    {
     "name": "stderr",
     "output_type": "stream",
     "text": [
      "\r",
      "Feature combinations: 275it [3:24:16, 40.08s/it]"
     ]
    },
    {
     "name": "stdout",
     "output_type": "stream",
     "text": [
      "Using features: ['sunshine(hr)', 'year', 'month', 'Temp(C)', 'Solar_Radiation(MJ/m2)', 'Wind_speed(m/s)']\n",
      "[iter 0] loss=16.4519 val_loss=0.0000 scale=1.0000 norm=2963398.9849\n",
      "[iter 100] loss=15.5554 val_loss=0.0000 scale=2.0000 norm=1746011.7888\n",
      "[iter 200] loss=15.0279 val_loss=0.0000 scale=2.0000 norm=1180943.0776\n",
      "[iter 300] loss=14.7723 val_loss=0.0000 scale=1.0000 norm=536119.6958\n",
      "[iter 400] loss=14.6978 val_loss=0.0000 scale=1.0000 norm=521029.8733\n"
     ]
    },
    {
     "name": "stderr",
     "output_type": "stream",
     "text": [
      "\r",
      "Feature combinations: 276it [3:24:52, 39.04s/it]"
     ]
    },
    {
     "name": "stdout",
     "output_type": "stream",
     "text": [
      "Using features: ['sunshine(hr)', 'year', 'hour', 'Temp(C)', 'Solar_Radiation(MJ/m2)', 'Wind_speed(m/s)']\n",
      "[iter 0] loss=16.4519 val_loss=0.0000 scale=1.0000 norm=2963398.9849\n",
      "[iter 100] loss=15.5614 val_loss=0.0000 scale=2.0000 norm=1754091.1407\n",
      "[iter 200] loss=15.0084 val_loss=0.0000 scale=2.0000 norm=1130756.1871\n",
      "[iter 300] loss=14.7296 val_loss=0.0000 scale=2.0000 norm=1027754.1914\n",
      "[iter 400] loss=14.6397 val_loss=0.0000 scale=1.0000 norm=500810.4350\n"
     ]
    },
    {
     "name": "stderr",
     "output_type": "stream",
     "text": [
      "\r",
      "Feature combinations: 277it [3:25:29, 38.43s/it]"
     ]
    },
    {
     "name": "stdout",
     "output_type": "stream",
     "text": [
      "Using features: ['sunshine(hr)', 'month', 'hour', 'Temp(C)', 'Solar_Radiation(MJ/m2)', 'Wind_speed(m/s)']\n",
      "[iter 0] loss=16.4519 val_loss=0.0000 scale=1.0000 norm=2963398.9849\n",
      "[iter 100] loss=15.5624 val_loss=0.0000 scale=2.0000 norm=1752834.3023\n",
      "[iter 200] loss=15.0233 val_loss=0.0000 scale=2.0000 norm=1159727.1114\n",
      "[iter 300] loss=14.7511 val_loss=0.0000 scale=2.0000 norm=1073719.2149\n",
      "[iter 400] loss=14.6508 val_loss=0.0000 scale=1.0000 norm=526625.2581\n"
     ]
    },
    {
     "name": "stderr",
     "output_type": "stream",
     "text": [
      "\r",
      "Feature combinations: 278it [3:26:07, 38.20s/it]"
     ]
    },
    {
     "name": "stdout",
     "output_type": "stream",
     "text": [
      "Using features: ['Snowfall(cm)', 'Cloud_Cover(1/10)', 'Visibility(10m)', 'Temp(C)', 'Solar_Radiation(MJ/m2)', 'Wind_speed(m/s)']\n",
      "[iter 0] loss=16.4519 val_loss=0.0000 scale=1.0000 norm=2963398.9849\n",
      "[iter 100] loss=15.5577 val_loss=0.0000 scale=2.0000 norm=1758373.4873\n",
      "[iter 200] loss=15.0684 val_loss=0.0000 scale=2.0000 norm=1263978.1955\n",
      "[iter 300] loss=14.8373 val_loss=0.0000 scale=2.0000 norm=1195609.5184\n",
      "[iter 400] loss=14.7480 val_loss=0.0000 scale=2.0000 norm=1176718.2947\n"
     ]
    },
    {
     "name": "stderr",
     "output_type": "stream",
     "text": [
      "\r",
      "Feature combinations: 279it [3:26:47, 38.71s/it]"
     ]
    },
    {
     "name": "stdout",
     "output_type": "stream",
     "text": [
      "Using features: ['Snowfall(cm)', 'Cloud_Cover(1/10)', 'year', 'Temp(C)', 'Solar_Radiation(MJ/m2)', 'Wind_speed(m/s)']\n",
      "[iter 0] loss=16.4519 val_loss=0.0000 scale=1.0000 norm=2963398.9849\n",
      "[iter 100] loss=15.5576 val_loss=0.0000 scale=2.0000 norm=1755071.6010\n",
      "[iter 200] loss=15.0456 val_loss=0.0000 scale=2.0000 norm=1221344.8257\n",
      "[iter 300] loss=14.7997 val_loss=0.0000 scale=1.0000 norm=563148.3043\n",
      "[iter 400] loss=14.7132 val_loss=0.0000 scale=1.0000 norm=550049.4128\n"
     ]
    },
    {
     "name": "stderr",
     "output_type": "stream",
     "text": [
      "\r",
      "Feature combinations: 280it [3:27:22, 37.81s/it]"
     ]
    },
    {
     "name": "stdout",
     "output_type": "stream",
     "text": [
      "Using features: ['Snowfall(cm)', 'Cloud_Cover(1/10)', 'month', 'Temp(C)', 'Solar_Radiation(MJ/m2)', 'Wind_speed(m/s)']\n",
      "[iter 0] loss=16.4519 val_loss=0.0000 scale=1.0000 norm=2963398.9849\n",
      "[iter 100] loss=15.5559 val_loss=0.0000 scale=2.0000 norm=1750469.0763\n",
      "[iter 200] loss=15.0526 val_loss=0.0000 scale=2.0000 norm=1230083.1914\n",
      "[iter 300] loss=14.8271 val_loss=0.0000 scale=1.0000 norm=575306.0419\n",
      "[iter 400] loss=14.7453 val_loss=0.0000 scale=1.0000 norm=564539.2732\n"
     ]
    },
    {
     "name": "stderr",
     "output_type": "stream",
     "text": [
      "\r",
      "Feature combinations: 281it [3:27:58, 37.21s/it]"
     ]
    },
    {
     "name": "stdout",
     "output_type": "stream",
     "text": [
      "Using features: ['Snowfall(cm)', 'Cloud_Cover(1/10)', 'hour', 'Temp(C)', 'Solar_Radiation(MJ/m2)', 'Wind_speed(m/s)']\n",
      "[iter 0] loss=16.4519 val_loss=0.0000 scale=1.0000 norm=2963398.9849\n",
      "[iter 100] loss=15.5466 val_loss=0.0000 scale=2.0000 norm=1724547.4769\n",
      "[iter 200] loss=15.0169 val_loss=0.0000 scale=2.0000 norm=1157768.8922\n",
      "[iter 300] loss=14.7492 val_loss=0.0000 scale=2.0000 norm=1057107.5441\n",
      "[iter 400] loss=14.6437 val_loss=0.0000 scale=2.0000 norm=1028178.3014\n"
     ]
    },
    {
     "name": "stderr",
     "output_type": "stream",
     "text": [
      "\r",
      "Feature combinations: 282it [3:28:34, 36.91s/it]"
     ]
    },
    {
     "name": "stdout",
     "output_type": "stream",
     "text": [
      "Using features: ['Snowfall(cm)', 'Visibility(10m)', 'year', 'Temp(C)', 'Solar_Radiation(MJ/m2)', 'Wind_speed(m/s)']\n",
      "[iter 0] loss=16.4519 val_loss=0.0000 scale=1.0000 norm=2963398.9849\n",
      "[iter 100] loss=15.5524 val_loss=0.0000 scale=2.0000 norm=1747896.3870\n",
      "[iter 200] loss=15.0501 val_loss=0.0000 scale=2.0000 norm=1227117.4101\n",
      "[iter 300] loss=14.8142 val_loss=0.0000 scale=1.0000 norm=567074.1740\n",
      "[iter 400] loss=14.7272 val_loss=0.0000 scale=2.0000 norm=1107948.6115\n"
     ]
    },
    {
     "name": "stderr",
     "output_type": "stream",
     "text": [
      "\r",
      "Feature combinations: 283it [3:29:14, 37.63s/it]"
     ]
    },
    {
     "name": "stdout",
     "output_type": "stream",
     "text": [
      "Using features: ['Snowfall(cm)', 'Visibility(10m)', 'month', 'Temp(C)', 'Solar_Radiation(MJ/m2)', 'Wind_speed(m/s)']\n",
      "[iter 0] loss=16.4519 val_loss=0.0000 scale=1.0000 norm=2963398.9849\n",
      "[iter 100] loss=15.5582 val_loss=0.0000 scale=2.0000 norm=1760043.1792\n",
      "[iter 200] loss=15.0622 val_loss=0.0000 scale=2.0000 norm=1244155.1319\n",
      "[iter 300] loss=14.8410 val_loss=0.0000 scale=1.0000 norm=582137.5450\n",
      "[iter 400] loss=14.7717 val_loss=0.0000 scale=2.0000 norm=1144856.6377\n"
     ]
    },
    {
     "name": "stderr",
     "output_type": "stream",
     "text": [
      "\r",
      "Feature combinations: 284it [3:29:55, 38.58s/it]"
     ]
    },
    {
     "name": "stdout",
     "output_type": "stream",
     "text": [
      "Using features: ['Snowfall(cm)', 'Visibility(10m)', 'hour', 'Temp(C)', 'Solar_Radiation(MJ/m2)', 'Wind_speed(m/s)']\n",
      "[iter 0] loss=16.4519 val_loss=0.0000 scale=1.0000 norm=2963398.9849\n",
      "[iter 100] loss=15.5607 val_loss=0.0000 scale=2.0000 norm=1763305.6378\n",
      "[iter 200] loss=15.0491 val_loss=0.0000 scale=2.0000 norm=1222395.0024\n",
      "[iter 300] loss=14.7989 val_loss=0.0000 scale=2.0000 norm=1136445.9986\n",
      "[iter 400] loss=14.7054 val_loss=0.0000 scale=1.0000 norm=556189.0585\n"
     ]
    },
    {
     "name": "stderr",
     "output_type": "stream",
     "text": [
      "\r",
      "Feature combinations: 285it [3:30:36, 39.57s/it]"
     ]
    },
    {
     "name": "stdout",
     "output_type": "stream",
     "text": [
      "Using features: ['Snowfall(cm)', 'year', 'month', 'Temp(C)', 'Solar_Radiation(MJ/m2)', 'Wind_speed(m/s)']\n",
      "[iter 0] loss=16.4519 val_loss=0.0000 scale=1.0000 norm=2963398.9849\n",
      "[iter 100] loss=15.5546 val_loss=0.0000 scale=2.0000 norm=1747781.4349\n",
      "[iter 200] loss=15.0367 val_loss=0.0000 scale=2.0000 norm=1188361.6409\n",
      "[iter 300] loss=14.8103 val_loss=0.0000 scale=1.0000 norm=539991.2009\n",
      "[iter 400] loss=14.7427 val_loss=0.0000 scale=1.0000 norm=524217.3520\n"
     ]
    },
    {
     "name": "stderr",
     "output_type": "stream",
     "text": [
      "\r",
      "Feature combinations: 286it [3:31:14, 39.08s/it]"
     ]
    },
    {
     "name": "stdout",
     "output_type": "stream",
     "text": [
      "Using features: ['Snowfall(cm)', 'year', 'hour', 'Temp(C)', 'Solar_Radiation(MJ/m2)', 'Wind_speed(m/s)']\n",
      "[iter 0] loss=16.4519 val_loss=0.0000 scale=1.0000 norm=2963398.9849\n",
      "[iter 100] loss=15.5619 val_loss=0.0000 scale=2.0000 norm=1764452.4472\n",
      "[iter 200] loss=15.0295 val_loss=0.0000 scale=2.0000 norm=1179011.9280\n",
      "[iter 300] loss=14.7629 val_loss=0.0000 scale=2.0000 norm=1069728.8896\n",
      "[iter 400] loss=14.6748 val_loss=0.0000 scale=1.0000 norm=520445.8443\n"
     ]
    },
    {
     "name": "stderr",
     "output_type": "stream",
     "text": [
      "\r",
      "Feature combinations: 287it [3:31:52, 38.51s/it]"
     ]
    },
    {
     "name": "stdout",
     "output_type": "stream",
     "text": [
      "Using features: ['Snowfall(cm)', 'month', 'hour', 'Temp(C)', 'Solar_Radiation(MJ/m2)', 'Wind_speed(m/s)']\n",
      "[iter 0] loss=16.4519 val_loss=0.0000 scale=1.0000 norm=2963398.9849\n",
      "[iter 100] loss=15.5598 val_loss=0.0000 scale=2.0000 norm=1759818.9776\n",
      "[iter 200] loss=15.0431 val_loss=0.0000 scale=2.0000 norm=1207823.3315\n",
      "[iter 300] loss=14.7909 val_loss=0.0000 scale=2.0000 norm=1116311.8853\n",
      "[iter 400] loss=14.7097 val_loss=0.0000 scale=2.0000 norm=1097499.1206\n"
     ]
    },
    {
     "name": "stderr",
     "output_type": "stream",
     "text": [
      "\r",
      "Feature combinations: 288it [3:32:29, 38.08s/it]"
     ]
    },
    {
     "name": "stdout",
     "output_type": "stream",
     "text": [
      "Using features: ['Cloud_Cover(1/10)', 'Visibility(10m)', 'year', 'Temp(C)', 'Solar_Radiation(MJ/m2)', 'Wind_speed(m/s)']\n",
      "[iter 0] loss=16.4519 val_loss=0.0000 scale=1.0000 norm=2963398.9849\n",
      "[iter 100] loss=15.5587 val_loss=0.0000 scale=2.0000 norm=1754358.5926\n",
      "[iter 200] loss=15.0509 val_loss=0.0000 scale=2.0000 norm=1225988.0949\n",
      "[iter 300] loss=14.8063 val_loss=0.0000 scale=2.0000 norm=1136631.2450\n",
      "[iter 400] loss=14.7294 val_loss=0.0000 scale=1.0000 norm=557863.6137\n"
     ]
    },
    {
     "name": "stderr",
     "output_type": "stream",
     "text": [
      "\r",
      "Feature combinations: 289it [3:33:10, 39.08s/it]"
     ]
    },
    {
     "name": "stdout",
     "output_type": "stream",
     "text": [
      "Using features: ['Cloud_Cover(1/10)', 'Visibility(10m)', 'month', 'Temp(C)', 'Solar_Radiation(MJ/m2)', 'Wind_speed(m/s)']\n",
      "[iter 0] loss=16.4519 val_loss=0.0000 scale=1.0000 norm=2963398.9849\n",
      "[iter 100] loss=15.5569 val_loss=0.0000 scale=2.0000 norm=1747854.8031\n",
      "[iter 200] loss=15.0559 val_loss=0.0000 scale=2.0000 norm=1230564.5223\n",
      "[iter 300] loss=14.8274 val_loss=0.0000 scale=1.0000 norm=577616.9395\n",
      "[iter 400] loss=14.7465 val_loss=0.0000 scale=1.0000 norm=567482.0607\n"
     ]
    },
    {
     "name": "stderr",
     "output_type": "stream",
     "text": [
      "\r",
      "Feature combinations: 290it [3:33:51, 39.72s/it]"
     ]
    },
    {
     "name": "stdout",
     "output_type": "stream",
     "text": [
      "Using features: ['Cloud_Cover(1/10)', 'Visibility(10m)', 'hour', 'Temp(C)', 'Solar_Radiation(MJ/m2)', 'Wind_speed(m/s)']\n",
      "[iter 0] loss=16.4519 val_loss=0.0000 scale=1.0000 norm=2963398.9849\n",
      "[iter 100] loss=15.5474 val_loss=0.0000 scale=2.0000 norm=1721855.2037\n",
      "[iter 200] loss=15.0201 val_loss=0.0000 scale=2.0000 norm=1157780.1365\n",
      "[iter 300] loss=14.7529 val_loss=0.0000 scale=2.0000 norm=1065188.8045\n",
      "[iter 400] loss=14.6563 val_loss=0.0000 scale=1.0000 norm=519320.3466\n"
     ]
    },
    {
     "name": "stderr",
     "output_type": "stream",
     "text": [
      "\r",
      "Feature combinations: 291it [3:34:33, 40.21s/it]"
     ]
    },
    {
     "name": "stdout",
     "output_type": "stream",
     "text": [
      "Using features: ['Cloud_Cover(1/10)', 'year', 'month', 'Temp(C)', 'Solar_Radiation(MJ/m2)', 'Wind_speed(m/s)']\n",
      "[iter 0] loss=16.4519 val_loss=0.0000 scale=1.0000 norm=2963398.9849\n",
      "[iter 100] loss=15.5544 val_loss=0.0000 scale=2.0000 norm=1743176.1717\n",
      "[iter 200] loss=15.0320 val_loss=0.0000 scale=2.0000 norm=1180901.0812\n",
      "[iter 300] loss=14.7871 val_loss=0.0000 scale=2.0000 norm=1078691.3153\n",
      "[iter 400] loss=14.7129 val_loss=0.0000 scale=1.0000 norm=526200.7402\n"
     ]
    },
    {
     "name": "stderr",
     "output_type": "stream",
     "text": [
      "\r",
      "Feature combinations: 292it [3:35:10, 39.35s/it]"
     ]
    },
    {
     "name": "stdout",
     "output_type": "stream",
     "text": [
      "Using features: ['Cloud_Cover(1/10)', 'year', 'hour', 'Temp(C)', 'Solar_Radiation(MJ/m2)', 'Wind_speed(m/s)']\n",
      "[iter 0] loss=16.4519 val_loss=0.0000 scale=1.0000 norm=2963398.9849\n",
      "[iter 100] loss=15.5461 val_loss=0.0000 scale=2.0000 norm=1722300.6038\n",
      "[iter 200] loss=15.0051 val_loss=0.0000 scale=2.0000 norm=1126933.2474\n",
      "[iter 300] loss=14.7287 val_loss=0.0000 scale=1.0000 norm=510314.2876\n",
      "[iter 400] loss=14.6382 val_loss=0.0000 scale=1.0000 norm=495793.3473\n"
     ]
    },
    {
     "name": "stderr",
     "output_type": "stream",
     "text": [
      "\r",
      "Feature combinations: 293it [3:35:48, 39.04s/it]"
     ]
    },
    {
     "name": "stdout",
     "output_type": "stream",
     "text": [
      "Using features: ['Cloud_Cover(1/10)', 'month', 'hour', 'Temp(C)', 'Solar_Radiation(MJ/m2)', 'Wind_speed(m/s)']\n",
      "[iter 0] loss=16.4519 val_loss=0.0000 scale=1.0000 norm=2963398.9849\n",
      "[iter 100] loss=15.5434 val_loss=0.0000 scale=2.0000 norm=1712447.8550\n",
      "[iter 200] loss=15.0150 val_loss=0.0000 scale=2.0000 norm=1148715.4374\n",
      "[iter 300] loss=14.7468 val_loss=0.0000 scale=2.0000 norm=1061019.0911\n",
      "[iter 400] loss=14.6560 val_loss=0.0000 scale=1.0000 norm=520018.3348\n"
     ]
    },
    {
     "name": "stderr",
     "output_type": "stream",
     "text": [
      "\r",
      "Feature combinations: 294it [3:36:29, 39.43s/it]"
     ]
    },
    {
     "name": "stdout",
     "output_type": "stream",
     "text": [
      "Using features: ['Visibility(10m)', 'year', 'month', 'Temp(C)', 'Solar_Radiation(MJ/m2)', 'Wind_speed(m/s)']\n",
      "[iter 0] loss=16.4519 val_loss=0.0000 scale=1.0000 norm=2963398.9849\n",
      "[iter 100] loss=15.5557 val_loss=0.0000 scale=2.0000 norm=1747966.1012\n",
      "[iter 200] loss=15.0397 val_loss=0.0000 scale=2.0000 norm=1187836.0515\n",
      "[iter 300] loss=14.7992 val_loss=0.0000 scale=1.0000 norm=538514.8102\n",
      "[iter 400] loss=14.7352 val_loss=0.0000 scale=1.0000 norm=525337.7692\n"
     ]
    },
    {
     "name": "stderr",
     "output_type": "stream",
     "text": [
      "\r",
      "Feature combinations: 295it [3:37:11, 40.40s/it]"
     ]
    },
    {
     "name": "stdout",
     "output_type": "stream",
     "text": [
      "Using features: ['Visibility(10m)', 'year', 'hour', 'Temp(C)', 'Solar_Radiation(MJ/m2)', 'Wind_speed(m/s)']\n",
      "[iter 0] loss=16.4519 val_loss=0.0000 scale=1.0000 norm=2963398.9849\n",
      "[iter 100] loss=15.5629 val_loss=0.0000 scale=2.0000 norm=1763962.6496\n",
      "[iter 200] loss=15.0336 val_loss=0.0000 scale=2.0000 norm=1179208.7871\n",
      "[iter 300] loss=14.7679 val_loss=0.0000 scale=2.0000 norm=1077060.3074\n",
      "[iter 400] loss=14.6838 val_loss=0.0000 scale=1.0000 norm=526225.9296\n"
     ]
    },
    {
     "name": "stderr",
     "output_type": "stream",
     "text": [
      "\r",
      "Feature combinations: 296it [3:37:53, 40.90s/it]"
     ]
    },
    {
     "name": "stdout",
     "output_type": "stream",
     "text": [
      "Using features: ['Visibility(10m)', 'month', 'hour', 'Temp(C)', 'Solar_Radiation(MJ/m2)', 'Wind_speed(m/s)']\n",
      "[iter 0] loss=16.4519 val_loss=0.0000 scale=1.0000 norm=2963398.9849\n",
      "[iter 100] loss=15.5608 val_loss=0.0000 scale=2.0000 norm=1757551.2142\n",
      "[iter 200] loss=15.0465 val_loss=0.0000 scale=2.0000 norm=1208186.5505\n",
      "[iter 300] loss=14.7991 val_loss=0.0000 scale=2.0000 norm=1127062.8862\n",
      "[iter 400] loss=14.7172 val_loss=0.0000 scale=1.0000 norm=552960.8651\n"
     ]
    },
    {
     "name": "stderr",
     "output_type": "stream",
     "text": [
      "\r",
      "Feature combinations: 297it [3:38:37, 41.68s/it]"
     ]
    },
    {
     "name": "stdout",
     "output_type": "stream",
     "text": [
      "Using features: ['year', 'month', 'hour', 'Temp(C)', 'Solar_Radiation(MJ/m2)', 'Wind_speed(m/s)']\n",
      "[iter 0] loss=16.4519 val_loss=0.0000 scale=1.0000 norm=2963398.9849\n",
      "[iter 100] loss=15.5588 val_loss=0.0000 scale=2.0000 norm=1753769.8366\n",
      "[iter 200] loss=15.0254 val_loss=0.0000 scale=2.0000 norm=1161246.5472\n",
      "[iter 300] loss=14.7634 val_loss=0.0000 scale=1.0000 norm=525340.2564\n",
      "[iter 400] loss=14.6894 val_loss=0.0000 scale=1.0000 norm=512334.9120\n"
     ]
    },
    {
     "name": "stderr",
     "output_type": "stream",
     "text": [
      "\r",
      "Feature combinations: 298it [3:39:17, 41.11s/it]"
     ]
    },
    {
     "name": "stdout",
     "output_type": "stream",
     "text": [
      "Using features: ['Prec(mm)', 'Humidity', 'Vapor_pressure(hPa)', 'Dew_Point(C)', 'Temp(C)', 'Solar_Radiation(MJ/m2)', 'Wind_speed(m/s)']\n",
      "[iter 0] loss=16.4519 val_loss=0.0000 scale=1.0000 norm=2963398.9849\n",
      "[iter 100] loss=15.5496 val_loss=0.0000 scale=2.0000 norm=1737409.4221\n",
      "[iter 200] loss=15.0760 val_loss=0.0000 scale=2.0000 norm=1284393.0468\n",
      "[iter 300] loss=14.8503 val_loss=0.0000 scale=2.0000 norm=1232951.8439\n",
      "[iter 400] loss=14.7533 val_loss=0.0000 scale=2.0000 norm=1219454.2402\n"
     ]
    },
    {
     "name": "stderr",
     "output_type": "stream",
     "text": [
      "\r",
      "Feature combinations: 299it [3:40:05, 43.28s/it]"
     ]
    },
    {
     "name": "stdout",
     "output_type": "stream",
     "text": [
      "Using features: ['Prec(mm)', 'Humidity', 'Vapor_pressure(hPa)', 'Local Atmospheric Pressure(hPa)', 'Temp(C)', 'Solar_Radiation(MJ/m2)', 'Wind_speed(m/s)']\n",
      "[iter 0] loss=16.4519 val_loss=0.0000 scale=1.0000 norm=2963398.9849\n",
      "[iter 100] loss=15.5641 val_loss=0.0000 scale=2.0000 norm=1749444.3210\n",
      "[iter 200] loss=15.0711 val_loss=0.0000 scale=2.0000 norm=1251631.5497\n",
      "[iter 300] loss=14.8368 val_loss=0.0000 scale=2.0000 norm=1193490.2235\n",
      "[iter 400] loss=14.7401 val_loss=0.0000 scale=2.0000 norm=1177272.4494\n"
     ]
    },
    {
     "name": "stderr",
     "output_type": "stream",
     "text": [
      "\r",
      "Feature combinations: 300it [3:40:51, 44.09s/it]"
     ]
    },
    {
     "name": "stdout",
     "output_type": "stream",
     "text": [
      "Using features: ['Prec(mm)', 'Humidity', 'Vapor_pressure(hPa)', 'sunshine(hr)', 'Temp(C)', 'Solar_Radiation(MJ/m2)', 'Wind_speed(m/s)']\n",
      "[iter 0] loss=16.4519 val_loss=0.0000 scale=1.0000 norm=2963398.9849\n",
      "[iter 100] loss=15.5488 val_loss=0.0000 scale=2.0000 norm=1734131.9998\n",
      "[iter 200] loss=15.0686 val_loss=0.0000 scale=2.0000 norm=1277072.1055\n",
      "[iter 300] loss=14.8378 val_loss=0.0000 scale=2.0000 norm=1220847.7952\n",
      "[iter 400] loss=14.7377 val_loss=0.0000 scale=1.0000 norm=602670.7572\n"
     ]
    },
    {
     "name": "stderr",
     "output_type": "stream",
     "text": [
      "\r",
      "Feature combinations: 301it [3:41:34, 43.82s/it]"
     ]
    },
    {
     "name": "stdout",
     "output_type": "stream",
     "text": [
      "Using features: ['Prec(mm)', 'Humidity', 'Vapor_pressure(hPa)', 'Snowfall(cm)', 'Temp(C)', 'Solar_Radiation(MJ/m2)', 'Wind_speed(m/s)']\n",
      "[iter 0] loss=16.4519 val_loss=0.0000 scale=1.0000 norm=2963398.9849\n",
      "[iter 100] loss=15.5487 val_loss=0.0000 scale=2.0000 norm=1740344.3358\n",
      "[iter 200] loss=15.0711 val_loss=0.0000 scale=2.0000 norm=1275424.2069\n",
      "[iter 300] loss=14.8423 val_loss=0.0000 scale=2.0000 norm=1217597.4188\n",
      "[iter 400] loss=14.7474 val_loss=0.0000 scale=2.0000 norm=1202620.8544\n"
     ]
    },
    {
     "name": "stderr",
     "output_type": "stream",
     "text": [
      "\r",
      "Feature combinations: 302it [3:42:17, 43.43s/it]"
     ]
    },
    {
     "name": "stdout",
     "output_type": "stream",
     "text": [
      "Using features: ['Prec(mm)', 'Humidity', 'Vapor_pressure(hPa)', 'Cloud_Cover(1/10)', 'Temp(C)', 'Solar_Radiation(MJ/m2)', 'Wind_speed(m/s)']\n",
      "[iter 0] loss=16.4519 val_loss=0.0000 scale=1.0000 norm=2963398.9849\n",
      "[iter 100] loss=15.5473 val_loss=0.0000 scale=2.0000 norm=1728216.1639\n",
      "[iter 200] loss=15.0661 val_loss=0.0000 scale=2.0000 norm=1264538.2738\n",
      "[iter 300] loss=14.8334 val_loss=0.0000 scale=2.0000 norm=1208180.0333\n",
      "[iter 400] loss=14.7395 val_loss=0.0000 scale=1.0000 norm=596569.5366\n"
     ]
    },
    {
     "name": "stderr",
     "output_type": "stream",
     "text": [
      "\r",
      "Feature combinations: 303it [3:43:06, 45.30s/it]"
     ]
    },
    {
     "name": "stdout",
     "output_type": "stream",
     "text": [
      "Using features: ['Prec(mm)', 'Humidity', 'Vapor_pressure(hPa)', 'Visibility(10m)', 'Temp(C)', 'Solar_Radiation(MJ/m2)', 'Wind_speed(m/s)']\n",
      "[iter 0] loss=16.4519 val_loss=0.0000 scale=1.0000 norm=2963398.9849\n",
      "[iter 100] loss=15.5496 val_loss=0.0000 scale=2.0000 norm=1737572.3462\n",
      "[iter 200] loss=15.0752 val_loss=0.0000 scale=2.0000 norm=1283405.6594\n",
      "[iter 300] loss=14.8478 val_loss=0.0000 scale=2.0000 norm=1227505.1958\n",
      "[iter 400] loss=14.7525 val_loss=0.0000 scale=2.0000 norm=1210614.8316\n"
     ]
    },
    {
     "name": "stderr",
     "output_type": "stream",
     "text": [
      "\r",
      "Feature combinations: 304it [3:43:59, 47.39s/it]"
     ]
    },
    {
     "name": "stdout",
     "output_type": "stream",
     "text": [
      "Using features: ['Prec(mm)', 'Humidity', 'Vapor_pressure(hPa)', 'year', 'Temp(C)', 'Solar_Radiation(MJ/m2)', 'Wind_speed(m/s)']\n",
      "[iter 0] loss=16.4519 val_loss=0.0000 scale=1.0000 norm=2963398.9849\n",
      "[iter 100] loss=15.5445 val_loss=0.0000 scale=2.0000 norm=1724221.7130\n",
      "[iter 200] loss=15.0415 val_loss=0.0000 scale=2.0000 norm=1217974.9401\n",
      "[iter 300] loss=14.8073 val_loss=0.0000 scale=2.0000 norm=1139875.0888\n",
      "[iter 400] loss=14.7292 val_loss=0.0000 scale=1.0000 norm=559906.5725\n"
     ]
    },
    {
     "name": "stderr",
     "output_type": "stream",
     "text": [
      "\r",
      "Feature combinations: 305it [3:44:43, 46.55s/it]"
     ]
    },
    {
     "name": "stdout",
     "output_type": "stream",
     "text": [
      "Using features: ['Prec(mm)', 'Humidity', 'Vapor_pressure(hPa)', 'month', 'Temp(C)', 'Solar_Radiation(MJ/m2)', 'Wind_speed(m/s)']\n",
      "[iter 0] loss=16.4519 val_loss=0.0000 scale=1.0000 norm=2963398.9849\n",
      "[iter 100] loss=15.5478 val_loss=0.0000 scale=2.0000 norm=1730521.4109\n",
      "[iter 200] loss=15.0577 val_loss=0.0000 scale=2.0000 norm=1243819.8351\n",
      "[iter 300] loss=14.8274 val_loss=0.0000 scale=2.0000 norm=1177584.4320\n",
      "[iter 400] loss=14.7525 val_loss=0.0000 scale=0.5000 norm=290993.7395\n"
     ]
    },
    {
     "name": "stderr",
     "output_type": "stream",
     "text": [
      "\r",
      "Feature combinations: 306it [3:45:27, 45.78s/it]"
     ]
    },
    {
     "name": "stdout",
     "output_type": "stream",
     "text": [
      "Using features: ['Prec(mm)', 'Humidity', 'Vapor_pressure(hPa)', 'hour', 'Temp(C)', 'Solar_Radiation(MJ/m2)', 'Wind_speed(m/s)']\n",
      "[iter 0] loss=16.4519 val_loss=0.0000 scale=1.0000 norm=2963398.9849\n",
      "[iter 100] loss=15.5533 val_loss=0.0000 scale=2.0000 norm=1738921.7410\n",
      "[iter 200] loss=15.0432 val_loss=0.0000 scale=2.0000 norm=1213758.5222\n",
      "[iter 300] loss=14.7921 val_loss=0.0000 scale=2.0000 norm=1143171.0486\n",
      "[iter 400] loss=14.6920 val_loss=0.0000 scale=2.0000 norm=1125488.5759\n"
     ]
    },
    {
     "name": "stderr",
     "output_type": "stream",
     "text": [
      "\r",
      "Feature combinations: 307it [3:46:16, 46.83s/it]"
     ]
    },
    {
     "name": "stdout",
     "output_type": "stream",
     "text": [
      "Using features: ['Prec(mm)', 'Humidity', 'Dew_Point(C)', 'Local Atmospheric Pressure(hPa)', 'Temp(C)', 'Solar_Radiation(MJ/m2)', 'Wind_speed(m/s)']\n",
      "[iter 0] loss=16.4519 val_loss=0.0000 scale=1.0000 norm=2963398.9849\n",
      "[iter 100] loss=15.5641 val_loss=0.0000 scale=2.0000 norm=1749464.5622\n",
      "[iter 200] loss=15.0713 val_loss=0.0000 scale=2.0000 norm=1252120.5629\n",
      "[iter 300] loss=14.8375 val_loss=0.0000 scale=2.0000 norm=1193652.2751\n",
      "[iter 400] loss=14.7403 val_loss=0.0000 scale=2.0000 norm=1177309.5068\n"
     ]
    },
    {
     "name": "stderr",
     "output_type": "stream",
     "text": [
      "\r",
      "Feature combinations: 308it [3:47:08, 48.14s/it]"
     ]
    },
    {
     "name": "stdout",
     "output_type": "stream",
     "text": [
      "Using features: ['Prec(mm)', 'Humidity', 'Dew_Point(C)', 'sunshine(hr)', 'Temp(C)', 'Solar_Radiation(MJ/m2)', 'Wind_speed(m/s)']\n",
      "[iter 0] loss=16.4519 val_loss=0.0000 scale=1.0000 norm=2963398.9849\n",
      "[iter 100] loss=15.5488 val_loss=0.0000 scale=2.0000 norm=1733672.4839\n",
      "[iter 200] loss=15.0687 val_loss=0.0000 scale=2.0000 norm=1277308.1622\n",
      "[iter 300] loss=14.8387 val_loss=0.0000 scale=2.0000 norm=1221455.7360\n",
      "[iter 400] loss=14.7396 val_loss=0.0000 scale=2.0000 norm=1205301.2250\n"
     ]
    },
    {
     "name": "stderr",
     "output_type": "stream",
     "text": [
      "\r",
      "Feature combinations: 309it [3:47:56, 48.28s/it]"
     ]
    },
    {
     "name": "stdout",
     "output_type": "stream",
     "text": [
      "Using features: ['Prec(mm)', 'Humidity', 'Dew_Point(C)', 'Snowfall(cm)', 'Temp(C)', 'Solar_Radiation(MJ/m2)', 'Wind_speed(m/s)']\n",
      "[iter 0] loss=16.4519 val_loss=0.0000 scale=1.0000 norm=2963398.9849\n",
      "[iter 100] loss=15.5486 val_loss=0.0000 scale=2.0000 norm=1740199.5093\n",
      "[iter 200] loss=15.0709 val_loss=0.0000 scale=2.0000 norm=1274968.4661\n",
      "[iter 300] loss=14.8422 val_loss=0.0000 scale=2.0000 norm=1217152.4779\n",
      "[iter 400] loss=14.7482 val_loss=0.0000 scale=1.0000 norm=601306.9331\n"
     ]
    },
    {
     "name": "stderr",
     "output_type": "stream",
     "text": [
      "\r",
      "Feature combinations: 310it [3:48:42, 47.59s/it]"
     ]
    },
    {
     "name": "stdout",
     "output_type": "stream",
     "text": [
      "Using features: ['Prec(mm)', 'Humidity', 'Dew_Point(C)', 'Cloud_Cover(1/10)', 'Temp(C)', 'Solar_Radiation(MJ/m2)', 'Wind_speed(m/s)']\n",
      "[iter 0] loss=16.4519 val_loss=0.0000 scale=1.0000 norm=2963398.9849\n",
      "[iter 100] loss=15.5473 val_loss=0.0000 scale=2.0000 norm=1727993.2327\n",
      "[iter 200] loss=15.0661 val_loss=0.0000 scale=2.0000 norm=1264600.4646\n",
      "[iter 300] loss=14.8336 val_loss=0.0000 scale=2.0000 norm=1207801.9034\n",
      "[iter 400] loss=14.7406 val_loss=0.0000 scale=1.0000 norm=596624.4568\n"
     ]
    },
    {
     "name": "stderr",
     "output_type": "stream",
     "text": [
      "\r",
      "Feature combinations: 311it [3:49:36, 49.43s/it]"
     ]
    },
    {
     "name": "stdout",
     "output_type": "stream",
     "text": [
      "Using features: ['Prec(mm)', 'Humidity', 'Dew_Point(C)', 'Visibility(10m)', 'Temp(C)', 'Solar_Radiation(MJ/m2)', 'Wind_speed(m/s)']\n",
      "[iter 0] loss=16.4519 val_loss=0.0000 scale=1.0000 norm=2963398.9849\n",
      "[iter 100] loss=15.5496 val_loss=0.0000 scale=2.0000 norm=1737409.4221\n",
      "[iter 200] loss=15.0751 val_loss=0.0000 scale=2.0000 norm=1283124.1387\n",
      "[iter 300] loss=14.8479 val_loss=0.0000 scale=2.0000 norm=1227307.4120\n",
      "[iter 400] loss=14.7532 val_loss=0.0000 scale=2.0000 norm=1210971.1343\n"
     ]
    },
    {
     "name": "stderr",
     "output_type": "stream",
     "text": [
      "\r",
      "Feature combinations: 312it [3:50:29, 50.64s/it]"
     ]
    },
    {
     "name": "stdout",
     "output_type": "stream",
     "text": [
      "Using features: ['Prec(mm)', 'Humidity', 'Dew_Point(C)', 'year', 'Temp(C)', 'Solar_Radiation(MJ/m2)', 'Wind_speed(m/s)']\n",
      "[iter 0] loss=16.4519 val_loss=0.0000 scale=1.0000 norm=2963398.9849\n",
      "[iter 100] loss=15.5549 val_loss=0.0000 scale=2.0000 norm=1744032.5939\n",
      "[iter 200] loss=15.0470 val_loss=0.0000 scale=2.0000 norm=1219871.2143\n",
      "[iter 300] loss=14.8149 val_loss=0.0000 scale=1.0000 norm=570954.9121\n",
      "[iter 400] loss=14.7285 val_loss=0.0000 scale=2.0000 norm=1118464.3760\n"
     ]
    },
    {
     "name": "stderr",
     "output_type": "stream",
     "text": [
      "\r",
      "Feature combinations: 313it [3:51:24, 51.72s/it]"
     ]
    },
    {
     "name": "stdout",
     "output_type": "stream",
     "text": [
      "Using features: ['Prec(mm)', 'Humidity', 'Dew_Point(C)', 'month', 'Temp(C)', 'Solar_Radiation(MJ/m2)', 'Wind_speed(m/s)']\n",
      "[iter 0] loss=16.4519 val_loss=0.0000 scale=1.0000 norm=2963398.9849\n",
      "[iter 100] loss=15.5578 val_loss=0.0000 scale=2.0000 norm=1749757.2187\n",
      "[iter 200] loss=15.0626 val_loss=0.0000 scale=2.0000 norm=1245745.9568\n",
      "[iter 300] loss=14.8327 val_loss=0.0000 scale=2.0000 norm=1177208.7713\n",
      "[iter 400] loss=14.7529 val_loss=0.0000 scale=1.0000 norm=581452.7653\n"
     ]
    },
    {
     "name": "stderr",
     "output_type": "stream",
     "text": [
      "\r",
      "Feature combinations: 314it [3:52:18, 52.62s/it]"
     ]
    },
    {
     "name": "stdout",
     "output_type": "stream",
     "text": [
      "Using features: ['Prec(mm)', 'Humidity', 'Dew_Point(C)', 'hour', 'Temp(C)', 'Solar_Radiation(MJ/m2)', 'Wind_speed(m/s)']\n",
      "[iter 0] loss=16.4519 val_loss=0.0000 scale=1.0000 norm=2963398.9849\n",
      "[iter 100] loss=15.5600 val_loss=0.0000 scale=2.0000 norm=1751916.0383\n",
      "[iter 200] loss=15.0469 val_loss=0.0000 scale=2.0000 norm=1215718.8122\n",
      "[iter 300] loss=14.7944 val_loss=0.0000 scale=2.0000 norm=1144494.9821\n",
      "[iter 400] loss=14.6925 val_loss=0.0000 scale=2.0000 norm=1125526.0295\n"
     ]
    },
    {
     "name": "stderr",
     "output_type": "stream",
     "text": [
      "\r",
      "Feature combinations: 315it [3:53:13, 53.26s/it]"
     ]
    },
    {
     "name": "stdout",
     "output_type": "stream",
     "text": [
      "Using features: ['Prec(mm)', 'Humidity', 'Local Atmospheric Pressure(hPa)', 'sunshine(hr)', 'Temp(C)', 'Solar_Radiation(MJ/m2)', 'Wind_speed(m/s)']\n",
      "[iter 0] loss=16.4519 val_loss=0.0000 scale=1.0000 norm=2963398.9849\n",
      "[iter 100] loss=15.5674 val_loss=0.0000 scale=2.0000 norm=1757865.0505\n",
      "[iter 200] loss=15.0647 val_loss=0.0000 scale=2.0000 norm=1248009.4078\n",
      "[iter 300] loss=14.8248 val_loss=0.0000 scale=2.0000 norm=1186219.9175\n",
      "[iter 400] loss=14.7250 val_loss=0.0000 scale=1.0000 norm=583574.0955\n"
     ]
    },
    {
     "name": "stderr",
     "output_type": "stream",
     "text": [
      "\r",
      "Feature combinations: 316it [3:54:01, 51.63s/it]"
     ]
    },
    {
     "name": "stdout",
     "output_type": "stream",
     "text": [
      "Using features: ['Prec(mm)', 'Humidity', 'Local Atmospheric Pressure(hPa)', 'Snowfall(cm)', 'Temp(C)', 'Solar_Radiation(MJ/m2)', 'Wind_speed(m/s)']\n",
      "[iter 0] loss=16.4519 val_loss=0.0000 scale=1.0000 norm=2963398.9849\n",
      "[iter 100] loss=15.5667 val_loss=0.0000 scale=2.0000 norm=1763121.6350\n",
      "[iter 200] loss=15.0681 val_loss=0.0000 scale=2.0000 norm=1245874.9333\n",
      "[iter 300] loss=14.8303 val_loss=0.0000 scale=2.0000 norm=1178351.1329\n",
      "[iter 400] loss=14.7298 val_loss=0.0000 scale=2.0000 norm=1159862.7461\n"
     ]
    },
    {
     "name": "stderr",
     "output_type": "stream",
     "text": [
      "\r",
      "Feature combinations: 317it [3:54:48, 50.32s/it]"
     ]
    },
    {
     "name": "stdout",
     "output_type": "stream",
     "text": [
      "Using features: ['Prec(mm)', 'Humidity', 'Local Atmospheric Pressure(hPa)', 'Cloud_Cover(1/10)', 'Temp(C)', 'Solar_Radiation(MJ/m2)', 'Wind_speed(m/s)']\n",
      "[iter 0] loss=16.4519 val_loss=0.0000 scale=1.0000 norm=2963398.9849\n",
      "[iter 100] loss=15.5695 val_loss=0.0000 scale=2.0000 norm=1759316.6897\n",
      "[iter 200] loss=15.0664 val_loss=0.0000 scale=2.0000 norm=1238001.5057\n",
      "[iter 300] loss=14.8229 val_loss=0.0000 scale=2.0000 norm=1172733.9813\n",
      "[iter 400] loss=14.7284 val_loss=0.0000 scale=2.0000 norm=1155543.5064\n"
     ]
    },
    {
     "name": "stderr",
     "output_type": "stream",
     "text": [
      "\r",
      "Feature combinations: 318it [3:55:34, 48.90s/it]"
     ]
    },
    {
     "name": "stdout",
     "output_type": "stream",
     "text": [
      "Using features: ['Prec(mm)', 'Humidity', 'Local Atmospheric Pressure(hPa)', 'Visibility(10m)', 'Temp(C)', 'Solar_Radiation(MJ/m2)', 'Wind_speed(m/s)']\n",
      "[iter 0] loss=16.4519 val_loss=0.0000 scale=1.0000 norm=2963398.9849\n",
      "[iter 100] loss=15.5679 val_loss=0.0000 scale=2.0000 norm=1760623.5935\n",
      "[iter 200] loss=15.0731 val_loss=0.0000 scale=2.0000 norm=1253789.0409\n",
      "[iter 300] loss=14.8379 val_loss=0.0000 scale=2.0000 norm=1191464.5610\n",
      "[iter 400] loss=14.7473 val_loss=0.0000 scale=1.0000 norm=586613.2682\n"
     ]
    },
    {
     "name": "stderr",
     "output_type": "stream",
     "text": [
      "\r",
      "Feature combinations: 319it [3:56:24, 49.25s/it]"
     ]
    },
    {
     "name": "stdout",
     "output_type": "stream",
     "text": [
      "Using features: ['Prec(mm)', 'Humidity', 'Local Atmospheric Pressure(hPa)', 'year', 'Temp(C)', 'Solar_Radiation(MJ/m2)', 'Wind_speed(m/s)']\n",
      "[iter 0] loss=16.4519 val_loss=0.0000 scale=1.0000 norm=2963398.9849\n",
      "[iter 100] loss=15.5710 val_loss=0.0000 scale=2.0000 norm=1762926.2004\n",
      "[iter 200] loss=15.0458 val_loss=0.0000 scale=2.0000 norm=1189574.8670\n",
      "[iter 300] loss=14.7933 val_loss=0.0000 scale=2.0000 norm=1096574.8574\n",
      "[iter 400] loss=14.7149 val_loss=0.0000 scale=1.0000 norm=537807.3599\n"
     ]
    },
    {
     "name": "stderr",
     "output_type": "stream",
     "text": [
      "\r",
      "Feature combinations: 320it [3:57:13, 49.31s/it]"
     ]
    },
    {
     "name": "stdout",
     "output_type": "stream",
     "text": [
      "Using features: ['Prec(mm)', 'Humidity', 'Local Atmospheric Pressure(hPa)', 'month', 'Temp(C)', 'Solar_Radiation(MJ/m2)', 'Wind_speed(m/s)']\n",
      "[iter 0] loss=16.4519 val_loss=0.0000 scale=1.0000 norm=2963398.9849\n",
      "[iter 100] loss=15.5641 val_loss=0.0000 scale=2.0000 norm=1751642.6607\n",
      "[iter 200] loss=15.0663 val_loss=0.0000 scale=2.0000 norm=1240970.8006\n",
      "[iter 300] loss=14.8297 val_loss=0.0000 scale=2.0000 norm=1172134.0110\n",
      "[iter 400] loss=14.7408 val_loss=0.0000 scale=1.0000 norm=576941.8640\n"
     ]
    },
    {
     "name": "stderr",
     "output_type": "stream",
     "text": [
      "\r",
      "Feature combinations: 321it [3:58:01, 48.74s/it]"
     ]
    },
    {
     "name": "stdout",
     "output_type": "stream",
     "text": [
      "Using features: ['Prec(mm)', 'Humidity', 'Local Atmospheric Pressure(hPa)', 'hour', 'Temp(C)', 'Solar_Radiation(MJ/m2)', 'Wind_speed(m/s)']\n",
      "[iter 0] loss=16.4519 val_loss=0.0000 scale=1.0000 norm=2963398.9849\n",
      "[iter 100] loss=15.5672 val_loss=0.0000 scale=2.0000 norm=1758263.9842\n",
      "[iter 200] loss=15.0467 val_loss=0.0000 scale=2.0000 norm=1203168.5061\n",
      "[iter 300] loss=14.7900 val_loss=0.0000 scale=2.0000 norm=1128200.4265\n",
      "[iter 400] loss=14.6910 val_loss=0.0000 scale=1.0000 norm=554115.3200\n"
     ]
    },
    {
     "name": "stderr",
     "output_type": "stream",
     "text": [
      "\r",
      "Feature combinations: 322it [3:58:45, 47.52s/it]"
     ]
    },
    {
     "name": "stdout",
     "output_type": "stream",
     "text": [
      "Using features: ['Prec(mm)', 'Humidity', 'sunshine(hr)', 'Snowfall(cm)', 'Temp(C)', 'Solar_Radiation(MJ/m2)', 'Wind_speed(m/s)']\n",
      "[iter 0] loss=16.4519 val_loss=0.0000 scale=1.0000 norm=2963398.9849\n",
      "[iter 100] loss=15.5555 val_loss=0.0000 scale=2.0000 norm=1756248.1403\n",
      "[iter 200] loss=15.0653 val_loss=0.0000 scale=2.0000 norm=1269334.6994\n",
      "[iter 300] loss=14.8305 val_loss=0.0000 scale=2.0000 norm=1203725.6368\n",
      "[iter 400] loss=14.7335 val_loss=0.0000 scale=2.0000 norm=1186936.5788\n"
     ]
    },
    {
     "name": "stderr",
     "output_type": "stream",
     "text": [
      "\r",
      "Feature combinations: 323it [3:59:27, 45.86s/it]"
     ]
    },
    {
     "name": "stdout",
     "output_type": "stream",
     "text": [
      "Using features: ['Prec(mm)', 'Humidity', 'sunshine(hr)', 'Cloud_Cover(1/10)', 'Temp(C)', 'Solar_Radiation(MJ/m2)', 'Wind_speed(m/s)']\n",
      "[iter 0] loss=16.4519 val_loss=0.0000 scale=1.0000 norm=2963398.9849\n",
      "[iter 100] loss=15.5581 val_loss=0.0000 scale=2.0000 norm=1753591.4646\n",
      "[iter 200] loss=15.0688 val_loss=0.0000 scale=2.0000 norm=1267700.7321\n",
      "[iter 300] loss=14.8324 val_loss=0.0000 scale=2.0000 norm=1206610.3102\n",
      "[iter 400] loss=14.7327 val_loss=0.0000 scale=1.0000 norm=594770.4982\n"
     ]
    },
    {
     "name": "stderr",
     "output_type": "stream",
     "text": [
      "\r",
      "Feature combinations: 324it [4:00:10, 44.74s/it]"
     ]
    },
    {
     "name": "stdout",
     "output_type": "stream",
     "text": [
      "Using features: ['Prec(mm)', 'Humidity', 'sunshine(hr)', 'Visibility(10m)', 'Temp(C)', 'Solar_Radiation(MJ/m2)', 'Wind_speed(m/s)']\n",
      "[iter 0] loss=16.4519 val_loss=0.0000 scale=1.0000 norm=2963398.9849\n",
      "[iter 100] loss=15.5564 val_loss=0.0000 scale=2.0000 norm=1753564.3914\n",
      "[iter 200] loss=15.0715 val_loss=0.0000 scale=2.0000 norm=1279181.7683\n",
      "[iter 300] loss=14.8380 val_loss=0.0000 scale=2.0000 norm=1217121.8223\n",
      "[iter 400] loss=14.7450 val_loss=0.0000 scale=1.0000 norm=599420.6581\n"
     ]
    },
    {
     "name": "stderr",
     "output_type": "stream",
     "text": [
      "\r",
      "Feature combinations: 325it [4:00:58, 45.88s/it]"
     ]
    },
    {
     "name": "stdout",
     "output_type": "stream",
     "text": [
      "Using features: ['Prec(mm)', 'Humidity', 'sunshine(hr)', 'year', 'Temp(C)', 'Solar_Radiation(MJ/m2)', 'Wind_speed(m/s)']\n",
      "[iter 0] loss=16.4519 val_loss=0.0000 scale=1.0000 norm=2963398.9849\n",
      "[iter 100] loss=15.5521 val_loss=0.0000 scale=2.0000 norm=1741629.9818\n",
      "[iter 200] loss=15.0382 val_loss=0.0000 scale=2.0000 norm=1216027.7363\n",
      "[iter 300] loss=14.7900 val_loss=0.0000 scale=2.0000 norm=1127817.8487\n",
      "[iter 400] loss=14.7006 val_loss=0.0000 scale=1.0000 norm=550299.4050\n"
     ]
    },
    {
     "name": "stderr",
     "output_type": "stream",
     "text": [
      "\r",
      "Feature combinations: 326it [4:01:40, 44.69s/it]"
     ]
    },
    {
     "name": "stdout",
     "output_type": "stream",
     "text": [
      "Using features: ['Prec(mm)', 'Humidity', 'sunshine(hr)', 'month', 'Temp(C)', 'Solar_Radiation(MJ/m2)', 'Wind_speed(m/s)']\n",
      "[iter 0] loss=16.4519 val_loss=0.0000 scale=1.0000 norm=2963398.9849\n",
      "[iter 100] loss=15.5581 val_loss=0.0000 scale=2.0000 norm=1752416.0725\n",
      "[iter 200] loss=15.0540 val_loss=0.0000 scale=2.0000 norm=1241270.5983\n",
      "[iter 300] loss=14.8105 val_loss=0.0000 scale=2.0000 norm=1166157.9988\n",
      "[iter 400] loss=14.7240 val_loss=0.0000 scale=1.0000 norm=573571.1120\n"
     ]
    },
    {
     "name": "stderr",
     "output_type": "stream",
     "text": [
      "\r",
      "Feature combinations: 327it [4:02:30, 46.29s/it]"
     ]
    },
    {
     "name": "stdout",
     "output_type": "stream",
     "text": [
      "Using features: ['Prec(mm)', 'Humidity', 'sunshine(hr)', 'hour', 'Temp(C)', 'Solar_Radiation(MJ/m2)', 'Wind_speed(m/s)']\n",
      "[iter 0] loss=16.4519 val_loss=0.0000 scale=1.0000 norm=2963398.9849\n",
      "[iter 100] loss=15.5631 val_loss=0.0000 scale=2.0000 norm=1756500.5857\n",
      "[iter 200] loss=15.0254 val_loss=0.0000 scale=2.0000 norm=1168274.6182\n",
      "[iter 300] loss=14.7531 val_loss=0.0000 scale=2.0000 norm=1082035.8387\n",
      "[iter 400] loss=14.6498 val_loss=0.0000 scale=1.0000 norm=530103.9893\n"
     ]
    },
    {
     "name": "stderr",
     "output_type": "stream",
     "text": [
      "\r",
      "Feature combinations: 328it [4:03:17, 46.40s/it]"
     ]
    },
    {
     "name": "stdout",
     "output_type": "stream",
     "text": [
      "Using features: ['Prec(mm)', 'Humidity', 'Snowfall(cm)', 'Cloud_Cover(1/10)', 'Temp(C)', 'Solar_Radiation(MJ/m2)', 'Wind_speed(m/s)']\n",
      "[iter 0] loss=16.4519 val_loss=0.0000 scale=1.0000 norm=2963398.9849\n",
      "[iter 100] loss=15.5574 val_loss=0.0000 scale=2.0000 norm=1756847.1074\n",
      "[iter 200] loss=15.0671 val_loss=0.0000 scale=2.0000 norm=1263338.1576\n",
      "[iter 300] loss=14.8305 val_loss=0.0000 scale=2.0000 norm=1194750.1508\n",
      "[iter 400] loss=14.7314 val_loss=0.0000 scale=1.0000 norm=588436.2238\n"
     ]
    },
    {
     "name": "stderr",
     "output_type": "stream",
     "text": [
      "\r",
      "Feature combinations: 329it [4:03:59, 45.17s/it]"
     ]
    },
    {
     "name": "stdout",
     "output_type": "stream",
     "text": [
      "Using features: ['Prec(mm)', 'Humidity', 'Snowfall(cm)', 'Visibility(10m)', 'Temp(C)', 'Solar_Radiation(MJ/m2)', 'Wind_speed(m/s)']\n",
      "[iter 0] loss=16.4519 val_loss=0.0000 scale=1.0000 norm=2963398.9849\n",
      "[iter 100] loss=15.5564 val_loss=0.0000 scale=2.0000 norm=1759822.3143\n",
      "[iter 200] loss=15.0746 val_loss=0.0000 scale=2.0000 norm=1280491.9358\n",
      "[iter 300] loss=14.8445 val_loss=0.0000 scale=2.0000 norm=1214375.2383\n",
      "[iter 400] loss=14.7481 val_loss=0.0000 scale=2.0000 norm=1194848.0489\n"
     ]
    },
    {
     "name": "stderr",
     "output_type": "stream",
     "text": [
      "\r",
      "Feature combinations: 330it [4:04:47, 45.92s/it]"
     ]
    },
    {
     "name": "stdout",
     "output_type": "stream",
     "text": [
      "Using features: ['Prec(mm)', 'Humidity', 'Snowfall(cm)', 'year', 'Temp(C)', 'Solar_Radiation(MJ/m2)', 'Wind_speed(m/s)']\n",
      "[iter 0] loss=16.4519 val_loss=0.0000 scale=1.0000 norm=2963398.9849\n",
      "[iter 100] loss=15.5515 val_loss=0.0000 scale=2.0000 norm=1744203.6264\n",
      "[iter 200] loss=15.0424 val_loss=0.0000 scale=2.0000 norm=1218261.9066\n",
      "[iter 300] loss=14.7988 val_loss=0.0000 scale=1.0000 norm=562289.6067\n",
      "[iter 400] loss=14.7145 val_loss=0.0000 scale=0.5000 norm=274773.1408\n"
     ]
    },
    {
     "name": "stderr",
     "output_type": "stream",
     "text": [
      "\r",
      "Feature combinations: 331it [4:05:30, 45.27s/it]"
     ]
    },
    {
     "name": "stdout",
     "output_type": "stream",
     "text": [
      "Using features: ['Prec(mm)', 'Humidity', 'Snowfall(cm)', 'month', 'Temp(C)', 'Solar_Radiation(MJ/m2)', 'Wind_speed(m/s)']\n",
      "[iter 0] loss=16.4519 val_loss=0.0000 scale=1.0000 norm=2963398.9849\n",
      "[iter 100] loss=15.5577 val_loss=0.0000 scale=2.0000 norm=1758355.6425\n",
      "[iter 200] loss=15.0599 val_loss=0.0000 scale=2.0000 norm=1244344.5106\n",
      "[iter 300] loss=14.8391 val_loss=0.0000 scale=2.0000 norm=1170015.5241\n",
      "[iter 400] loss=14.7561 val_loss=0.0000 scale=2.0000 norm=1151435.9029\n"
     ]
    },
    {
     "name": "stderr",
     "output_type": "stream",
     "text": [
      "\r",
      "Feature combinations: 332it [4:06:15, 44.95s/it]"
     ]
    },
    {
     "name": "stdout",
     "output_type": "stream",
     "text": [
      "Using features: ['Prec(mm)', 'Humidity', 'Snowfall(cm)', 'hour', 'Temp(C)', 'Solar_Radiation(MJ/m2)', 'Wind_speed(m/s)']\n",
      "[iter 0] loss=16.4519 val_loss=0.0000 scale=1.0000 norm=2963398.9849\n",
      "[iter 100] loss=15.5604 val_loss=0.0000 scale=2.0000 norm=1762330.4428\n",
      "[iter 200] loss=15.0451 val_loss=0.0000 scale=2.0000 norm=1218255.2917\n",
      "[iter 300] loss=14.7917 val_loss=0.0000 scale=2.0000 norm=1134798.0419\n",
      "[iter 400] loss=14.6899 val_loss=0.0000 scale=2.0000 norm=1110794.4708\n"
     ]
    },
    {
     "name": "stderr",
     "output_type": "stream",
     "text": [
      "\r",
      "Feature combinations: 333it [4:06:58, 44.46s/it]"
     ]
    },
    {
     "name": "stdout",
     "output_type": "stream",
     "text": [
      "Using features: ['Prec(mm)', 'Humidity', 'Cloud_Cover(1/10)', 'Visibility(10m)', 'Temp(C)', 'Solar_Radiation(MJ/m2)', 'Wind_speed(m/s)']\n",
      "[iter 0] loss=16.4519 val_loss=0.0000 scale=1.0000 norm=2963398.9849\n",
      "[iter 100] loss=15.5583 val_loss=0.0000 scale=2.0000 norm=1754191.7361\n",
      "[iter 200] loss=15.0713 val_loss=0.0000 scale=2.0000 norm=1269229.5285\n",
      "[iter 300] loss=14.8349 val_loss=0.0000 scale=1.0000 norm=602316.9379\n",
      "[iter 400] loss=14.7430 val_loss=0.0000 scale=2.0000 norm=1187565.7705\n"
     ]
    },
    {
     "name": "stderr",
     "output_type": "stream",
     "text": [
      "\r",
      "Feature combinations: 334it [4:07:49, 46.60s/it]"
     ]
    },
    {
     "name": "stdout",
     "output_type": "stream",
     "text": [
      "Using features: ['Prec(mm)', 'Humidity', 'Cloud_Cover(1/10)', 'year', 'Temp(C)', 'Solar_Radiation(MJ/m2)', 'Wind_speed(m/s)']\n",
      "[iter 0] loss=16.4519 val_loss=0.0000 scale=1.0000 norm=2963398.9849\n",
      "[iter 100] loss=15.5580 val_loss=0.0000 scale=2.0000 norm=1751859.6597\n",
      "[iter 200] loss=15.0447 val_loss=0.0000 scale=2.0000 norm=1216473.3509\n",
      "[iter 300] loss=14.7991 val_loss=0.0000 scale=1.0000 norm=564933.4582\n",
      "[iter 400] loss=14.7184 val_loss=0.0000 scale=1.0000 norm=553534.6119\n"
     ]
    },
    {
     "name": "stderr",
     "output_type": "stream",
     "text": [
      "\r",
      "Feature combinations: 335it [4:08:33, 45.65s/it]"
     ]
    },
    {
     "name": "stdout",
     "output_type": "stream",
     "text": [
      "Using features: ['Prec(mm)', 'Humidity', 'Cloud_Cover(1/10)', 'month', 'Temp(C)', 'Solar_Radiation(MJ/m2)', 'Wind_speed(m/s)']\n",
      "[iter 0] loss=16.4519 val_loss=0.0000 scale=1.0000 norm=2963398.9849\n",
      "[iter 100] loss=15.5566 val_loss=0.0000 scale=2.0000 norm=1747336.1639\n",
      "[iter 200] loss=15.0551 val_loss=0.0000 scale=2.0000 norm=1231777.4900\n",
      "[iter 300] loss=14.8180 val_loss=0.0000 scale=1.0000 norm=579850.1003\n",
      "[iter 400] loss=14.7399 val_loss=0.0000 scale=1.0000 norm=571789.5220\n"
     ]
    },
    {
     "name": "stderr",
     "output_type": "stream",
     "text": [
      "\r",
      "Feature combinations: 336it [4:09:21, 46.45s/it]"
     ]
    },
    {
     "name": "stdout",
     "output_type": "stream",
     "text": [
      "Using features: ['Prec(mm)', 'Humidity', 'Cloud_Cover(1/10)', 'hour', 'Temp(C)', 'Solar_Radiation(MJ/m2)', 'Wind_speed(m/s)']\n",
      "[iter 0] loss=16.4519 val_loss=0.0000 scale=1.0000 norm=2963398.9849\n",
      "[iter 100] loss=15.5474 val_loss=0.0000 scale=2.0000 norm=1721819.9620\n",
      "[iter 200] loss=15.0203 val_loss=0.0000 scale=2.0000 norm=1161162.2082\n",
      "[iter 300] loss=14.7518 val_loss=0.0000 scale=2.0000 norm=1069786.4391\n",
      "[iter 400] loss=14.6472 val_loss=0.0000 scale=1.0000 norm=522214.2616\n"
     ]
    },
    {
     "name": "stderr",
     "output_type": "stream",
     "text": [
      "\r",
      "Feature combinations: 337it [4:10:08, 46.61s/it]"
     ]
    },
    {
     "name": "stdout",
     "output_type": "stream",
     "text": [
      "Using features: ['Prec(mm)', 'Humidity', 'Visibility(10m)', 'year', 'Temp(C)', 'Solar_Radiation(MJ/m2)', 'Wind_speed(m/s)']\n",
      "[iter 0] loss=16.4519 val_loss=0.0000 scale=1.0000 norm=2963398.9849\n",
      "[iter 100] loss=15.5524 val_loss=0.0000 scale=2.0000 norm=1743047.2485\n",
      "[iter 200] loss=15.0461 val_loss=0.0000 scale=2.0000 norm=1220855.8642\n",
      "[iter 300] loss=14.8043 val_loss=0.0000 scale=2.0000 norm=1136201.7113\n",
      "[iter 400] loss=14.7247 val_loss=0.0000 scale=1.0000 norm=557493.6345\n"
     ]
    },
    {
     "name": "stderr",
     "output_type": "stream",
     "text": [
      "\r",
      "Feature combinations: 338it [4:10:56, 46.86s/it]"
     ]
    },
    {
     "name": "stdout",
     "output_type": "stream",
     "text": [
      "Using features: ['Prec(mm)', 'Humidity', 'Visibility(10m)', 'month', 'Temp(C)', 'Solar_Radiation(MJ/m2)', 'Wind_speed(m/s)']\n",
      "[iter 0] loss=16.4519 val_loss=0.0000 scale=1.0000 norm=2963398.9849\n",
      "[iter 100] loss=15.5587 val_loss=0.0000 scale=2.0000 norm=1756140.6612\n",
      "[iter 200] loss=15.0633 val_loss=0.0000 scale=2.0000 norm=1248798.9392\n",
      "[iter 300] loss=14.8277 val_loss=0.0000 scale=2.0000 norm=1173390.4427\n",
      "[iter 400] loss=14.7503 val_loss=0.0000 scale=2.0000 norm=1154560.5460\n"
     ]
    },
    {
     "name": "stderr",
     "output_type": "stream",
     "text": [
      "\r",
      "Feature combinations: 339it [4:11:44, 47.24s/it]"
     ]
    },
    {
     "name": "stdout",
     "output_type": "stream",
     "text": [
      "Using features: ['Prec(mm)', 'Humidity', 'Visibility(10m)', 'hour', 'Temp(C)', 'Solar_Radiation(MJ/m2)', 'Wind_speed(m/s)']\n",
      "[iter 0] loss=16.4519 val_loss=0.0000 scale=1.0000 norm=2963398.9849\n",
      "[iter 100] loss=15.5615 val_loss=0.0000 scale=2.0000 norm=1761094.2343\n",
      "[iter 200] loss=15.0486 val_loss=0.0000 scale=2.0000 norm=1221191.6817\n",
      "[iter 300] loss=14.7946 val_loss=0.0000 scale=2.0000 norm=1143561.9026\n",
      "[iter 400] loss=14.6943 val_loss=0.0000 scale=2.0000 norm=1120214.6008\n"
     ]
    },
    {
     "name": "stderr",
     "output_type": "stream",
     "text": [
      "\r",
      "Feature combinations: 340it [4:12:34, 48.16s/it]"
     ]
    },
    {
     "name": "stdout",
     "output_type": "stream",
     "text": [
      "Using features: ['Prec(mm)', 'Humidity', 'year', 'month', 'Temp(C)', 'Solar_Radiation(MJ/m2)', 'Wind_speed(m/s)']\n",
      "[iter 0] loss=16.4519 val_loss=0.0000 scale=1.0000 norm=2963398.9849\n",
      "[iter 100] loss=15.5548 val_loss=0.0000 scale=2.0000 norm=1744799.3653\n",
      "[iter 200] loss=15.0331 val_loss=0.0000 scale=2.0000 norm=1181631.4632\n",
      "[iter 300] loss=14.7938 val_loss=0.0000 scale=1.0000 norm=540391.6351\n",
      "[iter 400] loss=14.7243 val_loss=0.0000 scale=0.5000 norm=263207.2566\n"
     ]
    },
    {
     "name": "stderr",
     "output_type": "stream",
     "text": [
      "\r",
      "Feature combinations: 341it [4:13:20, 47.44s/it]"
     ]
    },
    {
     "name": "stdout",
     "output_type": "stream",
     "text": [
      "Using features: ['Prec(mm)', 'Humidity', 'year', 'hour', 'Temp(C)', 'Solar_Radiation(MJ/m2)', 'Wind_speed(m/s)']\n",
      "[iter 0] loss=16.4519 val_loss=0.0000 scale=1.0000 norm=2963398.9849\n",
      "[iter 100] loss=15.5622 val_loss=0.0000 scale=2.0000 norm=1760472.9399\n",
      "[iter 200] loss=15.0260 val_loss=0.0000 scale=2.0000 norm=1169488.4293\n",
      "[iter 300] loss=14.7628 val_loss=0.0000 scale=2.0000 norm=1071709.4385\n",
      "[iter 400] loss=14.6725 val_loss=0.0000 scale=1.0000 norm=522207.7944\n"
     ]
    },
    {
     "name": "stderr",
     "output_type": "stream",
     "text": [
      "\r",
      "Feature combinations: 342it [4:14:06, 47.03s/it]"
     ]
    },
    {
     "name": "stdout",
     "output_type": "stream",
     "text": [
      "Using features: ['Prec(mm)', 'Humidity', 'month', 'hour', 'Temp(C)', 'Solar_Radiation(MJ/m2)', 'Wind_speed(m/s)']\n",
      "[iter 0] loss=16.4519 val_loss=0.0000 scale=1.0000 norm=2963398.9849\n",
      "[iter 100] loss=15.5607 val_loss=0.0000 scale=2.0000 norm=1757249.6459\n",
      "[iter 200] loss=15.0443 val_loss=0.0000 scale=2.0000 norm=1210591.1655\n",
      "[iter 300] loss=14.7921 val_loss=0.0000 scale=2.0000 norm=1132665.6788\n",
      "[iter 400] loss=14.6981 val_loss=0.0000 scale=1.0000 norm=555748.6144\n"
     ]
    },
    {
     "name": "stderr",
     "output_type": "stream",
     "text": [
      "\r",
      "Feature combinations: 343it [4:14:52, 46.76s/it]"
     ]
    },
    {
     "name": "stdout",
     "output_type": "stream",
     "text": [
      "Using features: ['Prec(mm)', 'Vapor_pressure(hPa)', 'Dew_Point(C)', 'Local Atmospheric Pressure(hPa)', 'Temp(C)', 'Solar_Radiation(MJ/m2)', 'Wind_speed(m/s)']\n",
      "[iter 0] loss=16.4519 val_loss=0.0000 scale=1.0000 norm=2963398.9849\n",
      "[iter 100] loss=15.5641 val_loss=0.0000 scale=2.0000 norm=1749464.5622\n",
      "[iter 200] loss=15.0740 val_loss=0.0000 scale=2.0000 norm=1250851.5091\n",
      "[iter 300] loss=14.8427 val_loss=0.0000 scale=2.0000 norm=1192689.8068\n",
      "[iter 400] loss=14.7451 val_loss=0.0000 scale=2.0000 norm=1176108.7913\n"
     ]
    },
    {
     "name": "stderr",
     "output_type": "stream",
     "text": [
      "\r",
      "Feature combinations: 344it [4:15:46, 49.01s/it]"
     ]
    },
    {
     "name": "stdout",
     "output_type": "stream",
     "text": [
      "Using features: ['Prec(mm)', 'Vapor_pressure(hPa)', 'Dew_Point(C)', 'sunshine(hr)', 'Temp(C)', 'Solar_Radiation(MJ/m2)', 'Wind_speed(m/s)']\n",
      "[iter 0] loss=16.4519 val_loss=0.0000 scale=1.0000 norm=2963398.9849\n",
      "[iter 100] loss=15.5488 val_loss=0.0000 scale=2.0000 norm=1733880.0536\n",
      "[iter 200] loss=15.0692 val_loss=0.0000 scale=2.0000 norm=1274268.7350\n",
      "[iter 300] loss=14.8408 val_loss=0.0000 scale=2.0000 norm=1219236.8370\n",
      "[iter 400] loss=14.7405 val_loss=0.0000 scale=2.0000 norm=1203134.6574\n"
     ]
    },
    {
     "name": "stderr",
     "output_type": "stream",
     "text": [
      "\r",
      "Feature combinations: 345it [4:16:36, 49.26s/it]"
     ]
    },
    {
     "name": "stdout",
     "output_type": "stream",
     "text": [
      "Using features: ['Prec(mm)', 'Vapor_pressure(hPa)', 'Dew_Point(C)', 'Snowfall(cm)', 'Temp(C)', 'Solar_Radiation(MJ/m2)', 'Wind_speed(m/s)']\n",
      "[iter 0] loss=16.4519 val_loss=0.0000 scale=1.0000 norm=2963398.9849\n",
      "[iter 100] loss=15.5487 val_loss=0.0000 scale=2.0000 norm=1740338.7804\n",
      "[iter 200] loss=15.0727 val_loss=0.0000 scale=2.0000 norm=1274055.9210\n",
      "[iter 300] loss=14.8469 val_loss=0.0000 scale=2.0000 norm=1217217.9866\n",
      "[iter 400] loss=14.7524 val_loss=0.0000 scale=1.0000 norm=601361.4639\n"
     ]
    },
    {
     "name": "stderr",
     "output_type": "stream",
     "text": [
      "\r",
      "Feature combinations: 346it [4:17:26, 49.34s/it]"
     ]
    },
    {
     "name": "stdout",
     "output_type": "stream",
     "text": [
      "Using features: ['Prec(mm)', 'Vapor_pressure(hPa)', 'Dew_Point(C)', 'Cloud_Cover(1/10)', 'Temp(C)', 'Solar_Radiation(MJ/m2)', 'Wind_speed(m/s)']\n",
      "[iter 0] loss=16.4519 val_loss=0.0000 scale=1.0000 norm=2963398.9849\n",
      "[iter 100] loss=15.5473 val_loss=0.0000 scale=2.0000 norm=1727993.2327\n",
      "[iter 200] loss=15.0679 val_loss=0.0000 scale=2.0000 norm=1263337.7123\n",
      "[iter 300] loss=14.8363 val_loss=0.0000 scale=2.0000 norm=1207074.7478\n",
      "[iter 400] loss=14.7499 val_loss=0.0000 scale=1.0000 norm=596887.6736\n"
     ]
    },
    {
     "name": "stderr",
     "output_type": "stream",
     "text": [
      "\r",
      "Feature combinations: 347it [4:18:19, 50.45s/it]"
     ]
    },
    {
     "name": "stdout",
     "output_type": "stream",
     "text": [
      "Using features: ['Prec(mm)', 'Vapor_pressure(hPa)', 'Dew_Point(C)', 'Visibility(10m)', 'Temp(C)', 'Solar_Radiation(MJ/m2)', 'Wind_speed(m/s)']\n",
      "[iter 0] loss=16.4519 val_loss=0.0000 scale=1.0000 norm=2963398.9849\n",
      "[iter 100] loss=15.5497 val_loss=0.0000 scale=2.0000 norm=1737325.1701\n",
      "[iter 200] loss=15.0780 val_loss=0.0000 scale=2.0000 norm=1282081.3030\n",
      "[iter 300] loss=14.8535 val_loss=0.0000 scale=2.0000 norm=1227175.4344\n",
      "[iter 400] loss=14.7615 val_loss=0.0000 scale=1.0000 norm=605297.5742\n"
     ]
    },
    {
     "name": "stderr",
     "output_type": "stream",
     "text": [
      "\r",
      "Feature combinations: 348it [4:19:16, 52.37s/it]"
     ]
    },
    {
     "name": "stdout",
     "output_type": "stream",
     "text": [
      "Using features: ['Prec(mm)', 'Vapor_pressure(hPa)', 'Dew_Point(C)', 'year', 'Temp(C)', 'Solar_Radiation(MJ/m2)', 'Wind_speed(m/s)']\n",
      "[iter 0] loss=16.4519 val_loss=0.0000 scale=1.0000 norm=2963398.9849\n",
      "[iter 100] loss=15.5549 val_loss=0.0000 scale=2.0000 norm=1744355.9362\n",
      "[iter 200] loss=15.0503 val_loss=0.0000 scale=2.0000 norm=1219460.9249\n",
      "[iter 300] loss=14.8175 val_loss=0.0000 scale=2.0000 norm=1142288.5807\n",
      "[iter 400] loss=14.7355 val_loss=0.0000 scale=2.0000 norm=1122359.5362\n"
     ]
    },
    {
     "name": "stderr",
     "output_type": "stream",
     "text": [
      "\r",
      "Feature combinations: 349it [4:20:03, 50.87s/it]"
     ]
    },
    {
     "name": "stdout",
     "output_type": "stream",
     "text": [
      "Using features: ['Prec(mm)', 'Vapor_pressure(hPa)', 'Dew_Point(C)', 'month', 'Temp(C)', 'Solar_Radiation(MJ/m2)', 'Wind_speed(m/s)']\n",
      "[iter 0] loss=16.4519 val_loss=0.0000 scale=1.0000 norm=2963398.9849\n",
      "[iter 100] loss=15.5579 val_loss=0.0000 scale=2.0000 norm=1749490.2476\n",
      "[iter 200] loss=15.0653 val_loss=0.0000 scale=2.0000 norm=1245149.4719\n",
      "[iter 300] loss=14.8374 val_loss=0.0000 scale=2.0000 norm=1176794.9670\n",
      "[iter 400] loss=14.7603 val_loss=0.0000 scale=2.0000 norm=1162926.2235\n"
     ]
    },
    {
     "name": "stderr",
     "output_type": "stream",
     "text": [
      "\r",
      "Feature combinations: 350it [4:20:58, 52.05s/it]"
     ]
    },
    {
     "name": "stdout",
     "output_type": "stream",
     "text": [
      "Using features: ['Prec(mm)', 'Vapor_pressure(hPa)', 'Dew_Point(C)', 'hour', 'Temp(C)', 'Solar_Radiation(MJ/m2)', 'Wind_speed(m/s)']\n",
      "[iter 0] loss=16.4519 val_loss=0.0000 scale=1.0000 norm=2963398.9849\n",
      "[iter 100] loss=15.5600 val_loss=0.0000 scale=2.0000 norm=1751916.0383\n",
      "[iter 200] loss=15.0493 val_loss=0.0000 scale=2.0000 norm=1212713.0532\n",
      "[iter 300] loss=14.8004 val_loss=0.0000 scale=2.0000 norm=1143842.1758\n",
      "[iter 400] loss=14.7039 val_loss=0.0000 scale=1.0000 norm=563722.2927\n"
     ]
    },
    {
     "name": "stderr",
     "output_type": "stream",
     "text": [
      "\r",
      "Feature combinations: 351it [4:21:51, 52.41s/it]"
     ]
    },
    {
     "name": "stdout",
     "output_type": "stream",
     "text": [
      "Using features: ['Prec(mm)', 'Vapor_pressure(hPa)', 'Local Atmospheric Pressure(hPa)', 'sunshine(hr)', 'Temp(C)', 'Solar_Radiation(MJ/m2)', 'Wind_speed(m/s)']\n",
      "[iter 0] loss=16.4519 val_loss=0.0000 scale=1.0000 norm=2963398.9849\n",
      "[iter 100] loss=15.5637 val_loss=0.0000 scale=2.0000 norm=1747857.8066\n",
      "[iter 200] loss=15.0636 val_loss=0.0000 scale=2.0000 norm=1244766.2483\n",
      "[iter 300] loss=14.8267 val_loss=0.0000 scale=2.0000 norm=1183311.3803\n",
      "[iter 400] loss=14.7279 val_loss=0.0000 scale=2.0000 norm=1164556.8649\n"
     ]
    },
    {
     "name": "stderr",
     "output_type": "stream",
     "text": [
      "\r",
      "Feature combinations: 352it [4:22:41, 51.71s/it]"
     ]
    },
    {
     "name": "stdout",
     "output_type": "stream",
     "text": [
      "Using features: ['Prec(mm)', 'Vapor_pressure(hPa)', 'Local Atmospheric Pressure(hPa)', 'Snowfall(cm)', 'Temp(C)', 'Solar_Radiation(MJ/m2)', 'Wind_speed(m/s)']\n",
      "[iter 0] loss=16.4519 val_loss=0.0000 scale=1.0000 norm=2963398.9849\n",
      "[iter 100] loss=15.5631 val_loss=0.0000 scale=2.0000 norm=1752453.2492\n",
      "[iter 200] loss=15.0676 val_loss=0.0000 scale=2.0000 norm=1241681.2305\n",
      "[iter 300] loss=14.8330 val_loss=0.0000 scale=2.0000 norm=1177461.6484\n",
      "[iter 400] loss=14.7407 val_loss=0.0000 scale=2.0000 norm=1160730.8679\n"
     ]
    },
    {
     "name": "stderr",
     "output_type": "stream",
     "text": [
      "\r",
      "Feature combinations: 353it [4:23:28, 50.38s/it]"
     ]
    },
    {
     "name": "stdout",
     "output_type": "stream",
     "text": [
      "Using features: ['Prec(mm)', 'Vapor_pressure(hPa)', 'Local Atmospheric Pressure(hPa)', 'Cloud_Cover(1/10)', 'Temp(C)', 'Solar_Radiation(MJ/m2)', 'Wind_speed(m/s)']\n",
      "[iter 0] loss=16.4519 val_loss=0.0000 scale=1.0000 norm=2963398.9849\n",
      "[iter 100] loss=15.5557 val_loss=0.0000 scale=2.0000 norm=1729125.2594\n",
      "[iter 200] loss=15.0608 val_loss=0.0000 scale=2.0000 norm=1233634.1226\n",
      "[iter 300] loss=14.8232 val_loss=0.0000 scale=2.0000 norm=1170650.4447\n",
      "[iter 400] loss=14.7331 val_loss=0.0000 scale=1.0000 norm=577294.2297\n"
     ]
    },
    {
     "name": "stderr",
     "output_type": "stream",
     "text": [
      "\r",
      "Feature combinations: 354it [4:24:17, 49.81s/it]"
     ]
    },
    {
     "name": "stdout",
     "output_type": "stream",
     "text": [
      "Using features: ['Prec(mm)', 'Vapor_pressure(hPa)', 'Local Atmospheric Pressure(hPa)', 'Visibility(10m)', 'Temp(C)', 'Solar_Radiation(MJ/m2)', 'Wind_speed(m/s)']\n",
      "[iter 0] loss=16.4519 val_loss=0.0000 scale=1.0000 norm=2963398.9849\n",
      "[iter 100] loss=15.5641 val_loss=0.0000 scale=2.0000 norm=1749444.3210\n",
      "[iter 200] loss=15.0734 val_loss=0.0000 scale=2.0000 norm=1250001.1992\n",
      "[iter 300] loss=14.8443 val_loss=0.0000 scale=2.0000 norm=1190907.6077\n",
      "[iter 400] loss=14.7525 val_loss=0.0000 scale=1.0000 norm=586279.0065\n"
     ]
    },
    {
     "name": "stderr",
     "output_type": "stream",
     "text": [
      "\r",
      "Feature combinations: 355it [4:25:11, 51.03s/it]"
     ]
    },
    {
     "name": "stdout",
     "output_type": "stream",
     "text": [
      "Using features: ['Prec(mm)', 'Vapor_pressure(hPa)', 'Local Atmospheric Pressure(hPa)', 'year', 'Temp(C)', 'Solar_Radiation(MJ/m2)', 'Wind_speed(m/s)']\n",
      "[iter 0] loss=16.4519 val_loss=0.0000 scale=1.0000 norm=2963398.9849\n",
      "[iter 100] loss=15.5602 val_loss=0.0000 scale=2.0000 norm=1738629.9479\n",
      "[iter 200] loss=15.0430 val_loss=0.0000 scale=2.0000 norm=1183142.1369\n",
      "[iter 300] loss=14.7949 val_loss=0.0000 scale=2.0000 norm=1093781.0161\n",
      "[iter 400] loss=14.7120 val_loss=0.0000 scale=1.0000 norm=535856.0310\n"
     ]
    },
    {
     "name": "stderr",
     "output_type": "stream",
     "text": [
      "\r",
      "Feature combinations: 356it [4:25:59, 50.29s/it]"
     ]
    },
    {
     "name": "stdout",
     "output_type": "stream",
     "text": [
      "Using features: ['Prec(mm)', 'Vapor_pressure(hPa)', 'Local Atmospheric Pressure(hPa)', 'month', 'Temp(C)', 'Solar_Radiation(MJ/m2)', 'Wind_speed(m/s)']\n",
      "[iter 0] loss=16.4519 val_loss=0.0000 scale=1.0000 norm=2963398.9849\n",
      "[iter 100] loss=15.5639 val_loss=0.0000 scale=2.0000 norm=1748977.8298\n",
      "[iter 200] loss=15.0683 val_loss=0.0000 scale=2.0000 norm=1238618.1977\n",
      "[iter 300] loss=14.8354 val_loss=0.0000 scale=2.0000 norm=1169365.5146\n",
      "[iter 400] loss=14.7500 val_loss=0.0000 scale=1.0000 norm=576650.3691\n"
     ]
    },
    {
     "name": "stderr",
     "output_type": "stream",
     "text": [
      "\r",
      "Feature combinations: 357it [4:26:48, 49.75s/it]"
     ]
    },
    {
     "name": "stdout",
     "output_type": "stream",
     "text": [
      "Using features: ['Prec(mm)', 'Vapor_pressure(hPa)', 'Local Atmospheric Pressure(hPa)', 'hour', 'Temp(C)', 'Solar_Radiation(MJ/m2)', 'Wind_speed(m/s)']\n",
      "[iter 0] loss=16.4519 val_loss=0.0000 scale=1.0000 norm=2963398.9849\n",
      "[iter 100] loss=15.5597 val_loss=0.0000 scale=2.0000 norm=1740638.3810\n",
      "[iter 200] loss=15.0448 val_loss=0.0000 scale=2.0000 norm=1196155.8956\n",
      "[iter 300] loss=14.7937 val_loss=0.0000 scale=2.0000 norm=1124390.4912\n",
      "[iter 400] loss=14.6981 val_loss=0.0000 scale=1.0000 norm=553422.3474\n"
     ]
    },
    {
     "name": "stderr",
     "output_type": "stream",
     "text": [
      "\r",
      "Feature combinations: 358it [4:27:39, 50.30s/it]"
     ]
    },
    {
     "name": "stdout",
     "output_type": "stream",
     "text": [
      "Using features: ['Prec(mm)', 'Vapor_pressure(hPa)', 'sunshine(hr)', 'Snowfall(cm)', 'Temp(C)', 'Solar_Radiation(MJ/m2)', 'Wind_speed(m/s)']\n",
      "[iter 0] loss=16.4519 val_loss=0.0000 scale=1.0000 norm=2963398.9849\n",
      "[iter 100] loss=15.5478 val_loss=0.0000 scale=2.0000 norm=1737408.7050\n",
      "[iter 200] loss=15.0619 val_loss=0.0000 scale=2.0000 norm=1266252.4008\n",
      "[iter 300] loss=14.8326 val_loss=0.0000 scale=2.0000 norm=1204321.3707\n",
      "[iter 400] loss=14.7307 val_loss=0.0000 scale=2.0000 norm=1185647.6751\n"
     ]
    },
    {
     "name": "stderr",
     "output_type": "stream",
     "text": [
      "\r",
      "Feature combinations: 359it [4:28:24, 48.75s/it]"
     ]
    },
    {
     "name": "stdout",
     "output_type": "stream",
     "text": [
      "Using features: ['Prec(mm)', 'Vapor_pressure(hPa)', 'sunshine(hr)', 'Cloud_Cover(1/10)', 'Temp(C)', 'Solar_Radiation(MJ/m2)', 'Wind_speed(m/s)']\n",
      "[iter 0] loss=16.4519 val_loss=0.0000 scale=1.0000 norm=2963398.9849\n",
      "[iter 100] loss=15.5472 val_loss=0.0000 scale=2.0000 norm=1727742.1424\n",
      "[iter 200] loss=15.0636 val_loss=0.0000 scale=2.0000 norm=1261871.2088\n",
      "[iter 300] loss=14.8318 val_loss=0.0000 scale=2.0000 norm=1204251.2210\n",
      "[iter 400] loss=14.7310 val_loss=0.0000 scale=1.0000 norm=593324.7583\n"
     ]
    },
    {
     "name": "stderr",
     "output_type": "stream",
     "text": [
      "\r",
      "Feature combinations: 360it [4:29:11, 48.23s/it]"
     ]
    },
    {
     "name": "stdout",
     "output_type": "stream",
     "text": [
      "Using features: ['Prec(mm)', 'Vapor_pressure(hPa)', 'sunshine(hr)', 'Visibility(10m)', 'Temp(C)', 'Solar_Radiation(MJ/m2)', 'Wind_speed(m/s)']\n",
      "[iter 0] loss=16.4519 val_loss=0.0000 scale=1.0000 norm=2963398.9849\n",
      "[iter 100] loss=15.5489 val_loss=0.0000 scale=2.0000 norm=1734252.9016\n",
      "[iter 200] loss=15.0681 val_loss=0.0000 scale=2.0000 norm=1272580.1026\n",
      "[iter 300] loss=14.8411 val_loss=0.0000 scale=2.0000 norm=1214871.0778\n",
      "[iter 400] loss=14.7455 val_loss=0.0000 scale=1.0000 norm=597880.5986\n"
     ]
    },
    {
     "name": "stderr",
     "output_type": "stream",
     "text": [
      "\r",
      "Feature combinations: 361it [4:30:02, 49.03s/it]"
     ]
    },
    {
     "name": "stdout",
     "output_type": "stream",
     "text": [
      "Using features: ['Prec(mm)', 'Vapor_pressure(hPa)', 'sunshine(hr)', 'year', 'Temp(C)', 'Solar_Radiation(MJ/m2)', 'Wind_speed(m/s)']\n",
      "[iter 0] loss=16.4519 val_loss=0.0000 scale=1.0000 norm=2963398.9849\n",
      "[iter 100] loss=15.5443 val_loss=0.0000 scale=2.0000 norm=1722599.6436\n",
      "[iter 200] loss=15.0351 val_loss=0.0000 scale=2.0000 norm=1210454.9876\n",
      "[iter 300] loss=14.7985 val_loss=0.0000 scale=2.0000 norm=1131986.2518\n",
      "[iter 400] loss=14.7142 val_loss=0.0000 scale=1.0000 norm=554683.7622\n"
     ]
    },
    {
     "name": "stderr",
     "output_type": "stream",
     "text": [
      "\r",
      "Feature combinations: 362it [4:30:49, 48.24s/it]"
     ]
    },
    {
     "name": "stdout",
     "output_type": "stream",
     "text": [
      "Using features: ['Prec(mm)', 'Vapor_pressure(hPa)', 'sunshine(hr)', 'month', 'Temp(C)', 'Solar_Radiation(MJ/m2)', 'Wind_speed(m/s)']\n",
      "[iter 0] loss=16.4519 val_loss=0.0000 scale=1.0000 norm=2963398.9849\n",
      "[iter 100] loss=15.5472 val_loss=0.0000 scale=2.0000 norm=1727357.1293\n",
      "[iter 200] loss=15.0487 val_loss=0.0000 scale=2.0000 norm=1234631.8277\n",
      "[iter 300] loss=14.8143 val_loss=0.0000 scale=2.0000 norm=1164546.1247\n",
      "[iter 400] loss=14.7303 val_loss=0.0000 scale=1.0000 norm=573417.4452\n"
     ]
    },
    {
     "name": "stderr",
     "output_type": "stream",
     "text": [
      "\r",
      "Feature combinations: 363it [4:31:36, 47.84s/it]"
     ]
    },
    {
     "name": "stdout",
     "output_type": "stream",
     "text": [
      "Using features: ['Prec(mm)', 'Vapor_pressure(hPa)', 'sunshine(hr)', 'hour', 'Temp(C)', 'Solar_Radiation(MJ/m2)', 'Wind_speed(m/s)']\n",
      "[iter 0] loss=16.4519 val_loss=0.0000 scale=1.0000 norm=2963398.9849\n",
      "[iter 100] loss=15.5515 val_loss=0.0000 scale=2.0000 norm=1727626.4549\n",
      "[iter 200] loss=15.0178 val_loss=0.0000 scale=2.0000 norm=1157376.8868\n",
      "[iter 300] loss=14.7516 val_loss=0.0000 scale=2.0000 norm=1078215.8286\n",
      "[iter 400] loss=14.6439 val_loss=0.0000 scale=1.0000 norm=528944.2466\n"
     ]
    },
    {
     "name": "stderr",
     "output_type": "stream",
     "text": [
      "\r",
      "Feature combinations: 364it [4:32:22, 47.38s/it]"
     ]
    },
    {
     "name": "stdout",
     "output_type": "stream",
     "text": [
      "Using features: ['Prec(mm)', 'Vapor_pressure(hPa)', 'Snowfall(cm)', 'Cloud_Cover(1/10)', 'Temp(C)', 'Solar_Radiation(MJ/m2)', 'Wind_speed(m/s)']\n",
      "[iter 0] loss=16.4519 val_loss=0.0000 scale=1.0000 norm=2963398.9849\n",
      "[iter 100] loss=15.5463 val_loss=0.0000 scale=2.0000 norm=1731582.8003\n",
      "[iter 200] loss=15.0618 val_loss=0.0000 scale=2.0000 norm=1257226.2363\n",
      "[iter 300] loss=14.8304 val_loss=0.0000 scale=2.0000 norm=1193488.5599\n",
      "[iter 400] loss=14.7374 val_loss=0.0000 scale=1.0000 norm=588129.3154\n"
     ]
    },
    {
     "name": "stderr",
     "output_type": "stream",
     "text": [
      "\r",
      "Feature combinations: 365it [4:33:06, 46.36s/it]"
     ]
    },
    {
     "name": "stdout",
     "output_type": "stream",
     "text": [
      "Using features: ['Prec(mm)', 'Vapor_pressure(hPa)', 'Snowfall(cm)', 'Visibility(10m)', 'Temp(C)', 'Solar_Radiation(MJ/m2)', 'Wind_speed(m/s)']\n",
      "[iter 0] loss=16.4519 val_loss=0.0000 scale=1.0000 norm=2963398.9849\n",
      "[iter 100] loss=15.5487 val_loss=0.0000 scale=2.0000 norm=1740669.6652\n",
      "[iter 200] loss=15.0720 val_loss=0.0000 scale=2.0000 norm=1274582.6778\n",
      "[iter 300] loss=14.8461 val_loss=0.0000 scale=2.0000 norm=1211747.4705\n",
      "[iter 400] loss=14.7552 val_loss=0.0000 scale=2.0000 norm=1194213.3994\n"
     ]
    },
    {
     "name": "stderr",
     "output_type": "stream",
     "text": [
      "\r",
      "Feature combinations: 366it [4:33:55, 47.19s/it]"
     ]
    },
    {
     "name": "stdout",
     "output_type": "stream",
     "text": [
      "Using features: ['Prec(mm)', 'Vapor_pressure(hPa)', 'Snowfall(cm)', 'year', 'Temp(C)', 'Solar_Radiation(MJ/m2)', 'Wind_speed(m/s)']\n",
      "[iter 0] loss=16.4519 val_loss=0.0000 scale=1.0000 norm=2963398.9849\n",
      "[iter 100] loss=15.5436 val_loss=0.0000 scale=2.0000 norm=1724968.9149\n",
      "[iter 200] loss=15.0402 val_loss=0.0000 scale=2.0000 norm=1212525.1315\n",
      "[iter 300] loss=14.8048 val_loss=0.0000 scale=2.0000 norm=1128755.9628\n",
      "[iter 400] loss=14.7228 val_loss=0.0000 scale=1.0000 norm=552604.7752\n"
     ]
    },
    {
     "name": "stderr",
     "output_type": "stream",
     "text": [
      "\r",
      "Feature combinations: 367it [4:34:42, 47.25s/it]"
     ]
    },
    {
     "name": "stdout",
     "output_type": "stream",
     "text": [
      "Using features: ['Prec(mm)', 'Vapor_pressure(hPa)', 'Snowfall(cm)', 'month', 'Temp(C)', 'Solar_Radiation(MJ/m2)', 'Wind_speed(m/s)']\n",
      "[iter 0] loss=16.4519 val_loss=0.0000 scale=1.0000 norm=2963398.9849\n",
      "[iter 100] loss=15.5468 val_loss=0.0000 scale=2.0000 norm=1732554.3889\n",
      "[iter 200] loss=15.0560 val_loss=0.0000 scale=2.0000 norm=1239158.8839\n",
      "[iter 300] loss=14.8394 val_loss=0.0000 scale=2.0000 norm=1167775.1417\n",
      "[iter 400] loss=14.7634 val_loss=0.0000 scale=1.0000 norm=575643.4715\n"
     ]
    },
    {
     "name": "stderr",
     "output_type": "stream",
     "text": [
      "\r",
      "Feature combinations: 368it [4:35:47, 52.54s/it]"
     ]
    },
    {
     "name": "stdout",
     "output_type": "stream",
     "text": [
      "Using features: ['Prec(mm)', 'Vapor_pressure(hPa)', 'Snowfall(cm)', 'hour', 'Temp(C)', 'Solar_Radiation(MJ/m2)', 'Wind_speed(m/s)']\n",
      "[iter 0] loss=16.4519 val_loss=0.0000 scale=1.0000 norm=2963398.9849\n",
      "[iter 100] loss=15.5523 val_loss=0.0000 scale=2.0000 norm=1741225.6571\n",
      "[iter 200] loss=15.0413 val_loss=0.0000 scale=2.0000 norm=1207200.6088\n",
      "[iter 300] loss=14.7925 val_loss=0.0000 scale=2.0000 norm=1131187.5104\n",
      "[iter 400] loss=14.6976 val_loss=0.0000 scale=1.0000 norm=556041.4613\n"
     ]
    },
    {
     "name": "stderr",
     "output_type": "stream",
     "text": [
      "\r",
      "Feature combinations: 369it [4:36:31, 49.89s/it]"
     ]
    },
    {
     "name": "stdout",
     "output_type": "stream",
     "text": [
      "Using features: ['Prec(mm)', 'Vapor_pressure(hPa)', 'Cloud_Cover(1/10)', 'Visibility(10m)', 'Temp(C)', 'Solar_Radiation(MJ/m2)', 'Wind_speed(m/s)']\n",
      "[iter 0] loss=16.4519 val_loss=0.0000 scale=1.0000 norm=2963398.9849\n",
      "[iter 100] loss=15.5473 val_loss=0.0000 scale=2.0000 norm=1728216.1639\n",
      "[iter 200] loss=15.0675 val_loss=0.0000 scale=2.0000 norm=1262971.1159\n",
      "[iter 300] loss=14.8381 val_loss=0.0000 scale=2.0000 norm=1203992.9246\n",
      "[iter 400] loss=14.7445 val_loss=0.0000 scale=1.0000 norm=593263.3544\n"
     ]
    },
    {
     "name": "stderr",
     "output_type": "stream",
     "text": [
      "\r",
      "Feature combinations: 370it [4:37:19, 49.40s/it]"
     ]
    },
    {
     "name": "stdout",
     "output_type": "stream",
     "text": [
      "Using features: ['Prec(mm)', 'Vapor_pressure(hPa)', 'Cloud_Cover(1/10)', 'year', 'Temp(C)', 'Solar_Radiation(MJ/m2)', 'Wind_speed(m/s)']\n",
      "[iter 0] loss=16.4519 val_loss=0.0000 scale=1.0000 norm=2963398.9849\n",
      "[iter 100] loss=15.5434 val_loss=0.0000 scale=2.0000 norm=1719747.5559\n",
      "[iter 200] loss=15.0381 val_loss=0.0000 scale=2.0000 norm=1207983.3404\n",
      "[iter 300] loss=14.8014 val_loss=0.0000 scale=1.0000 norm=564329.0470\n",
      "[iter 400] loss=14.7240 val_loss=0.0000 scale=2.0000 norm=1109535.5301\n"
     ]
    },
    {
     "name": "stderr",
     "output_type": "stream",
     "text": [
      "\r",
      "Feature combinations: 371it [4:38:02, 47.50s/it]"
     ]
    },
    {
     "name": "stdout",
     "output_type": "stream",
     "text": [
      "Using features: ['Prec(mm)', 'Vapor_pressure(hPa)', 'Cloud_Cover(1/10)', 'month', 'Temp(C)', 'Solar_Radiation(MJ/m2)', 'Wind_speed(m/s)']\n",
      "[iter 0] loss=16.4519 val_loss=0.0000 scale=1.0000 norm=2963398.9849\n",
      "[iter 100] loss=15.5493 val_loss=0.0000 scale=2.0000 norm=1729350.6666\n",
      "[iter 200] loss=15.0529 val_loss=0.0000 scale=2.0000 norm=1228504.3451\n",
      "[iter 300] loss=14.8183 val_loss=0.0000 scale=1.0000 norm=578363.7564\n",
      "[iter 400] loss=14.7412 val_loss=0.0000 scale=1.0000 norm=570686.9532\n"
     ]
    },
    {
     "name": "stderr",
     "output_type": "stream",
     "text": [
      "\r",
      "Feature combinations: 372it [4:38:48, 46.99s/it]"
     ]
    },
    {
     "name": "stdout",
     "output_type": "stream",
     "text": [
      "Using features: ['Prec(mm)', 'Vapor_pressure(hPa)', 'Cloud_Cover(1/10)', 'hour', 'Temp(C)', 'Solar_Radiation(MJ/m2)', 'Wind_speed(m/s)']\n",
      "[iter 0] loss=16.4519 val_loss=0.0000 scale=1.0000 norm=2963398.9849\n",
      "[iter 100] loss=15.5465 val_loss=0.0000 scale=2.0000 norm=1716240.6981\n",
      "[iter 200] loss=15.0182 val_loss=0.0000 scale=2.0000 norm=1150981.3947\n",
      "[iter 300] loss=14.7515 val_loss=0.0000 scale=1.0000 norm=532869.3775\n",
      "[iter 400] loss=14.6467 val_loss=0.0000 scale=1.0000 norm=521136.5651\n"
     ]
    },
    {
     "name": "stderr",
     "output_type": "stream",
     "text": [
      "\r",
      "Feature combinations: 373it [4:39:35, 47.06s/it]"
     ]
    },
    {
     "name": "stdout",
     "output_type": "stream",
     "text": [
      "Using features: ['Prec(mm)', 'Vapor_pressure(hPa)', 'Visibility(10m)', 'year', 'Temp(C)', 'Solar_Radiation(MJ/m2)', 'Wind_speed(m/s)']\n",
      "[iter 0] loss=16.4519 val_loss=0.0000 scale=1.0000 norm=2963398.9849\n",
      "[iter 100] loss=15.5446 val_loss=0.0000 scale=2.0000 norm=1724230.0660\n",
      "[iter 200] loss=15.0450 val_loss=0.0000 scale=2.0000 norm=1216727.4352\n",
      "[iter 300] loss=14.8157 val_loss=0.0000 scale=2.0000 norm=1140499.9037\n",
      "[iter 400] loss=14.7441 val_loss=0.0000 scale=1.0000 norm=562408.9020\n"
     ]
    },
    {
     "name": "stderr",
     "output_type": "stream",
     "text": [
      "\r",
      "Feature combinations: 374it [4:40:23, 47.23s/it]"
     ]
    },
    {
     "name": "stdout",
     "output_type": "stream",
     "text": [
      "Using features: ['Prec(mm)', 'Vapor_pressure(hPa)', 'Visibility(10m)', 'month', 'Temp(C)', 'Solar_Radiation(MJ/m2)', 'Wind_speed(m/s)']\n",
      "[iter 0] loss=16.4519 val_loss=0.0000 scale=1.0000 norm=2963398.9849\n",
      "[iter 100] loss=15.5478 val_loss=0.0000 scale=2.0000 norm=1730410.1475\n",
      "[iter 200] loss=15.0596 val_loss=0.0000 scale=2.0000 norm=1241089.7887\n",
      "[iter 300] loss=14.8354 val_loss=0.0000 scale=2.0000 norm=1172202.2419\n",
      "[iter 400] loss=14.7593 val_loss=0.0000 scale=2.0000 norm=1155021.7720\n"
     ]
    },
    {
     "name": "stderr",
     "output_type": "stream",
     "text": [
      "\r",
      "Feature combinations: 375it [4:41:17, 49.10s/it]"
     ]
    },
    {
     "name": "stdout",
     "output_type": "stream",
     "text": [
      "Using features: ['Prec(mm)', 'Vapor_pressure(hPa)', 'Visibility(10m)', 'hour', 'Temp(C)', 'Solar_Radiation(MJ/m2)', 'Wind_speed(m/s)']\n",
      "[iter 0] loss=16.4519 val_loss=0.0000 scale=1.0000 norm=2963398.9849\n",
      "[iter 100] loss=15.5533 val_loss=0.0000 scale=2.0000 norm=1738921.7410\n",
      "[iter 200] loss=15.0454 val_loss=0.0000 scale=2.0000 norm=1210862.1960\n",
      "[iter 300] loss=14.7972 val_loss=0.0000 scale=2.0000 norm=1138745.3848\n",
      "[iter 400] loss=14.7031 val_loss=0.0000 scale=1.0000 norm=559150.3915\n"
     ]
    },
    {
     "name": "stderr",
     "output_type": "stream",
     "text": [
      "\r",
      "Feature combinations: 376it [4:42:05, 49.01s/it]"
     ]
    },
    {
     "name": "stdout",
     "output_type": "stream",
     "text": [
      "Using features: ['Prec(mm)', 'Vapor_pressure(hPa)', 'year', 'month', 'Temp(C)', 'Solar_Radiation(MJ/m2)', 'Wind_speed(m/s)']\n",
      "[iter 0] loss=16.4519 val_loss=0.0000 scale=1.0000 norm=2963398.9849\n",
      "[iter 100] loss=15.5439 val_loss=0.0000 scale=2.0000 norm=1720856.0832\n",
      "[iter 200] loss=15.0308 val_loss=0.0000 scale=2.0000 norm=1177056.4317\n",
      "[iter 300] loss=14.8027 val_loss=0.0000 scale=1.0000 norm=539896.9475\n",
      "[iter 400] loss=14.7343 val_loss=0.0000 scale=1.0000 norm=526589.6399\n"
     ]
    },
    {
     "name": "stderr",
     "output_type": "stream",
     "text": [
      "\r",
      "Feature combinations: 377it [4:42:52, 48.28s/it]"
     ]
    },
    {
     "name": "stdout",
     "output_type": "stream",
     "text": [
      "Using features: ['Prec(mm)', 'Vapor_pressure(hPa)', 'year', 'hour', 'Temp(C)', 'Solar_Radiation(MJ/m2)', 'Wind_speed(m/s)']\n",
      "[iter 0] loss=16.4519 val_loss=0.0000 scale=1.0000 norm=2963398.9849\n",
      "[iter 100] loss=15.5509 val_loss=0.0000 scale=2.0000 norm=1733660.6237\n",
      "[iter 200] loss=15.0225 val_loss=0.0000 scale=2.0000 norm=1165665.7099\n",
      "[iter 300] loss=14.7752 val_loss=0.0000 scale=2.0000 norm=1076900.4236\n",
      "[iter 400] loss=14.6918 val_loss=0.0000 scale=1.0000 norm=527685.6948\n"
     ]
    },
    {
     "name": "stderr",
     "output_type": "stream",
     "text": [
      "\r",
      "Feature combinations: 378it [4:43:38, 47.63s/it]"
     ]
    },
    {
     "name": "stdout",
     "output_type": "stream",
     "text": [
      "Using features: ['Prec(mm)', 'Vapor_pressure(hPa)', 'month', 'hour', 'Temp(C)', 'Solar_Radiation(MJ/m2)', 'Wind_speed(m/s)']\n",
      "[iter 0] loss=16.4519 val_loss=0.0000 scale=1.0000 norm=2963398.9849\n",
      "[iter 100] loss=15.5529 val_loss=0.0000 scale=2.0000 norm=1737366.7399\n",
      "[iter 200] loss=15.0414 val_loss=0.0000 scale=2.0000 norm=1200209.8264\n",
      "[iter 300] loss=14.7960 val_loss=0.0000 scale=2.0000 norm=1129490.3216\n",
      "[iter 400] loss=14.7066 val_loss=0.0000 scale=1.0000 norm=555404.0254\n"
     ]
    },
    {
     "name": "stderr",
     "output_type": "stream",
     "text": [
      "\r",
      "Feature combinations: 379it [4:44:19, 45.76s/it]"
     ]
    },
    {
     "name": "stdout",
     "output_type": "stream",
     "text": [
      "Using features: ['Prec(mm)', 'Dew_Point(C)', 'Local Atmospheric Pressure(hPa)', 'sunshine(hr)', 'Temp(C)', 'Solar_Radiation(MJ/m2)', 'Wind_speed(m/s)']\n",
      "[iter 0] loss=16.4519 val_loss=0.0000 scale=1.0000 norm=2963398.9849\n",
      "[iter 100] loss=15.5637 val_loss=0.0000 scale=2.0000 norm=1747486.2547\n",
      "[iter 200] loss=15.0634 val_loss=0.0000 scale=2.0000 norm=1244210.3551\n",
      "[iter 300] loss=14.8266 val_loss=0.0000 scale=2.0000 norm=1183291.6150\n",
      "[iter 400] loss=14.7278 val_loss=0.0000 scale=1.0000 norm=582228.4237\n"
     ]
    },
    {
     "name": "stderr",
     "output_type": "stream",
     "text": [
      "\r",
      "Feature combinations: 380it [4:45:09, 46.99s/it]"
     ]
    },
    {
     "name": "stdout",
     "output_type": "stream",
     "text": [
      "Using features: ['Prec(mm)', 'Dew_Point(C)', 'Local Atmospheric Pressure(hPa)', 'Snowfall(cm)', 'Temp(C)', 'Solar_Radiation(MJ/m2)', 'Wind_speed(m/s)']\n",
      "[iter 0] loss=16.4519 val_loss=0.0000 scale=1.0000 norm=2963398.9849\n",
      "[iter 100] loss=15.5630 val_loss=0.0000 scale=2.0000 norm=1752364.5747\n",
      "[iter 200] loss=15.0677 val_loss=0.0000 scale=2.0000 norm=1241972.5827\n",
      "[iter 300] loss=14.8333 val_loss=0.0000 scale=2.0000 norm=1177435.6182\n",
      "[iter 400] loss=14.7373 val_loss=0.0000 scale=2.0000 norm=1159934.4147\n"
     ]
    },
    {
     "name": "stderr",
     "output_type": "stream",
     "text": [
      "\r",
      "Feature combinations: 381it [4:45:59, 47.70s/it]"
     ]
    },
    {
     "name": "stdout",
     "output_type": "stream",
     "text": [
      "Using features: ['Prec(mm)', 'Dew_Point(C)', 'Local Atmospheric Pressure(hPa)', 'Cloud_Cover(1/10)', 'Temp(C)', 'Solar_Radiation(MJ/m2)', 'Wind_speed(m/s)']\n",
      "[iter 0] loss=16.4519 val_loss=0.0000 scale=1.0000 norm=2963398.9849\n",
      "[iter 100] loss=15.5556 val_loss=0.0000 scale=2.0000 norm=1729103.2455\n",
      "[iter 200] loss=15.0607 val_loss=0.0000 scale=2.0000 norm=1233280.0701\n",
      "[iter 300] loss=14.8232 val_loss=0.0000 scale=2.0000 norm=1170695.7205\n",
      "[iter 400] loss=14.7349 val_loss=0.0000 scale=1.0000 norm=577516.1471\n"
     ]
    },
    {
     "name": "stderr",
     "output_type": "stream",
     "text": [
      "\r",
      "Feature combinations: 382it [4:46:51, 49.16s/it]"
     ]
    },
    {
     "name": "stdout",
     "output_type": "stream",
     "text": [
      "Using features: ['Prec(mm)', 'Dew_Point(C)', 'Local Atmospheric Pressure(hPa)', 'Visibility(10m)', 'Temp(C)', 'Solar_Radiation(MJ/m2)', 'Wind_speed(m/s)']\n",
      "[iter 0] loss=16.4519 val_loss=0.0000 scale=1.0000 norm=2963398.9849\n",
      "[iter 100] loss=15.5641 val_loss=0.0000 scale=2.0000 norm=1749464.5622\n",
      "[iter 200] loss=15.0735 val_loss=0.0000 scale=2.0000 norm=1249936.2839\n",
      "[iter 300] loss=14.8436 val_loss=0.0000 scale=2.0000 norm=1190291.0422\n",
      "[iter 400] loss=14.7533 val_loss=0.0000 scale=1.0000 norm=586169.9265\n"
     ]
    },
    {
     "name": "stderr",
     "output_type": "stream",
     "text": [
      "\r",
      "Feature combinations: 383it [4:47:52, 52.74s/it]"
     ]
    },
    {
     "name": "stdout",
     "output_type": "stream",
     "text": [
      "Using features: ['Prec(mm)', 'Dew_Point(C)', 'Local Atmospheric Pressure(hPa)', 'year', 'Temp(C)', 'Solar_Radiation(MJ/m2)', 'Wind_speed(m/s)']\n",
      "[iter 0] loss=16.4519 val_loss=0.0000 scale=1.0000 norm=2963398.9849\n",
      "[iter 100] loss=15.5602 val_loss=0.0000 scale=2.0000 norm=1738751.3384\n",
      "[iter 200] loss=15.0431 val_loss=0.0000 scale=2.0000 norm=1183539.9028\n",
      "[iter 300] loss=14.7940 val_loss=0.0000 scale=2.0000 norm=1093445.6464\n",
      "[iter 400] loss=14.7098 val_loss=0.0000 scale=2.0000 norm=1070924.2302\n"
     ]
    },
    {
     "name": "stderr",
     "output_type": "stream",
     "text": [
      "\r",
      "Feature combinations: 384it [4:48:46, 52.92s/it]"
     ]
    },
    {
     "name": "stdout",
     "output_type": "stream",
     "text": [
      "Using features: ['Prec(mm)', 'Dew_Point(C)', 'Local Atmospheric Pressure(hPa)', 'month', 'Temp(C)', 'Solar_Radiation(MJ/m2)', 'Wind_speed(m/s)']\n",
      "[iter 0] loss=16.4519 val_loss=0.0000 scale=1.0000 norm=2963398.9849\n",
      "[iter 100] loss=15.5639 val_loss=0.0000 scale=2.0000 norm=1749072.4838\n",
      "[iter 200] loss=15.0685 val_loss=0.0000 scale=2.0000 norm=1238226.2835\n",
      "[iter 300] loss=14.8334 val_loss=0.0000 scale=2.0000 norm=1169148.0178\n",
      "[iter 400] loss=14.7500 val_loss=0.0000 scale=2.0000 norm=1153051.8656\n"
     ]
    },
    {
     "name": "stderr",
     "output_type": "stream",
     "text": [
      "\r",
      "Feature combinations: 385it [4:49:35, 51.92s/it]"
     ]
    },
    {
     "name": "stdout",
     "output_type": "stream",
     "text": [
      "Using features: ['Prec(mm)', 'Dew_Point(C)', 'Local Atmospheric Pressure(hPa)', 'hour', 'Temp(C)', 'Solar_Radiation(MJ/m2)', 'Wind_speed(m/s)']\n",
      "[iter 0] loss=16.4519 val_loss=0.0000 scale=1.0000 norm=2963398.9849\n",
      "[iter 100] loss=15.5597 val_loss=0.0000 scale=2.0000 norm=1740606.0946\n",
      "[iter 200] loss=15.0446 val_loss=0.0000 scale=2.0000 norm=1195229.6965\n",
      "[iter 300] loss=14.7926 val_loss=0.0000 scale=2.0000 norm=1123831.6847\n",
      "[iter 400] loss=14.6980 val_loss=0.0000 scale=1.0000 norm=553241.6051\n"
     ]
    },
    {
     "name": "stderr",
     "output_type": "stream",
     "text": [
      "\r",
      "Feature combinations: 386it [4:50:23, 50.60s/it]"
     ]
    },
    {
     "name": "stdout",
     "output_type": "stream",
     "text": [
      "Using features: ['Prec(mm)', 'Dew_Point(C)', 'sunshine(hr)', 'Snowfall(cm)', 'Temp(C)', 'Solar_Radiation(MJ/m2)', 'Wind_speed(m/s)']\n",
      "[iter 0] loss=16.4519 val_loss=0.0000 scale=1.0000 norm=2963398.9849\n",
      "[iter 100] loss=15.5478 val_loss=0.0000 scale=2.0000 norm=1736986.7078\n",
      "[iter 200] loss=15.0620 val_loss=0.0000 scale=2.0000 norm=1265936.1521\n",
      "[iter 300] loss=14.8318 val_loss=0.0000 scale=2.0000 norm=1202944.1713\n",
      "[iter 400] loss=14.7290 val_loss=0.0000 scale=1.0000 norm=592157.0516\n"
     ]
    },
    {
     "name": "stderr",
     "output_type": "stream",
     "text": [
      "\r",
      "Feature combinations: 387it [4:51:07, 48.84s/it]"
     ]
    },
    {
     "name": "stdout",
     "output_type": "stream",
     "text": [
      "Using features: ['Prec(mm)', 'Dew_Point(C)', 'sunshine(hr)', 'Cloud_Cover(1/10)', 'Temp(C)', 'Solar_Radiation(MJ/m2)', 'Wind_speed(m/s)']\n",
      "[iter 0] loss=16.4519 val_loss=0.0000 scale=1.0000 norm=2963398.9849\n",
      "[iter 100] loss=15.5472 val_loss=0.0000 scale=2.0000 norm=1727820.2254\n",
      "[iter 200] loss=15.0635 val_loss=0.0000 scale=2.0000 norm=1261238.8690\n",
      "[iter 300] loss=14.8319 val_loss=0.0000 scale=2.0000 norm=1203543.0870\n",
      "[iter 400] loss=14.7332 val_loss=0.0000 scale=1.0000 norm=593364.9712\n"
     ]
    },
    {
     "name": "stderr",
     "output_type": "stream",
     "text": [
      "\r",
      "Feature combinations: 388it [4:51:53, 47.96s/it]"
     ]
    },
    {
     "name": "stdout",
     "output_type": "stream",
     "text": [
      "Using features: ['Prec(mm)', 'Dew_Point(C)', 'sunshine(hr)', 'Visibility(10m)', 'Temp(C)', 'Solar_Radiation(MJ/m2)', 'Wind_speed(m/s)']\n",
      "[iter 0] loss=16.4519 val_loss=0.0000 scale=1.0000 norm=2963398.9849\n",
      "[iter 100] loss=15.5488 val_loss=0.0000 scale=2.0000 norm=1733880.0536\n",
      "[iter 200] loss=15.0683 val_loss=0.0000 scale=2.0000 norm=1272657.5889\n",
      "[iter 300] loss=14.8400 val_loss=0.0000 scale=2.0000 norm=1214823.2853\n",
      "[iter 400] loss=14.7472 val_loss=0.0000 scale=1.0000 norm=597879.0757\n"
     ]
    },
    {
     "name": "stderr",
     "output_type": "stream",
     "text": [
      "\r",
      "Feature combinations: 389it [4:52:42, 48.29s/it]"
     ]
    },
    {
     "name": "stdout",
     "output_type": "stream",
     "text": [
      "Using features: ['Prec(mm)', 'Dew_Point(C)', 'sunshine(hr)', 'year', 'Temp(C)', 'Solar_Radiation(MJ/m2)', 'Wind_speed(m/s)']\n",
      "[iter 0] loss=16.4519 val_loss=0.0000 scale=1.0000 norm=2963398.9849\n",
      "[iter 100] loss=15.5546 val_loss=0.0000 scale=2.0000 norm=1742316.8942\n",
      "[iter 200] loss=15.0407 val_loss=0.0000 scale=2.0000 norm=1213472.5745\n",
      "[iter 300] loss=14.7997 val_loss=0.0000 scale=1.0000 norm=565386.0999\n",
      "[iter 400] loss=14.7055 val_loss=0.0000 scale=1.0000 norm=551889.6145\n"
     ]
    },
    {
     "name": "stderr",
     "output_type": "stream",
     "text": [
      "\r",
      "Feature combinations: 390it [4:53:29, 47.74s/it]"
     ]
    },
    {
     "name": "stdout",
     "output_type": "stream",
     "text": [
      "Using features: ['Prec(mm)', 'Dew_Point(C)', 'sunshine(hr)', 'month', 'Temp(C)', 'Solar_Radiation(MJ/m2)', 'Wind_speed(m/s)']\n",
      "[iter 0] loss=16.4519 val_loss=0.0000 scale=1.0000 norm=2963398.9849\n",
      "[iter 100] loss=15.5574 val_loss=0.0000 scale=2.0000 norm=1747044.2443\n",
      "[iter 200] loss=15.0541 val_loss=0.0000 scale=2.0000 norm=1236647.1320\n",
      "[iter 300] loss=14.8172 val_loss=0.0000 scale=2.0000 norm=1165590.6469\n",
      "[iter 400] loss=14.7304 val_loss=0.0000 scale=2.0000 norm=1146095.0818\n"
     ]
    },
    {
     "name": "stderr",
     "output_type": "stream",
     "text": [
      "\r",
      "Feature combinations: 391it [4:54:17, 47.98s/it]"
     ]
    },
    {
     "name": "stdout",
     "output_type": "stream",
     "text": [
      "Using features: ['Prec(mm)', 'Dew_Point(C)', 'sunshine(hr)', 'hour', 'Temp(C)', 'Solar_Radiation(MJ/m2)', 'Wind_speed(m/s)']\n",
      "[iter 0] loss=16.4519 val_loss=0.0000 scale=1.0000 norm=2963398.9849\n",
      "[iter 100] loss=15.5586 val_loss=0.0000 scale=2.0000 norm=1742251.7786\n",
      "[iter 200] loss=15.0217 val_loss=0.0000 scale=2.0000 norm=1158938.0291\n",
      "[iter 300] loss=14.7534 val_loss=0.0000 scale=2.0000 norm=1077456.1378\n",
      "[iter 400] loss=14.6482 val_loss=0.0000 scale=2.0000 norm=1057946.2201\n"
     ]
    },
    {
     "name": "stderr",
     "output_type": "stream",
     "text": [
      "\r",
      "Feature combinations: 392it [4:55:04, 47.50s/it]"
     ]
    },
    {
     "name": "stdout",
     "output_type": "stream",
     "text": [
      "Using features: ['Prec(mm)', 'Dew_Point(C)', 'Snowfall(cm)', 'Cloud_Cover(1/10)', 'Temp(C)', 'Solar_Radiation(MJ/m2)', 'Wind_speed(m/s)']\n",
      "[iter 0] loss=16.4519 val_loss=0.0000 scale=1.0000 norm=2963398.9849\n",
      "[iter 100] loss=15.5462 val_loss=0.0000 scale=2.0000 norm=1730745.3233\n",
      "[iter 200] loss=15.0618 val_loss=0.0000 scale=2.0000 norm=1256540.6054\n",
      "[iter 300] loss=14.8291 val_loss=0.0000 scale=2.0000 norm=1192373.8841\n",
      "[iter 400] loss=14.7371 val_loss=0.0000 scale=1.0000 norm=588205.6078\n"
     ]
    },
    {
     "name": "stderr",
     "output_type": "stream",
     "text": [
      "\r",
      "Feature combinations: 393it [4:55:49, 46.82s/it]"
     ]
    },
    {
     "name": "stdout",
     "output_type": "stream",
     "text": [
      "Using features: ['Prec(mm)', 'Dew_Point(C)', 'Snowfall(cm)', 'Visibility(10m)', 'Temp(C)', 'Solar_Radiation(MJ/m2)', 'Wind_speed(m/s)']\n",
      "[iter 0] loss=16.4519 val_loss=0.0000 scale=1.0000 norm=2963398.9849\n",
      "[iter 100] loss=15.5486 val_loss=0.0000 scale=2.0000 norm=1740338.7804\n",
      "[iter 200] loss=15.0719 val_loss=0.0000 scale=2.0000 norm=1274289.1336\n",
      "[iter 300] loss=14.8464 val_loss=0.0000 scale=2.0000 norm=1211091.1735\n",
      "[iter 400] loss=14.7503 val_loss=0.0000 scale=2.0000 norm=1192461.8724\n"
     ]
    },
    {
     "name": "stderr",
     "output_type": "stream",
     "text": [
      "\r",
      "Feature combinations: 394it [4:56:37, 47.23s/it]"
     ]
    },
    {
     "name": "stdout",
     "output_type": "stream",
     "text": [
      "Using features: ['Prec(mm)', 'Dew_Point(C)', 'Snowfall(cm)', 'year', 'Temp(C)', 'Solar_Radiation(MJ/m2)', 'Wind_speed(m/s)']\n",
      "[iter 0] loss=16.4519 val_loss=0.0000 scale=1.0000 norm=2963398.9849\n",
      "[iter 100] loss=15.5538 val_loss=0.0000 scale=2.0000 norm=1744553.2347\n",
      "[iter 200] loss=15.0451 val_loss=0.0000 scale=2.0000 norm=1214496.3229\n",
      "[iter 300] loss=14.8058 val_loss=0.0000 scale=2.0000 norm=1127700.8760\n",
      "[iter 400] loss=14.7136 val_loss=0.0000 scale=0.5000 norm=275084.0395\n"
     ]
    },
    {
     "name": "stderr",
     "output_type": "stream",
     "text": [
      "\r",
      "Feature combinations: 395it [4:57:22, 46.56s/it]"
     ]
    },
    {
     "name": "stdout",
     "output_type": "stream",
     "text": [
      "Using features: ['Prec(mm)', 'Dew_Point(C)', 'Snowfall(cm)', 'month', 'Temp(C)', 'Solar_Radiation(MJ/m2)', 'Wind_speed(m/s)']\n",
      "[iter 0] loss=16.4519 val_loss=0.0000 scale=1.0000 norm=2963398.9849\n",
      "[iter 100] loss=15.5569 val_loss=0.0000 scale=2.0000 norm=1751893.5799\n",
      "[iter 200] loss=15.0610 val_loss=0.0000 scale=2.0000 norm=1241225.0666\n",
      "[iter 300] loss=14.8341 val_loss=0.0000 scale=2.0000 norm=1165732.8600\n",
      "[iter 400] loss=14.7643 val_loss=0.0000 scale=1.0000 norm=575352.8435\n"
     ]
    },
    {
     "name": "stderr",
     "output_type": "stream",
     "text": [
      "\r",
      "Feature combinations: 396it [4:58:08, 46.27s/it]"
     ]
    },
    {
     "name": "stdout",
     "output_type": "stream",
     "text": [
      "Using features: ['Prec(mm)', 'Dew_Point(C)', 'Snowfall(cm)', 'hour', 'Temp(C)', 'Solar_Radiation(MJ/m2)', 'Wind_speed(m/s)']\n",
      "[iter 0] loss=16.4519 val_loss=0.0000 scale=1.0000 norm=2963398.9849\n",
      "[iter 100] loss=15.5591 val_loss=0.0000 scale=2.0000 norm=1754774.6467\n",
      "[iter 200] loss=15.0444 val_loss=0.0000 scale=2.0000 norm=1208275.7084\n",
      "[iter 300] loss=14.7938 val_loss=0.0000 scale=2.0000 norm=1130623.3139\n",
      "[iter 400] loss=14.6930 val_loss=0.0000 scale=2.0000 norm=1109438.0870\n"
     ]
    },
    {
     "name": "stderr",
     "output_type": "stream",
     "text": [
      "\r",
      "Feature combinations: 397it [4:58:53, 45.99s/it]"
     ]
    },
    {
     "name": "stdout",
     "output_type": "stream",
     "text": [
      "Using features: ['Prec(mm)', 'Dew_Point(C)', 'Cloud_Cover(1/10)', 'Visibility(10m)', 'Temp(C)', 'Solar_Radiation(MJ/m2)', 'Wind_speed(m/s)']\n",
      "[iter 0] loss=16.4519 val_loss=0.0000 scale=1.0000 norm=2963398.9849\n",
      "[iter 100] loss=15.5473 val_loss=0.0000 scale=2.0000 norm=1727993.2327\n",
      "[iter 200] loss=15.0675 val_loss=0.0000 scale=2.0000 norm=1262685.4090\n",
      "[iter 300] loss=14.8402 val_loss=0.0000 scale=2.0000 norm=1203496.0750\n",
      "[iter 400] loss=14.7468 val_loss=0.0000 scale=1.0000 norm=593119.1011\n"
     ]
    },
    {
     "name": "stderr",
     "output_type": "stream",
     "text": [
      "\r",
      "Feature combinations: 398it [4:59:44, 47.52s/it]"
     ]
    },
    {
     "name": "stdout",
     "output_type": "stream",
     "text": [
      "Using features: ['Prec(mm)', 'Dew_Point(C)', 'Cloud_Cover(1/10)', 'year', 'Temp(C)', 'Solar_Radiation(MJ/m2)', 'Wind_speed(m/s)']\n",
      "[iter 0] loss=16.4519 val_loss=0.0000 scale=1.0000 norm=2963398.9849\n",
      "[iter 100] loss=15.5434 val_loss=0.0000 scale=2.0000 norm=1719490.0606\n",
      "[iter 200] loss=15.0381 val_loss=0.0000 scale=2.0000 norm=1207939.4048\n",
      "[iter 300] loss=14.8002 val_loss=0.0000 scale=1.0000 norm=564062.8759\n",
      "[iter 400] loss=14.7159 val_loss=0.0000 scale=1.0000 norm=552745.3488\n"
     ]
    },
    {
     "name": "stderr",
     "output_type": "stream",
     "text": [
      "\r",
      "Feature combinations: 399it [5:00:31, 47.18s/it]"
     ]
    },
    {
     "name": "stdout",
     "output_type": "stream",
     "text": [
      "Using features: ['Prec(mm)', 'Dew_Point(C)', 'Cloud_Cover(1/10)', 'month', 'Temp(C)', 'Solar_Radiation(MJ/m2)', 'Wind_speed(m/s)']\n",
      "[iter 0] loss=16.4519 val_loss=0.0000 scale=1.0000 norm=2963398.9849\n",
      "[iter 100] loss=15.5459 val_loss=0.0000 scale=2.0000 norm=1722553.5635\n",
      "[iter 200] loss=15.0512 val_loss=0.0000 scale=2.0000 norm=1227734.4524\n",
      "[iter 300] loss=14.8191 val_loss=0.0000 scale=2.0000 norm=1156890.8665\n",
      "[iter 400] loss=14.7454 val_loss=0.0000 scale=2.0000 norm=1142092.0587\n"
     ]
    },
    {
     "name": "stderr",
     "output_type": "stream",
     "text": [
      "\r",
      "Feature combinations: 400it [5:01:19, 47.56s/it]"
     ]
    },
    {
     "name": "stdout",
     "output_type": "stream",
     "text": [
      "Using features: ['Prec(mm)', 'Dew_Point(C)', 'Cloud_Cover(1/10)', 'hour', 'Temp(C)', 'Solar_Radiation(MJ/m2)', 'Wind_speed(m/s)']\n",
      "[iter 0] loss=16.4519 val_loss=0.0000 scale=1.0000 norm=2963398.9849\n",
      "[iter 100] loss=15.5465 val_loss=0.0000 scale=2.0000 norm=1716568.9886\n",
      "[iter 200] loss=15.0185 val_loss=0.0000 scale=2.0000 norm=1152943.5287\n",
      "[iter 300] loss=14.7525 val_loss=0.0000 scale=2.0000 norm=1066542.8612\n",
      "[iter 400] loss=14.6459 val_loss=0.0000 scale=2.0000 norm=1042589.1623\n"
     ]
    },
    {
     "name": "stderr",
     "output_type": "stream",
     "text": [
      "\r",
      "Feature combinations: 401it [5:02:08, 47.97s/it]"
     ]
    },
    {
     "name": "stdout",
     "output_type": "stream",
     "text": [
      "Using features: ['Prec(mm)', 'Dew_Point(C)', 'Visibility(10m)', 'year', 'Temp(C)', 'Solar_Radiation(MJ/m2)', 'Wind_speed(m/s)']\n",
      "[iter 0] loss=16.4519 val_loss=0.0000 scale=1.0000 norm=2963398.9849\n",
      "[iter 100] loss=15.5549 val_loss=0.0000 scale=2.0000 norm=1744355.9362\n",
      "[iter 200] loss=15.0503 val_loss=0.0000 scale=2.0000 norm=1219461.4126\n",
      "[iter 300] loss=14.8134 val_loss=0.0000 scale=2.0000 norm=1140278.8386\n",
      "[iter 400] loss=14.7290 val_loss=0.0000 scale=2.0000 norm=1117678.9076\n"
     ]
    },
    {
     "name": "stderr",
     "output_type": "stream",
     "text": [
      "\r",
      "Feature combinations: 402it [5:03:03, 49.96s/it]"
     ]
    },
    {
     "name": "stdout",
     "output_type": "stream",
     "text": [
      "Using features: ['Prec(mm)', 'Dew_Point(C)', 'Visibility(10m)', 'month', 'Temp(C)', 'Solar_Radiation(MJ/m2)', 'Wind_speed(m/s)']\n",
      "[iter 0] loss=16.4519 val_loss=0.0000 scale=1.0000 norm=2963398.9849\n",
      "[iter 100] loss=15.5579 val_loss=0.0000 scale=2.0000 norm=1749490.2476\n",
      "[iter 200] loss=15.0650 val_loss=0.0000 scale=2.0000 norm=1244081.5646\n",
      "[iter 300] loss=14.8367 val_loss=0.0000 scale=2.0000 norm=1171810.4055\n",
      "[iter 400] loss=14.7606 val_loss=0.0000 scale=1.0000 norm=576970.7563\n"
     ]
    },
    {
     "name": "stderr",
     "output_type": "stream",
     "text": [
      "\r",
      "Feature combinations: 403it [5:03:55, 50.83s/it]"
     ]
    },
    {
     "name": "stdout",
     "output_type": "stream",
     "text": [
      "Using features: ['Prec(mm)', 'Dew_Point(C)', 'Visibility(10m)', 'hour', 'Temp(C)', 'Solar_Radiation(MJ/m2)', 'Wind_speed(m/s)']\n",
      "[iter 0] loss=16.4519 val_loss=0.0000 scale=1.0000 norm=2963398.9849\n",
      "[iter 100] loss=15.5600 val_loss=0.0000 scale=2.0000 norm=1751916.0383\n",
      "[iter 200] loss=15.0487 val_loss=0.0000 scale=2.0000 norm=1210712.6559\n",
      "[iter 300] loss=14.7985 val_loss=0.0000 scale=2.0000 norm=1138186.2128\n",
      "[iter 400] loss=14.7035 val_loss=0.0000 scale=1.0000 norm=558896.8768\n"
     ]
    },
    {
     "name": "stderr",
     "output_type": "stream",
     "text": [
      "\r",
      "Feature combinations: 404it [5:04:45, 50.36s/it]"
     ]
    },
    {
     "name": "stdout",
     "output_type": "stream",
     "text": [
      "Using features: ['Prec(mm)', 'Dew_Point(C)', 'year', 'month', 'Temp(C)', 'Solar_Radiation(MJ/m2)', 'Wind_speed(m/s)']\n",
      "[iter 0] loss=16.4519 val_loss=0.0000 scale=1.0000 norm=2963398.9849\n",
      "[iter 100] loss=15.5542 val_loss=0.0000 scale=2.0000 norm=1740475.5948\n",
      "[iter 200] loss=15.0363 val_loss=0.0000 scale=2.0000 norm=1180438.8436\n",
      "[iter 300] loss=14.8011 val_loss=0.0000 scale=1.0000 norm=538449.7592\n",
      "[iter 400] loss=14.7325 val_loss=0.0000 scale=1.0000 norm=525414.9574\n"
     ]
    },
    {
     "name": "stderr",
     "output_type": "stream",
     "text": [
      "\r",
      "Feature combinations: 405it [5:05:32, 49.46s/it]"
     ]
    },
    {
     "name": "stdout",
     "output_type": "stream",
     "text": [
      "Using features: ['Prec(mm)', 'Dew_Point(C)', 'year', 'hour', 'Temp(C)', 'Solar_Radiation(MJ/m2)', 'Wind_speed(m/s)']\n",
      "[iter 0] loss=16.4519 val_loss=0.0000 scale=1.0000 norm=2963398.9849\n",
      "[iter 100] loss=15.5579 val_loss=0.0000 scale=2.0000 norm=1747711.0351\n",
      "[iter 200] loss=15.0259 val_loss=0.0000 scale=2.0000 norm=1166212.3164\n",
      "[iter 300] loss=14.7736 val_loss=0.0000 scale=1.0000 norm=538164.0942\n",
      "[iter 400] loss=14.6890 val_loss=0.0000 scale=2.0000 norm=1053285.7731\n"
     ]
    },
    {
     "name": "stderr",
     "output_type": "stream",
     "text": [
      "\r",
      "Feature combinations: 406it [5:06:20, 48.93s/it]"
     ]
    },
    {
     "name": "stdout",
     "output_type": "stream",
     "text": [
      "Using features: ['Prec(mm)', 'Dew_Point(C)', 'month', 'hour', 'Temp(C)', 'Solar_Radiation(MJ/m2)', 'Wind_speed(m/s)']\n",
      "[iter 0] loss=16.4519 val_loss=0.0000 scale=1.0000 norm=2963398.9849\n",
      "[iter 100] loss=15.5561 val_loss=0.0000 scale=2.0000 norm=1743389.6708\n",
      "[iter 200] loss=15.0427 val_loss=0.0000 scale=2.0000 norm=1200235.3172\n",
      "[iter 300] loss=14.7937 val_loss=0.0000 scale=2.0000 norm=1126595.8829\n",
      "[iter 400] loss=14.7021 val_loss=0.0000 scale=2.0000 norm=1108423.7341\n"
     ]
    },
    {
     "name": "stderr",
     "output_type": "stream",
     "text": [
      "\r",
      "Feature combinations: 407it [5:07:12, 49.98s/it]"
     ]
    },
    {
     "name": "stdout",
     "output_type": "stream",
     "text": [
      "Using features: ['Prec(mm)', 'Local Atmospheric Pressure(hPa)', 'sunshine(hr)', 'Snowfall(cm)', 'Temp(C)', 'Solar_Radiation(MJ/m2)', 'Wind_speed(m/s)']\n",
      "[iter 0] loss=16.4519 val_loss=0.0000 scale=1.0000 norm=2963398.9849\n",
      "[iter 100] loss=15.5663 val_loss=0.0000 scale=2.0000 norm=1760433.6772\n",
      "[iter 200] loss=15.0591 val_loss=0.0000 scale=2.0000 norm=1240115.8086\n",
      "[iter 300] loss=14.8188 val_loss=0.0000 scale=2.0000 norm=1169433.3155\n",
      "[iter 400] loss=14.7201 val_loss=0.0000 scale=1.0000 norm=574306.6455\n"
     ]
    },
    {
     "name": "stderr",
     "output_type": "stream",
     "text": [
      "\r",
      "Feature combinations: 408it [5:07:58, 48.77s/it]"
     ]
    },
    {
     "name": "stdout",
     "output_type": "stream",
     "text": [
      "Using features: ['Prec(mm)', 'Local Atmospheric Pressure(hPa)', 'sunshine(hr)', 'Cloud_Cover(1/10)', 'Temp(C)', 'Solar_Radiation(MJ/m2)', 'Wind_speed(m/s)']\n",
      "[iter 0] loss=16.4519 val_loss=0.0000 scale=1.0000 norm=2963398.9849\n",
      "[iter 100] loss=15.5694 val_loss=0.0000 scale=2.0000 norm=1759029.5702\n",
      "[iter 200] loss=15.0624 val_loss=0.0000 scale=2.0000 norm=1234804.4912\n",
      "[iter 300] loss=14.8193 val_loss=0.0000 scale=2.0000 norm=1170436.2588\n",
      "[iter 400] loss=14.7206 val_loss=0.0000 scale=1.0000 norm=575744.2722\n"
     ]
    },
    {
     "name": "stderr",
     "output_type": "stream",
     "text": [
      "\r",
      "Feature combinations: 409it [5:08:45, 48.22s/it]"
     ]
    },
    {
     "name": "stdout",
     "output_type": "stream",
     "text": [
      "Using features: ['Prec(mm)', 'Local Atmospheric Pressure(hPa)', 'sunshine(hr)', 'Visibility(10m)', 'Temp(C)', 'Solar_Radiation(MJ/m2)', 'Wind_speed(m/s)']\n",
      "[iter 0] loss=16.4519 val_loss=0.0000 scale=1.0000 norm=2963398.9849\n",
      "[iter 100] loss=15.5674 val_loss=0.0000 scale=2.0000 norm=1757471.0128\n",
      "[iter 200] loss=15.0651 val_loss=0.0000 scale=2.0000 norm=1245935.2788\n",
      "[iter 300] loss=14.8263 val_loss=0.0000 scale=2.0000 norm=1180292.0921\n",
      "[iter 400] loss=14.7290 val_loss=0.0000 scale=1.0000 norm=579718.6771\n"
     ]
    },
    {
     "name": "stderr",
     "output_type": "stream",
     "text": [
      "\r",
      "Feature combinations: 410it [5:09:34, 48.34s/it]"
     ]
    },
    {
     "name": "stdout",
     "output_type": "stream",
     "text": [
      "Using features: ['Prec(mm)', 'Local Atmospheric Pressure(hPa)', 'sunshine(hr)', 'year', 'Temp(C)', 'Solar_Radiation(MJ/m2)', 'Wind_speed(m/s)']\n",
      "[iter 0] loss=16.4519 val_loss=0.0000 scale=1.0000 norm=2963398.9849\n",
      "[iter 100] loss=15.5710 val_loss=0.0000 scale=2.0000 norm=1762524.2826\n",
      "[iter 200] loss=15.0389 val_loss=0.0000 scale=2.0000 norm=1183818.4474\n",
      "[iter 300] loss=14.7830 val_loss=0.0000 scale=2.0000 norm=1090339.2351\n",
      "[iter 400] loss=14.6856 val_loss=0.0000 scale=1.0000 norm=529360.5966\n"
     ]
    },
    {
     "name": "stderr",
     "output_type": "stream",
     "text": [
      "\r",
      "Feature combinations: 411it [5:10:20, 47.62s/it]"
     ]
    },
    {
     "name": "stdout",
     "output_type": "stream",
     "text": [
      "Using features: ['Prec(mm)', 'Local Atmospheric Pressure(hPa)', 'sunshine(hr)', 'month', 'Temp(C)', 'Solar_Radiation(MJ/m2)', 'Wind_speed(m/s)']\n",
      "[iter 0] loss=16.4519 val_loss=0.0000 scale=1.0000 norm=2963398.9849\n",
      "[iter 100] loss=15.5637 val_loss=0.0000 scale=2.0000 norm=1749238.1531\n",
      "[iter 200] loss=15.0574 val_loss=0.0000 scale=2.0000 norm=1233968.0236\n",
      "[iter 300] loss=14.8131 val_loss=0.0000 scale=2.0000 norm=1160769.8964\n",
      "[iter 400] loss=14.7242 val_loss=0.0000 scale=1.0000 norm=570878.7551\n"
     ]
    },
    {
     "name": "stderr",
     "output_type": "stream",
     "text": [
      "\r",
      "Feature combinations: 412it [5:11:09, 48.23s/it]"
     ]
    },
    {
     "name": "stdout",
     "output_type": "stream",
     "text": [
      "Using features: ['Prec(mm)', 'Local Atmospheric Pressure(hPa)', 'sunshine(hr)', 'hour', 'Temp(C)', 'Solar_Radiation(MJ/m2)', 'Wind_speed(m/s)']\n",
      "[iter 0] loss=16.4519 val_loss=0.0000 scale=1.0000 norm=2963398.9849\n",
      "[iter 100] loss=15.5661 val_loss=0.0000 scale=2.0000 norm=1751351.7378\n",
      "[iter 200] loss=15.0257 val_loss=0.0000 scale=2.0000 norm=1159187.8379\n",
      "[iter 300] loss=14.7560 val_loss=0.0000 scale=2.0000 norm=1080343.9114\n",
      "[iter 400] loss=14.6480 val_loss=0.0000 scale=2.0000 norm=1057022.0626\n"
     ]
    },
    {
     "name": "stderr",
     "output_type": "stream",
     "text": [
      "\r",
      "Feature combinations: 413it [5:11:59, 48.58s/it]"
     ]
    },
    {
     "name": "stdout",
     "output_type": "stream",
     "text": [
      "Using features: ['Prec(mm)', 'Local Atmospheric Pressure(hPa)', 'Snowfall(cm)', 'Cloud_Cover(1/10)', 'Temp(C)', 'Solar_Radiation(MJ/m2)', 'Wind_speed(m/s)']\n",
      "[iter 0] loss=16.4519 val_loss=0.0000 scale=1.0000 norm=2963398.9849\n",
      "[iter 100] loss=15.5684 val_loss=0.0000 scale=2.0000 norm=1761599.0123\n",
      "[iter 200] loss=15.0617 val_loss=0.0000 scale=2.0000 norm=1230678.7986\n",
      "[iter 300] loss=14.8181 val_loss=0.0000 scale=2.0000 norm=1158223.3754\n",
      "[iter 400] loss=14.7228 val_loss=0.0000 scale=1.0000 norm=569630.3867\n"
     ]
    },
    {
     "name": "stderr",
     "output_type": "stream",
     "text": [
      "\r",
      "Feature combinations: 414it [5:12:46, 48.09s/it]"
     ]
    },
    {
     "name": "stdout",
     "output_type": "stream",
     "text": [
      "Using features: ['Prec(mm)', 'Local Atmospheric Pressure(hPa)', 'Snowfall(cm)', 'Visibility(10m)', 'Temp(C)', 'Solar_Radiation(MJ/m2)', 'Wind_speed(m/s)']\n",
      "[iter 0] loss=16.4519 val_loss=0.0000 scale=1.0000 norm=2963398.9849\n",
      "[iter 100] loss=15.5667 val_loss=0.0000 scale=2.0000 norm=1762653.6024\n",
      "[iter 200] loss=15.0700 val_loss=0.0000 scale=2.0000 norm=1244627.3482\n",
      "[iter 300] loss=14.8357 val_loss=0.0000 scale=2.0000 norm=1175009.3001\n",
      "[iter 400] loss=14.7410 val_loss=0.0000 scale=1.0000 norm=577503.1089\n"
     ]
    },
    {
     "name": "stderr",
     "output_type": "stream",
     "text": [
      "\r",
      "Feature combinations: 415it [5:13:36, 48.92s/it]"
     ]
    },
    {
     "name": "stdout",
     "output_type": "stream",
     "text": [
      "Using features: ['Prec(mm)', 'Local Atmospheric Pressure(hPa)', 'Snowfall(cm)', 'year', 'Temp(C)', 'Solar_Radiation(MJ/m2)', 'Wind_speed(m/s)']\n",
      "[iter 0] loss=16.4519 val_loss=0.0000 scale=1.0000 norm=2963398.9849\n",
      "[iter 100] loss=15.5702 val_loss=0.0000 scale=2.0000 norm=1764978.8393\n",
      "[iter 200] loss=15.0458 val_loss=0.0000 scale=2.0000 norm=1185572.7357\n",
      "[iter 300] loss=14.7974 val_loss=0.0000 scale=2.0000 norm=1086744.2103\n",
      "[iter 400] loss=14.7126 val_loss=0.0000 scale=1.0000 norm=529367.5088\n"
     ]
    },
    {
     "name": "stderr",
     "output_type": "stream",
     "text": [
      "\r",
      "Feature combinations: 416it [5:14:25, 48.79s/it]"
     ]
    },
    {
     "name": "stdout",
     "output_type": "stream",
     "text": [
      "Using features: ['Prec(mm)', 'Local Atmospheric Pressure(hPa)', 'Snowfall(cm)', 'month', 'Temp(C)', 'Solar_Radiation(MJ/m2)', 'Wind_speed(m/s)']\n",
      "[iter 0] loss=16.4519 val_loss=0.0000 scale=1.0000 norm=2963398.9849\n",
      "[iter 100] loss=15.5632 val_loss=0.0000 scale=2.0000 norm=1754478.0929\n",
      "[iter 200] loss=15.0638 val_loss=0.0000 scale=2.0000 norm=1234835.9061\n",
      "[iter 300] loss=14.8291 val_loss=0.0000 scale=2.0000 norm=1156431.3464\n",
      "[iter 400] loss=14.7459 val_loss=0.0000 scale=1.0000 norm=568536.2682\n"
     ]
    },
    {
     "name": "stderr",
     "output_type": "stream",
     "text": [
      "\r",
      "Feature combinations: 417it [5:15:14, 49.01s/it]"
     ]
    },
    {
     "name": "stdout",
     "output_type": "stream",
     "text": [
      "Using features: ['Prec(mm)', 'Local Atmospheric Pressure(hPa)', 'Snowfall(cm)', 'hour', 'Temp(C)', 'Solar_Radiation(MJ/m2)', 'Wind_speed(m/s)']\n",
      "[iter 0] loss=16.4519 val_loss=0.0000 scale=1.0000 norm=2963398.9849\n",
      "[iter 100] loss=15.5662 val_loss=0.0000 scale=2.0000 norm=1760644.3687\n",
      "[iter 200] loss=15.0438 val_loss=0.0000 scale=2.0000 norm=1195398.0137\n",
      "[iter 300] loss=14.7901 val_loss=0.0000 scale=2.0000 norm=1115003.3960\n",
      "[iter 400] loss=14.6955 val_loss=0.0000 scale=2.0000 norm=1093069.4546\n"
     ]
    },
    {
     "name": "stderr",
     "output_type": "stream",
     "text": [
      "\r",
      "Feature combinations: 418it [5:16:08, 50.32s/it]"
     ]
    },
    {
     "name": "stdout",
     "output_type": "stream",
     "text": [
      "Using features: ['Prec(mm)', 'Local Atmospheric Pressure(hPa)', 'Cloud_Cover(1/10)', 'Visibility(10m)', 'Temp(C)', 'Solar_Radiation(MJ/m2)', 'Wind_speed(m/s)']\n",
      "[iter 0] loss=16.4519 val_loss=0.0000 scale=1.0000 norm=2963398.9849\n",
      "[iter 100] loss=15.5694 val_loss=0.0000 scale=2.0000 norm=1759051.2926\n",
      "[iter 200] loss=15.0673 val_loss=0.0000 scale=2.0000 norm=1236019.1987\n",
      "[iter 300] loss=14.8255 val_loss=0.0000 scale=2.0000 norm=1168242.2851\n",
      "[iter 400] loss=14.7304 val_loss=0.0000 scale=1.0000 norm=574575.0972\n"
     ]
    },
    {
     "name": "stderr",
     "output_type": "stream",
     "text": [
      "\r",
      "Feature combinations: 419it [5:16:59, 50.48s/it]"
     ]
    },
    {
     "name": "stdout",
     "output_type": "stream",
     "text": [
      "Using features: ['Prec(mm)', 'Local Atmospheric Pressure(hPa)', 'Cloud_Cover(1/10)', 'year', 'Temp(C)', 'Solar_Radiation(MJ/m2)', 'Wind_speed(m/s)']\n",
      "[iter 0] loss=16.4519 val_loss=0.0000 scale=1.0000 norm=2963398.9849\n",
      "[iter 100] loss=15.5665 val_loss=0.0000 scale=2.0000 norm=1752045.3354\n",
      "[iter 200] loss=15.0409 val_loss=0.0000 scale=2.0000 norm=1180533.8178\n",
      "[iter 300] loss=14.7855 val_loss=0.0000 scale=2.0000 norm=1086709.7489\n",
      "[iter 400] loss=14.6990 val_loss=0.0000 scale=1.0000 norm=531190.8077\n"
     ]
    },
    {
     "name": "stderr",
     "output_type": "stream",
     "text": [
      "\r",
      "Feature combinations: 420it [5:17:45, 49.17s/it]"
     ]
    },
    {
     "name": "stdout",
     "output_type": "stream",
     "text": [
      "Using features: ['Prec(mm)', 'Local Atmospheric Pressure(hPa)', 'Cloud_Cover(1/10)', 'month', 'Temp(C)', 'Solar_Radiation(MJ/m2)', 'Wind_speed(m/s)']\n",
      "[iter 0] loss=16.4519 val_loss=0.0000 scale=1.0000 norm=2963398.9849\n",
      "[iter 100] loss=15.5658 val_loss=0.0000 scale=2.0000 norm=1751445.0763\n"
     ]
    }
   ],
   "source": [
    "from tqdm import tqdm\n",
    "from itertools import combinations\n",
    "\n",
    "from itertools import chain\n",
    "\n",
    "results = []\n",
    "\n",
    "all_combinations = chain.from_iterable(combinations(combinatorial_features, r) for r in range(1, len(combinatorial_features) + 1))\n",
    "\n",
    "for subset in tqdm(all_combinations, desc=\"Feature combinations\"):\n",
    "    used_features = list(subset) + mandatory_features\n",
    "    print(f\"Using features: {used_features}\")\n",
    "\n",
    "    X_train_subset = X_train[used_features]\n",
    "    X_test_subset = X_test[used_features]\n",
    "\n",
    "    ngb = NGBRegressor()\n",
    "    ngb.fit(X_train_subset, y_train)\n",
    "    y_preds = ngb.predict(X_test_subset)\n",
    "\n",
    "    mae, mse, rmse, r2 = evaluate(y_test, y_preds)\n",
    "    results.append({\n",
    "        'features': used_features,\n",
    "        'mae': mae,\n",
    "        'mse': mse,\n",
    "        'rmse': rmse,\n",
    "        'r2': r2\n",
    "    })\n",
    "\n",
    "# 결과를 DataFrame으로 변환하여 보기 좋게 출력\n",
    "results_df = pd.DataFrame(results)\n",
    "print(results_df.sort_values(by=\"mae\"))  # MAE 기준으로 정렬하여 출력\n",
    "results_df.to_csv('results.csv', index=False)"
   ]
  },
  {
   "cell_type": "code",
   "execution_count": null,
   "id": "45a265c1",
   "metadata": {},
   "outputs": [],
   "source": []
  }
 ],
 "metadata": {
  "kernelspec": {
   "display_name": "Python 3 (ipykernel)",
   "language": "python",
   "name": "python3"
  },
  "language_info": {
   "codemirror_mode": {
    "name": "ipython",
    "version": 3
   },
   "file_extension": ".py",
   "mimetype": "text/x-python",
   "name": "python",
   "nbconvert_exporter": "python",
   "pygments_lexer": "ipython3",
   "version": "3.11.3"
  }
 },
 "nbformat": 4,
 "nbformat_minor": 5
}
