{
 "cells": [
  {
   "cell_type": "code",
   "execution_count": 4,
   "id": "67145206",
   "metadata": {},
   "outputs": [],
   "source": [
    "#미세먼지\n",
    "import pandas as pd\n",
    "import os\n",
    "\n",
    "pd.set_option('display.max_rows', None)\n",
    "pd.set_option('display.max_columns', None)"
   ]
  },
  {
   "cell_type": "code",
   "execution_count": 19,
   "id": "11d06ea0",
   "metadata": {},
   "outputs": [
    {
     "data": {
      "text/plain": [
       "83780"
      ]
     },
     "execution_count": 19,
     "metadata": {},
     "output_type": "execute_result"
    }
   ],
   "source": [
    "with open('combined_dust.csv', 'r') as f:\n",
    "    dust = pd.read_csv(f)\n",
    "len(dust)"
   ]
  },
  {
   "cell_type": "code",
   "execution_count": 20,
   "id": "cc9c36b0",
   "metadata": {},
   "outputs": [
    {
     "data": {
      "text/html": [
       "<div>\n",
       "<style scoped>\n",
       "    .dataframe tbody tr th:only-of-type {\n",
       "        vertical-align: middle;\n",
       "    }\n",
       "\n",
       "    .dataframe tbody tr th {\n",
       "        vertical-align: top;\n",
       "    }\n",
       "\n",
       "    .dataframe thead th {\n",
       "        text-align: right;\n",
       "    }\n",
       "</style>\n",
       "<table border=\"1\" class=\"dataframe\">\n",
       "  <thead>\n",
       "    <tr style=\"text-align: right;\">\n",
       "      <th></th>\n",
       "      <th>시간</th>\n",
       "      <th>지점</th>\n",
       "      <th>1시간평균 미세먼지농도(㎍/㎥)</th>\n",
       "    </tr>\n",
       "  </thead>\n",
       "  <tbody>\n",
       "    <tr>\n",
       "      <th>0</th>\n",
       "      <td>2013-03-19 01:00:00</td>\n",
       "      <td>156</td>\n",
       "      <td>80.0</td>\n",
       "    </tr>\n",
       "    <tr>\n",
       "      <th>1</th>\n",
       "      <td>2013-03-19 02:00:00</td>\n",
       "      <td>156</td>\n",
       "      <td>89.0</td>\n",
       "    </tr>\n",
       "    <tr>\n",
       "      <th>2</th>\n",
       "      <td>2013-03-19 03:00:00</td>\n",
       "      <td>156</td>\n",
       "      <td>79.0</td>\n",
       "    </tr>\n",
       "    <tr>\n",
       "      <th>3</th>\n",
       "      <td>2013-03-19 04:00:00</td>\n",
       "      <td>156</td>\n",
       "      <td>80.0</td>\n",
       "    </tr>\n",
       "    <tr>\n",
       "      <th>4</th>\n",
       "      <td>2013-03-19 05:00:00</td>\n",
       "      <td>156</td>\n",
       "      <td>89.0</td>\n",
       "    </tr>\n",
       "  </tbody>\n",
       "</table>\n",
       "</div>"
      ],
      "text/plain": [
       "                    시간   지점  1시간평균 미세먼지농도(㎍/㎥)\n",
       "0  2013-03-19 01:00:00  156               80.0\n",
       "1  2013-03-19 02:00:00  156               89.0\n",
       "2  2013-03-19 03:00:00  156               79.0\n",
       "3  2013-03-19 04:00:00  156               80.0\n",
       "4  2013-03-19 05:00:00  156               89.0"
      ]
     },
     "execution_count": 20,
     "metadata": {},
     "output_type": "execute_result"
    }
   ],
   "source": [
    "dust.head()"
   ]
  },
  {
   "cell_type": "code",
   "execution_count": 21,
   "id": "32a62b40",
   "metadata": {},
   "outputs": [
    {
     "name": "stdout",
     "output_type": "stream",
     "text": [
      "DatetimeIndex(['2013-04-04 07:00:00', '2013-04-04 09:00:00',\n",
      "               '2013-04-04 10:00:00', '2013-04-04 11:00:00',\n",
      "               '2013-04-04 12:00:00', '2013-04-04 13:00:00',\n",
      "               '2013-04-04 14:00:00', '2013-04-24 06:00:00',\n",
      "               '2013-04-24 08:00:00', '2013-04-24 09:00:00',\n",
      "               ...\n",
      "               '2022-08-03 17:00:00', '2022-08-03 18:00:00',\n",
      "               '2022-10-04 08:00:00', '2022-10-04 09:00:00',\n",
      "               '2022-10-04 10:00:00', '2022-10-04 11:00:00',\n",
      "               '2022-10-04 12:00:00', '2022-10-04 13:00:00',\n",
      "               '2022-11-03 14:00:00', '2022-12-20 18:00:00'],\n",
      "              dtype='datetime64[ns]', length=2020, freq=None)\n",
      "2020\n"
     ]
    }
   ],
   "source": [
    "import pandas as pd\n",
    "\n",
    "# '시간' 칼럼을 datetime 유형으로 변환\n",
    "dust['시간'] = pd.to_datetime(dust['시간'])\n",
    "\n",
    "# 2013년부터 2022년까지의 완전한 날짜 및 시간 범위 생성\n",
    "full_date_range = pd.date_range(start='2013-03-19 01:00', end='2022-12-31 23:00', freq='H')\n",
    "\n",
    "# 누락된 날짜 및 시간 찾기\n",
    "missing_dates = full_date_range[~full_date_range.isin(dust['시간'])]\n",
    "\n",
    "print(missing_dates)\n",
    "print(len(missing_dates))"
   ]
  },
  {
   "cell_type": "code",
   "execution_count": 22,
   "id": "6bae1fa2",
   "metadata": {},
   "outputs": [
    {
     "name": "stdout",
     "output_type": "stream",
     "text": [
      "       index         시간   지점  1시간평균 미세먼지농도(㎍/㎥)\n",
      "32215  32215 2017-01-01  156               44.0\n"
     ]
    }
   ],
   "source": [
    "dust.reset_index(inplace=True)\n",
    "duplicated_times = dust[dust['시간'].duplicated()]\n",
    "print(duplicated_times)"
   ]
  },
  {
   "cell_type": "code",
   "execution_count": 23,
   "id": "33191fac",
   "metadata": {},
   "outputs": [
    {
     "name": "stdout",
     "output_type": "stream",
     "text": [
      "       index                  시간   지점  1시간평균 미세먼지농도(㎍/㎥)\n",
      "32214  32214 2017-01-01 00:00:00  156               44.0\n",
      "32215  32215 2017-01-01 00:00:00  156               44.0\n",
      "32216  32216 2017-01-01 01:00:00  156               56.0\n"
     ]
    }
   ],
   "source": [
    "index_to_check = 32215\n",
    "rows_around_duplicated = dust.iloc[index_to_check-1:index_to_check+2]\n",
    "print(rows_around_duplicated)"
   ]
  },
  {
   "cell_type": "code",
   "execution_count": 24,
   "id": "3f3f4683",
   "metadata": {},
   "outputs": [
    {
     "name": "stdout",
     "output_type": "stream",
     "text": [
      "Empty DataFrame\n",
      "Columns: [index, 시간, 지점, 1시간평균 미세먼지농도(㎍/㎥)]\n",
      "Index: []\n"
     ]
    }
   ],
   "source": [
    "# 중복된 행 제거\n",
    "dust.drop(32215, inplace=True)\n",
    "\n",
    "# 다시 중복된 '시간' 값이 있는지 확인\n",
    "duplicated_times = dust[dust['시간'].duplicated()]\n",
    "print(duplicated_times)"
   ]
  },
  {
   "cell_type": "code",
   "execution_count": 25,
   "id": "35452c7d",
   "metadata": {},
   "outputs": [
    {
     "data": {
      "text/html": [
       "<div>\n",
       "<style scoped>\n",
       "    .dataframe tbody tr th:only-of-type {\n",
       "        vertical-align: middle;\n",
       "    }\n",
       "\n",
       "    .dataframe tbody tr th {\n",
       "        vertical-align: top;\n",
       "    }\n",
       "\n",
       "    .dataframe thead th {\n",
       "        text-align: right;\n",
       "    }\n",
       "</style>\n",
       "<table border=\"1\" class=\"dataframe\">\n",
       "  <thead>\n",
       "    <tr style=\"text-align: right;\">\n",
       "      <th></th>\n",
       "      <th>시간</th>\n",
       "      <th>index</th>\n",
       "      <th>지점</th>\n",
       "      <th>1시간평균 미세먼지농도(㎍/㎥)</th>\n",
       "    </tr>\n",
       "  </thead>\n",
       "  <tbody>\n",
       "    <tr>\n",
       "      <th>0</th>\n",
       "      <td>2013-03-19 01:00:00</td>\n",
       "      <td>0.0</td>\n",
       "      <td>156.0</td>\n",
       "      <td>80.0</td>\n",
       "    </tr>\n",
       "    <tr>\n",
       "      <th>1</th>\n",
       "      <td>2013-03-19 02:00:00</td>\n",
       "      <td>1.0</td>\n",
       "      <td>156.0</td>\n",
       "      <td>89.0</td>\n",
       "    </tr>\n",
       "    <tr>\n",
       "      <th>2</th>\n",
       "      <td>2013-03-19 03:00:00</td>\n",
       "      <td>2.0</td>\n",
       "      <td>156.0</td>\n",
       "      <td>79.0</td>\n",
       "    </tr>\n",
       "    <tr>\n",
       "      <th>3</th>\n",
       "      <td>2013-03-19 04:00:00</td>\n",
       "      <td>3.0</td>\n",
       "      <td>156.0</td>\n",
       "      <td>80.0</td>\n",
       "    </tr>\n",
       "    <tr>\n",
       "      <th>4</th>\n",
       "      <td>2013-03-19 05:00:00</td>\n",
       "      <td>4.0</td>\n",
       "      <td>156.0</td>\n",
       "      <td>89.0</td>\n",
       "    </tr>\n",
       "  </tbody>\n",
       "</table>\n",
       "</div>"
      ],
      "text/plain": [
       "                   시간  index     지점  1시간평균 미세먼지농도(㎍/㎥)\n",
       "0 2013-03-19 01:00:00    0.0  156.0               80.0\n",
       "1 2013-03-19 02:00:00    1.0  156.0               89.0\n",
       "2 2013-03-19 03:00:00    2.0  156.0               79.0\n",
       "3 2013-03-19 04:00:00    3.0  156.0               80.0\n",
       "4 2013-03-19 05:00:00    4.0  156.0               89.0"
      ]
     },
     "execution_count": 25,
     "metadata": {},
     "output_type": "execute_result"
    }
   ],
   "source": [
    "# '시간' 열을 인덱스로 설정합니다.\n",
    "dust.set_index('시간', inplace=True)\n",
    "\n",
    "# 전체 날짜 및 시간 범위 생성\n",
    "full_date_range = pd.date_range(start='2013-03-19 01:00', end='2022-12-31 23:00', freq='H')\n",
    "\n",
    "# 새로운 인덱스를 사용하여 데이터프레임을 다시 인덱싱\n",
    "dust = dust.reindex(full_date_range)\n",
    "\n",
    "# 인덱스 이름 재설정\n",
    "dust.index.name = '시간'\n",
    "\n",
    "# 인덱스를 다시 열로 변경\n",
    "dust.reset_index(inplace=True)\n",
    "dust.head()"
   ]
  },
  {
   "cell_type": "code",
   "execution_count": 29,
   "id": "a6c948ad",
   "metadata": {},
   "outputs": [
    {
     "data": {
      "text/plain": [
       "85799"
      ]
     },
     "execution_count": 29,
     "metadata": {},
     "output_type": "execute_result"
    }
   ],
   "source": [
    "len(dust)"
   ]
  },
  {
   "cell_type": "code",
   "execution_count": null,
   "id": "26eeca25",
   "metadata": {},
   "outputs": [],
   "source": [
    "# '시간' 열을 인덱스로 설정합니다.\n",
    "dust.set_index('시간', inplace=True)\n",
    "\n",
    "# 시간 기반으로 보간을 진행합니다.\n",
    "dust.interpolate(method='time', inplace=True)\n",
    "\n",
    "# 보간 후 누락된 값이 있는지 확인합니다.\n",
    "missing_values_after_interpolation = dust[dust['1시간평균 미세먼지농도(㎍/㎥)'].isna()]\n",
    "print(missing_values_after_interpolation)"
   ]
  },
  {
   "cell_type": "code",
   "execution_count": 30,
   "id": "0593931c",
   "metadata": {},
   "outputs": [],
   "source": [
    "# '시간' 인덱스를 다시 열로 설정\n",
    "dust.reset_index(inplace=True)\n",
    "\n",
    "# '시간' 칼럼을 복사하여 '시간_복사' 칼럼에 저장\n",
    "dust['시간_복사'] = dust['시간']\n",
    "\n",
    "# 다시 '시간' 열을 DatetimeIndex로 설정\n",
    "dust.set_index('시간', inplace=True)\n",
    "\n",
    "# 보간 전 누락된 값의 인덱스를 저장합니다.\n",
    "missing_indices_before = dust[dust['1시간평균 미세먼지농도(㎍/㎥)'].isna()].index\n",
    "\n",
    "# 시간 기반으로 '1시간평균 미세먼지농도(㎍/㎥)' 시리즈만 보간합니다.\n",
    "dust['1시간평균 미세먼지농도(㎍/㎥)'] = dust['1시간평균 미세먼지농도(㎍/㎥)'].interpolate(method='time')\n"
   ]
  },
  {
   "cell_type": "code",
   "execution_count": 31,
   "id": "2dc403cc",
   "metadata": {},
   "outputs": [
    {
     "data": {
      "text/html": [
       "<div>\n",
       "<style scoped>\n",
       "    .dataframe tbody tr th:only-of-type {\n",
       "        vertical-align: middle;\n",
       "    }\n",
       "\n",
       "    .dataframe tbody tr th {\n",
       "        vertical-align: top;\n",
       "    }\n",
       "\n",
       "    .dataframe thead th {\n",
       "        text-align: right;\n",
       "    }\n",
       "</style>\n",
       "<table border=\"1\" class=\"dataframe\">\n",
       "  <thead>\n",
       "    <tr style=\"text-align: right;\">\n",
       "      <th></th>\n",
       "      <th>index</th>\n",
       "      <th>지점</th>\n",
       "      <th>1시간평균 미세먼지농도(㎍/㎥)</th>\n",
       "      <th>시간_복사</th>\n",
       "    </tr>\n",
       "    <tr>\n",
       "      <th>시간</th>\n",
       "      <th></th>\n",
       "      <th></th>\n",
       "      <th></th>\n",
       "      <th></th>\n",
       "    </tr>\n",
       "  </thead>\n",
       "  <tbody>\n",
       "    <tr>\n",
       "      <th>2013-03-19 01:00:00</th>\n",
       "      <td>0.0</td>\n",
       "      <td>156.0</td>\n",
       "      <td>80.0</td>\n",
       "      <td>2013-03-19 01:00:00</td>\n",
       "    </tr>\n",
       "    <tr>\n",
       "      <th>2013-03-19 02:00:00</th>\n",
       "      <td>1.0</td>\n",
       "      <td>156.0</td>\n",
       "      <td>89.0</td>\n",
       "      <td>2013-03-19 02:00:00</td>\n",
       "    </tr>\n",
       "    <tr>\n",
       "      <th>2013-03-19 03:00:00</th>\n",
       "      <td>2.0</td>\n",
       "      <td>156.0</td>\n",
       "      <td>79.0</td>\n",
       "      <td>2013-03-19 03:00:00</td>\n",
       "    </tr>\n",
       "    <tr>\n",
       "      <th>2013-03-19 04:00:00</th>\n",
       "      <td>3.0</td>\n",
       "      <td>156.0</td>\n",
       "      <td>80.0</td>\n",
       "      <td>2013-03-19 04:00:00</td>\n",
       "    </tr>\n",
       "    <tr>\n",
       "      <th>2013-03-19 05:00:00</th>\n",
       "      <td>4.0</td>\n",
       "      <td>156.0</td>\n",
       "      <td>89.0</td>\n",
       "      <td>2013-03-19 05:00:00</td>\n",
       "    </tr>\n",
       "  </tbody>\n",
       "</table>\n",
       "</div>"
      ],
      "text/plain": [
       "                     index     지점  1시간평균 미세먼지농도(㎍/㎥)               시간_복사\n",
       "시간                                                                      \n",
       "2013-03-19 01:00:00    0.0  156.0               80.0 2013-03-19 01:00:00\n",
       "2013-03-19 02:00:00    1.0  156.0               89.0 2013-03-19 02:00:00\n",
       "2013-03-19 03:00:00    2.0  156.0               79.0 2013-03-19 03:00:00\n",
       "2013-03-19 04:00:00    3.0  156.0               80.0 2013-03-19 04:00:00\n",
       "2013-03-19 05:00:00    4.0  156.0               89.0 2013-03-19 05:00:00"
      ]
     },
     "execution_count": 31,
     "metadata": {},
     "output_type": "execute_result"
    }
   ],
   "source": [
    "dust.head()"
   ]
  },
  {
   "cell_type": "code",
   "execution_count": 15,
   "id": "c14f64d7",
   "metadata": {},
   "outputs": [
    {
     "name": "stdout",
     "output_type": "stream",
     "text": [
      "시간\n",
      "2013-04-04 06:00:00    62.727273\n",
      "2013-04-04 07:00:00    61.454545\n",
      "2013-04-04 08:00:00    60.181818\n",
      "Name: 1시간평균 미세먼지농도(㎍/㎥), dtype: float64\n",
      "--------------------------------------------------\n",
      "시간\n",
      "2013-04-04 08:00:00    60.181818\n",
      "2013-04-04 09:00:00    58.909091\n",
      "2013-04-04 10:00:00    57.636364\n",
      "Name: 1시간평균 미세먼지농도(㎍/㎥), dtype: float64\n",
      "--------------------------------------------------\n",
      "시간\n",
      "2013-04-04 09:00:00    58.909091\n",
      "2013-04-04 10:00:00    57.636364\n",
      "2013-04-04 11:00:00    56.363636\n",
      "Name: 1시간평균 미세먼지농도(㎍/㎥), dtype: float64\n",
      "--------------------------------------------------\n",
      "시간\n",
      "2013-04-04 10:00:00    57.636364\n",
      "2013-04-04 11:00:00    56.363636\n",
      "2013-04-04 12:00:00    55.090909\n",
      "Name: 1시간평균 미세먼지농도(㎍/㎥), dtype: float64\n",
      "--------------------------------------------------\n",
      "시간\n",
      "2013-04-04 11:00:00    56.363636\n",
      "2013-04-04 12:00:00    55.090909\n",
      "2013-04-04 13:00:00    53.818182\n",
      "Name: 1시간평균 미세먼지농도(㎍/㎥), dtype: float64\n",
      "--------------------------------------------------\n",
      "시간\n",
      "2013-04-04 12:00:00    55.090909\n",
      "2013-04-04 13:00:00    53.818182\n",
      "2013-04-04 14:00:00    52.545455\n",
      "Name: 1시간평균 미세먼지농도(㎍/㎥), dtype: float64\n",
      "--------------------------------------------------\n",
      "시간\n",
      "2013-04-04 13:00:00    53.818182\n",
      "2013-04-04 14:00:00    52.545455\n",
      "2013-04-04 15:00:00    51.272727\n",
      "Name: 1시간평균 미세먼지농도(㎍/㎥), dtype: float64\n",
      "--------------------------------------------------\n",
      "시간\n",
      "2013-04-24 05:00:00    16.000000\n",
      "2013-04-24 06:00:00    17.666667\n",
      "2013-04-24 07:00:00    19.333333\n",
      "Name: 1시간평균 미세먼지농도(㎍/㎥), dtype: float64\n",
      "--------------------------------------------------\n",
      "시간\n",
      "2013-04-24 07:00:00    19.333333\n",
      "2013-04-24 08:00:00    21.000000\n",
      "2013-04-24 09:00:00    22.666667\n",
      "Name: 1시간평균 미세먼지농도(㎍/㎥), dtype: float64\n",
      "--------------------------------------------------\n",
      "시간\n",
      "2013-04-24 08:00:00    21.000000\n",
      "2013-04-24 09:00:00    22.666667\n",
      "2013-04-24 10:00:00    24.333333\n",
      "Name: 1시간평균 미세먼지농도(㎍/㎥), dtype: float64\n",
      "--------------------------------------------------\n"
     ]
    }
   ],
   "source": [
    "for idx in missing_indices_before[:10]:\n",
    "    surrounding_data = dust.loc[idx-pd.Timedelta(hours=1):idx+pd.Timedelta(hours=1), '1시간평균 미세먼지농도(㎍/㎥)']\n",
    "    print(surrounding_data)\n",
    "    print('-' * 50)  # 구분선 추가"
   ]
  },
  {
   "cell_type": "code",
   "execution_count": 32,
   "id": "73e8f62b",
   "metadata": {},
   "outputs": [
    {
     "data": {
      "text/html": [
       "<div>\n",
       "<style scoped>\n",
       "    .dataframe tbody tr th:only-of-type {\n",
       "        vertical-align: middle;\n",
       "    }\n",
       "\n",
       "    .dataframe tbody tr th {\n",
       "        vertical-align: top;\n",
       "    }\n",
       "\n",
       "    .dataframe thead th {\n",
       "        text-align: right;\n",
       "    }\n",
       "</style>\n",
       "<table border=\"1\" class=\"dataframe\">\n",
       "  <thead>\n",
       "    <tr style=\"text-align: right;\">\n",
       "      <th></th>\n",
       "      <th>1시간평균 미세먼지농도(㎍/㎥)</th>\n",
       "      <th>시간_복사</th>\n",
       "    </tr>\n",
       "    <tr>\n",
       "      <th>시간</th>\n",
       "      <th></th>\n",
       "      <th></th>\n",
       "    </tr>\n",
       "  </thead>\n",
       "  <tbody>\n",
       "    <tr>\n",
       "      <th>2013-03-19 01:00:00</th>\n",
       "      <td>80.0</td>\n",
       "      <td>2013-03-19 01:00:00</td>\n",
       "    </tr>\n",
       "    <tr>\n",
       "      <th>2013-03-19 02:00:00</th>\n",
       "      <td>89.0</td>\n",
       "      <td>2013-03-19 02:00:00</td>\n",
       "    </tr>\n",
       "    <tr>\n",
       "      <th>2013-03-19 03:00:00</th>\n",
       "      <td>79.0</td>\n",
       "      <td>2013-03-19 03:00:00</td>\n",
       "    </tr>\n",
       "    <tr>\n",
       "      <th>2013-03-19 04:00:00</th>\n",
       "      <td>80.0</td>\n",
       "      <td>2013-03-19 04:00:00</td>\n",
       "    </tr>\n",
       "    <tr>\n",
       "      <th>2013-03-19 05:00:00</th>\n",
       "      <td>89.0</td>\n",
       "      <td>2013-03-19 05:00:00</td>\n",
       "    </tr>\n",
       "  </tbody>\n",
       "</table>\n",
       "</div>"
      ],
      "text/plain": [
       "                     1시간평균 미세먼지농도(㎍/㎥)               시간_복사\n",
       "시간                                                        \n",
       "2013-03-19 01:00:00               80.0 2013-03-19 01:00:00\n",
       "2013-03-19 02:00:00               89.0 2013-03-19 02:00:00\n",
       "2013-03-19 03:00:00               79.0 2013-03-19 03:00:00\n",
       "2013-03-19 04:00:00               80.0 2013-03-19 04:00:00\n",
       "2013-03-19 05:00:00               89.0 2013-03-19 05:00:00"
      ]
     },
     "execution_count": 32,
     "metadata": {},
     "output_type": "execute_result"
    }
   ],
   "source": [
    "dust = dust.drop(columns=['index', '지점'])\n",
    "dust.head()"
   ]
  },
  {
   "cell_type": "code",
   "execution_count": 33,
   "id": "44aa0051",
   "metadata": {},
   "outputs": [],
   "source": [
    "dust.to_csv('dust.csv', index=False, encoding='cp949')"
   ]
  },
  {
   "cell_type": "code",
   "execution_count": 34,
   "id": "837bf3fa",
   "metadata": {},
   "outputs": [
    {
     "data": {
      "text/plain": [
       "85799"
      ]
     },
     "execution_count": 34,
     "metadata": {},
     "output_type": "execute_result"
    }
   ],
   "source": [
    "with open('dust.csv', 'r') as f:\n",
    "    dust_new = pd.read_csv(f)\n",
    "len(dust_new)"
   ]
  },
  {
   "cell_type": "code",
   "execution_count": 39,
   "id": "6d668eb9",
   "metadata": {},
   "outputs": [
    {
     "data": {
      "text/html": [
       "<div>\n",
       "<style scoped>\n",
       "    .dataframe tbody tr th:only-of-type {\n",
       "        vertical-align: middle;\n",
       "    }\n",
       "\n",
       "    .dataframe tbody tr th {\n",
       "        vertical-align: top;\n",
       "    }\n",
       "\n",
       "    .dataframe thead th {\n",
       "        text-align: right;\n",
       "    }\n",
       "</style>\n",
       "<table border=\"1\" class=\"dataframe\">\n",
       "  <thead>\n",
       "    <tr style=\"text-align: right;\">\n",
       "      <th></th>\n",
       "      <th>aerosol</th>\n",
       "      <th>time_copy</th>\n",
       "    </tr>\n",
       "  </thead>\n",
       "  <tbody>\n",
       "    <tr>\n",
       "      <th>0</th>\n",
       "      <td>80.0</td>\n",
       "      <td>2013-03-19 01:00:00</td>\n",
       "    </tr>\n",
       "    <tr>\n",
       "      <th>1</th>\n",
       "      <td>89.0</td>\n",
       "      <td>2013-03-19 02:00:00</td>\n",
       "    </tr>\n",
       "    <tr>\n",
       "      <th>2</th>\n",
       "      <td>79.0</td>\n",
       "      <td>2013-03-19 03:00:00</td>\n",
       "    </tr>\n",
       "    <tr>\n",
       "      <th>3</th>\n",
       "      <td>80.0</td>\n",
       "      <td>2013-03-19 04:00:00</td>\n",
       "    </tr>\n",
       "    <tr>\n",
       "      <th>4</th>\n",
       "      <td>89.0</td>\n",
       "      <td>2013-03-19 05:00:00</td>\n",
       "    </tr>\n",
       "  </tbody>\n",
       "</table>\n",
       "</div>"
      ],
      "text/plain": [
       "   aerosol            time_copy\n",
       "0     80.0  2013-03-19 01:00:00\n",
       "1     89.0  2013-03-19 02:00:00\n",
       "2     79.0  2013-03-19 03:00:00\n",
       "3     80.0  2013-03-19 04:00:00\n",
       "4     89.0  2013-03-19 05:00:00"
      ]
     },
     "execution_count": 39,
     "metadata": {},
     "output_type": "execute_result"
    }
   ],
   "source": [
    "dust_new.head()"
   ]
  },
  {
   "cell_type": "code",
   "execution_count": 38,
   "id": "951ed5cb",
   "metadata": {},
   "outputs": [],
   "source": [
    "dust_new = dust_new.rename(columns={\n",
    "    '1시간평균 미세먼지농도(㎍/㎥)': 'aerosol',\n",
    "    '시간_복사': 'time_copy',\n",
    "    '시간': 'time'\n",
    "})"
   ]
  },
  {
   "cell_type": "code",
   "execution_count": 40,
   "id": "a0a77bbe",
   "metadata": {},
   "outputs": [],
   "source": [
    "dust_new.to_csv('dust.csv', index=False, encoding='cp949')"
   ]
  },
  {
   "cell_type": "code",
   "execution_count": 41,
   "id": "d015d49a",
   "metadata": {},
   "outputs": [
    {
     "data": {
      "text/html": [
       "<div>\n",
       "<style scoped>\n",
       "    .dataframe tbody tr th:only-of-type {\n",
       "        vertical-align: middle;\n",
       "    }\n",
       "\n",
       "    .dataframe tbody tr th {\n",
       "        vertical-align: top;\n",
       "    }\n",
       "\n",
       "    .dataframe thead th {\n",
       "        text-align: right;\n",
       "    }\n",
       "</style>\n",
       "<table border=\"1\" class=\"dataframe\">\n",
       "  <thead>\n",
       "    <tr style=\"text-align: right;\">\n",
       "      <th></th>\n",
       "      <th>aerosol</th>\n",
       "      <th>time_copy</th>\n",
       "    </tr>\n",
       "  </thead>\n",
       "  <tbody>\n",
       "    <tr>\n",
       "      <th>0</th>\n",
       "      <td>80.0</td>\n",
       "      <td>2013-03-19 01:00:00</td>\n",
       "    </tr>\n",
       "    <tr>\n",
       "      <th>1</th>\n",
       "      <td>89.0</td>\n",
       "      <td>2013-03-19 02:00:00</td>\n",
       "    </tr>\n",
       "    <tr>\n",
       "      <th>2</th>\n",
       "      <td>79.0</td>\n",
       "      <td>2013-03-19 03:00:00</td>\n",
       "    </tr>\n",
       "    <tr>\n",
       "      <th>3</th>\n",
       "      <td>80.0</td>\n",
       "      <td>2013-03-19 04:00:00</td>\n",
       "    </tr>\n",
       "    <tr>\n",
       "      <th>4</th>\n",
       "      <td>89.0</td>\n",
       "      <td>2013-03-19 05:00:00</td>\n",
       "    </tr>\n",
       "  </tbody>\n",
       "</table>\n",
       "</div>"
      ],
      "text/plain": [
       "   aerosol            time_copy\n",
       "0     80.0  2013-03-19 01:00:00\n",
       "1     89.0  2013-03-19 02:00:00\n",
       "2     79.0  2013-03-19 03:00:00\n",
       "3     80.0  2013-03-19 04:00:00\n",
       "4     89.0  2013-03-19 05:00:00"
      ]
     },
     "execution_count": 41,
     "metadata": {},
     "output_type": "execute_result"
    }
   ],
   "source": [
    "with open('dust.csv', 'r') as f:\n",
    "    dust_new = pd.read_csv(f)\n",
    "dust_new.head()"
   ]
  },
  {
   "cell_type": "code",
   "execution_count": null,
   "id": "ba10a47f",
   "metadata": {},
   "outputs": [],
   "source": []
  }
 ],
 "metadata": {
  "kernelspec": {
   "display_name": "Python 3 (ipykernel)",
   "language": "python",
   "name": "python3"
  },
  "language_info": {
   "codemirror_mode": {
    "name": "ipython",
    "version": 3
   },
   "file_extension": ".py",
   "mimetype": "text/x-python",
   "name": "python",
   "nbconvert_exporter": "python",
   "pygments_lexer": "ipython3",
   "version": "3.11.3"
  }
 },
 "nbformat": 4,
 "nbformat_minor": 5
}
