{
 "cells": [
  {
   "cell_type": "code",
   "execution_count": 1,
   "id": "e9765a2f",
   "metadata": {},
   "outputs": [],
   "source": [
    "import pandas as pd\n",
    "from sklearn.preprocessing import OneHotEncoder\n",
    "from scipy import sparse\n",
    "from sklearn.metrics import mean_squared_error\n",
    "import numpy as np\n",
    "from sklearn.model_selection import TimeSeriesSplit\n",
    "from sklearn.model_selection import GridSearchCV\n",
    "from lightgbm import LGBMRegressor\n",
    "import lightgbm as lgb\n",
    "import matplotlib.pyplot as plt\n",
    "import optuna\n",
    "from optuna.integration import XGBoostPruningCallback\n",
    "from optuna.samplers import TPESampler\n",
    "from xgboost import XGBRegressor"
   ]
  },
  {
   "cell_type": "code",
   "execution_count": 2,
   "id": "6b1d1a7c",
   "metadata": {},
   "outputs": [],
   "source": [
    "def evaluation_metric(y_true, y_pred):\n",
    "    return np.sqrt(mean_squared_error(y_true, y_pred))\n",
    "\n",
    "def nrmse(y_true, y_pred):\n",
    "    rmse_val = np.sqrt(mean_squared_error(y_true, y_pred))\n",
    "    return rmse_val / (y_true.max() - y_true.min())\n",
    "\n",
    "def test_error_percentage(score):\n",
    "    return (score/4104996.104768301) * 100\n",
    "\n",
    "def rmse(preds, dtrain):\n",
    "    labels = dtrain.get_label()\n",
    "    return 'rmse', evaluation_metric(labels, preds), True\n",
    "\n",
    "def rmse_xgboost(preds, dtrain):\n",
    "    labels = dtrain.get_label()\n",
    "    return 'rmse', evaluation_metric(labels, preds)"
   ]
  },
  {
   "cell_type": "code",
   "execution_count": 3,
   "id": "7409b18c",
   "metadata": {},
   "outputs": [],
   "source": [
    "train = pd.read_csv('train_data_nan.csv', index_col='DateTime')\n",
    "test = pd.read_csv('test_data_nan.csv', index_col = 'DateTime')\n",
    "\n",
    "train.fillna(-1, inplace=True)\n",
    "test.fillna(-1, inplace=True)\n",
    "\n",
    "all_data = pd.concat([train, test], ignore_index = True)\n",
    "all_data = all_data.drop(columns=[\"Day\", \"Year\", \"t2m\", \"power\"])\n",
    "all_data['num_missing'] = (all_data == -1).sum(axis=1)\n",
    "\n",
    "cat_features = ['CloudForm', 'GroundState(code)', 'PhenomenonNumber']\n",
    "all_data[cat_features] = all_data[cat_features].astype(str)\n",
    "onehot_encoder = OneHotEncoder()\n",
    "encoded_cat_matrix = onehot_encoder.fit_transform(all_data[cat_features])\n",
    "\n",
    "all_data_numeric = all_data.drop(columns=cat_features)\n",
    "all_data_sprs = sparse.hstack([sparse.csr_matrix(all_data_numeric),\n",
    "                               encoded_cat_matrix],\n",
    "                              format = 'csr')\n",
    "num_train = len(train)\n",
    "X = all_data_sprs[:num_train]\n",
    "X_test = all_data_sprs[num_train:]\n",
    "y = train['power'].values\n",
    "y_test = test['power'].values"
   ]
  },
  {
   "cell_type": "markdown",
   "id": "3a349030",
   "metadata": {},
   "source": [
    "# LightGBM"
   ]
  },
  {
   "cell_type": "code",
   "execution_count": 4,
   "id": "95cac205",
   "metadata": {},
   "outputs": [],
   "source": [
    "lgb_params = {'num_leaves': 17,\n",
    "             'colsample_bytree': 0.7091234824890884,\n",
    "             'reg_alpha': 0.7394476479071033,\n",
    "             'reg_lambda': 7.808480534304585,\n",
    "             'max_depth': 15,\n",
    "             'learning_rate': 0.007814528175792283,\n",
    "             'n_estimators': 2157,\n",
    "             'min_child_samples': 11,\n",
    "             'subsample': 0.7249013772087863}"
   ]
  },
  {
   "cell_type": "code",
   "execution_count": 6,
   "id": "5f618581",
   "metadata": {
    "scrolled": true
   },
   "outputs": [
    {
     "name": "stdout",
     "output_type": "stream",
     "text": [
      "[LightGBM] [Warning] Auto-choosing col-wise multi-threading, the overhead of testing was 0.001268 seconds.\n",
      "You can set `force_col_wise=true` to remove the overhead.\n",
      "[LightGBM] [Info] Total Bins 1817\n",
      "[LightGBM] [Info] Number of data points in the train set: 5791, number of used features: 46\n",
      "[LightGBM] [Info] Start training from score 4221853.220515\n",
      "new fold RMSE: 759473.7603\n",
      "new Normalized Validation RMSE: 0.0641\n",
      "[LightGBM] [Warning] Auto-choosing row-wise multi-threading, the overhead of testing was 0.000491 seconds.\n",
      "You can set `force_row_wise=true` to remove the overhead.\n",
      "And if memory is not enough, you can set `force_col_wise=true`.\n",
      "[LightGBM] [Info] Total Bins 1904\n",
      "[LightGBM] [Info] Number of data points in the train set: 11581, number of used features: 50\n",
      "[LightGBM] [Info] Start training from score 4082546.515845\n",
      "new fold RMSE: 754003.4425\n",
      "new Normalized Validation RMSE: 0.0629\n",
      "[LightGBM] [Warning] Auto-choosing row-wise multi-threading, the overhead of testing was 0.000919 seconds.\n",
      "You can set `force_row_wise=true` to remove the overhead.\n",
      "And if memory is not enough, you can set `force_col_wise=true`.\n",
      "[LightGBM] [Info] Total Bins 2194\n",
      "[LightGBM] [Info] Number of data points in the train set: 17371, number of used features: 57\n",
      "[LightGBM] [Info] Start training from score 3998058.424961\n",
      "new fold RMSE: 758766.4462\n",
      "new Normalized Validation RMSE: 0.0621\n",
      "[LightGBM] [Warning] Auto-choosing row-wise multi-threading, the overhead of testing was 0.000919 seconds.\n",
      "You can set `force_row_wise=true` to remove the overhead.\n",
      "And if memory is not enough, you can set `force_col_wise=true`.\n",
      "[LightGBM] [Info] Total Bins 2254\n",
      "[LightGBM] [Info] Number of data points in the train set: 23161, number of used features: 58\n",
      "[LightGBM] [Info] Start training from score 4059523.643193\n",
      "new fold RMSE: 958616.0486\n",
      "new Normalized Validation RMSE: 0.0775\n",
      "[LightGBM] [Warning] Auto-choosing row-wise multi-threading, the overhead of testing was 0.000894 seconds.\n",
      "You can set `force_row_wise=true` to remove the overhead.\n",
      "And if memory is not enough, you can set `force_col_wise=true`.\n",
      "[LightGBM] [Info] Total Bins 2278\n",
      "[LightGBM] [Info] Number of data points in the train set: 28951, number of used features: 59\n",
      "[LightGBM] [Info] Start training from score 4070511.633450\n",
      "new fold RMSE: 828596.9044\n",
      "new Normalized Validation RMSE: 0.0689\n"
     ]
    }
   ],
   "source": [
    "lgb_oof_val_preds = np.zeros(X.shape[0])\n",
    "lgb_oof_test_preds = np.zeros(X_test.shape[0])\n",
    "\n",
    "folds = TimeSeriesSplit(n_splits=5)\n",
    "\n",
    "for train_idx, valid_idx in folds.split(X, y) : \n",
    "    X_train, y_train = X[train_idx], y[train_idx]\n",
    "    X_valid, y_valid = X[valid_idx], y[valid_idx]\n",
    "    \n",
    "    lgb_model = LGBMRegressor(**lgb_params) #lgb.\n",
    "    lgb_model.fit(X_train, y_train, eval_set=[(X_valid, y_valid)], \n",
    "              callbacks = [lgb.early_stopping(stopping_rounds = 300, verbose = 0)])\n",
    "    \n",
    "    lgb_oof_test_preds += lgb_model.predict(X_test)/folds.n_splits\n",
    "    lgb_oof_val_preds[valid_idx] += lgb_model.predict(X_valid)\n",
    "\n",
    "    lgb_score = evaluation_metric(y_valid, lgb_oof_val_preds[valid_idx])\n",
    "    print(f\"new fold RMSE: {lgb_score:.4f}\")\n",
    "\n",
    "    lgb_nrmse_score = nrmse(y_valid, lgb_oof_val_preds[valid_idx])\n",
    "    print(f\"new Normalized Validation RMSE: {lgb_nrmse_score:.4f}\")"
   ]
  },
  {
   "cell_type": "code",
   "execution_count": 7,
   "id": "e586cfd7",
   "metadata": {},
   "outputs": [
    {
     "name": "stdout",
     "output_type": "stream",
     "text": [
      "test RMSE: 931521.0182\n",
      "test error percentage : 22.6924\n",
      "Normalized test RMSE: 0.0767\n"
     ]
    }
   ],
   "source": [
    "# RMSE로 평가\n",
    "lgb_score = evaluation_metric(y_test, lgb_oof_test_preds)\n",
    "print(f\"test RMSE: {lgb_score:.4f}\")\n",
    "print(f\"test error percentage : {test_error_percentage(lgb_score):.4f}\")\n",
    "\n",
    "lgb_nrmse_score = nrmse(y_test, lgb_oof_test_preds)\n",
    "print(f\"Normalized test RMSE: {lgb_nrmse_score:.4f}\")"
   ]
  },
  {
   "cell_type": "markdown",
   "id": "76306d3a",
   "metadata": {},
   "source": [
    "# XGBoost"
   ]
  },
  {
   "cell_type": "code",
   "execution_count": 9,
   "id": "f0fb0f1a",
   "metadata": {},
   "outputs": [],
   "source": [
    "xgb_params = {'eta': 0.9957304355968829, \n",
    "              'colsample_bynode': 0.40611009833532513, \n",
    "              'colsample_bytree': 0.9623288325539622, \n",
    "              'alpha': 0.28681293528875274, \n",
    "              'lambda': 4.94306107974444, \n",
    "              'gamma': 1, \n",
    "              'max_depth': 15, \n",
    "              'learning_rate': 0.002404371494323695, \n",
    "              'n_estimators': 3652, \n",
    "              'min_child_weight': 4, \n",
    "              'subsample': 0.5229951560076475}"
   ]
  },
  {
   "cell_type": "code",
   "execution_count": 28,
   "id": "ed9c6985",
   "metadata": {
    "scrolled": false
   },
   "outputs": [
    {
     "name": "stdout",
     "output_type": "stream",
     "text": [
      "new fold RMSE: 757966.6060\n",
      "new Normalized Validation RMSE: 0.0640\n",
      "new fold RMSE: 763810.9143\n",
      "new Normalized Validation RMSE: 0.0637\n",
      "new fold RMSE: 747215.9555\n",
      "new Normalized Validation RMSE: 0.0611\n",
      "new fold RMSE: 813800.0722\n",
      "new Normalized Validation RMSE: 0.0658\n",
      "new fold RMSE: 770906.4444\n",
      "new Normalized Validation RMSE: 0.0641\n"
     ]
    }
   ],
   "source": [
    "xgb_oof_val_preds = np.zeros(X.shape[0])\n",
    "xgb_oof_test_preds = np.zeros(X_test.shape[0])\n",
    "\n",
    "folds = TimeSeriesSplit(n_splits=5)\n",
    "\n",
    "for train_idx, valid_idx in folds.split(X, y) : \n",
    "    X_train, y_train = X[train_idx], y[train_idx]\n",
    "    X_valid, y_valid = X[valid_idx], y[valid_idx]\n",
    "    \n",
    "    xgb_model = XGBRegressor(**xgb_params) \n",
    "    xgb_model.set_params(early_stopping_rounds = 300,\n",
    "                         eval_metric = 'rmse')\n",
    "    xgb_model.fit(X_train, y_train, eval_set=[(X_valid, y_valid)],\n",
    "                 verbose = False)\n",
    "    \n",
    "    xgb_oof_test_preds += xgb_model.predict(X_test)/folds.n_splits\n",
    "    xgb_oof_val_preds[valid_idx] += xgb_model.predict(X_valid)\n",
    "\n",
    "    xgb_score = evaluation_metric(y_valid, xgb_oof_val_preds[valid_idx])\n",
    "    print(f\"new fold RMSE: {xgb_score:.4f}\")\n",
    "\n",
    "    xgb_nrmse_score = nrmse(y_valid, xgb_oof_val_preds[valid_idx])\n",
    "    print(f\"new Normalized Validation RMSE: {xgb_nrmse_score:.4f}\")"
   ]
  },
  {
   "cell_type": "code",
   "execution_count": 29,
   "id": "24b41b0f",
   "metadata": {},
   "outputs": [
    {
     "name": "stdout",
     "output_type": "stream",
     "text": [
      "test RMSE: 843963.9944\n",
      "test error percentage : 20.5594\n",
      "Normalized test RMSE: 0.0695\n"
     ]
    }
   ],
   "source": [
    "# RMSE로 평가\n",
    "xgb_score = evaluation_metric(y_test, xgb_oof_test_preds)\n",
    "print(f\"test RMSE: {xgb_score:.4f}\")\n",
    "print(f\"test error percentage : {test_error_percentage(xgb_score):.4f}\")\n",
    "\n",
    "xgb_nrmse_score = nrmse(y_test, xgb_oof_test_preds)\n",
    "print(f\"Normalized test RMSE: {xgb_nrmse_score:.4f}\")"
   ]
  },
  {
   "cell_type": "markdown",
   "id": "12dfbddb",
   "metadata": {},
   "source": [
    "# Delete columns"
   ]
  },
  {
   "cell_type": "code",
   "execution_count": null,
   "id": "eb2c9d5d",
   "metadata": {},
   "outputs": [
    {
     "name": "stdout",
     "output_type": "stream",
     "text": [
      "*********************************delete Month\n",
      "validation fold RMSE: 761036.4312\n",
      "Normalized Validation fold RMSE: 0.0642\n",
      "validation fold RMSE: 761971.2620\n",
      "Normalized Validation fold RMSE: 0.0635\n",
      "validation fold RMSE: 750115.8664\n",
      "Normalized Validation fold RMSE: 0.0614\n",
      "validation fold RMSE: 810157.9859\n",
      "Normalized Validation fold RMSE: 0.0655\n",
      "validation fold RMSE: 772816.6689\n",
      "Normalized Validation fold RMSE: 0.0643\n",
      "test RMSE: 842064.7682\n",
      "test error percentage : 20.5132\n",
      "Normalized test RMSE: 0.0693\n",
      "*********************************delete Hour\n",
      "validation fold RMSE: 854882.8743\n",
      "Normalized Validation fold RMSE: 0.0722\n",
      "validation fold RMSE: 870468.3071\n",
      "Normalized Validation fold RMSE: 0.0726\n"
     ]
    }
   ],
   "source": [
    "train = pd.read_csv('train_data_nan.csv', index_col='DateTime')\n",
    "test = pd.read_csv('test_data_nan.csv', index_col = 'DateTime')\n",
    "\n",
    "rmse_results = {}\n",
    "\n",
    "train.fillna(-1, inplace=True)\n",
    "test.fillna(-1, inplace=True)\n",
    "\n",
    "all_data = pd.concat([train, test], ignore_index = True)\n",
    "all_data = all_data.drop(columns=[\"Day\", \"Year\", \"t2m\", \"power\", \"CloudForm\", \"GroundState(code)\", \"PhenomenonNumber\"])\n",
    "\n",
    "for column in all_data.columns:\n",
    "    all_data = all_data.drop(columns = [column])\n",
    "    print(f\"*********************************delete {column}\")\n",
    "\n",
    "    all_data['num_missing'] = (all_data == -1).sum(axis=1)\n",
    "\n",
    "    all_data_sprs = sparse.hstack([sparse.csr_matrix(all_data)],\n",
    "                                  format = 'csr')\n",
    "    num_train = len(train)\n",
    "    X = all_data_sprs[:num_train]\n",
    "    X_test = all_data_sprs[num_train:]\n",
    "    y = train['power'].values\n",
    "    y_test = test['power'].values\n",
    "    \n",
    "    xgb_oof_val_preds = np.zeros(X.shape[0])\n",
    "    xgb_oof_test_preds = np.zeros(X_test.shape[0])\n",
    "\n",
    "    folds = TimeSeriesSplit(n_splits=5)\n",
    "\n",
    "    for train_idx, valid_idx in folds.split(X, y) : \n",
    "        X_train, y_train = X[train_idx], y[train_idx]\n",
    "        X_valid, y_valid = X[valid_idx], y[valid_idx]\n",
    "\n",
    "        xgb_model = XGBRegressor(**xgb_params) \n",
    "        xgb_model.set_params(early_stopping_rounds = 300,\n",
    "                             eval_metric = 'rmse')\n",
    "        xgb_model.fit(X_train, y_train, eval_set=[(X_valid, y_valid)],\n",
    "                     verbose = False)\n",
    "\n",
    "        xgb_oof_test_preds += xgb_model.predict(X_test)/folds.n_splits\n",
    "        xgb_oof_val_preds[valid_idx] += xgb_model.predict(X_valid)\n",
    "\n",
    "        xgb_score = evaluation_metric(y_valid, xgb_oof_val_preds[valid_idx])\n",
    "        print(f\"validation fold RMSE: {xgb_score:.4f}\")\n",
    "\n",
    "        xgb_nrmse_score = nrmse(y_valid, xgb_oof_val_preds[valid_idx])\n",
    "        print(f\"Normalized Validation fold RMSE: {xgb_nrmse_score:.4f}\")\n",
    "        \n",
    "    xgb_score = evaluation_metric(y_test, xgb_oof_test_preds)\n",
    "    print(f\"test RMSE: {xgb_score:.4f}\")\n",
    "    print(f\"test error percentage : {test_error_percentage(xgb_score):.4f}\")\n",
    "\n",
    "    xgb_nrmse_score = nrmse(y_test, xgb_oof_test_preds)\n",
    "    print(f\"Normalized test RMSE: {xgb_nrmse_score:.4f}\")\n",
    "    \n",
    "    rmse_results[column] = xgb_score"
   ]
  },
  {
   "cell_type": "code",
   "execution_count": null,
   "id": "a11cb4c2",
   "metadata": {},
   "outputs": [],
   "source": [
    "plt.figure(figsize=(15, 7))\n",
    "plt.bar(rmse_results.keys(), rmse_results.values())\n",
    "plt.xticks(rotation=90)\n",
    "plt.ylabel('Test RMSE')\n",
    "plt.title('Test RMSE for Each Column Removal')\n",
    "plt.show()"
   ]
  },
  {
   "cell_type": "code",
   "execution_count": null,
   "id": "0d96bbbb",
   "metadata": {},
   "outputs": [],
   "source": [
    "# 여러 정규화 방법으로 뺑뺑이"
   ]
  },
  {
   "cell_type": "code",
   "execution_count": null,
   "id": "c58d7f2a",
   "metadata": {},
   "outputs": [],
   "source": []
  }
 ],
 "metadata": {
  "kernelspec": {
   "display_name": "Python 3 (ipykernel)",
   "language": "python",
   "name": "python3"
  },
  "language_info": {
   "codemirror_mode": {
    "name": "ipython",
    "version": 3
   },
   "file_extension": ".py",
   "mimetype": "text/x-python",
   "name": "python",
   "nbconvert_exporter": "python",
   "pygments_lexer": "ipython3",
   "version": "3.11.3"
  }
 },
 "nbformat": 4,
 "nbformat_minor": 5
}
